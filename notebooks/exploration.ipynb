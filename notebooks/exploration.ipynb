{
 "cells": [
  {
   "cell_type": "code",
   "execution_count": 1,
   "metadata": {},
   "outputs": [
    {
     "ename": "FileNotFoundError",
     "evalue": "[Errno 2] No such file or directory: '../lmd_full/2/2a0cdd88eb6b766b4b7bbcabf1c46fcc.mid'",
     "output_type": "error",
     "traceback": [
      "\u001b[0;31m---------------------------------------------------------------------------\u001b[0m",
      "\u001b[0;31mFileNotFoundError\u001b[0m                         Traceback (most recent call last)",
      "Cell \u001b[0;32mIn [1], line 4\u001b[0m\n\u001b[1;32m      1\u001b[0m \u001b[39m# opening the midi file to see encoding\u001b[39;00m\n\u001b[1;32m      2\u001b[0m midifile \u001b[39m=\u001b[39m \u001b[39m'\u001b[39m\u001b[39m../lmd_full/2/2a0cdd88eb6b766b4b7bbcabf1c46fcc.mid\u001b[39m\u001b[39m'\u001b[39m\n\u001b[0;32m----> 4\u001b[0m \u001b[39mwith\u001b[39;00m \u001b[39mopen\u001b[39;49m(midifile, \u001b[39m'\u001b[39;49m\u001b[39mrb\u001b[39;49m\u001b[39m'\u001b[39;49m) \u001b[39mas\u001b[39;00m mfile:\n\u001b[1;32m      5\u001b[0m     leader \u001b[39m=\u001b[39m mfile\u001b[39m.\u001b[39mread(\u001b[39m4\u001b[39m)\n\u001b[1;32m      6\u001b[0m     \u001b[39mif\u001b[39;00m leader \u001b[39m!=\u001b[39m \u001b[39mb\u001b[39m\u001b[39m'\u001b[39m\u001b[39mMThd\u001b[39m\u001b[39m'\u001b[39m:\n",
      "File \u001b[0;32m~/miniforge3/envs/jam/lib/python3.8/site-packages/IPython/core/interactiveshell.py:282\u001b[0m, in \u001b[0;36m_modified_open\u001b[0;34m(file, *args, **kwargs)\u001b[0m\n\u001b[1;32m    275\u001b[0m \u001b[39mif\u001b[39;00m file \u001b[39min\u001b[39;00m {\u001b[39m0\u001b[39m, \u001b[39m1\u001b[39m, \u001b[39m2\u001b[39m}:\n\u001b[1;32m    276\u001b[0m     \u001b[39mraise\u001b[39;00m \u001b[39mValueError\u001b[39;00m(\n\u001b[1;32m    277\u001b[0m         \u001b[39mf\u001b[39m\u001b[39m\"\u001b[39m\u001b[39mIPython won\u001b[39m\u001b[39m'\u001b[39m\u001b[39mt let you open fd=\u001b[39m\u001b[39m{\u001b[39;00mfile\u001b[39m}\u001b[39;00m\u001b[39m by default \u001b[39m\u001b[39m\"\u001b[39m\n\u001b[1;32m    278\u001b[0m         \u001b[39m\"\u001b[39m\u001b[39mas it is likely to crash IPython. If you know what you are doing, \u001b[39m\u001b[39m\"\u001b[39m\n\u001b[1;32m    279\u001b[0m         \u001b[39m\"\u001b[39m\u001b[39myou can use builtins\u001b[39m\u001b[39m'\u001b[39m\u001b[39m open.\u001b[39m\u001b[39m\"\u001b[39m\n\u001b[1;32m    280\u001b[0m     )\n\u001b[0;32m--> 282\u001b[0m \u001b[39mreturn\u001b[39;00m io_open(file, \u001b[39m*\u001b[39;49margs, \u001b[39m*\u001b[39;49m\u001b[39m*\u001b[39;49mkwargs)\n",
      "\u001b[0;31mFileNotFoundError\u001b[0m: [Errno 2] No such file or directory: '../lmd_full/2/2a0cdd88eb6b766b4b7bbcabf1c46fcc.mid'"
     ]
    }
   ],
   "source": [
    "# opening the midi file to see encoding\n",
    "midifile = '../lmd_full/2/2a0cdd88eb6b766b4b7bbcabf1c46fcc.mid'\n",
    "\n",
    "with open(midifile, 'rb') as mfile:\n",
    "    leader = mfile.read(4)\n",
    "    if leader != b'MThd':\n",
    "        raise ValueError('Not a MIDI file!')\n",
    "    \n",
    "    print(mfile.read(100))"
   ]
  },
  {
   "cell_type": "code",
   "execution_count": 2,
   "metadata": {},
   "outputs": [
    {
     "ename": "ImportError",
     "evalue": "Couldn't find the FluidSynth library.",
     "output_type": "error",
     "traceback": [
      "\u001b[0;31m---------------------------------------------------------------------------\u001b[0m",
      "\u001b[0;31mImportError\u001b[0m                               Traceback (most recent call last)",
      "Cell \u001b[0;32mIn [2], line 3\u001b[0m\n\u001b[1;32m      1\u001b[0m \u001b[39mimport\u001b[39;00m \u001b[39mpretty_midi\u001b[39;00m\n\u001b[1;32m      2\u001b[0m \u001b[39mimport\u001b[39;00m \u001b[39mIPython\u001b[39;00m\u001b[39m.\u001b[39;00m\u001b[39mdisplay\u001b[39;00m \u001b[39mas\u001b[39;00m \u001b[39mipd\u001b[39;00m\n\u001b[0;32m----> 3\u001b[0m \u001b[39mimport\u001b[39;00m \u001b[39mfluidsynth\u001b[39;00m\n\u001b[1;32m      5\u001b[0m midi_path \u001b[39m=\u001b[39m \u001b[39m'\u001b[39m\u001b[39m../data/lmd_aligned/H/D/G/TRHDGFB128F4276C96/d19aacfaa26c8a407b83a96b4cf56024.mid\u001b[39m\u001b[39m'\u001b[39m\n\u001b[1;32m      6\u001b[0m \u001b[39m# Load/parse the MIDI file with pretty_midi\u001b[39;00m\n",
      "File \u001b[0;32m~/miniforge3/envs/jam/lib/python3.8/site-packages/fluidsynth.py:44\u001b[0m\n\u001b[1;32m     37\u001b[0m lib \u001b[39m=\u001b[39m find_library(\u001b[39m'\u001b[39m\u001b[39mfluidsynth\u001b[39m\u001b[39m'\u001b[39m) \u001b[39mor\u001b[39;00m \\\n\u001b[1;32m     38\u001b[0m     find_library(\u001b[39m'\u001b[39m\u001b[39mlibfluidsynth\u001b[39m\u001b[39m'\u001b[39m) \u001b[39mor\u001b[39;00m \\\n\u001b[1;32m     39\u001b[0m     find_library(\u001b[39m'\u001b[39m\u001b[39mlibfluidsynth-3\u001b[39m\u001b[39m'\u001b[39m) \u001b[39mor\u001b[39;00m \\\n\u001b[1;32m     40\u001b[0m     find_library(\u001b[39m'\u001b[39m\u001b[39mlibfluidsynth-2\u001b[39m\u001b[39m'\u001b[39m) \u001b[39mor\u001b[39;00m \\\n\u001b[1;32m     41\u001b[0m     find_library(\u001b[39m'\u001b[39m\u001b[39mlibfluidsynth-1\u001b[39m\u001b[39m'\u001b[39m)\n\u001b[1;32m     43\u001b[0m \u001b[39mif\u001b[39;00m lib \u001b[39mis\u001b[39;00m \u001b[39mNone\u001b[39;00m:\n\u001b[0;32m---> 44\u001b[0m     \u001b[39mraise\u001b[39;00m \u001b[39mImportError\u001b[39;00m(\u001b[39m\"\u001b[39m\u001b[39mCouldn\u001b[39m\u001b[39m'\u001b[39m\u001b[39mt find the FluidSynth library.\u001b[39m\u001b[39m\"\u001b[39m)\n\u001b[1;32m     46\u001b[0m \u001b[39m# Dynamically link the FluidSynth library\u001b[39;00m\n\u001b[1;32m     47\u001b[0m \u001b[39m# Architecture (32-/64-bit) must match your Python version\u001b[39;00m\n\u001b[1;32m     48\u001b[0m _fl \u001b[39m=\u001b[39m CDLL(lib)\n",
      "\u001b[0;31mImportError\u001b[0m: Couldn't find the FluidSynth library."
     ]
    }
   ],
   "source": [
    "import pretty_midi\n",
    "import IPython.display as ipd\n",
    "import fluidsynth\n",
    "\n",
    "midi_path = '../data/lmd_aligned/H/D/G/TRHDGFB128F4276C96/d19aacfaa26c8a407b83a96b4cf56024.mid'\n",
    "# Load/parse the MIDI file with pretty_midi\n",
    "pm = pretty_midi.PrettyMIDI(midi_path)\n",
    "# Synthesize the audio using fluidsynth\n",
    "midi_audio = pm.fluidsynth()\n",
    "# Play audio in one channel, synthesized MIDI in the other\n",
    "ipd.Audio([midi_audio[:audio.shape[0]]], rate=44100)"
   ]
  },
  {
   "cell_type": "code",
   "execution_count": null,
   "metadata": {},
   "outputs": [],
   "source": []
  }
 ],
 "metadata": {
  "kernelspec": {
   "display_name": "Python 3.8.13 ('jam')",
   "language": "python",
   "name": "python3"
  },
  "language_info": {
   "codemirror_mode": {
    "name": "ipython",
    "version": 3
   },
   "file_extension": ".py",
   "mimetype": "text/x-python",
   "name": "python",
   "nbconvert_exporter": "python",
   "pygments_lexer": "ipython3",
   "version": "3.8.13"
  },
  "orig_nbformat": 4,
  "vscode": {
   "interpreter": {
    "hash": "bce94098af87f1b13e78b3da743513e2cb4949eb66f6d16f8ca4bcac995199df"
   }
  }
 },
 "nbformat": 4,
 "nbformat_minor": 2
}
