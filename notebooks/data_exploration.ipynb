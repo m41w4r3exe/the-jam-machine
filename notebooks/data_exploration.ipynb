{
 "cells": [
  {
   "cell_type": "markdown",
   "metadata": {},
   "source": [
    "# Data Exploration\n",
    "This notebook aims to describe the distribution of a variety of statistics about music that we computed using the function described in statistics.ipynb.\n",
    "\n"
   ]
  },
  {
   "cell_type": "markdown",
   "metadata": {},
   "source": [
    "## Data preparation"
   ]
  },
  {
   "cell_type": "code",
   "execution_count": 1,
   "metadata": {},
   "outputs": [
    {
     "data": {
      "text/html": [
       "<div>\n",
       "<style scoped>\n",
       "    .dataframe tbody tr th:only-of-type {\n",
       "        vertical-align: middle;\n",
       "    }\n",
       "\n",
       "    .dataframe tbody tr th {\n",
       "        vertical-align: top;\n",
       "    }\n",
       "\n",
       "    .dataframe thead th {\n",
       "        text-align: right;\n",
       "    }\n",
       "</style>\n",
       "<table border=\"1\" class=\"dataframe\">\n",
       "  <thead>\n",
       "    <tr style=\"text-align: right;\">\n",
       "      <th></th>\n",
       "      <th>n_instruments</th>\n",
       "      <th>n_unique_instruments</th>\n",
       "      <th>instruments</th>\n",
       "      <th>instrument_families</th>\n",
       "      <th>number_of_instrument_families</th>\n",
       "      <th>n_notes</th>\n",
       "      <th>n_unique_notes</th>\n",
       "      <th>average_n_unique_notes_per_instrument</th>\n",
       "      <th>average_note_duration</th>\n",
       "      <th>average_note_velocity</th>\n",
       "      <th>...</th>\n",
       "      <th>n_key_changes</th>\n",
       "      <th>n_tempo_changes</th>\n",
       "      <th>tempo_estimate</th>\n",
       "      <th>main_time_signature</th>\n",
       "      <th>n_time_signature_changes</th>\n",
       "      <th>track_length_in_seconds</th>\n",
       "      <th>lyrics_nb_words</th>\n",
       "      <th>lyrics_unique_words</th>\n",
       "      <th>lyrics_bool</th>\n",
       "      <th>genre_discogs</th>\n",
       "    </tr>\n",
       "    <tr>\n",
       "      <th>md5</th>\n",
       "      <th></th>\n",
       "      <th></th>\n",
       "      <th></th>\n",
       "      <th></th>\n",
       "      <th></th>\n",
       "      <th></th>\n",
       "      <th></th>\n",
       "      <th></th>\n",
       "      <th></th>\n",
       "      <th></th>\n",
       "      <th></th>\n",
       "      <th></th>\n",
       "      <th></th>\n",
       "      <th></th>\n",
       "      <th></th>\n",
       "      <th></th>\n",
       "      <th></th>\n",
       "      <th></th>\n",
       "      <th></th>\n",
       "      <th></th>\n",
       "      <th></th>\n",
       "    </tr>\n",
       "  </thead>\n",
       "  <tbody>\n",
       "    <tr>\n",
       "      <th>ac45c832a78728aa8822a3df637682c3</th>\n",
       "      <td>14</td>\n",
       "      <td>13</td>\n",
       "      <td>0, 88, 96, 80, 48, 4, 11, 26, 39, 49, 52, 69, ...</td>\n",
       "      <td>Synth Pad, Guitar, Bass, Synth Effects, Chroma...</td>\n",
       "      <td>10</td>\n",
       "      <td>3643</td>\n",
       "      <td>58</td>\n",
       "      <td>11.214286</td>\n",
       "      <td>0.605142</td>\n",
       "      <td>83.446884</td>\n",
       "      <td>...</td>\n",
       "      <td>1</td>\n",
       "      <td>4</td>\n",
       "      <td>243</td>\n",
       "      <td>4/4</td>\n",
       "      <td>1</td>\n",
       "      <td>221</td>\n",
       "      <td>223</td>\n",
       "      <td>95</td>\n",
       "      <td>True</td>\n",
       "      <td>electronic</td>\n",
       "    </tr>\n",
       "    <tr>\n",
       "      <th>ac547baef487103fd9de9f49d2f6e204</th>\n",
       "      <td>15</td>\n",
       "      <td>12</td>\n",
       "      <td>81, 0, 61, 33, 52, 48, 48, 117, 57, 95, 75, 72...</td>\n",
       "      <td>Piano, Ensemble, Brass, Organ, Percussive, Syn...</td>\n",
       "      <td>9</td>\n",
       "      <td>8167</td>\n",
       "      <td>55</td>\n",
       "      <td>8.200000</td>\n",
       "      <td>0.109172</td>\n",
       "      <td>69.641606</td>\n",
       "      <td>...</td>\n",
       "      <td>1</td>\n",
       "      <td>1</td>\n",
       "      <td>226</td>\n",
       "      <td>1/4</td>\n",
       "      <td>2</td>\n",
       "      <td>264</td>\n",
       "      <td>0</td>\n",
       "      <td>0</td>\n",
       "      <td>False</td>\n",
       "      <td>electronic</td>\n",
       "    </tr>\n",
       "    <tr>\n",
       "      <th>a861dcbbbcece2ba042648c20d3425a8</th>\n",
       "      <td>10</td>\n",
       "      <td>10</td>\n",
       "      <td>25, 82, 18, 0, 35, 27, 26, 4, 31, 30</td>\n",
       "      <td>Piano, Synth Lead, Bass, Guitar, Organ</td>\n",
       "      <td>5</td>\n",
       "      <td>7691</td>\n",
       "      <td>47</td>\n",
       "      <td>13.600000</td>\n",
       "      <td>0.535591</td>\n",
       "      <td>92.886231</td>\n",
       "      <td>...</td>\n",
       "      <td>1</td>\n",
       "      <td>1</td>\n",
       "      <td>194</td>\n",
       "      <td>4/4</td>\n",
       "      <td>1</td>\n",
       "      <td>305</td>\n",
       "      <td>534</td>\n",
       "      <td>176</td>\n",
       "      <td>True</td>\n",
       "      <td>rock</td>\n",
       "    </tr>\n",
       "    <tr>\n",
       "      <th>a077f8d661f6853d92f47c2e08b723b9</th>\n",
       "      <td>5</td>\n",
       "      <td>5</td>\n",
       "      <td>48, 33, 26, 30, 0</td>\n",
       "      <td>Piano, Bass, Guitar, Ensemble</td>\n",
       "      <td>4</td>\n",
       "      <td>3386</td>\n",
       "      <td>30</td>\n",
       "      <td>7.800000</td>\n",
       "      <td>0.378581</td>\n",
       "      <td>95.000000</td>\n",
       "      <td>...</td>\n",
       "      <td>1</td>\n",
       "      <td>1</td>\n",
       "      <td>219</td>\n",
       "      <td>4/4</td>\n",
       "      <td>1</td>\n",
       "      <td>257</td>\n",
       "      <td>0</td>\n",
       "      <td>0</td>\n",
       "      <td>False</td>\n",
       "      <td>rock</td>\n",
       "    </tr>\n",
       "    <tr>\n",
       "      <th>aa42e141c3e3ff1f46e9bc676ca61ebb</th>\n",
       "      <td>2</td>\n",
       "      <td>2</td>\n",
       "      <td>85, 91</td>\n",
       "      <td>Synth Lead, Synth Pad</td>\n",
       "      <td>2</td>\n",
       "      <td>3290</td>\n",
       "      <td>33</td>\n",
       "      <td>33.000000</td>\n",
       "      <td>0.123359</td>\n",
       "      <td>92.096657</td>\n",
       "      <td>...</td>\n",
       "      <td>1</td>\n",
       "      <td>5</td>\n",
       "      <td>249</td>\n",
       "      <td>3/4</td>\n",
       "      <td>1</td>\n",
       "      <td>201</td>\n",
       "      <td>0</td>\n",
       "      <td>0</td>\n",
       "      <td>False</td>\n",
       "      <td>classical</td>\n",
       "    </tr>\n",
       "  </tbody>\n",
       "</table>\n",
       "<p>5 rows × 31 columns</p>\n",
       "</div>"
      ],
      "text/plain": [
       "                                  n_instruments  n_unique_instruments  \\\n",
       "md5                                                                     \n",
       "ac45c832a78728aa8822a3df637682c3             14                    13   \n",
       "ac547baef487103fd9de9f49d2f6e204             15                    12   \n",
       "a861dcbbbcece2ba042648c20d3425a8             10                    10   \n",
       "a077f8d661f6853d92f47c2e08b723b9              5                     5   \n",
       "aa42e141c3e3ff1f46e9bc676ca61ebb              2                     2   \n",
       "\n",
       "                                                                        instruments  \\\n",
       "md5                                                                                   \n",
       "ac45c832a78728aa8822a3df637682c3  0, 88, 96, 80, 48, 4, 11, 26, 39, 49, 52, 69, ...   \n",
       "ac547baef487103fd9de9f49d2f6e204  81, 0, 61, 33, 52, 48, 48, 117, 57, 95, 75, 72...   \n",
       "a861dcbbbcece2ba042648c20d3425a8               25, 82, 18, 0, 35, 27, 26, 4, 31, 30   \n",
       "a077f8d661f6853d92f47c2e08b723b9                                  48, 33, 26, 30, 0   \n",
       "aa42e141c3e3ff1f46e9bc676ca61ebb                                             85, 91   \n",
       "\n",
       "                                                                instrument_families  \\\n",
       "md5                                                                                   \n",
       "ac45c832a78728aa8822a3df637682c3  Synth Pad, Guitar, Bass, Synth Effects, Chroma...   \n",
       "ac547baef487103fd9de9f49d2f6e204  Piano, Ensemble, Brass, Organ, Percussive, Syn...   \n",
       "a861dcbbbcece2ba042648c20d3425a8             Piano, Synth Lead, Bass, Guitar, Organ   \n",
       "a077f8d661f6853d92f47c2e08b723b9                      Piano, Bass, Guitar, Ensemble   \n",
       "aa42e141c3e3ff1f46e9bc676ca61ebb                              Synth Lead, Synth Pad   \n",
       "\n",
       "                                  number_of_instrument_families  n_notes  \\\n",
       "md5                                                                        \n",
       "ac45c832a78728aa8822a3df637682c3                             10     3643   \n",
       "ac547baef487103fd9de9f49d2f6e204                              9     8167   \n",
       "a861dcbbbcece2ba042648c20d3425a8                              5     7691   \n",
       "a077f8d661f6853d92f47c2e08b723b9                              4     3386   \n",
       "aa42e141c3e3ff1f46e9bc676ca61ebb                              2     3290   \n",
       "\n",
       "                                  n_unique_notes  \\\n",
       "md5                                                \n",
       "ac45c832a78728aa8822a3df637682c3              58   \n",
       "ac547baef487103fd9de9f49d2f6e204              55   \n",
       "a861dcbbbcece2ba042648c20d3425a8              47   \n",
       "a077f8d661f6853d92f47c2e08b723b9              30   \n",
       "aa42e141c3e3ff1f46e9bc676ca61ebb              33   \n",
       "\n",
       "                                  average_n_unique_notes_per_instrument  \\\n",
       "md5                                                                       \n",
       "ac45c832a78728aa8822a3df637682c3                              11.214286   \n",
       "ac547baef487103fd9de9f49d2f6e204                               8.200000   \n",
       "a861dcbbbcece2ba042648c20d3425a8                              13.600000   \n",
       "a077f8d661f6853d92f47c2e08b723b9                               7.800000   \n",
       "aa42e141c3e3ff1f46e9bc676ca61ebb                              33.000000   \n",
       "\n",
       "                                  average_note_duration  \\\n",
       "md5                                                       \n",
       "ac45c832a78728aa8822a3df637682c3               0.605142   \n",
       "ac547baef487103fd9de9f49d2f6e204               0.109172   \n",
       "a861dcbbbcece2ba042648c20d3425a8               0.535591   \n",
       "a077f8d661f6853d92f47c2e08b723b9               0.378581   \n",
       "aa42e141c3e3ff1f46e9bc676ca61ebb               0.123359   \n",
       "\n",
       "                                  average_note_velocity  ...  n_key_changes  \\\n",
       "md5                                                      ...                  \n",
       "ac45c832a78728aa8822a3df637682c3              83.446884  ...              1   \n",
       "ac547baef487103fd9de9f49d2f6e204              69.641606  ...              1   \n",
       "a861dcbbbcece2ba042648c20d3425a8              92.886231  ...              1   \n",
       "a077f8d661f6853d92f47c2e08b723b9              95.000000  ...              1   \n",
       "aa42e141c3e3ff1f46e9bc676ca61ebb              92.096657  ...              1   \n",
       "\n",
       "                                  n_tempo_changes  tempo_estimate  \\\n",
       "md5                                                                 \n",
       "ac45c832a78728aa8822a3df637682c3                4             243   \n",
       "ac547baef487103fd9de9f49d2f6e204                1             226   \n",
       "a861dcbbbcece2ba042648c20d3425a8                1             194   \n",
       "a077f8d661f6853d92f47c2e08b723b9                1             219   \n",
       "aa42e141c3e3ff1f46e9bc676ca61ebb                5             249   \n",
       "\n",
       "                                  main_time_signature  \\\n",
       "md5                                                     \n",
       "ac45c832a78728aa8822a3df637682c3                  4/4   \n",
       "ac547baef487103fd9de9f49d2f6e204                  1/4   \n",
       "a861dcbbbcece2ba042648c20d3425a8                  4/4   \n",
       "a077f8d661f6853d92f47c2e08b723b9                  4/4   \n",
       "aa42e141c3e3ff1f46e9bc676ca61ebb                  3/4   \n",
       "\n",
       "                                  n_time_signature_changes  \\\n",
       "md5                                                          \n",
       "ac45c832a78728aa8822a3df637682c3                         1   \n",
       "ac547baef487103fd9de9f49d2f6e204                         2   \n",
       "a861dcbbbcece2ba042648c20d3425a8                         1   \n",
       "a077f8d661f6853d92f47c2e08b723b9                         1   \n",
       "aa42e141c3e3ff1f46e9bc676ca61ebb                         1   \n",
       "\n",
       "                                  track_length_in_seconds  lyrics_nb_words  \\\n",
       "md5                                                                          \n",
       "ac45c832a78728aa8822a3df637682c3                      221              223   \n",
       "ac547baef487103fd9de9f49d2f6e204                      264                0   \n",
       "a861dcbbbcece2ba042648c20d3425a8                      305              534   \n",
       "a077f8d661f6853d92f47c2e08b723b9                      257                0   \n",
       "aa42e141c3e3ff1f46e9bc676ca61ebb                      201                0   \n",
       "\n",
       "                                  lyrics_unique_words  lyrics_bool  \\\n",
       "md5                                                                  \n",
       "ac45c832a78728aa8822a3df637682c3                   95         True   \n",
       "ac547baef487103fd9de9f49d2f6e204                    0        False   \n",
       "a861dcbbbcece2ba042648c20d3425a8                  176         True   \n",
       "a077f8d661f6853d92f47c2e08b723b9                    0        False   \n",
       "aa42e141c3e3ff1f46e9bc676ca61ebb                    0        False   \n",
       "\n",
       "                                  genre_discogs  \n",
       "md5                                              \n",
       "ac45c832a78728aa8822a3df637682c3     electronic  \n",
       "ac547baef487103fd9de9f49d2f6e204     electronic  \n",
       "a861dcbbbcece2ba042648c20d3425a8           rock  \n",
       "a077f8d661f6853d92f47c2e08b723b9           rock  \n",
       "aa42e141c3e3ff1f46e9bc676ca61ebb      classical  \n",
       "\n",
       "[5 rows x 31 columns]"
      ]
     },
     "execution_count": 1,
     "metadata": {},
     "output_type": "execute_result"
    }
   ],
   "source": [
    "# Import the file containing the midi statistics\n",
    "import pandas as pd\n",
    "\n",
    "# Import file without index column\n",
    "statistics = pd.read_csv(\"../data/statistics_with_genre_clean.csv\", index_col=1)\n",
    "statistics.drop(columns=[\"Unnamed: 0\"], inplace=True)\n",
    "statistics.head()"
   ]
  },
  {
   "cell_type": "code",
   "execution_count": 2,
   "metadata": {},
   "outputs": [
    {
     "data": {
      "text/plain": [
       "<AxesSubplot: >"
      ]
     },
     "execution_count": 2,
     "metadata": {},
     "output_type": "execute_result"
    },
    {
     "data": {
      "image/png": "[encoded data removed]",
      "text/plain": [
       "<Figure size 640x480 with 1 Axes>"
      ]
     },
     "metadata": {},
     "output_type": "display_data"
    }
   ],
   "source": [
    "# Count the number of songs per genre\n",
    "songs_per_genre = statistics[\"genre_discogs\"].value_counts()\n",
    "\n",
    "# Remove the genres with less than 100 songs\n",
    "genre_to_remove = songs_per_genre[songs_per_genre < 100].index\n",
    "\n",
    "# Filter out the songs with the genres to remove\n",
    "f_stats = statistics[~statistics[\"genre_discogs\"].isin(genre_to_remove)]\n",
    "\n",
    "# Plot the number of songs per genre\n",
    "f_stats[\"genre_discogs\"].value_counts().plot(kind=\"bar\")"
   ]
  },
  {
   "cell_type": "code",
   "execution_count": 3,
   "metadata": {},
   "outputs": [
    {
     "data": {
      "text/plain": [
       "md5\n",
       "ac45c832a78728aa8822a3df637682c3    Acoustic Grand Piano\n",
       "ac45c832a78728aa8822a3df637682c3         Pad 1 (new age)\n",
       "ac45c832a78728aa8822a3df637682c3             FX 1 (rain)\n",
       "ac45c832a78728aa8822a3df637682c3         Lead 1 (square)\n",
       "ac45c832a78728aa8822a3df637682c3       String Ensemble 1\n",
       "Name: instruments, dtype: object"
      ]
     },
     "metadata": {},
     "output_type": "display_data"
    }
   ],
   "source": [
    "# Turn the instrument numbers into intrument names for easier reading\n",
    "import pretty_midi\n",
    "\n",
    "# Get the instruments, split into list and explode the df\n",
    "statistics_instruments = f_stats[\"instruments\"].str.split(\", \").explode()\n",
    "\n",
    "# Turn instrument numbers into instrument names\n",
    "statistics_instruments = statistics_instruments.apply(lambda x: pretty_midi.program_to_instrument_name(int(x)))\n",
    "\n",
    "display(statistics_instruments.head())"
   ]
  },
  {
   "cell_type": "markdown",
   "metadata": {},
   "source": [
    "# Instruments"
   ]
  },
  {
   "cell_type": "code",
   "execution_count": 146,
   "metadata": {},
   "outputs": [
    {
     "data": {
      "text/plain": [
       "<AxesSubplot: >"
      ]
     },
     "execution_count": 146,
     "metadata": {},
     "output_type": "execute_result"
    },
    {
     "data": {
      "image/png": "[encoded data removed]",
      "text/plain": [
       "<Figure size 1000x500 with 1 Axes>"
      ]
     },
     "metadata": {},
     "output_type": "display_data"
    }
   ],
   "source": [
    "# plot a histogram of the number of instruments per song\n",
    "f_stats['n_instruments'].hist(bins=50, figsize=(10, 5))"
   ]
  },
  {
   "cell_type": "code",
   "execution_count": 4,
   "metadata": {},
   "outputs": [
    {
     "data": {
      "text/plain": [
       "array([<AxesSubplot: title={'center': 'n_instruments'}, xlabel='genre_discogs'>,\n",
       "       <AxesSubplot: title={'center': 'n_unique_instruments'}, xlabel='genre_discogs'>],\n",
       "      dtype=object)"
      ]
     },
     "execution_count": 4,
     "metadata": {},
     "output_type": "execute_result"
    },
    {
     "data": {
      "image/png": "[encoded data removed]",
      "text/plain": [
       "<Figure size 1500x500 with 2 Axes>"
      ]
     },
     "metadata": {},
     "output_type": "display_data"
    }
   ],
   "source": [
    "# Plot the distribution of the number of instruments per genre without outliers, sorted by average\n",
    "f_stats.boxplot(column=[\"n_instruments\", 'n_unique_instruments'], by=\"genre_discogs\", showfliers=False, rot=90,figsize=(15,5))"
   ]
  },
  {
   "cell_type": "code",
   "execution_count": 5,
   "metadata": {},
   "outputs": [
    {
     "name": "stderr",
     "output_type": "stream",
     "text": [
      "/var/folders/wq/rbk3t8096wx4j9pwnkrfzcwm0000gn/T/ipykernel_40574/2554132853.py:5: FutureWarning: `sort_columns` is deprecated and will be removed in a future version.\n",
      "  median_inst_per_genre.plot(kind=\"bar\", sort_columns=True)\n"
     ]
    },
    {
     "data": {
      "text/plain": [
       "<AxesSubplot: xlabel='genre_discogs'>"
      ]
     },
     "execution_count": 5,
     "metadata": {},
     "output_type": "execute_result"
    },
    {
     "data": {
      "image/png": "[encoded data removed]",
      "text/plain": [
       "<Figure size 640x480 with 1 Axes>"
      ]
     },
     "metadata": {},
     "output_type": "display_data"
    }
   ],
   "source": [
    "# Calculate the median number of instruments per genre\n",
    "median_inst_per_genre = f_stats.groupby(\"genre_discogs\")[\"n_instruments\"].median().sort_values(ascending=False)\n",
    "\n",
    "# Plot the distribution of instruments\n",
    "median_inst_per_genre.plot(kind=\"bar\", sort_columns=True)"
   ]
  },
  {
   "cell_type": "code",
   "execution_count": 6,
   "metadata": {},
   "outputs": [],
   "source": [
    "# Prevent pandas from displaying errors\n",
    "pd.options.mode.chained_assignment = None\n",
    "\n",
    "# Extract the instrument families, explode the dataframe\n",
    "f_stats[\"instrument_families\"] = f_stats[\"instrument_families\"].str.split(\", \", expand=False)\n",
    "f_stats_exploded = f_stats.explode(\"instrument_families\")\n"
   ]
  },
  {
   "cell_type": "code",
   "execution_count": 7,
   "metadata": {},
   "outputs": [
    {
     "data": {
      "application/vnd.plotly.v1+json": {
       "config": {
        "plotlyServerURL": "https://plot.ly"
       },
       "data": [
        {
         "alignmentgroup": "True",
         "hovertemplate": "instrument_families=Piano<br>genre_discogs=%{x}<br>percentage=%{y}<extra></extra>",
         "legendgroup": "Piano",
         "marker": {
          "color": "#636efa",
          "pattern": {
           "shape": ""
          }
         },
         "name": "Piano",
         "offsetgroup": "Piano",
         "orientation": "v",
         "showlegend": true,
         "textposition": "auto",
         "type": "bar",
         "x": [
          "blues",
          "classical",
          "electronic",
          "folk, world, & country",
          "funk / soul",
          "hip hop",
          "jazz",
          "latin",
          "pop",
          "rock",
          "stage & screen"
         ],
         "xaxis": "x",
         "y": [
          25,
          33,
          25,
          25,
          24,
          26,
          30,
          26,
          25,
          25,
          25
         ],
         "yaxis": "y"
        },
        {
         "alignmentgroup": "True",
         "hovertemplate": "instrument_families=Bass<br>genre_discogs=%{x}<br>percentage=%{y}<extra></extra>",
         "legendgroup": "Bass",
         "marker": {
          "color": "#EF553B",
          "pattern": {
           "shape": ""
          }
         },
         "name": "Bass",
         "offsetgroup": "Bass",
         "orientation": "v",
         "showlegend": true,
         "textposition": "auto",
         "type": "bar",
         "x": [
          "blues",
          "electronic",
          "folk, world, & country",
          "funk / soul",
          "hip hop",
          "jazz",
          "latin",
          "pop",
          "rock",
          "stage & screen"
         ],
         "xaxis": "x",
         "y": [
          24,
          24,
          24,
          24,
          23,
          22,
          25,
          24,
          24,
          16
         ],
         "yaxis": "y"
        },
        {
         "alignmentgroup": "True",
         "hovertemplate": "instrument_families=Guitar<br>genre_discogs=%{x}<br>percentage=%{y}<extra></extra>",
         "legendgroup": "Guitar",
         "marker": {
          "color": "#00cc96",
          "pattern": {
           "shape": ""
          }
         },
         "name": "Guitar",
         "offsetgroup": "Guitar",
         "orientation": "v",
         "showlegend": true,
         "textposition": "auto",
         "type": "bar",
         "x": [
          "blues",
          "electronic",
          "folk, world, & country",
          "funk / soul",
          "hip hop",
          "jazz",
          "latin",
          "pop",
          "rock"
         ],
         "xaxis": "x",
         "y": [
          22,
          19,
          22,
          20,
          20,
          17,
          20,
          21,
          22
         ],
         "yaxis": "y"
        },
        {
         "alignmentgroup": "True",
         "hovertemplate": "instrument_families=Ensemble<br>genre_discogs=%{x}<br>percentage=%{y}<extra></extra>",
         "legendgroup": "Ensemble",
         "marker": {
          "color": "#ab63fa",
          "pattern": {
           "shape": ""
          }
         },
         "name": "Ensemble",
         "offsetgroup": "Ensemble",
         "orientation": "v",
         "showlegend": true,
         "textposition": "auto",
         "type": "bar",
         "x": [
          "blues",
          "classical",
          "electronic",
          "folk, world, & country",
          "funk / soul",
          "hip hop",
          "jazz",
          "latin",
          "pop",
          "rock",
          "stage & screen"
         ],
         "xaxis": "x",
         "y": [
          15,
          21,
          20,
          18,
          20,
          20,
          19,
          19,
          20,
          18,
          25
         ],
         "yaxis": "y"
        },
        {
         "alignmentgroup": "True",
         "hovertemplate": "instrument_families=Organ<br>genre_discogs=%{x}<br>percentage=%{y}<extra></extra>",
         "legendgroup": "Organ",
         "marker": {
          "color": "#FFA15A",
          "pattern": {
           "shape": ""
          }
         },
         "name": "Organ",
         "offsetgroup": "Organ",
         "orientation": "v",
         "showlegend": true,
         "textposition": "auto",
         "type": "bar",
         "x": [
          "blues",
          "folk, world, & country",
          "latin",
          "rock"
         ],
         "xaxis": "x",
         "y": [
          11,
          7,
          8,
          8
         ],
         "yaxis": "y"
        },
        {
         "alignmentgroup": "True",
         "hovertemplate": "instrument_families=Strings<br>genre_discogs=%{x}<br>percentage=%{y}<extra></extra>",
         "legendgroup": "Strings",
         "marker": {
          "color": "#19d3f3",
          "pattern": {
           "shape": ""
          }
         },
         "name": "Strings",
         "offsetgroup": "Strings",
         "orientation": "v",
         "showlegend": true,
         "textposition": "auto",
         "type": "bar",
         "x": [
          "classical",
          "stage & screen"
         ],
         "xaxis": "x",
         "y": [
          17,
          15
         ],
         "yaxis": "y"
        },
        {
         "alignmentgroup": "True",
         "hovertemplate": "instrument_families=Reed<br>genre_discogs=%{x}<br>percentage=%{y}<extra></extra>",
         "legendgroup": "Reed",
         "marker": {
          "color": "#FF6692",
          "pattern": {
           "shape": ""
          }
         },
         "name": "Reed",
         "offsetgroup": "Reed",
         "orientation": "v",
         "showlegend": true,
         "textposition": "auto",
         "type": "bar",
         "x": [
          "classical",
          "hip hop",
          "jazz",
          "pop"
         ],
         "xaxis": "x",
         "y": [
          13,
          9,
          10,
          8
         ],
         "yaxis": "y"
        },
        {
         "alignmentgroup": "True",
         "hovertemplate": "instrument_families=Brass<br>genre_discogs=%{x}<br>percentage=%{y}<extra></extra>",
         "legendgroup": "Brass",
         "marker": {
          "color": "#B6E880",
          "pattern": {
           "shape": ""
          }
         },
         "name": "Brass",
         "offsetgroup": "Brass",
         "orientation": "v",
         "showlegend": true,
         "textposition": "auto",
         "type": "bar",
         "x": [
          "classical",
          "funk / soul"
         ],
         "xaxis": "x",
         "y": [
          13,
          9
         ],
         "yaxis": "y"
        },
        {
         "alignmentgroup": "True",
         "hovertemplate": "instrument_families=Synth Lead<br>genre_discogs=%{x}<br>percentage=%{y}<extra></extra>",
         "legendgroup": "Synth Lead",
         "marker": {
          "color": "#FF97FF",
          "pattern": {
           "shape": ""
          }
         },
         "name": "Synth Lead",
         "offsetgroup": "Synth Lead",
         "orientation": "v",
         "showlegend": true,
         "textposition": "auto",
         "type": "bar",
         "x": [
          "electronic"
         ],
         "xaxis": "x",
         "y": [
          9
         ],
         "yaxis": "y"
        },
        {
         "alignmentgroup": "True",
         "hovertemplate": "instrument_families=Pipe<br>genre_discogs=%{x}<br>percentage=%{y}<extra></extra>",
         "legendgroup": "Pipe",
         "marker": {
          "color": "#FECB52",
          "pattern": {
           "shape": ""
          }
         },
         "name": "Pipe",
         "offsetgroup": "Pipe",
         "orientation": "v",
         "showlegend": true,
         "textposition": "auto",
         "type": "bar",
         "x": [
          "stage & screen"
         ],
         "xaxis": "x",
         "y": [
          17
         ],
         "yaxis": "y"
        }
       ],
       "layout": {
        "barmode": "stack",
        "legend": {
         "title": {
          "text": "instrument_families"
         },
         "tracegroupgap": 0
        },
        "margin": {
         "t": 60
        },
        "template": {
         "data": {
          "bar": [
           {
            "error_x": {
             "color": "#2a3f5f"
            },
            "error_y": {
             "color": "#2a3f5f"
            },
            "marker": {
             "line": {
              "color": "#E5ECF6",
              "width": 0.5
             },
             "pattern": {
              "fillmode": "overlay",
              "size": 10,
              "solidity": 0.2
             }
            },
            "type": "bar"
           }
          ],
          "barpolar": [
           {
            "marker": {
             "line": {
              "color": "#E5ECF6",
              "width": 0.5
             },
             "pattern": {
              "fillmode": "overlay",
              "size": 10,
              "solidity": 0.2
             }
            },
            "type": "barpolar"
           }
          ],
          "carpet": [
           {
            "aaxis": {
             "endlinecolor": "#2a3f5f",
             "gridcolor": "white",
             "linecolor": "white",
             "minorgridcolor": "white",
             "startlinecolor": "#2a3f5f"
            },
            "baxis": {
             "endlinecolor": "#2a3f5f",
             "gridcolor": "white",
             "linecolor": "white",
             "minorgridcolor": "white",
             "startlinecolor": "#2a3f5f"
            },
            "type": "carpet"
           }
          ],
          "choropleth": [
           {
            "colorbar": {
             "outlinewidth": 0,
             "ticks": ""
            },
            "type": "choropleth"
           }
          ],
          "contour": [
           {
            "colorbar": {
             "outlinewidth": 0,
             "ticks": ""
            },
            "colorscale": [
             [
              0,
              "#0d0887"
             ],
             [
              0.1111111111111111,
              "#46039f"
             ],
             [
              0.2222222222222222,
              "#7201a8"
             ],
             [
              0.3333333333333333,
              "#9c179e"
             ],
             [
              0.4444444444444444,
              "#bd3786"
             ],
             [
              0.5555555555555556,
              "#d8576b"
             ],
             [
              0.6666666666666666,
              "#ed7953"
             ],
             [
              0.7777777777777778,
              "#fb9f3a"
             ],
             [
              0.8888888888888888,
              "#fdca26"
             ],
             [
              1,
              "#f0f921"
             ]
            ],
            "type": "contour"
           }
          ],
          "contourcarpet": [
           {
            "colorbar": {
             "outlinewidth": 0,
             "ticks": ""
            },
            "type": "contourcarpet"
           }
          ],
          "heatmap": [
           {
            "colorbar": {
             "outlinewidth": 0,
             "ticks": ""
            },
            "colorscale": [
             [
              0,
              "#0d0887"
             ],
             [
              0.1111111111111111,
              "#46039f"
             ],
             [
              0.2222222222222222,
              "#7201a8"
             ],
             [
              0.3333333333333333,
              "#9c179e"
             ],
             [
              0.4444444444444444,
              "#bd3786"
             ],
             [
              0.5555555555555556,
              "#d8576b"
             ],
             [
              0.6666666666666666,
              "#ed7953"
             ],
             [
              0.7777777777777778,
              "#fb9f3a"
             ],
             [
              0.8888888888888888,
              "#fdca26"
             ],
             [
              1,
              "#f0f921"
             ]
            ],
            "type": "heatmap"
           }
          ],
          "heatmapgl": [
           {
            "colorbar": {
             "outlinewidth": 0,
             "ticks": ""
            },
            "colorscale": [
             [
              0,
              "#0d0887"
             ],
             [
              0.1111111111111111,
              "#46039f"
             ],
             [
              0.2222222222222222,
              "#7201a8"
             ],
             [
              0.3333333333333333,
              "#9c179e"
             ],
             [
              0.4444444444444444,
              "#bd3786"
             ],
             [
              0.5555555555555556,
              "#d8576b"
             ],
             [
              0.6666666666666666,
              "#ed7953"
             ],
             [
              0.7777777777777778,
              "#fb9f3a"
             ],
             [
              0.8888888888888888,
              "#fdca26"
             ],
             [
              1,
              "#f0f921"
             ]
            ],
            "type": "heatmapgl"
           }
          ],
          "histogram": [
           {
            "marker": {
             "pattern": {
              "fillmode": "overlay",
              "size": 10,
              "solidity": 0.2
             }
            },
            "type": "histogram"
           }
          ],
          "histogram2d": [
           {
            "colorbar": {
             "outlinewidth": 0,
             "ticks": ""
            },
            "colorscale": [
             [
              0,
              "#0d0887"
             ],
             [
              0.1111111111111111,
              "#46039f"
             ],
             [
              0.2222222222222222,
              "#7201a8"
             ],
             [
              0.3333333333333333,
              "#9c179e"
             ],
             [
              0.4444444444444444,
              "#bd3786"
             ],
             [
              0.5555555555555556,
              "#d8576b"
             ],
             [
              0.6666666666666666,
              "#ed7953"
             ],
             [
              0.7777777777777778,
              "#fb9f3a"
             ],
             [
              0.8888888888888888,
              "#fdca26"
             ],
             [
              1,
              "#f0f921"
             ]
            ],
            "type": "histogram2d"
           }
          ],
          "histogram2dcontour": [
           {
            "colorbar": {
             "outlinewidth": 0,
             "ticks": ""
            },
            "colorscale": [
             [
              0,
              "#0d0887"
             ],
             [
              0.1111111111111111,
              "#46039f"
             ],
             [
              0.2222222222222222,
              "#7201a8"
             ],
             [
              0.3333333333333333,
              "#9c179e"
             ],
             [
              0.4444444444444444,
              "#bd3786"
             ],
             [
              0.5555555555555556,
              "#d8576b"
             ],
             [
              0.6666666666666666,
              "#ed7953"
             ],
             [
              0.7777777777777778,
              "#fb9f3a"
             ],
             [
              0.8888888888888888,
              "#fdca26"
             ],
             [
              1,
              "#f0f921"
             ]
            ],
            "type": "histogram2dcontour"
           }
          ],
          "mesh3d": [
           {
            "colorbar": {
             "outlinewidth": 0,
             "ticks": ""
            },
            "type": "mesh3d"
           }
          ],
          "parcoords": [
           {
            "line": {
             "colorbar": {
              "outlinewidth": 0,
              "ticks": ""
             }
            },
            "type": "parcoords"
           }
          ],
          "pie": [
           {
            "automargin": true,
            "type": "pie"
           }
          ],
          "scatter": [
           {
            "fillpattern": {
             "fillmode": "overlay",
             "size": 10,
             "solidity": 0.2
            },
            "type": "scatter"
           }
          ],
          "scatter3d": [
           {
            "line": {
             "colorbar": {
              "outlinewidth": 0,
              "ticks": ""
             }
            },
            "marker": {
             "colorbar": {
              "outlinewidth": 0,
              "ticks": ""
             }
            },
            "type": "scatter3d"
           }
          ],
          "scattercarpet": [
           {
            "marker": {
             "colorbar": {
              "outlinewidth": 0,
              "ticks": ""
             }
            },
            "type": "scattercarpet"
           }
          ],
          "scattergeo": [
           {
            "marker": {
             "colorbar": {
              "outlinewidth": 0,
              "ticks": ""
             }
            },
            "type": "scattergeo"
           }
          ],
          "scattergl": [
           {
            "marker": {
             "colorbar": {
              "outlinewidth": 0,
              "ticks": ""
             }
            },
            "type": "scattergl"
           }
          ],
          "scattermapbox": [
           {
            "marker": {
             "colorbar": {
              "outlinewidth": 0,
              "ticks": ""
             }
            },
            "type": "scattermapbox"
           }
          ],
          "scatterpolar": [
           {
            "marker": {
             "colorbar": {
              "outlinewidth": 0,
              "ticks": ""
             }
            },
            "type": "scatterpolar"
           }
          ],
          "scatterpolargl": [
           {
            "marker": {
             "colorbar": {
              "outlinewidth": 0,
              "ticks": ""
             }
            },
            "type": "scatterpolargl"
           }
          ],
          "scatterternary": [
           {
            "marker": {
             "colorbar": {
              "outlinewidth": 0,
              "ticks": ""
             }
            },
            "type": "scatterternary"
           }
          ],
          "surface": [
           {
            "colorbar": {
             "outlinewidth": 0,
             "ticks": ""
            },
            "colorscale": [
             [
              0,
              "#0d0887"
             ],
             [
              0.1111111111111111,
              "#46039f"
             ],
             [
              0.2222222222222222,
              "#7201a8"
             ],
             [
              0.3333333333333333,
              "#9c179e"
             ],
             [
              0.4444444444444444,
              "#bd3786"
             ],
             [
              0.5555555555555556,
              "#d8576b"
             ],
             [
              0.6666666666666666,
              "#ed7953"
             ],
             [
              0.7777777777777778,
              "#fb9f3a"
             ],
             [
              0.8888888888888888,
              "#fdca26"
             ],
             [
              1,
              "#f0f921"
             ]
            ],
            "type": "surface"
           }
          ],
          "table": [
           {
            "cells": {
             "fill": {
              "color": "#EBF0F8"
             },
             "line": {
              "color": "white"
             }
            },
            "header": {
             "fill": {
              "color": "#C8D4E3"
             },
             "line": {
              "color": "white"
             }
            },
            "type": "table"
           }
          ]
         },
         "layout": {
          "annotationdefaults": {
           "arrowcolor": "#2a3f5f",
           "arrowhead": 0,
           "arrowwidth": 1
          },
          "autotypenumbers": "strict",
          "coloraxis": {
           "colorbar": {
            "outlinewidth": 0,
            "ticks": ""
           }
          },
          "colorscale": {
           "diverging": [
            [
             0,
             "#8e0152"
            ],
            [
             0.1,
             "#c51b7d"
            ],
            [
             0.2,
             "#de77ae"
            ],
            [
             0.3,
             "#f1b6da"
            ],
            [
             0.4,
             "#fde0ef"
            ],
            [
             0.5,
             "#f7f7f7"
            ],
            [
             0.6,
             "#e6f5d0"
            ],
            [
             0.7,
             "#b8e186"
            ],
            [
             0.8,
             "#7fbc41"
            ],
            [
             0.9,
             "#4d9221"
            ],
            [
             1,
             "#276419"
            ]
           ],
           "sequential": [
            [
             0,
             "#0d0887"
            ],
            [
             0.1111111111111111,
             "#46039f"
            ],
            [
             0.2222222222222222,
             "#7201a8"
            ],
            [
             0.3333333333333333,
             "#9c179e"
            ],
            [
             0.4444444444444444,
             "#bd3786"
            ],
            [
             0.5555555555555556,
             "#d8576b"
            ],
            [
             0.6666666666666666,
             "#ed7953"
            ],
            [
             0.7777777777777778,
             "#fb9f3a"
            ],
            [
             0.8888888888888888,
             "#fdca26"
            ],
            [
             1,
             "#f0f921"
            ]
           ],
           "sequentialminus": [
            [
             0,
             "#0d0887"
            ],
            [
             0.1111111111111111,
             "#46039f"
            ],
            [
             0.2222222222222222,
             "#7201a8"
            ],
            [
             0.3333333333333333,
             "#9c179e"
            ],
            [
             0.4444444444444444,
             "#bd3786"
            ],
            [
             0.5555555555555556,
             "#d8576b"
            ],
            [
             0.6666666666666666,
             "#ed7953"
            ],
            [
             0.7777777777777778,
             "#fb9f3a"
            ],
            [
             0.8888888888888888,
             "#fdca26"
            ],
            [
             1,
             "#f0f921"
            ]
           ]
          },
          "colorway": [
           "#636efa",
           "#EF553B",
           "#00cc96",
           "#ab63fa",
           "#FFA15A",
           "#19d3f3",
           "#FF6692",
           "#B6E880",
           "#FF97FF",
           "#FECB52"
          ],
          "font": {
           "color": "#2a3f5f"
          },
          "geo": {
           "bgcolor": "white",
           "lakecolor": "white",
           "landcolor": "#E5ECF6",
           "showlakes": true,
           "showland": true,
           "subunitcolor": "white"
          },
          "hoverlabel": {
           "align": "left"
          },
          "hovermode": "closest",
          "mapbox": {
           "style": "light"
          },
          "paper_bgcolor": "white",
          "plot_bgcolor": "#E5ECF6",
          "polar": {
           "angularaxis": {
            "gridcolor": "white",
            "linecolor": "white",
            "ticks": ""
           },
           "bgcolor": "#E5ECF6",
           "radialaxis": {
            "gridcolor": "white",
            "linecolor": "white",
            "ticks": ""
           }
          },
          "scene": {
           "xaxis": {
            "backgroundcolor": "#E5ECF6",
            "gridcolor": "white",
            "gridwidth": 2,
            "linecolor": "white",
            "showbackground": true,
            "ticks": "",
            "zerolinecolor": "white"
           },
           "yaxis": {
            "backgroundcolor": "#E5ECF6",
            "gridcolor": "white",
            "gridwidth": 2,
            "linecolor": "white",
            "showbackground": true,
            "ticks": "",
            "zerolinecolor": "white"
           },
           "zaxis": {
            "backgroundcolor": "#E5ECF6",
            "gridcolor": "white",
            "gridwidth": 2,
            "linecolor": "white",
            "showbackground": true,
            "ticks": "",
            "zerolinecolor": "white"
           }
          },
          "shapedefaults": {
           "line": {
            "color": "#2a3f5f"
           }
          },
          "ternary": {
           "aaxis": {
            "gridcolor": "white",
            "linecolor": "white",
            "ticks": ""
           },
           "baxis": {
            "gridcolor": "white",
            "linecolor": "white",
            "ticks": ""
           },
           "bgcolor": "#E5ECF6",
           "caxis": {
            "gridcolor": "white",
            "linecolor": "white",
            "ticks": ""
           }
          },
          "title": {
           "x": 0.05
          },
          "xaxis": {
           "automargin": true,
           "gridcolor": "white",
           "linecolor": "white",
           "ticks": "",
           "title": {
            "standoff": 15
           },
           "zerolinecolor": "white",
           "zerolinewidth": 2
          },
          "yaxis": {
           "automargin": true,
           "gridcolor": "white",
           "linecolor": "white",
           "ticks": "",
           "title": {
            "standoff": 15
           },
           "zerolinecolor": "white",
           "zerolinewidth": 2
          }
         }
        },
        "xaxis": {
         "anchor": "y",
         "domain": [
          0,
          1
         ],
         "title": {
          "text": "genre_discogs"
         }
        },
        "yaxis": {
         "anchor": "x",
         "domain": [
          0,
          1
         ],
         "title": {
          "text": "percentage"
         }
        }
       }
      }
     },
     "metadata": {},
     "output_type": "display_data"
    }
   ],
   "source": [
    "# Prevent from displaying FutureWarning\n",
    "import warnings\n",
    "warnings.simplefilter(action='ignore', category=FutureWarning)\n",
    "\n",
    "# Count the number of instrument families per genre\n",
    "inst_fam_per_genre = f_stats_exploded.groupby(\"genre_discogs\")[\"instrument_families\"].value_counts().reset_index(name=\"count\")\n",
    "\n",
    "# Get the top 5 instrument families per genre\n",
    "top_5_inst_fam_per_genre = inst_fam_per_genre.groupby(\"genre_discogs\").head(5)\n",
    "\n",
    "# Express the count as a percentage of the total number of instrument families per genre\n",
    "top_5_inst_fam_per_genre[\"percentage\"] = top_5_inst_fam_per_genre.groupby(\"genre_discogs\")[\"count\"].apply(lambda x: x * 100 // x.sum())\n",
    "\n",
    "# plot the top 5 instrument families per genre as a percentage using plotly\n",
    "import plotly.express as px\n",
    "\n",
    "fig = px.bar(top_5_inst_fam_per_genre, x=\"genre_discogs\", y=\"percentage\", color=\"instrument_families\", barmode=\"stack\")\n",
    "fig.show()"
   ]
  },
  {
   "cell_type": "code",
   "execution_count": 14,
   "metadata": {},
   "outputs": [
    {
     "data": {
      "application/vnd.plotly.v1+json": {
       "config": {
        "plotlyServerURL": "https://plot.ly"
       },
       "data": [
        {
         "alignmentgroup": "True",
         "hovertemplate": "instruments=Acoustic Grand Piano<br>genre_discogs=%{x}<br>percentage=%{y}<extra></extra>",
         "legendgroup": "Acoustic Grand Piano",
         "marker": {
          "color": "#636efa",
          "pattern": {
           "shape": ""
          }
         },
         "name": "Acoustic Grand Piano",
         "offsetgroup": "Acoustic Grand Piano",
         "orientation": "v",
         "showlegend": true,
         "textposition": "auto",
         "type": "bar",
         "x": [
          "blues",
          "classical",
          "electronic",
          "folk, world, & country",
          "funk / soul",
          "hip hop",
          "jazz",
          "latin",
          "pop",
          "rock",
          "stage & screen"
         ],
         "xaxis": "x",
         "y": [
          48.47848898216159,
          37.185929648241206,
          54.07141301981276,
          50.760764001294916,
          52.015273652948665,
          57.183364839319474,
          59.903121636167924,
          57.18390804597701,
          53.34613274821722,
          49.23320065558417,
          38.62622658340767
         ],
         "yaxis": "y"
        },
        {
         "alignmentgroup": "True",
         "hovertemplate": "instruments=Acoustic Guitar (steel)<br>genre_discogs=%{x}<br>percentage=%{y}<extra></extra>",
         "legendgroup": "Acoustic Guitar (steel)",
         "marker": {
          "color": "#EF553B",
          "pattern": {
           "shape": ""
          }
         },
         "name": "Acoustic Guitar (steel)",
         "offsetgroup": "Acoustic Guitar (steel)",
         "orientation": "v",
         "showlegend": true,
         "textposition": "auto",
         "type": "bar",
         "x": [
          "blues",
          "electronic",
          "folk, world, & country",
          "funk / soul",
          "hip hop",
          "jazz",
          "latin",
          "pop",
          "rock"
         ],
         "xaxis": "x",
         "y": [
          15.424973767051416,
          11.73524929240148,
          18.689975180748895,
          12.049215103945693,
          11.0586011342155,
          10.710441334768568,
          12.5,
          13.942219784238436,
          14.762350737532193
         ],
         "yaxis": "y"
        },
        {
         "alignmentgroup": "True",
         "hovertemplate": "instruments=Electric Guitar (jazz)<br>genre_discogs=%{x}<br>percentage=%{y}<extra></extra>",
         "legendgroup": "Electric Guitar (jazz)",
         "marker": {
          "color": "#00cc96",
          "pattern": {
           "shape": ""
          }
         },
         "name": "Electric Guitar (jazz)",
         "offsetgroup": "Electric Guitar (jazz)",
         "orientation": "v",
         "showlegend": true,
         "textposition": "auto",
         "type": "bar",
         "x": [
          "blues",
          "folk, world, & country"
         ],
         "xaxis": "x",
         "y": [
          13.326337880377755,
          8.880975504478256
         ],
         "yaxis": "y"
        },
        {
         "alignmentgroup": "True",
         "hovertemplate": "instruments=String Ensemble 1<br>genre_discogs=%{x}<br>percentage=%{y}<extra></extra>",
         "legendgroup": "String Ensemble 1",
         "marker": {
          "color": "#ab63fa",
          "pattern": {
           "shape": ""
          }
         },
         "name": "String Ensemble 1",
         "offsetgroup": "String Ensemble 1",
         "orientation": "v",
         "showlegend": true,
         "textposition": "auto",
         "type": "bar",
         "x": [
          "blues",
          "classical",
          "electronic",
          "folk, world, & country",
          "funk / soul",
          "hip hop",
          "jazz",
          "pop",
          "rock",
          "stage & screen"
         ],
         "xaxis": "x",
         "y": [
          11.54249737670514,
          35.08282151498232,
          15.082734596124537,
          10.898888529189598,
          14.891811624946966,
          10.396975425330814,
          10.602798708288482,
          13.530810020113366,
          12.350737532193866,
          28.991971454058877
         ],
         "yaxis": "y"
        },
        {
         "alignmentgroup": "True",
         "hovertemplate": "instruments=Electric Bass (finger)<br>genre_discogs=%{x}<br>percentage=%{y}<extra></extra>",
         "legendgroup": "Electric Bass (finger)",
         "marker": {
          "color": "#FFA15A",
          "pattern": {
           "shape": ""
          }
         },
         "name": "Electric Bass (finger)",
         "offsetgroup": "Electric Bass (finger)",
         "orientation": "v",
         "showlegend": true,
         "textposition": "auto",
         "type": "bar",
         "x": [
          "blues",
          "electronic",
          "folk, world, & country",
          "hip hop",
          "latin",
          "pop"
         ],
         "xaxis": "x",
         "y": [
          11.227701993704093,
          10.43979969518833,
          10.769396784288334,
          11.1531190926276,
          11.925287356321839,
          10.541232400804535
         ],
         "yaxis": "y"
        },
        {
         "alignmentgroup": "True",
         "hovertemplate": "instruments=Flute<br>genre_discogs=%{x}<br>percentage=%{y}<extra></extra>",
         "legendgroup": "Flute",
         "marker": {
          "color": "#19d3f3",
          "pattern": {
           "shape": ""
          }
         },
         "name": "Flute",
         "offsetgroup": "Flute",
         "orientation": "v",
         "showlegend": true,
         "textposition": "auto",
         "type": "bar",
         "x": [
          "classical",
          "stage & screen"
         ],
         "xaxis": "x",
         "y": [
          10.394565419691048,
          11.596788581623551
         ],
         "yaxis": "y"
        },
        {
         "alignmentgroup": "True",
         "hovertemplate": "instruments=Pizzicato Strings<br>genre_discogs=%{x}<br>percentage=%{y}<extra></extra>",
         "legendgroup": "Pizzicato Strings",
         "marker": {
          "color": "#FF6692",
          "pattern": {
           "shape": ""
          }
         },
         "name": "Pizzicato Strings",
         "offsetgroup": "Pizzicato Strings",
         "orientation": "v",
         "showlegend": true,
         "textposition": "auto",
         "type": "bar",
         "x": [
          "classical"
         ],
         "xaxis": "x",
         "y": [
          8.784664061045971
         ],
         "yaxis": "y"
        },
        {
         "alignmentgroup": "True",
         "hovertemplate": "instruments=French Horn<br>genre_discogs=%{x}<br>percentage=%{y}<extra></extra>",
         "legendgroup": "French Horn",
         "marker": {
          "color": "#B6E880",
          "pattern": {
           "shape": ""
          }
         },
         "name": "French Horn",
         "offsetgroup": "French Horn",
         "orientation": "v",
         "showlegend": true,
         "textposition": "auto",
         "type": "bar",
         "x": [
          "classical",
          "stage & screen"
         ],
         "xaxis": "x",
         "y": [
          8.552019356039457,
          9.455842997323819
         ],
         "yaxis": "y"
        },
        {
         "alignmentgroup": "True",
         "hovertemplate": "instruments=Electric Guitar (clean)<br>genre_discogs=%{x}<br>percentage=%{y}<extra></extra>",
         "legendgroup": "Electric Guitar (clean)",
         "marker": {
          "color": "#FF97FF",
          "pattern": {
           "shape": ""
          }
         },
         "name": "Electric Guitar (clean)",
         "offsetgroup": "Electric Guitar (clean)",
         "orientation": "v",
         "showlegend": true,
         "textposition": "auto",
         "type": "bar",
         "x": [
          "electronic",
          "funk / soul",
          "pop"
         ],
         "xaxis": "x",
         "y": [
          8.670803396472893,
          9.800593975392449,
          8.63960504662644
         ],
         "yaxis": "y"
        },
        {
         "alignmentgroup": "True",
         "hovertemplate": "instruments=Fretless Bass<br>genre_discogs=%{x}<br>percentage=%{y}<extra></extra>",
         "legendgroup": "Fretless Bass",
         "marker": {
          "color": "#FECB52",
          "pattern": {
           "shape": ""
          }
         },
         "name": "Fretless Bass",
         "offsetgroup": "Fretless Bass",
         "orientation": "v",
         "showlegend": true,
         "textposition": "auto",
         "type": "bar",
         "x": [
          "funk / soul",
          "jazz"
         ],
         "xaxis": "x",
         "y": [
          11.243105642766228,
          8.396124865446717
         ],
         "yaxis": "y"
        },
        {
         "alignmentgroup": "True",
         "hovertemplate": "instruments=Choir Aahs<br>genre_discogs=%{x}<br>percentage=%{y}<extra></extra>",
         "legendgroup": "Choir Aahs",
         "marker": {
          "color": "#636efa",
          "pattern": {
           "shape": ""
          }
         },
         "name": "Choir Aahs",
         "offsetgroup": "Choir Aahs",
         "orientation": "v",
         "showlegend": true,
         "textposition": "auto",
         "type": "bar",
         "x": [
          "hip hop"
         ],
         "xaxis": "x",
         "y": [
          10.207939508506616
         ],
         "yaxis": "y"
        },
        {
         "alignmentgroup": "True",
         "hovertemplate": "instruments=String Ensemble 2<br>genre_discogs=%{x}<br>percentage=%{y}<extra></extra>",
         "legendgroup": "String Ensemble 2",
         "marker": {
          "color": "#EF553B",
          "pattern": {
           "shape": ""
          }
         },
         "name": "String Ensemble 2",
         "offsetgroup": "String Ensemble 2",
         "orientation": "v",
         "showlegend": true,
         "textposition": "auto",
         "type": "bar",
         "x": [
          "jazz",
          "latin",
          "stage & screen"
         ],
         "xaxis": "x",
         "y": [
          10.38751345532831,
          9.339080459770114,
          11.329170383586083
         ],
         "yaxis": "y"
        },
        {
         "alignmentgroup": "True",
         "hovertemplate": "instruments=Acoustic Guitar (nylon)<br>genre_discogs=%{x}<br>percentage=%{y}<extra></extra>",
         "legendgroup": "Acoustic Guitar (nylon)",
         "marker": {
          "color": "#00cc96",
          "pattern": {
           "shape": ""
          }
         },
         "name": "Acoustic Guitar (nylon)",
         "offsetgroup": "Acoustic Guitar (nylon)",
         "orientation": "v",
         "showlegend": true,
         "textposition": "auto",
         "type": "bar",
         "x": [
          "latin"
         ],
         "xaxis": "x",
         "y": [
          9.051724137931034
         ],
         "yaxis": "y"
        },
        {
         "alignmentgroup": "True",
         "hovertemplate": "instruments=Overdriven Guitar<br>genre_discogs=%{x}<br>percentage=%{y}<extra></extra>",
         "legendgroup": "Overdriven Guitar",
         "marker": {
          "color": "#ab63fa",
          "pattern": {
           "shape": ""
          }
         },
         "name": "Overdriven Guitar",
         "offsetgroup": "Overdriven Guitar",
         "orientation": "v",
         "showlegend": true,
         "textposition": "auto",
         "type": "bar",
         "x": [
          "rock"
         ],
         "xaxis": "x",
         "y": [
          12.034652306251463
         ],
         "yaxis": "y"
        },
        {
         "alignmentgroup": "True",
         "hovertemplate": "instruments=Distortion Guitar<br>genre_discogs=%{x}<br>percentage=%{y}<extra></extra>",
         "legendgroup": "Distortion Guitar",
         "marker": {
          "color": "#FFA15A",
          "pattern": {
           "shape": ""
          }
         },
         "name": "Distortion Guitar",
         "offsetgroup": "Distortion Guitar",
         "orientation": "v",
         "showlegend": true,
         "textposition": "auto",
         "type": "bar",
         "x": [
          "rock"
         ],
         "xaxis": "x",
         "y": [
          11.619058768438304
         ],
         "yaxis": "y"
        }
       ],
       "layout": {
        "barmode": "stack",
        "legend": {
         "title": {
          "text": "instruments"
         },
         "tracegroupgap": 0
        },
        "margin": {
         "t": 60
        },
        "template": {
         "data": {
          "bar": [
           {
            "error_x": {
             "color": "#2a3f5f"
            },
            "error_y": {
             "color": "#2a3f5f"
            },
            "marker": {
             "line": {
              "color": "#E5ECF6",
              "width": 0.5
             },
             "pattern": {
              "fillmode": "overlay",
              "size": 10,
              "solidity": 0.2
             }
            },
            "type": "bar"
           }
          ],
          "barpolar": [
           {
            "marker": {
             "line": {
              "color": "#E5ECF6",
              "width": 0.5
             },
             "pattern": {
              "fillmode": "overlay",
              "size": 10,
              "solidity": 0.2
             }
            },
            "type": "barpolar"
           }
          ],
          "carpet": [
           {
            "aaxis": {
             "endlinecolor": "#2a3f5f",
             "gridcolor": "white",
             "linecolor": "white",
             "minorgridcolor": "white",
             "startlinecolor": "#2a3f5f"
            },
            "baxis": {
             "endlinecolor": "#2a3f5f",
             "gridcolor": "white",
             "linecolor": "white",
             "minorgridcolor": "white",
             "startlinecolor": "#2a3f5f"
            },
            "type": "carpet"
           }
          ],
          "choropleth": [
           {
            "colorbar": {
             "outlinewidth": 0,
             "ticks": ""
            },
            "type": "choropleth"
           }
          ],
          "contour": [
           {
            "colorbar": {
             "outlinewidth": 0,
             "ticks": ""
            },
            "colorscale": [
             [
              0,
              "#0d0887"
             ],
             [
              0.1111111111111111,
              "#46039f"
             ],
             [
              0.2222222222222222,
              "#7201a8"
             ],
             [
              0.3333333333333333,
              "#9c179e"
             ],
             [
              0.4444444444444444,
              "#bd3786"
             ],
             [
              0.5555555555555556,
              "#d8576b"
             ],
             [
              0.6666666666666666,
              "#ed7953"
             ],
             [
              0.7777777777777778,
              "#fb9f3a"
             ],
             [
              0.8888888888888888,
              "#fdca26"
             ],
             [
              1,
              "#f0f921"
             ]
            ],
            "type": "contour"
           }
          ],
          "contourcarpet": [
           {
            "colorbar": {
             "outlinewidth": 0,
             "ticks": ""
            },
            "type": "contourcarpet"
           }
          ],
          "heatmap": [
           {
            "colorbar": {
             "outlinewidth": 0,
             "ticks": ""
            },
            "colorscale": [
             [
              0,
              "#0d0887"
             ],
             [
              0.1111111111111111,
              "#46039f"
             ],
             [
              0.2222222222222222,
              "#7201a8"
             ],
             [
              0.3333333333333333,
              "#9c179e"
             ],
             [
              0.4444444444444444,
              "#bd3786"
             ],
             [
              0.5555555555555556,
              "#d8576b"
             ],
             [
              0.6666666666666666,
              "#ed7953"
             ],
             [
              0.7777777777777778,
              "#fb9f3a"
             ],
             [
              0.8888888888888888,
              "#fdca26"
             ],
             [
              1,
              "#f0f921"
             ]
            ],
            "type": "heatmap"
           }
          ],
          "heatmapgl": [
           {
            "colorbar": {
             "outlinewidth": 0,
             "ticks": ""
            },
            "colorscale": [
             [
              0,
              "#0d0887"
             ],
             [
              0.1111111111111111,
              "#46039f"
             ],
             [
              0.2222222222222222,
              "#7201a8"
             ],
             [
              0.3333333333333333,
              "#9c179e"
             ],
             [
              0.4444444444444444,
              "#bd3786"
             ],
             [
              0.5555555555555556,
              "#d8576b"
             ],
             [
              0.6666666666666666,
              "#ed7953"
             ],
             [
              0.7777777777777778,
              "#fb9f3a"
             ],
             [
              0.8888888888888888,
              "#fdca26"
             ],
             [
              1,
              "#f0f921"
             ]
            ],
            "type": "heatmapgl"
           }
          ],
          "histogram": [
           {
            "marker": {
             "pattern": {
              "fillmode": "overlay",
              "size": 10,
              "solidity": 0.2
             }
            },
            "type": "histogram"
           }
          ],
          "histogram2d": [
           {
            "colorbar": {
             "outlinewidth": 0,
             "ticks": ""
            },
            "colorscale": [
             [
              0,
              "#0d0887"
             ],
             [
              0.1111111111111111,
              "#46039f"
             ],
             [
              0.2222222222222222,
              "#7201a8"
             ],
             [
              0.3333333333333333,
              "#9c179e"
             ],
             [
              0.4444444444444444,
              "#bd3786"
             ],
             [
              0.5555555555555556,
              "#d8576b"
             ],
             [
              0.6666666666666666,
              "#ed7953"
             ],
             [
              0.7777777777777778,
              "#fb9f3a"
             ],
             [
              0.8888888888888888,
              "#fdca26"
             ],
             [
              1,
              "#f0f921"
             ]
            ],
            "type": "histogram2d"
           }
          ],
          "histogram2dcontour": [
           {
            "colorbar": {
             "outlinewidth": 0,
             "ticks": ""
            },
            "colorscale": [
             [
              0,
              "#0d0887"
             ],
             [
              0.1111111111111111,
              "#46039f"
             ],
             [
              0.2222222222222222,
              "#7201a8"
             ],
             [
              0.3333333333333333,
              "#9c179e"
             ],
             [
              0.4444444444444444,
              "#bd3786"
             ],
             [
              0.5555555555555556,
              "#d8576b"
             ],
             [
              0.6666666666666666,
              "#ed7953"
             ],
             [
              0.7777777777777778,
              "#fb9f3a"
             ],
             [
              0.8888888888888888,
              "#fdca26"
             ],
             [
              1,
              "#f0f921"
             ]
            ],
            "type": "histogram2dcontour"
           }
          ],
          "mesh3d": [
           {
            "colorbar": {
             "outlinewidth": 0,
             "ticks": ""
            },
            "type": "mesh3d"
           }
          ],
          "parcoords": [
           {
            "line": {
             "colorbar": {
              "outlinewidth": 0,
              "ticks": ""
             }
            },
            "type": "parcoords"
           }
          ],
          "pie": [
           {
            "automargin": true,
            "type": "pie"
           }
          ],
          "scatter": [
           {
            "fillpattern": {
             "fillmode": "overlay",
             "size": 10,
             "solidity": 0.2
            },
            "type": "scatter"
           }
          ],
          "scatter3d": [
           {
            "line": {
             "colorbar": {
              "outlinewidth": 0,
              "ticks": ""
             }
            },
            "marker": {
             "colorbar": {
              "outlinewidth": 0,
              "ticks": ""
             }
            },
            "type": "scatter3d"
           }
          ],
          "scattercarpet": [
           {
            "marker": {
             "colorbar": {
              "outlinewidth": 0,
              "ticks": ""
             }
            },
            "type": "scattercarpet"
           }
          ],
          "scattergeo": [
           {
            "marker": {
             "colorbar": {
              "outlinewidth": 0,
              "ticks": ""
             }
            },
            "type": "scattergeo"
           }
          ],
          "scattergl": [
           {
            "marker": {
             "colorbar": {
              "outlinewidth": 0,
              "ticks": ""
             }
            },
            "type": "scattergl"
           }
          ],
          "scattermapbox": [
           {
            "marker": {
             "colorbar": {
              "outlinewidth": 0,
              "ticks": ""
             }
            },
            "type": "scattermapbox"
           }
          ],
          "scatterpolar": [
           {
            "marker": {
             "colorbar": {
              "outlinewidth": 0,
              "ticks": ""
             }
            },
            "type": "scatterpolar"
           }
          ],
          "scatterpolargl": [
           {
            "marker": {
             "colorbar": {
              "outlinewidth": 0,
              "ticks": ""
             }
            },
            "type": "scatterpolargl"
           }
          ],
          "scatterternary": [
           {
            "marker": {
             "colorbar": {
              "outlinewidth": 0,
              "ticks": ""
             }
            },
            "type": "scatterternary"
           }
          ],
          "surface": [
           {
            "colorbar": {
             "outlinewidth": 0,
             "ticks": ""
            },
            "colorscale": [
             [
              0,
              "#0d0887"
             ],
             [
              0.1111111111111111,
              "#46039f"
             ],
             [
              0.2222222222222222,
              "#7201a8"
             ],
             [
              0.3333333333333333,
              "#9c179e"
             ],
             [
              0.4444444444444444,
              "#bd3786"
             ],
             [
              0.5555555555555556,
              "#d8576b"
             ],
             [
              0.6666666666666666,
              "#ed7953"
             ],
             [
              0.7777777777777778,
              "#fb9f3a"
             ],
             [
              0.8888888888888888,
              "#fdca26"
             ],
             [
              1,
              "#f0f921"
             ]
            ],
            "type": "surface"
           }
          ],
          "table": [
           {
            "cells": {
             "fill": {
              "color": "#EBF0F8"
             },
             "line": {
              "color": "white"
             }
            },
            "header": {
             "fill": {
              "color": "#C8D4E3"
             },
             "line": {
              "color": "white"
             }
            },
            "type": "table"
           }
          ]
         },
         "layout": {
          "annotationdefaults": {
           "arrowcolor": "#2a3f5f",
           "arrowhead": 0,
           "arrowwidth": 1
          },
          "autotypenumbers": "strict",
          "coloraxis": {
           "colorbar": {
            "outlinewidth": 0,
            "ticks": ""
           }
          },
          "colorscale": {
           "diverging": [
            [
             0,
             "#8e0152"
            ],
            [
             0.1,
             "#c51b7d"
            ],
            [
             0.2,
             "#de77ae"
            ],
            [
             0.3,
             "#f1b6da"
            ],
            [
             0.4,
             "#fde0ef"
            ],
            [
             0.5,
             "#f7f7f7"
            ],
            [
             0.6,
             "#e6f5d0"
            ],
            [
             0.7,
             "#b8e186"
            ],
            [
             0.8,
             "#7fbc41"
            ],
            [
             0.9,
             "#4d9221"
            ],
            [
             1,
             "#276419"
            ]
           ],
           "sequential": [
            [
             0,
             "#0d0887"
            ],
            [
             0.1111111111111111,
             "#46039f"
            ],
            [
             0.2222222222222222,
             "#7201a8"
            ],
            [
             0.3333333333333333,
             "#9c179e"
            ],
            [
             0.4444444444444444,
             "#bd3786"
            ],
            [
             0.5555555555555556,
             "#d8576b"
            ],
            [
             0.6666666666666666,
             "#ed7953"
            ],
            [
             0.7777777777777778,
             "#fb9f3a"
            ],
            [
             0.8888888888888888,
             "#fdca26"
            ],
            [
             1,
             "#f0f921"
            ]
           ],
           "sequentialminus": [
            [
             0,
             "#0d0887"
            ],
            [
             0.1111111111111111,
             "#46039f"
            ],
            [
             0.2222222222222222,
             "#7201a8"
            ],
            [
             0.3333333333333333,
             "#9c179e"
            ],
            [
             0.4444444444444444,
             "#bd3786"
            ],
            [
             0.5555555555555556,
             "#d8576b"
            ],
            [
             0.6666666666666666,
             "#ed7953"
            ],
            [
             0.7777777777777778,
             "#fb9f3a"
            ],
            [
             0.8888888888888888,
             "#fdca26"
            ],
            [
             1,
             "#f0f921"
            ]
           ]
          },
          "colorway": [
           "#636efa",
           "#EF553B",
           "#00cc96",
           "#ab63fa",
           "#FFA15A",
           "#19d3f3",
           "#FF6692",
           "#B6E880",
           "#FF97FF",
           "#FECB52"
          ],
          "font": {
           "color": "#2a3f5f"
          },
          "geo": {
           "bgcolor": "white",
           "lakecolor": "white",
           "landcolor": "#E5ECF6",
           "showlakes": true,
           "showland": true,
           "subunitcolor": "white"
          },
          "hoverlabel": {
           "align": "left"
          },
          "hovermode": "closest",
          "mapbox": {
           "style": "light"
          },
          "paper_bgcolor": "white",
          "plot_bgcolor": "#E5ECF6",
          "polar": {
           "angularaxis": {
            "gridcolor": "white",
            "linecolor": "white",
            "ticks": ""
           },
           "bgcolor": "#E5ECF6",
           "radialaxis": {
            "gridcolor": "white",
            "linecolor": "white",
            "ticks": ""
           }
          },
          "scene": {
           "xaxis": {
            "backgroundcolor": "#E5ECF6",
            "gridcolor": "white",
            "gridwidth": 2,
            "linecolor": "white",
            "showbackground": true,
            "ticks": "",
            "zerolinecolor": "white"
           },
           "yaxis": {
            "backgroundcolor": "#E5ECF6",
            "gridcolor": "white",
            "gridwidth": 2,
            "linecolor": "white",
            "showbackground": true,
            "ticks": "",
            "zerolinecolor": "white"
           },
           "zaxis": {
            "backgroundcolor": "#E5ECF6",
            "gridcolor": "white",
            "gridwidth": 2,
            "linecolor": "white",
            "showbackground": true,
            "ticks": "",
            "zerolinecolor": "white"
           }
          },
          "shapedefaults": {
           "line": {
            "color": "#2a3f5f"
           }
          },
          "ternary": {
           "aaxis": {
            "gridcolor": "white",
            "linecolor": "white",
            "ticks": ""
           },
           "baxis": {
            "gridcolor": "white",
            "linecolor": "white",
            "ticks": ""
           },
           "bgcolor": "#E5ECF6",
           "caxis": {
            "gridcolor": "white",
            "linecolor": "white",
            "ticks": ""
           }
          },
          "title": {
           "x": 0.05
          },
          "xaxis": {
           "automargin": true,
           "gridcolor": "white",
           "linecolor": "white",
           "ticks": "",
           "title": {
            "standoff": 15
           },
           "zerolinecolor": "white",
           "zerolinewidth": 2
          },
          "yaxis": {
           "automargin": true,
           "gridcolor": "white",
           "linecolor": "white",
           "ticks": "",
           "title": {
            "standoff": 15
           },
           "zerolinecolor": "white",
           "zerolinewidth": 2
          }
         }
        },
        "xaxis": {
         "anchor": "y",
         "domain": [
          0,
          1
         ],
         "title": {
          "text": "genre_discogs"
         }
        },
        "yaxis": {
         "anchor": "x",
         "domain": [
          0,
          1
         ],
         "title": {
          "text": "percentage"
         }
        }
       }
      }
     },
     "metadata": {},
     "output_type": "display_data"
    }
   ],
   "source": [
    "# Get top 5 instruments per genre\n",
    "\n",
    "# Display the entire dataframe\n",
    "pd.set_option('display.max_rows', None)\n",
    "\n",
    "# Merge the genre and instruments\n",
    "statistics_instruments_merged = statistics_instruments.reset_index()\n",
    "statistics_instruments_merged = statistics_instruments_merged.merge(statistics[\"genre_discogs\"], left_on=\"md5\", right_index=True)\n",
    "\n",
    "# Count the number of instruments per genre\n",
    "inst_per_genre = statistics_instruments_merged.groupby(\"genre_discogs\")[\"instruments\"].value_counts().reset_index(name=\"count\")\n",
    "\n",
    "# Keep the top 5 instruments per genre\n",
    "top_5_inst_per_genre = inst_per_genre.groupby(\"genre_discogs\").head(5)\n",
    "\n",
    "# Express the count as a percentage of the total number of instruments per genre\n",
    "top_5_inst_per_genre[\"percentage\"] = top_5_inst_per_genre.groupby(\"genre_discogs\")[\"count\"].apply(lambda x: x * 100 / x.sum())\n",
    "\n",
    "# plot the top 5 instruments per genre as a percentage using plotly\n",
    "fig = px.bar(top_5_inst_per_genre, x=\"genre_discogs\", y=\"percentage\", color=\"instruments\", barmode=\"stack\")\n",
    "fig.show()\n"
   ]
  },
  {
   "cell_type": "markdown",
   "metadata": {},
   "source": [
    "## Notes"
   ]
  },
  {
   "cell_type": "code",
   "execution_count": 28,
   "metadata": {},
   "outputs": [
    {
     "data": {
      "text/plain": [
       "<AxesSubplot: xlabel='genre_discogs'>"
      ]
     },
     "execution_count": 28,
     "metadata": {},
     "output_type": "execute_result"
    },
    {
     "data": {
      "image/png": "[encoded data removed]",
      "text/plain": [
       "<Figure size 640x480 with 1 Axes>"
      ]
     },
     "metadata": {},
     "output_type": "display_data"
    }
   ],
   "source": [
    "# Calculate the median average unique notes per instrument per genre\n",
    "median_notes_per_genre = f_stats.groupby(\"genre_discogs\")[\"average_n_unique_notes_per_instrument\"].median().sort_values(ascending=False)\n",
    "\n",
    "# Plot\n",
    "median_notes_per_genre.plot(kind=\"bar\", sort_columns=True)"
   ]
  },
  {
   "cell_type": "code",
   "execution_count": 29,
   "metadata": {},
   "outputs": [
    {
     "data": {
      "text/plain": [
       "<AxesSubplot: >"
      ]
     },
     "execution_count": 29,
     "metadata": {},
     "output_type": "execute_result"
    },
    {
     "data": {
      "image/png": "[encoded data removed]",
      "text/plain": [
       "<Figure size 640x480 with 1 Axes>"
      ]
     },
     "metadata": {},
     "output_type": "display_data"
    }
   ],
   "source": [
    "# Plot the histogram of the average number of notes per instruments\n",
    "f_stats[\"average_n_unique_notes_per_instrument\"].hist(bins=100)"
   ]
  },
  {
   "cell_type": "code",
   "execution_count": 40,
   "metadata": {},
   "outputs": [
    {
     "data": {
      "text/plain": [
       "<AxesSubplot: xlabel='genre_discogs'>"
      ]
     },
     "execution_count": 40,
     "metadata": {},
     "output_type": "execute_result"
    },
    {
     "data": {
      "image/png": "[encoded data removed]",
      "text/plain": [
       "<Figure size 640x480 with 1 Axes>"
      ]
     },
     "metadata": {},
     "output_type": "display_data"
    }
   ],
   "source": [
    "# Calculate the average note duration\n",
    "median_notes_per_genre = f_stats.groupby(\"genre_discogs\")['average_note_duration'].median().sort_values(ascending=False)\n",
    "\n",
    "# Plot\n",
    "median_notes_per_genre.plot(kind=\"bar\", sort_columns=True)"
   ]
  },
  {
   "cell_type": "code",
   "execution_count": 45,
   "metadata": {},
   "outputs": [
    {
     "data": {
      "text/plain": [
       "<AxesSubplot: >"
      ]
     },
     "execution_count": 45,
     "metadata": {},
     "output_type": "execute_result"
    },
    {
     "data": {
      "image/png": "[encoded data removed]",
      "text/plain": [
       "<Figure size 640x480 with 1 Axes>"
      ]
     },
     "metadata": {},
     "output_type": "display_data"
    }
   ],
   "source": [
    "# Plot distribution of the average note velocity\n",
    "f_stats['average_note_velocity'].hist(bins=100)"
   ]
  },
  {
   "cell_type": "code",
   "execution_count": 49,
   "metadata": {},
   "outputs": [
    {
     "data": {
      "text/plain": [
       "<AxesSubplot: >"
      ]
     },
     "execution_count": 49,
     "metadata": {},
     "output_type": "execute_result"
    },
    {
     "data": {
      "image/png": "[encoded data removed]",
      "text/plain": [
       "<Figure size 640x480 with 1 Axes>"
      ]
     },
     "metadata": {},
     "output_type": "display_data"
    }
   ],
   "source": [
    "# Plot distribution of the average note pitch\n",
    "f_stats['average_note_pitch'].hist(bins=100)"
   ]
  },
  {
   "cell_type": "code",
   "execution_count": 56,
   "metadata": {},
   "outputs": [
    {
     "data": {
      "text/plain": [
       "<AxesSubplot: >"
      ]
     },
     "execution_count": 56,
     "metadata": {},
     "output_type": "execute_result"
    },
    {
     "data": {
      "image/png": "[encoded data removed]",
      "text/plain": [
       "<Figure size 640x480 with 1 Axes>"
      ]
     },
     "metadata": {},
     "output_type": "display_data"
    }
   ],
   "source": [
    "# Plot distribution of the average range of note pitches\n",
    "f_stats['average_range_of_note_pitches_per_instrument'].hist(bins=100)"
   ]
  },
  {
   "cell_type": "code",
   "execution_count": 57,
   "metadata": {},
   "outputs": [
    {
     "data": {
      "text/plain": [
       "<AxesSubplot: xlabel='genre_discogs'>"
      ]
     },
     "execution_count": 57,
     "metadata": {},
     "output_type": "execute_result"
    },
    {
     "data": {
      "image/png": "[encoded data removed]",
      "text/plain": [
       "<Figure size 640x480 with 1 Axes>"
      ]
     },
     "metadata": {},
     "output_type": "display_data"
    }
   ],
   "source": [
    "# Calculate the median average unique notes per instrument per genre\n",
    "median_notes_per_genre = f_stats.groupby(\"genre_discogs\")['average_range_of_note_pitches_per_instrument'].median().sort_values(ascending=False)\n",
    "\n",
    "# Plot\n",
    "median_notes_per_genre.plot(kind=\"bar\", sort_columns=True)"
   ]
  },
  {
   "cell_type": "code",
   "execution_count": 75,
   "metadata": {},
   "outputs": [
    {
     "data": {
      "text/plain": [
       "<AxesSubplot: >"
      ]
     },
     "execution_count": 75,
     "metadata": {},
     "output_type": "execute_result"
    },
    {
     "data": {
      "image/png": "[encoded data removed]",
      "text/plain": [
       "<Figure size 640x480 with 1 Axes>"
      ]
     },
     "metadata": {},
     "output_type": "display_data"
    }
   ],
   "source": [
    "# Plot distribution of the average number of notes per second\n",
    "f_stats['number_of_notes_per_second'].hist(bins=100)"
   ]
  },
  {
   "cell_type": "code",
   "execution_count": 76,
   "metadata": {},
   "outputs": [
    {
     "data": {
      "text/plain": [
       "<AxesSubplot: xlabel='genre_discogs'>"
      ]
     },
     "execution_count": 76,
     "metadata": {},
     "output_type": "execute_result"
    },
    {
     "data": {
      "image/png": "[encoded data removed]",
      "text/plain": [
       "<Figure size 640x480 with 1 Axes>"
      ]
     },
     "metadata": {},
     "output_type": "display_data"
    }
   ],
   "source": [
    "# Calculate the median average unique notes per instrument per genre\n",
    "median_notes_per_genre = f_stats.groupby(\"genre_discogs\")['number_of_notes_per_second'].median().sort_values(ascending=False)\n",
    "\n",
    "# Plot\n",
    "median_notes_per_genre.plot(kind=\"bar\", sort_columns=True)"
   ]
  },
  {
   "cell_type": "markdown",
   "metadata": {},
   "source": [
    "## Other statistics"
   ]
  },
  {
   "cell_type": "code",
   "execution_count": 108,
   "metadata": {},
   "outputs": [
    {
     "data": {
      "text/plain": [
       "<AxesSubplot: >"
      ]
     },
     "execution_count": 108,
     "metadata": {},
     "output_type": "execute_result"
    },
    {
     "data": {
      "image/png": "[encoded data removed]",
      "text/plain": [
       "<Figure size 640x480 with 1 Axes>"
      ]
     },
     "metadata": {},
     "output_type": "display_data"
    }
   ],
   "source": [
    "# Plot 20 most common time signatures\n",
    "f_stats['main_time_signature'].value_counts().head(20).plot(kind=\"bar\", sort_columns=True)"
   ]
  },
  {
   "cell_type": "code",
   "execution_count": 110,
   "metadata": {},
   "outputs": [
    {
     "data": {
      "text/plain": [
       "4/4    0.821697\n",
       "Name: main_time_signature, dtype: float64"
      ]
     },
     "execution_count": 110,
     "metadata": {},
     "output_type": "execute_result"
    }
   ],
   "source": [
    "# Get number of songs that have 4/4 as main time signature\n",
    "f_stats['main_time_signature'].value_counts().head(1) / f_stats['main_time_signature'].value_counts().sum()"
   ]
  },
  {
   "cell_type": "code",
   "execution_count": 115,
   "metadata": {},
   "outputs": [
    {
     "data": {
      "text/plain": [
       "1    0.811417\n",
       "Name: n_time_signature_changes, dtype: float64"
      ]
     },
     "execution_count": 115,
     "metadata": {},
     "output_type": "execute_result"
    }
   ],
   "source": [
    "# Get number of songs that never change time signature\n",
    "f_stats['n_time_signature_changes'].value_counts().head(1) / f_stats['n_time_signature_changes'].value_counts().sum()"
   ]
  },
  {
   "cell_type": "code",
   "execution_count": 119,
   "metadata": {},
   "outputs": [
    {
     "data": {
      "text/plain": [
       "<AxesSubplot: >"
      ]
     },
     "execution_count": 119,
     "metadata": {},
     "output_type": "execute_result"
    },
    {
     "data": {
      "image/png": "[encoded data removed]",
      "text/plain": [
       "<Figure size 640x480 with 1 Axes>"
      ]
     },
     "metadata": {},
     "output_type": "display_data"
    }
   ],
   "source": [
    "# Plot distribution of the track length in seconds\n",
    "f_stats['track_length_in_seconds'].hist(bins=100)"
   ]
  },
  {
   "cell_type": "code",
   "execution_count": 134,
   "metadata": {},
   "outputs": [
    {
     "data": {
      "application/vnd.plotly.v1+json": {
       "config": {
        "plotlyServerURL": "https://plot.ly"
       },
       "data": [
        {
         "alignmentgroup": "True",
         "hovertemplate": "lyrics_bool=False<br>genre_discogs=%{x}<br>percentage=%{y}<extra></extra>",
         "legendgroup": "False",
         "marker": {
          "color": "#636efa",
          "pattern": {
           "shape": ""
          }
         },
         "name": "False",
         "offsetgroup": "False",
         "orientation": "v",
         "showlegend": true,
         "textposition": "auto",
         "type": "bar",
         "x": [
          "blues",
          "classical",
          "electronic",
          "folk, world, & country",
          "funk / soul",
          "hip hop",
          "jazz",
          "latin",
          "pop",
          "rock",
          "stage & screen"
         ],
         "xaxis": "x",
         "y": [
          75.84905660377359,
          97.40973312401884,
          82.77495769881557,
          80.06244424620874,
          75.33234859675036,
          88.29113924050633,
          85.12658227848101,
          72.88135593220339,
          79.70642201834862,
          82.83841900471022,
          93.75
         ],
         "yaxis": "y"
        },
        {
         "alignmentgroup": "True",
         "hovertemplate": "lyrics_bool=True<br>genre_discogs=%{x}<br>percentage=%{y}<extra></extra>",
         "legendgroup": "True",
         "marker": {
          "color": "#EF553B",
          "pattern": {
           "shape": ""
          }
         },
         "name": "True",
         "offsetgroup": "True",
         "orientation": "v",
         "showlegend": true,
         "textposition": "auto",
         "type": "bar",
         "x": [
          "blues",
          "classical",
          "electronic",
          "folk, world, & country",
          "funk / soul",
          "hip hop",
          "jazz",
          "latin",
          "pop",
          "rock",
          "stage & screen"
         ],
         "xaxis": "x",
         "y": [
          24.150943396226417,
          2.5902668759811616,
          17.225042301184434,
          19.93755575379126,
          24.667651403249632,
          11.708860759493671,
          14.873417721518987,
          27.11864406779661,
          20.293577981651374,
          17.161580995289782,
          6.25
         ],
         "yaxis": "y"
        }
       ],
       "layout": {
        "barmode": "relative",
        "legend": {
         "title": {
          "text": "lyrics_bool"
         },
         "tracegroupgap": 0
        },
        "margin": {
         "t": 60
        },
        "template": {
         "data": {
          "bar": [
           {
            "error_x": {
             "color": "#2a3f5f"
            },
            "error_y": {
             "color": "#2a3f5f"
            },
            "marker": {
             "line": {
              "color": "#E5ECF6",
              "width": 0.5
             },
             "pattern": {
              "fillmode": "overlay",
              "size": 10,
              "solidity": 0.2
             }
            },
            "type": "bar"
           }
          ],
          "barpolar": [
           {
            "marker": {
             "line": {
              "color": "#E5ECF6",
              "width": 0.5
             },
             "pattern": {
              "fillmode": "overlay",
              "size": 10,
              "solidity": 0.2
             }
            },
            "type": "barpolar"
           }
          ],
          "carpet": [
           {
            "aaxis": {
             "endlinecolor": "#2a3f5f",
             "gridcolor": "white",
             "linecolor": "white",
             "minorgridcolor": "white",
             "startlinecolor": "#2a3f5f"
            },
            "baxis": {
             "endlinecolor": "#2a3f5f",
             "gridcolor": "white",
             "linecolor": "white",
             "minorgridcolor": "white",
             "startlinecolor": "#2a3f5f"
            },
            "type": "carpet"
           }
          ],
          "choropleth": [
           {
            "colorbar": {
             "outlinewidth": 0,
             "ticks": ""
            },
            "type": "choropleth"
           }
          ],
          "contour": [
           {
            "colorbar": {
             "outlinewidth": 0,
             "ticks": ""
            },
            "colorscale": [
             [
              0,
              "#0d0887"
             ],
             [
              0.1111111111111111,
              "#46039f"
             ],
             [
              0.2222222222222222,
              "#7201a8"
             ],
             [
              0.3333333333333333,
              "#9c179e"
             ],
             [
              0.4444444444444444,
              "#bd3786"
             ],
             [
              0.5555555555555556,
              "#d8576b"
             ],
             [
              0.6666666666666666,
              "#ed7953"
             ],
             [
              0.7777777777777778,
              "#fb9f3a"
             ],
             [
              0.8888888888888888,
              "#fdca26"
             ],
             [
              1,
              "#f0f921"
             ]
            ],
            "type": "contour"
           }
          ],
          "contourcarpet": [
           {
            "colorbar": {
             "outlinewidth": 0,
             "ticks": ""
            },
            "type": "contourcarpet"
           }
          ],
          "heatmap": [
           {
            "colorbar": {
             "outlinewidth": 0,
             "ticks": ""
            },
            "colorscale": [
             [
              0,
              "#0d0887"
             ],
             [
              0.1111111111111111,
              "#46039f"
             ],
             [
              0.2222222222222222,
              "#7201a8"
             ],
             [
              0.3333333333333333,
              "#9c179e"
             ],
             [
              0.4444444444444444,
              "#bd3786"
             ],
             [
              0.5555555555555556,
              "#d8576b"
             ],
             [
              0.6666666666666666,
              "#ed7953"
             ],
             [
              0.7777777777777778,
              "#fb9f3a"
             ],
             [
              0.8888888888888888,
              "#fdca26"
             ],
             [
              1,
              "#f0f921"
             ]
            ],
            "type": "heatmap"
           }
          ],
          "heatmapgl": [
           {
            "colorbar": {
             "outlinewidth": 0,
             "ticks": ""
            },
            "colorscale": [
             [
              0,
              "#0d0887"
             ],
             [
              0.1111111111111111,
              "#46039f"
             ],
             [
              0.2222222222222222,
              "#7201a8"
             ],
             [
              0.3333333333333333,
              "#9c179e"
             ],
             [
              0.4444444444444444,
              "#bd3786"
             ],
             [
              0.5555555555555556,
              "#d8576b"
             ],
             [
              0.6666666666666666,
              "#ed7953"
             ],
             [
              0.7777777777777778,
              "#fb9f3a"
             ],
             [
              0.8888888888888888,
              "#fdca26"
             ],
             [
              1,
              "#f0f921"
             ]
            ],
            "type": "heatmapgl"
           }
          ],
          "histogram": [
           {
            "marker": {
             "pattern": {
              "fillmode": "overlay",
              "size": 10,
              "solidity": 0.2
             }
            },
            "type": "histogram"
           }
          ],
          "histogram2d": [
           {
            "colorbar": {
             "outlinewidth": 0,
             "ticks": ""
            },
            "colorscale": [
             [
              0,
              "#0d0887"
             ],
             [
              0.1111111111111111,
              "#46039f"
             ],
             [
              0.2222222222222222,
              "#7201a8"
             ],
             [
              0.3333333333333333,
              "#9c179e"
             ],
             [
              0.4444444444444444,
              "#bd3786"
             ],
             [
              0.5555555555555556,
              "#d8576b"
             ],
             [
              0.6666666666666666,
              "#ed7953"
             ],
             [
              0.7777777777777778,
              "#fb9f3a"
             ],
             [
              0.8888888888888888,
              "#fdca26"
             ],
             [
              1,
              "#f0f921"
             ]
            ],
            "type": "histogram2d"
           }
          ],
          "histogram2dcontour": [
           {
            "colorbar": {
             "outlinewidth": 0,
             "ticks": ""
            },
            "colorscale": [
             [
              0,
              "#0d0887"
             ],
             [
              0.1111111111111111,
              "#46039f"
             ],
             [
              0.2222222222222222,
              "#7201a8"
             ],
             [
              0.3333333333333333,
              "#9c179e"
             ],
             [
              0.4444444444444444,
              "#bd3786"
             ],
             [
              0.5555555555555556,
              "#d8576b"
             ],
             [
              0.6666666666666666,
              "#ed7953"
             ],
             [
              0.7777777777777778,
              "#fb9f3a"
             ],
             [
              0.8888888888888888,
              "#fdca26"
             ],
             [
              1,
              "#f0f921"
             ]
            ],
            "type": "histogram2dcontour"
           }
          ],
          "mesh3d": [
           {
            "colorbar": {
             "outlinewidth": 0,
             "ticks": ""
            },
            "type": "mesh3d"
           }
          ],
          "parcoords": [
           {
            "line": {
             "colorbar": {
              "outlinewidth": 0,
              "ticks": ""
             }
            },
            "type": "parcoords"
           }
          ],
          "pie": [
           {
            "automargin": true,
            "type": "pie"
           }
          ],
          "scatter": [
           {
            "fillpattern": {
             "fillmode": "overlay",
             "size": 10,
             "solidity": 0.2
            },
            "type": "scatter"
           }
          ],
          "scatter3d": [
           {
            "line": {
             "colorbar": {
              "outlinewidth": 0,
              "ticks": ""
             }
            },
            "marker": {
             "colorbar": {
              "outlinewidth": 0,
              "ticks": ""
             }
            },
            "type": "scatter3d"
           }
          ],
          "scattercarpet": [
           {
            "marker": {
             "colorbar": {
              "outlinewidth": 0,
              "ticks": ""
             }
            },
            "type": "scattercarpet"
           }
          ],
          "scattergeo": [
           {
            "marker": {
             "colorbar": {
              "outlinewidth": 0,
              "ticks": ""
             }
            },
            "type": "scattergeo"
           }
          ],
          "scattergl": [
           {
            "marker": {
             "colorbar": {
              "outlinewidth": 0,
              "ticks": ""
             }
            },
            "type": "scattergl"
           }
          ],
          "scattermapbox": [
           {
            "marker": {
             "colorbar": {
              "outlinewidth": 0,
              "ticks": ""
             }
            },
            "type": "scattermapbox"
           }
          ],
          "scatterpolar": [
           {
            "marker": {
             "colorbar": {
              "outlinewidth": 0,
              "ticks": ""
             }
            },
            "type": "scatterpolar"
           }
          ],
          "scatterpolargl": [
           {
            "marker": {
             "colorbar": {
              "outlinewidth": 0,
              "ticks": ""
             }
            },
            "type": "scatterpolargl"
           }
          ],
          "scatterternary": [
           {
            "marker": {
             "colorbar": {
              "outlinewidth": 0,
              "ticks": ""
             }
            },
            "type": "scatterternary"
           }
          ],
          "surface": [
           {
            "colorbar": {
             "outlinewidth": 0,
             "ticks": ""
            },
            "colorscale": [
             [
              0,
              "#0d0887"
             ],
             [
              0.1111111111111111,
              "#46039f"
             ],
             [
              0.2222222222222222,
              "#7201a8"
             ],
             [
              0.3333333333333333,
              "#9c179e"
             ],
             [
              0.4444444444444444,
              "#bd3786"
             ],
             [
              0.5555555555555556,
              "#d8576b"
             ],
             [
              0.6666666666666666,
              "#ed7953"
             ],
             [
              0.7777777777777778,
              "#fb9f3a"
             ],
             [
              0.8888888888888888,
              "#fdca26"
             ],
             [
              1,
              "#f0f921"
             ]
            ],
            "type": "surface"
           }
          ],
          "table": [
           {
            "cells": {
             "fill": {
              "color": "#EBF0F8"
             },
             "line": {
              "color": "white"
             }
            },
            "header": {
             "fill": {
              "color": "#C8D4E3"
             },
             "line": {
              "color": "white"
             }
            },
            "type": "table"
           }
          ]
         },
         "layout": {
          "annotationdefaults": {
           "arrowcolor": "#2a3f5f",
           "arrowhead": 0,
           "arrowwidth": 1
          },
          "autotypenumbers": "strict",
          "coloraxis": {
           "colorbar": {
            "outlinewidth": 0,
            "ticks": ""
           }
          },
          "colorscale": {
           "diverging": [
            [
             0,
             "#8e0152"
            ],
            [
             0.1,
             "#c51b7d"
            ],
            [
             0.2,
             "#de77ae"
            ],
            [
             0.3,
             "#f1b6da"
            ],
            [
             0.4,
             "#fde0ef"
            ],
            [
             0.5,
             "#f7f7f7"
            ],
            [
             0.6,
             "#e6f5d0"
            ],
            [
             0.7,
             "#b8e186"
            ],
            [
             0.8,
             "#7fbc41"
            ],
            [
             0.9,
             "#4d9221"
            ],
            [
             1,
             "#276419"
            ]
           ],
           "sequential": [
            [
             0,
             "#0d0887"
            ],
            [
             0.1111111111111111,
             "#46039f"
            ],
            [
             0.2222222222222222,
             "#7201a8"
            ],
            [
             0.3333333333333333,
             "#9c179e"
            ],
            [
             0.4444444444444444,
             "#bd3786"
            ],
            [
             0.5555555555555556,
             "#d8576b"
            ],
            [
             0.6666666666666666,
             "#ed7953"
            ],
            [
             0.7777777777777778,
             "#fb9f3a"
            ],
            [
             0.8888888888888888,
             "#fdca26"
            ],
            [
             1,
             "#f0f921"
            ]
           ],
           "sequentialminus": [
            [
             0,
             "#0d0887"
            ],
            [
             0.1111111111111111,
             "#46039f"
            ],
            [
             0.2222222222222222,
             "#7201a8"
            ],
            [
             0.3333333333333333,
             "#9c179e"
            ],
            [
             0.4444444444444444,
             "#bd3786"
            ],
            [
             0.5555555555555556,
             "#d8576b"
            ],
            [
             0.6666666666666666,
             "#ed7953"
            ],
            [
             0.7777777777777778,
             "#fb9f3a"
            ],
            [
             0.8888888888888888,
             "#fdca26"
            ],
            [
             1,
             "#f0f921"
            ]
           ]
          },
          "colorway": [
           "#636efa",
           "#EF553B",
           "#00cc96",
           "#ab63fa",
           "#FFA15A",
           "#19d3f3",
           "#FF6692",
           "#B6E880",
           "#FF97FF",
           "#FECB52"
          ],
          "font": {
           "color": "#2a3f5f"
          },
          "geo": {
           "bgcolor": "white",
           "lakecolor": "white",
           "landcolor": "#E5ECF6",
           "showlakes": true,
           "showland": true,
           "subunitcolor": "white"
          },
          "hoverlabel": {
           "align": "left"
          },
          "hovermode": "closest",
          "mapbox": {
           "style": "light"
          },
          "paper_bgcolor": "white",
          "plot_bgcolor": "#E5ECF6",
          "polar": {
           "angularaxis": {
            "gridcolor": "white",
            "linecolor": "white",
            "ticks": ""
           },
           "bgcolor": "#E5ECF6",
           "radialaxis": {
            "gridcolor": "white",
            "linecolor": "white",
            "ticks": ""
           }
          },
          "scene": {
           "xaxis": {
            "backgroundcolor": "#E5ECF6",
            "gridcolor": "white",
            "gridwidth": 2,
            "linecolor": "white",
            "showbackground": true,
            "ticks": "",
            "zerolinecolor": "white"
           },
           "yaxis": {
            "backgroundcolor": "#E5ECF6",
            "gridcolor": "white",
            "gridwidth": 2,
            "linecolor": "white",
            "showbackground": true,
            "ticks": "",
            "zerolinecolor": "white"
           },
           "zaxis": {
            "backgroundcolor": "#E5ECF6",
            "gridcolor": "white",
            "gridwidth": 2,
            "linecolor": "white",
            "showbackground": true,
            "ticks": "",
            "zerolinecolor": "white"
           }
          },
          "shapedefaults": {
           "line": {
            "color": "#2a3f5f"
           }
          },
          "ternary": {
           "aaxis": {
            "gridcolor": "white",
            "linecolor": "white",
            "ticks": ""
           },
           "baxis": {
            "gridcolor": "white",
            "linecolor": "white",
            "ticks": ""
           },
           "bgcolor": "#E5ECF6",
           "caxis": {
            "gridcolor": "white",
            "linecolor": "white",
            "ticks": ""
           }
          },
          "title": {
           "x": 0.05
          },
          "xaxis": {
           "automargin": true,
           "gridcolor": "white",
           "linecolor": "white",
           "ticks": "",
           "title": {
            "standoff": 15
           },
           "zerolinecolor": "white",
           "zerolinewidth": 2
          },
          "yaxis": {
           "automargin": true,
           "gridcolor": "white",
           "linecolor": "white",
           "ticks": "",
           "title": {
            "standoff": 15
           },
           "zerolinecolor": "white",
           "zerolinewidth": 2
          }
         }
        },
        "xaxis": {
         "anchor": "y",
         "domain": [
          0,
          1
         ],
         "title": {
          "text": "genre_discogs"
         }
        },
        "yaxis": {
         "anchor": "x",
         "domain": [
          0,
          1
         ],
         "title": {
          "text": "percentage"
         }
        }
       }
      }
     },
     "metadata": {},
     "output_type": "display_data"
    }
   ],
   "source": [
    "# Count the number of songs with lyrics per genre\n",
    "lyrics_per_genre = f_stats.groupby(\"genre_discogs\")['lyrics_bool'].value_counts().reset_index(name=\"count\")\n",
    "\n",
    "# Express the count as a percentage of the total number of songs per genre\n",
    "lyrics_per_genre[\"percentage\"] = lyrics_per_genre.groupby(\"genre_discogs\")[\"count\"].apply(lambda x: x * 100 / x.sum())\n",
    "\n",
    "# Plot the number of songs with lyrics per genre\n",
    "fig = px.bar(lyrics_per_genre, x=\"genre_discogs\", y=\"percentage\", color='lyrics_bool')\n",
    "fig.show()\n"
   ]
  }
 ],
 "metadata": {
  "kernelspec": {
   "display_name": "Python 3.8.13 ('jam')",
   "language": "python",
   "name": "python3"
  },
  "language_info": {
   "codemirror_mode": {
    "name": "ipython",
    "version": 3
   },
   "file_extension": ".py",
   "mimetype": "text/x-python",
   "name": "python",
   "nbconvert_exporter": "python",
   "pygments_lexer": "ipython3",
   "version": "3.8.13"
  },
  "orig_nbformat": 4,
  "vscode": {
   "interpreter": {
    "hash": "bce94098af87f1b13e78b3da743513e2cb4949eb66f6d16f8ca4bcac995199df"
   }
  }
 },
 "nbformat": 4,
 "nbformat_minor": 2
}
