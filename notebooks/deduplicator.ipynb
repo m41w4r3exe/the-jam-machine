{
 "cells": [
  {
   "cell_type": "code",
   "execution_count": 164,
   "metadata": {},
   "outputs": [],
   "source": [
    "from fuzzywuzzy import fuzz\n",
    "import re\n",
    "import pandas as pd\n",
    "\n",
    "# load the data frame\n",
    "input_path = \"../data/music_picks/model_statistics.csv\"\n",
    "df = pd.read_csv(input_path)\n",
    "\n",
    "# rename artist and title column to artist_old and title_old\n",
    "df.rename(columns={\"artist\": \"artist_old\"}, inplace=True)\n",
    "df.rename(columns={\"title\": \"title_old\"}, inplace=True)\n",
    "\n",
    "def string_cleaner(string):\n",
    "    # remove unwanted characters from string\n",
    "    unwanted_characters = [',', '_', '\\n']\n",
    "    string = re.sub('|'.join(unwanted_characters), '', string)\n",
    "    # remove numbers within parentheses from string\n",
    "    string = re.sub(r'\\([^)]*\\)', '', string)\n",
    "    # remove numbers directly after a dot from string\n",
    "    string = re.sub(r'\\.\\d+', '', string)\n",
    "    # insert spaces between words of a string written in camel case\n",
    "    string = re.sub(r'(?<!^)(?=[A-Z])', ' ', string)\n",
    "    return string\n",
    "\n",
    "# compare strings in the list sequentially and return a list of the same size with the replaces values\n",
    "def find_and_replace_duplicates(str_list, threshold=75):\n",
    "    # clean the list of strings\n",
    "    str_list = [string_cleaner(string) for string in str_list]\n",
    "    # create a list with the same size as the input list\n",
    "    similar_strs = [None] * len(str_list)\n",
    "    for i, s in enumerate(str_list):\n",
    "        if similar_strs[i] is None and not ',' in s and not any([fuzz.partial_ratio(s, wrong_str) > threshold for wrong_str in ['karaoke', 'reprise', 'solo', 'acoustic']]):\n",
    "            # if the string has not been compared yet, compare it to all the other strings\n",
    "            for j, other_strs in enumerate(str_list):\n",
    "                if similar_strs[j] is None:\n",
    "                    # if the other string has not been compared yet, compare them\n",
    "                    if fuzz.token_sort_ratio(s, other_strs) > threshold:\n",
    "                        # if the ratio is above 80, store the other string in the list\n",
    "                        similar_strs[j] = s\n",
    "    # if similar_strs still contains None values, replace them with the original string\n",
    "    similar_strs = [s if s is not None else str_list[i] for i, s in enumerate(similar_strs)]\n",
    "    return similar_strs\n",
    "\n",
    "# find unique artists and replace duplicates\n",
    "unique_artists = df[\"artist_old\"].unique()\n",
    "similar_artists = find_and_replace_duplicates(unique_artists)\n",
    "\n",
    "# create a dataframe with the unique artists and the similar artists\n",
    "df_artists = pd.DataFrame({\"artist_old\": unique_artists, \"artist_new\": similar_artists})\n",
    "\n",
    "# replace artists in the original dataframe\n",
    "df[\"artist\"] = df[\"artist_old\"].replace(df_artists.set_index(\"artist_old\")[\"artist_new\"])\n",
    "\n",
    "# find unique titles and replace duplicates\n",
    "for artist in df[\"artist_old\"].unique():\n",
    "    # select all tracks by the artist\n",
    "    df_temp = df[df[\"artist_old\"] == artist]\n",
    "\n",
    "    # create list of similar titles\n",
    "    unique_titles = df_temp[\"title_old\"]\n",
    "    similar_titles = find_and_replace_duplicates(unique_titles)\n",
    "\n",
    "    # create a dataframe with the unique titles and the similar titles\n",
    "    df_titles = pd.DataFrame({\"title_old\": unique_titles, \"title_new\": similar_titles}, index=df_temp.index)\n",
    "\n",
    "    # replace values in the original dataframe at the specified index\n",
    "    df.loc[df_titles.index, \"title\"] = df_titles[\"title_new\"] \n"
   ]
  },
  {
   "cell_type": "code",
   "execution_count": null,
   "metadata": {},
   "outputs": [],
   "source": [
    "# export dataframe to csv\n",
    "output_path = \"../data/music_picks/model_statistics_deduplicated.csv\"\n",
    "df.to_csv(output_path, index=False)"
   ]
  },
  {
   "cell_type": "code",
   "execution_count": 162,
   "metadata": {},
   "outputs": [
    {
     "name": "stdout",
     "output_type": "stream",
     "text": [
      "Unique combinations of artist and title in the original data frame: 4687\n",
      "Unique combinations of artist and title in the cleaned data frame: 2733\n"
     ]
    }
   ],
   "source": [
    "# count unique combinations of artist and title for old and current data\n",
    "print('Unique combinations of artist and title in the original data frame: {}'.format(df[['artist_old', 'title_old']].drop_duplicates().shape[0]))\n",
    "print('Unique combinations of artist and title in the cleaned data frame: {}'.format(df[['artist', 'title']].drop_duplicates().shape[0]))"
   ]
  }
 ],
 "metadata": {
  "kernelspec": {
   "display_name": "Python 3.8.13 ('jam')",
   "language": "python",
   "name": "python3"
  },
  "language_info": {
   "codemirror_mode": {
    "name": "ipython",
    "version": 3
   },
   "file_extension": ".py",
   "mimetype": "text/x-python",
   "name": "python",
   "nbconvert_exporter": "python",
   "pygments_lexer": "ipython3",
   "version": "3.10.8"
  },
  "orig_nbformat": 4,
  "vscode": {
   "interpreter": {
    "hash": "bce94098af87f1b13e78b3da743513e2cb4949eb66f6d16f8ca4bcac995199df"
   }
  }
 },
 "nbformat": 4,
 "nbformat_minor": 2
}
