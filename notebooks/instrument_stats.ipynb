{
 "cells": [
  {
   "attachments": {},
   "cell_type": "markdown",
   "metadata": {},
   "source": [
    "# Computing the frequency stats of each instrument\n",
    "\n"
   ]
  },
  {
   "cell_type": "code",
   "execution_count": 1,
   "metadata": {},
   "outputs": [
    {
     "data": {
      "text/html": [
       "<div>\n",
       "<style scoped>\n",
       "    .dataframe tbody tr th:only-of-type {\n",
       "        vertical-align: middle;\n",
       "    }\n",
       "\n",
       "    .dataframe tbody tr th {\n",
       "        vertical-align: top;\n",
       "    }\n",
       "\n",
       "    .dataframe thead th {\n",
       "        text-align: right;\n",
       "    }\n",
       "</style>\n",
       "<table border=\"1\" class=\"dataframe\">\n",
       "  <thead>\n",
       "    <tr style=\"text-align: right;\">\n",
       "      <th></th>\n",
       "      <th>md5</th>\n",
       "      <th>n_instruments</th>\n",
       "      <th>n_unique_instruments</th>\n",
       "      <th>instrument_names</th>\n",
       "      <th>instrument_families</th>\n",
       "      <th>number_of_instrument_families</th>\n",
       "      <th>n_notes</th>\n",
       "      <th>n_unique_notes</th>\n",
       "      <th>average_n_unique_notes_per_instrument</th>\n",
       "      <th>average_note_duration</th>\n",
       "      <th>...</th>\n",
       "      <th>four_to_the_floor</th>\n",
       "      <th>n_time_signature_changes</th>\n",
       "      <th>track_length_in_seconds</th>\n",
       "      <th>lyrics_nb_words</th>\n",
       "      <th>lyrics_unique_words</th>\n",
       "      <th>lyrics_bool</th>\n",
       "      <th>artist</th>\n",
       "      <th>title</th>\n",
       "      <th>genre</th>\n",
       "      <th>source</th>\n",
       "    </tr>\n",
       "  </thead>\n",
       "  <tbody>\n",
       "    <tr>\n",
       "      <th>0</th>\n",
       "      <td>83834e5dbc0490e99c560c28325ececf</td>\n",
       "      <td>9</td>\n",
       "      <td>5</td>\n",
       "      <td>[['Acoustic Guitar (steel)', 'Pad 1 (new age)'...</td>\n",
       "      <td>[['Guitar', 'Reed', 'Synth Effects', 'Synth Pa...</td>\n",
       "      <td>4</td>\n",
       "      <td>3134</td>\n",
       "      <td>30</td>\n",
       "      <td>5.666667</td>\n",
       "      <td>0.307965</td>\n",
       "      <td>...</td>\n",
       "      <td>True</td>\n",
       "      <td>1.0</td>\n",
       "      <td>215.062748</td>\n",
       "      <td>NaN</td>\n",
       "      <td>NaN</td>\n",
       "      <td>False</td>\n",
       "      <td>Depeche Mode</td>\n",
       "      <td>Dreaming of Me.1</td>\n",
       "      <td>alternative-indie</td>\n",
       "      <td>electronic</td>\n",
       "    </tr>\n",
       "    <tr>\n",
       "      <th>1</th>\n",
       "      <td>993add9109fc380a30214a2753a78773</td>\n",
       "      <td>6</td>\n",
       "      <td>4</td>\n",
       "      <td>[['Acoustic Grand Piano', 'Distortion Guitar',...</td>\n",
       "      <td>[['Synth Lead', 'Piano', 'Guitar', 'Bass']]</td>\n",
       "      <td>4</td>\n",
       "      <td>1319</td>\n",
       "      <td>22</td>\n",
       "      <td>5.333333</td>\n",
       "      <td>0.243039</td>\n",
       "      <td>...</td>\n",
       "      <td>True</td>\n",
       "      <td>1.0</td>\n",
       "      <td>99.400000</td>\n",
       "      <td>NaN</td>\n",
       "      <td>NaN</td>\n",
       "      <td>False</td>\n",
       "      <td>Gorillaz</td>\n",
       "      <td>Punk</td>\n",
       "      <td>pop</td>\n",
       "      <td>electronic</td>\n",
       "    </tr>\n",
       "    <tr>\n",
       "      <th>2</th>\n",
       "      <td>8172e8b45ddd610f5dadf533ce057582</td>\n",
       "      <td>7</td>\n",
       "      <td>4</td>\n",
       "      <td>[['Lead 5 (charang)', 'Acoustic Grand Piano', ...</td>\n",
       "      <td>[['Ensemble', 'Bass', 'Piano', 'Synth Lead']]</td>\n",
       "      <td>4</td>\n",
       "      <td>3320</td>\n",
       "      <td>21</td>\n",
       "      <td>5.142857</td>\n",
       "      <td>0.293524</td>\n",
       "      <td>...</td>\n",
       "      <td>True</td>\n",
       "      <td>1.0</td>\n",
       "      <td>256.000000</td>\n",
       "      <td>NaN</td>\n",
       "      <td>NaN</td>\n",
       "      <td>False</td>\n",
       "      <td>Depeche Mode</td>\n",
       "      <td>Photographic</td>\n",
       "      <td>alternative-indie</td>\n",
       "      <td>electronic</td>\n",
       "    </tr>\n",
       "    <tr>\n",
       "      <th>3</th>\n",
       "      <td>e4ac8a50c8d65b94604e0c81778004a9</td>\n",
       "      <td>14</td>\n",
       "      <td>12</td>\n",
       "      <td>[['Pad 3 (polysynth)', 'Synth Drum', 'Pan Flut...</td>\n",
       "      <td>[['Pipe', 'Bass', 'Sound Effects', 'Percussive...</td>\n",
       "      <td>9</td>\n",
       "      <td>5035</td>\n",
       "      <td>35</td>\n",
       "      <td>7.785714</td>\n",
       "      <td>0.279565</td>\n",
       "      <td>...</td>\n",
       "      <td>True</td>\n",
       "      <td>1.0</td>\n",
       "      <td>210.055485</td>\n",
       "      <td>NaN</td>\n",
       "      <td>NaN</td>\n",
       "      <td>False</td>\n",
       "      <td>David Guetta</td>\n",
       "      <td>Without You</td>\n",
       "      <td>dance-eletric</td>\n",
       "      <td>electronic</td>\n",
       "    </tr>\n",
       "    <tr>\n",
       "      <th>4</th>\n",
       "      <td>7e3bdfb46bdc79afc639e1560506c27f</td>\n",
       "      <td>14</td>\n",
       "      <td>13</td>\n",
       "      <td>[['Lead 8 (bass + lead)', 'Reverse Cymbal', 'C...</td>\n",
       "      <td>[['Bass', 'Piano', 'Guitar', 'Synth Lead', 'Or...</td>\n",
       "      <td>9</td>\n",
       "      <td>7433</td>\n",
       "      <td>52</td>\n",
       "      <td>13.428571</td>\n",
       "      <td>0.280949</td>\n",
       "      <td>...</td>\n",
       "      <td>NaN</td>\n",
       "      <td>NaN</td>\n",
       "      <td>314.484621</td>\n",
       "      <td>NaN</td>\n",
       "      <td>NaN</td>\n",
       "      <td>False</td>\n",
       "      <td>Moby</td>\n",
       "      <td>Moby Dick.1</td>\n",
       "      <td>rock</td>\n",
       "      <td>electronic</td>\n",
       "    </tr>\n",
       "  </tbody>\n",
       "</table>\n",
       "<p>5 rows × 37 columns</p>\n",
       "</div>"
      ],
      "text/plain": [
       "                                md5  n_instruments  n_unique_instruments  \\\n",
       "0  83834e5dbc0490e99c560c28325ececf              9                     5   \n",
       "1  993add9109fc380a30214a2753a78773              6                     4   \n",
       "2  8172e8b45ddd610f5dadf533ce057582              7                     4   \n",
       "3  e4ac8a50c8d65b94604e0c81778004a9             14                    12   \n",
       "4  7e3bdfb46bdc79afc639e1560506c27f             14                    13   \n",
       "\n",
       "                                    instrument_names  \\\n",
       "0  [['Acoustic Guitar (steel)', 'Pad 1 (new age)'...   \n",
       "1  [['Acoustic Grand Piano', 'Distortion Guitar',...   \n",
       "2  [['Lead 5 (charang)', 'Acoustic Grand Piano', ...   \n",
       "3  [['Pad 3 (polysynth)', 'Synth Drum', 'Pan Flut...   \n",
       "4  [['Lead 8 (bass + lead)', 'Reverse Cymbal', 'C...   \n",
       "\n",
       "                                 instrument_families  \\\n",
       "0  [['Guitar', 'Reed', 'Synth Effects', 'Synth Pa...   \n",
       "1        [['Synth Lead', 'Piano', 'Guitar', 'Bass']]   \n",
       "2      [['Ensemble', 'Bass', 'Piano', 'Synth Lead']]   \n",
       "3  [['Pipe', 'Bass', 'Sound Effects', 'Percussive...   \n",
       "4  [['Bass', 'Piano', 'Guitar', 'Synth Lead', 'Or...   \n",
       "\n",
       "   number_of_instrument_families  n_notes  n_unique_notes  \\\n",
       "0                              4     3134              30   \n",
       "1                              4     1319              22   \n",
       "2                              4     3320              21   \n",
       "3                              9     5035              35   \n",
       "4                              9     7433              52   \n",
       "\n",
       "   average_n_unique_notes_per_instrument  average_note_duration  ...  \\\n",
       "0                               5.666667               0.307965  ...   \n",
       "1                               5.333333               0.243039  ...   \n",
       "2                               5.142857               0.293524  ...   \n",
       "3                               7.785714               0.279565  ...   \n",
       "4                              13.428571               0.280949  ...   \n",
       "\n",
       "   four_to_the_floor  n_time_signature_changes  track_length_in_seconds  \\\n",
       "0               True                       1.0               215.062748   \n",
       "1               True                       1.0                99.400000   \n",
       "2               True                       1.0               256.000000   \n",
       "3               True                       1.0               210.055485   \n",
       "4                NaN                       NaN               314.484621   \n",
       "\n",
       "   lyrics_nb_words  lyrics_unique_words  lyrics_bool        artist  \\\n",
       "0              NaN                  NaN        False  Depeche Mode   \n",
       "1              NaN                  NaN        False      Gorillaz   \n",
       "2              NaN                  NaN        False  Depeche Mode   \n",
       "3              NaN                  NaN        False  David Guetta   \n",
       "4              NaN                  NaN        False          Moby   \n",
       "\n",
       "              title              genre      source  \n",
       "0  Dreaming of Me.1  alternative-indie  electronic  \n",
       "1              Punk                pop  electronic  \n",
       "2      Photographic  alternative-indie  electronic  \n",
       "3       Without You      dance-eletric  electronic  \n",
       "4       Moby Dick.1               rock  electronic  \n",
       "\n",
       "[5 rows x 37 columns]"
      ]
     },
     "execution_count": 1,
     "metadata": {},
     "output_type": "execute_result"
    }
   ],
   "source": [
    "import pandas as pd\n",
    "\n",
    "# open model_statistics file\n",
    "path = '../data/music_picks/model_statistics.csv'\n",
    "stats = pd.read_csv(path)\n",
    "\n",
    "stats.head(5)"
   ]
  },
  {
   "attachments": {},
   "cell_type": "markdown",
   "metadata": {},
   "source": [
    "## MIDI statistics"
   ]
  },
  {
   "attachments": {},
   "cell_type": "markdown",
   "metadata": {},
   "source": [
    "### Instruments"
   ]
  },
  {
   "attachments": {},
   "cell_type": "markdown",
   "metadata": {},
   "source": [
    "#### Individual instruments"
   ]
  },
  {
   "cell_type": "code",
   "execution_count": 2,
   "metadata": {},
   "outputs": [
    {
     "data": {
      "text/plain": [
       "Acoustic Grand Piano       4289\n",
       "Electric Bass (finger)     2191\n",
       "Distortion Guitar          1838\n",
       "Overdriven Guitar          1588\n",
       "Electric Guitar (clean)    1430\n",
       "                           ... \n",
       "Bagpipe                      26\n",
       "Dulcimer                     26\n",
       "Tinkle Bell                  20\n",
       "Shanai                       20\n",
       "Fiddle                       13\n",
       "Length: 128, dtype: int64"
      ]
     },
     "execution_count": 2,
     "metadata": {},
     "output_type": "execute_result"
    }
   ],
   "source": [
    "# turn strings into lists\n",
    "inst = stats.instrument_names.map(lambda x: eval(x)[0])\n",
    "# turn a list of lists into a single list\n",
    "inst_list = [item for sublist in inst for item in sublist]\n",
    "pd.Series(inst_list).value_counts()"
   ]
  },
  {
   "attachments": {},
   "cell_type": "markdown",
   "metadata": {},
   "source": [
    "#### Combinations of instruments"
   ]
  },
  {
   "cell_type": "code",
   "execution_count": 3,
   "metadata": {},
   "outputs": [
    {
     "data": {
      "text/plain": [
       "[Acoustic Grand Piano]                                                                                                                    103\n",
       "[Acoustic Guitar (steel)]                                                                                                                  63\n",
       "[Acoustic Grand Piano, Distortion Guitar, Electric Bass (finger)]                                                                          60\n",
       "[Acoustic Grand Piano, Distortion Guitar, Electric Bass (pick)]                                                                            57\n",
       "[Distortion Guitar]                                                                                                                        55\n",
       "                                                                                                                                         ... \n",
       "[Acoustic Guitar (steel), Distortion Guitar, Electric Bass (pick), Glockenspiel]                                                            1\n",
       "[Acoustic Grand Piano, Electric Bass (finger), Electric Grand Piano, Electric Guitar (clean), Harmonica, Kalimba, Viola]                    1\n",
       "[Acoustic Grand Piano, Acoustic Guitar (nylon), Electric Guitar (jazz)]                                                                     1\n",
       "[Accordion, Acoustic Bass, Acoustic Grand Piano, Acoustic Guitar (steel), Choir Aahs, Overdriven Guitar, Violin]                            1\n",
       "[Bright Acoustic Piano, Celesta, Choir Aahs, Electric Bass (finger), Electric Piano 2, Reverse Cymbal, String Ensemble 2, Synth Choir]      1\n",
       "Length: 4144, dtype: int64"
      ]
     },
     "execution_count": 3,
     "metadata": {},
     "output_type": "execute_result"
    }
   ],
   "source": [
    "inst = stats.instrument_names.map(lambda x: eval(x)[0]).to_list()\n",
    "for i in inst:\n",
    "    i.sort()\n",
    "pd.Series(inst).value_counts()"
   ]
  },
  {
   "attachments": {},
   "cell_type": "markdown",
   "metadata": {},
   "source": [
    "### Families"
   ]
  },
  {
   "attachments": {},
   "cell_type": "markdown",
   "metadata": {},
   "source": [
    "#### Individual families"
   ]
  },
  {
   "cell_type": "code",
   "execution_count": 4,
   "metadata": {},
   "outputs": [
    {
     "data": {
      "text/plain": [
       "Guitar                  4772\n",
       "Piano                   4668\n",
       "Bass                    4560\n",
       "Ensemble                2640\n",
       "Reed                    1395\n",
       "Synth Lead              1380\n",
       "Organ                   1158\n",
       "Brass                   1116\n",
       "Synth Pad                956\n",
       "Pipe                     829\n",
       "Chromatic Percussion     702\n",
       "Strings                  697\n",
       "Percussive               691\n",
       "Sound Effects            540\n",
       "Synth Effects            532\n",
       "Ethnic                   284\n",
       "dtype: int64"
      ]
     },
     "execution_count": 4,
     "metadata": {},
     "output_type": "execute_result"
    }
   ],
   "source": [
    "# turn strings into lists\n",
    "fam = stats.instrument_families.map(lambda x: eval(x)[0])\n",
    "# turn a list of lists into a single list\n",
    "fam_list = [item for sublist in fam for item in sublist]\n",
    "pd.Series(fam_list).value_counts()"
   ]
  },
  {
   "attachments": {},
   "cell_type": "markdown",
   "metadata": {},
   "source": [
    "#### Combinations of families"
   ]
  },
  {
   "cell_type": "code",
   "execution_count": 5,
   "metadata": {},
   "outputs": [
    {
     "data": {
      "text/plain": [
       "[Bass, Guitar, Piano]                                                                                              633\n",
       "[Guitar]                                                                                                           378\n",
       "[Bass, Guitar]                                                                                                     149\n",
       "[Bass, Ensemble, Guitar, Piano]                                                                                    143\n",
       "[Bass, Guitar, Piano, Reed]                                                                                        125\n",
       "                                                                                                                  ... \n",
       "[Bass, Chromatic Percussion, Ensemble, Percussive, Piano, Synth Effects, Synth Lead, Synth Pad]                      1\n",
       "[Ensemble, Guitar, Percussive, Piano, Pipe, Reed]                                                                    1\n",
       "[Bass, Brass, Chromatic Percussion, Organ, Piano, Sound Effects, Strings, Synth Effects, Synth Lead, Synth Pad]      1\n",
       "[Bass, Guitar, Organ, Piano, Reed, Sound Effects, Synth Effects, Synth Pad]                                          1\n",
       "[Bass, Chromatic Percussion, Ensemble, Percussive, Piano]                                                            1\n",
       "Length: 1575, dtype: int64"
      ]
     },
     "execution_count": 5,
     "metadata": {},
     "output_type": "execute_result"
    }
   ],
   "source": [
    "fam = stats.instrument_families.map(lambda x: eval(x)[0]).to_list()\n",
    "for f in fam:\n",
    "    f.sort()\n",
    "pd.Series(fam).value_counts()"
   ]
  },
  {
   "attachments": {},
   "cell_type": "markdown",
   "metadata": {},
   "source": [
    "## Token statistics"
   ]
  },
  {
   "cell_type": "code",
   "execution_count": 6,
   "metadata": {},
   "outputs": [
    {
     "name": "stdout",
     "output_type": "stream",
     "text": [
      "unzip took 2.35 seconds to run.\n"
     ]
    }
   ],
   "source": [
    "# load tokenized data\n",
    "\n",
    "# define paths\n",
    "from pathlib import Path\n",
    "input_path = Path('/Users/louis.demetz/Documents/Code/the-jam-machine/data/dsr_mmmtrack_8bars_d-2048/validate')\n",
    "output_path = input_path\n",
    "\n",
    "# change sys path\n",
    "import sys\n",
    "sys.path.append('/Users/louis.demetz/Documents/Code/the-jam-machine')\n",
    "\n",
    "# unzip files\n",
    "from source.utils import FileCompressor\n",
    "fc = FileCompressor(input_path, output_path)\n",
    "fc.unzip()\n",
    "\n",
    "# load text files\n",
    "from source.utils import get_files\n",
    "files = get_files(input_path, extension='txt')\n",
    "files = [f for f in files if str(f.stem).startswith('token')]\n",
    "files\n",
    "\n",
    "# Load all tokenized text files into a single list of strings\n",
    "data = []\n",
    "for f in files:\n",
    "    with open(f, 'r') as f:\n",
    "        d = [line.rstrip() for line in f]\n",
    "        data += d\n",
    "\n",
    "# Extract individual instruments and grouped instruments\n",
    "single_instruments = []\n",
    "grouped_instruments = []\n",
    "for sequence in data:\n",
    "    sequence = sequence.split()\n",
    "    split = [token for token in sequence if token.startswith('INST')]\n",
    "    single_instruments += split\n",
    "    grouped_instruments.append(split)"
   ]
  },
  {
   "attachments": {},
   "cell_type": "markdown",
   "metadata": {},
   "source": [
    "### Instruments"
   ]
  },
  {
   "attachments": {},
   "cell_type": "markdown",
   "metadata": {},
   "source": [
    "#### Individual instruments"
   ]
  },
  {
   "cell_type": "code",
   "execution_count": 7,
   "metadata": {},
   "outputs": [
    {
     "data": {
      "text/plain": [
       "INST=DRUMS    3504\n",
       "INST=30       1480\n",
       "INST=0        1438\n",
       "INST=27       1364\n",
       "INST=33       1311\n",
       "              ... \n",
       "INST=50          6\n",
       "INST=22          6\n",
       "INST=10          6\n",
       "INST=125         6\n",
       "INST=88          5\n",
       "Length: 76, dtype: int64"
      ]
     },
     "execution_count": 7,
     "metadata": {},
     "output_type": "execute_result"
    }
   ],
   "source": [
    "# count individual instruments\n",
    "import pandas as pd\n",
    "pd.Series(single_instruments).value_counts()"
   ]
  },
  {
   "attachments": {},
   "cell_type": "markdown",
   "metadata": {},
   "source": [
    "#### Combinations of instruments"
   ]
  },
  {
   "cell_type": "code",
   "execution_count": 8,
   "metadata": {},
   "outputs": [
    {
     "data": {
      "text/plain": [
       "[INST=24, INST=24, INST=DRUMS]                                                 197\n",
       "[INST=27, INST=27, INST=DRUMS]                                                 187\n",
       "[INST=27, INST=27]                                                             145\n",
       "[INST=33, INST=61, INST=67, INST=DRUMS]                                         93\n",
       "[INST=0, INST=0, INST=DRUMS]                                                    93\n",
       "                                                                              ... \n",
       "[INST=0, INST=18, INST=29, INST=30, INST=35, INST=73, INST=DRUMS]                1\n",
       "[INST=1, INST=27, INST=27, INST=33, INST=4, INST=53, INST=73, INST=DRUMS]        1\n",
       "[INST=25, INST=25, INST=29, INST=30, INST=30, INST=33, INST=54, INST=DRUMS]      1\n",
       "[INST=29, INST=30, INST=33, INST=54, INST=DRUMS]                                 1\n",
       "[INST=18, INST=29, INST=49, INST=DRUMS]                                          1\n",
       "Length: 374, dtype: int64"
      ]
     },
     "execution_count": 8,
     "metadata": {},
     "output_type": "execute_result"
    }
   ],
   "source": [
    "for i in grouped_instruments:\n",
    "    i.sort()\n",
    "pd.Series(grouped_instruments).value_counts()"
   ]
  },
  {
   "attachments": {},
   "cell_type": "markdown",
   "metadata": {},
   "source": [
    "### Families"
   ]
  },
  {
   "cell_type": "code",
   "execution_count": 32,
   "metadata": {},
   "outputs": [],
   "source": [
    "# turn the text files with the instrument numbers into family numbers\n",
    "import sys\n",
    "sys.path.append('/Users/louis.demetz/Documents/Code/the-jam-machine/source')\n",
    "# initialize and configure familizer\n",
    "from source.familizer import Familizer\n",
    "new_data = Familizer()\n",
    "new_data.operation = 'family'\n",
    "familized, single_families, grouped_families = [], [], []\n",
    "\n",
    "for sequence in data:\n",
    "    familized.append(new_data.replace_instrument_in_text(sequence))\n",
    "\n",
    "for sequence in familized:\n",
    "    # familize dataset\n",
    "    # prepare datasets for statistics\n",
    "    sequence = sequence.split()\n",
    "    split = [token for token in sequence if token.startswith('INST')]\n",
    "    single_families += split\n",
    "    grouped_families.append(split)"
   ]
  },
  {
   "attachments": {},
   "cell_type": "markdown",
   "metadata": {},
   "source": [
    "#### Individual families"
   ]
  },
  {
   "cell_type": "code",
   "execution_count": 34,
   "metadata": {},
   "outputs": [
    {
     "data": {
      "text/plain": [
       "INST=3        5390\n",
       "INST=DRUMS    3504\n",
       "INST=4        2498\n",
       "INST=0        1845\n",
       "INST=6        1348\n",
       "INST=8         880\n",
       "INST=7         827\n",
       "INST=9         752\n",
       "INST=10        718\n",
       "INST=11        471\n",
       "INST=5         452\n",
       "INST=14        297\n",
       "INST=2         237\n",
       "INST=12        236\n",
       "INST=1         182\n",
       "INST=15        158\n",
       "dtype: int64"
      ]
     },
     "execution_count": 34,
     "metadata": {},
     "output_type": "execute_result"
    }
   ],
   "source": [
    "pd.Series(single_families).value_counts()"
   ]
  },
  {
   "attachments": {},
   "cell_type": "markdown",
   "metadata": {},
   "source": [
    "#### Combinations of families"
   ]
  },
  {
   "cell_type": "code",
   "execution_count": 35,
   "metadata": {},
   "outputs": [
    {
     "data": {
      "text/plain": [
       "[INST=3, INST=3, INST=DRUMS]                             397\n",
       "[INST=3, INST=3]                                         145\n",
       "[INST=0, INST=0, INST=DRUMS]                              94\n",
       "[INST=4, INST=7, INST=8, INST=DRUMS]                      93\n",
       "[INST=3, INST=4, INST=9, INST=DRUMS]                      84\n",
       "                                                        ... \n",
       "[INST=0, INST=0, INST=0, INST=0, INST=0]                   1\n",
       "[INST=0, INST=0, INST=0, INST=0, INST=0, INST=0]           1\n",
       "[INST=0, INST=3, INST=4, INST=9, INST=DRUMS]               1\n",
       "[INST=0, INST=2, INST=3, INST=3, INST=4, INST=DRUMS]       1\n",
       "[INST=1, INST=15, INST=3, INST=6, INST=9, INST=DRUMS]      1\n",
       "Length: 327, dtype: int64"
      ]
     },
     "execution_count": 35,
     "metadata": {},
     "output_type": "execute_result"
    }
   ],
   "source": [
    "for i in grouped_families:\n",
    "    i.sort()\n",
    "pd.Series(grouped_families).value_counts()"
   ]
  }
 ],
 "metadata": {
  "kernelspec": {
   "display_name": "jam",
   "language": "python",
   "name": "python3"
  },
  "language_info": {
   "codemirror_mode": {
    "name": "ipython",
    "version": 3
   },
   "file_extension": ".py",
   "mimetype": "text/x-python",
   "name": "python",
   "nbconvert_exporter": "python",
   "pygments_lexer": "ipython3",
   "version": "3.10.8"
  },
  "orig_nbformat": 4,
  "vscode": {
   "interpreter": {
    "hash": "bce94098af87f1b13e78b3da743513e2cb4949eb66f6d16f8ca4bcac995199df"
   }
  }
 },
 "nbformat": 4,
 "nbformat_minor": 2
}
