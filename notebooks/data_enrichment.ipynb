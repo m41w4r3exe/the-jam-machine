{
 "cells": [
  {
   "cell_type": "markdown",
   "metadata": {},
   "source": [
    "# Data Enrichment\n",
    "Goal: Use the computed midi statistics on the MMD dataset and provide the following enhancements to the data:\n",
    "- add\n",
    "\t- all discogs\n",
    "\t\t- genre\n",
    "\t\t- subgenre\n",
    "\t- artist name\n",
    "\t- track name\n",
    "- replace\n",
    "\t- instrument numbers with instrument names\n",
    "- recalculate\n",
    "\t- tempo"
   ]
  },
  {
   "cell_type": "code",
   "execution_count": 1,
   "metadata": {},
   "outputs": [],
   "source": [
    "# import necessary libraries\n",
    "import pandas as pd\n",
    "import json\n",
    "import os\n",
    "import pretty_midi\n",
    "\n",
    "# load the stats data\n",
    "stats = pd.read_csv('../data/statistics_v1.csv')\n",
    "\n",
    "# load the jsonl files\n",
    "with open('../data/mmd_matches/MMD_audio_matched_genre.jsonl', 'r') as f:\n",
    "    genre = [json.loads(line) for line in f]\n",
    "\n",
    "with open('../data/mmd_matches/MMD_scraped_title_artist.jsonl', 'r') as f:\n",
    "    names = [json.loads(line) for line in f]\n",
    "\n",
    "with open('../data/mmd_matches/MMD_scraped_genre.jsonl', 'r') as f:\n",
    "    scraped_genre = [json.loads(line) for line in f]"
   ]
  },
  {
   "cell_type": "code",
   "execution_count": 2,
   "metadata": {},
   "outputs": [
    {
     "data": {
      "text/html": [
       "<div>\n",
       "<style scoped>\n",
       "    .dataframe tbody tr th:only-of-type {\n",
       "        vertical-align: middle;\n",
       "    }\n",
       "\n",
       "    .dataframe tbody tr th {\n",
       "        vertical-align: top;\n",
       "    }\n",
       "\n",
       "    .dataframe thead th {\n",
       "        text-align: right;\n",
       "    }\n",
       "</style>\n",
       "<table border=\"1\" class=\"dataframe\">\n",
       "  <thead>\n",
       "    <tr style=\"text-align: right;\">\n",
       "      <th></th>\n",
       "      <th>Unnamed: 0</th>\n",
       "      <th>md5</th>\n",
       "      <th>n_instruments</th>\n",
       "      <th>n_unique_instruments</th>\n",
       "      <th>instruments</th>\n",
       "      <th>instrument_families</th>\n",
       "      <th>number_of_instrument_families</th>\n",
       "      <th>n_notes</th>\n",
       "      <th>n_unique_notes</th>\n",
       "      <th>average_n_unique_notes_per_instrument</th>\n",
       "      <th>...</th>\n",
       "      <th>n_key_changes</th>\n",
       "      <th>n_tempo_changes</th>\n",
       "      <th>tempo_estimate</th>\n",
       "      <th>main_time_signature</th>\n",
       "      <th>n_time_signature_changes</th>\n",
       "      <th>track_length_in_seconds</th>\n",
       "      <th>lyrics_nb_words</th>\n",
       "      <th>lyrics_unique_words</th>\n",
       "      <th>lyrics_bool</th>\n",
       "      <th>genre_discogs</th>\n",
       "    </tr>\n",
       "  </thead>\n",
       "  <tbody>\n",
       "    <tr>\n",
       "      <th>0</th>\n",
       "      <td>0</td>\n",
       "      <td>ac45c832a78728aa8822a3df637682c3</td>\n",
       "      <td>14</td>\n",
       "      <td>13</td>\n",
       "      <td>Acoustic Grand Piano, Pad 1 (new age), FX 1 (r...</td>\n",
       "      <td>Synth Pad, Guitar, Bass, Synth Effects, Chroma...</td>\n",
       "      <td>10</td>\n",
       "      <td>3643</td>\n",
       "      <td>58</td>\n",
       "      <td>11.214286</td>\n",
       "      <td>...</td>\n",
       "      <td>1</td>\n",
       "      <td>4</td>\n",
       "      <td>243</td>\n",
       "      <td>4/4</td>\n",
       "      <td>1</td>\n",
       "      <td>221</td>\n",
       "      <td>223</td>\n",
       "      <td>95</td>\n",
       "      <td>True</td>\n",
       "      <td>electronic</td>\n",
       "    </tr>\n",
       "  </tbody>\n",
       "</table>\n",
       "<p>1 rows × 33 columns</p>\n",
       "</div>"
      ],
      "text/plain": [
       "   Unnamed: 0                               md5  n_instruments  \\\n",
       "0           0  ac45c832a78728aa8822a3df637682c3             14   \n",
       "\n",
       "   n_unique_instruments                                        instruments  \\\n",
       "0                    13  Acoustic Grand Piano, Pad 1 (new age), FX 1 (r...   \n",
       "\n",
       "                                 instrument_families  \\\n",
       "0  Synth Pad, Guitar, Bass, Synth Effects, Chroma...   \n",
       "\n",
       "   number_of_instrument_families  n_notes  n_unique_notes  \\\n",
       "0                             10     3643              58   \n",
       "\n",
       "   average_n_unique_notes_per_instrument  ...  n_key_changes  n_tempo_changes  \\\n",
       "0                              11.214286  ...              1                4   \n",
       "\n",
       "   tempo_estimate  main_time_signature  n_time_signature_changes  \\\n",
       "0             243                  4/4                         1   \n",
       "\n",
       "   track_length_in_seconds  lyrics_nb_words  lyrics_unique_words  lyrics_bool  \\\n",
       "0                      221              223                   95         True   \n",
       "\n",
       "   genre_discogs  \n",
       "0     electronic  \n",
       "\n",
       "[1 rows x 33 columns]"
      ]
     },
     "execution_count": 2,
     "metadata": {},
     "output_type": "execute_result"
    }
   ],
   "source": [
    "# Turn the instrument numbers into intrument names for easier reading\n",
    "# take a comma separated string of instrument numbers and return a comma separated string of instrument names\n",
    "def get_instrument_names(instrument_numbers):\n",
    "    \"\"\"Take a comma separated string of instrument numbers and return a comma separated string of instrument names\"\"\"\n",
    "    instrument_names = []\n",
    "    for instrument_number in instrument_numbers.split(', '):\n",
    "        instrument_names.append(pretty_midi.program_to_instrument_name(int(instrument_number)))\n",
    "    return ', '.join(instrument_names)\n",
    "\n",
    "# apply the function to the instrument column\n",
    "stats['instruments'] = stats['instruments'].apply(get_instrument_names)\n",
    "\n",
    "stats.head(1)"
   ]
  },
  {
   "cell_type": "code",
   "execution_count": 3,
   "metadata": {},
   "outputs": [
    {
     "data": {
      "text/html": [
       "<div>\n",
       "<style scoped>\n",
       "    .dataframe tbody tr th:only-of-type {\n",
       "        vertical-align: middle;\n",
       "    }\n",
       "\n",
       "    .dataframe tbody tr th {\n",
       "        vertical-align: top;\n",
       "    }\n",
       "\n",
       "    .dataframe thead th {\n",
       "        text-align: right;\n",
       "    }\n",
       "</style>\n",
       "<table border=\"1\" class=\"dataframe\">\n",
       "  <thead>\n",
       "    <tr style=\"text-align: right;\">\n",
       "      <th></th>\n",
       "      <th>genre</th>\n",
       "      <th>md5</th>\n",
       "      <th>genre_count</th>\n",
       "      <th>style</th>\n",
       "      <th>consensus_genre</th>\n",
       "    </tr>\n",
       "  </thead>\n",
       "  <tbody>\n",
       "    <tr>\n",
       "      <th>1</th>\n",
       "      <td>electronic</td>\n",
       "      <td>ac45c832a78728aa8822a3df637682c3</td>\n",
       "      <td>49.0</td>\n",
       "      <td>synth-pop</td>\n",
       "      <td>True</td>\n",
       "    </tr>\n",
       "    <tr>\n",
       "      <th>3</th>\n",
       "      <td>folk, world, &amp; country</td>\n",
       "      <td>ac45c832a78728aa8822a3df637682c3</td>\n",
       "      <td>1.0</td>\n",
       "      <td>country</td>\n",
       "      <td>False</td>\n",
       "    </tr>\n",
       "    <tr>\n",
       "      <th>6</th>\n",
       "      <td>electronic</td>\n",
       "      <td>a8751ddd06d17d27685354258760b4e9</td>\n",
       "      <td>2.0</td>\n",
       "      <td>big beat</td>\n",
       "      <td>True</td>\n",
       "    </tr>\n",
       "    <tr>\n",
       "      <th>7</th>\n",
       "      <td>electronic</td>\n",
       "      <td>a8751ddd06d17d27685354258760b4e9</td>\n",
       "      <td>2.0</td>\n",
       "      <td>breaks</td>\n",
       "      <td>True</td>\n",
       "    </tr>\n",
       "    <tr>\n",
       "      <th>8</th>\n",
       "      <td>electronic</td>\n",
       "      <td>a8751ddd06d17d27685354258760b4e9</td>\n",
       "      <td>1.0</td>\n",
       "      <td>deep house</td>\n",
       "      <td>False</td>\n",
       "    </tr>\n",
       "    <tr>\n",
       "      <th>...</th>\n",
       "      <td>...</td>\n",
       "      <td>...</td>\n",
       "      <td>...</td>\n",
       "      <td>...</td>\n",
       "      <td>...</td>\n",
       "    </tr>\n",
       "    <tr>\n",
       "      <th>218793</th>\n",
       "      <td>rock</td>\n",
       "      <td>0e76c737c1f27ac0e5e1e7455a63c8ec</td>\n",
       "      <td>1.0</td>\n",
       "      <td>death metal</td>\n",
       "      <td>True</td>\n",
       "    </tr>\n",
       "    <tr>\n",
       "      <th>218794</th>\n",
       "      <td>rock</td>\n",
       "      <td>0e76c737c1f27ac0e5e1e7455a63c8ec</td>\n",
       "      <td>1.0</td>\n",
       "      <td>folk metal</td>\n",
       "      <td>True</td>\n",
       "    </tr>\n",
       "    <tr>\n",
       "      <th>218796</th>\n",
       "      <td>jazz</td>\n",
       "      <td>0559531dd9382e9f7315011549e5de50</td>\n",
       "      <td>1.0</td>\n",
       "      <td>easy listening</td>\n",
       "      <td>True</td>\n",
       "    </tr>\n",
       "    <tr>\n",
       "      <th>218799</th>\n",
       "      <td>rock</td>\n",
       "      <td>02a04218c03da2ecbfc06b1a73717045</td>\n",
       "      <td>1.0</td>\n",
       "      <td>doom metal</td>\n",
       "      <td>True</td>\n",
       "    </tr>\n",
       "    <tr>\n",
       "      <th>218800</th>\n",
       "      <td>rock</td>\n",
       "      <td>02a04218c03da2ecbfc06b1a73717045</td>\n",
       "      <td>1.0</td>\n",
       "      <td>psychedelic rock</td>\n",
       "      <td>True</td>\n",
       "    </tr>\n",
       "  </tbody>\n",
       "</table>\n",
       "<p>132252 rows × 5 columns</p>\n",
       "</div>"
      ],
      "text/plain": [
       "                         genre                               md5  genre_count  \\\n",
       "1                   electronic  ac45c832a78728aa8822a3df637682c3         49.0   \n",
       "3       folk, world, & country  ac45c832a78728aa8822a3df637682c3          1.0   \n",
       "6                   electronic  a8751ddd06d17d27685354258760b4e9          2.0   \n",
       "7                   electronic  a8751ddd06d17d27685354258760b4e9          2.0   \n",
       "8                   electronic  a8751ddd06d17d27685354258760b4e9          1.0   \n",
       "...                        ...                               ...          ...   \n",
       "218793                    rock  0e76c737c1f27ac0e5e1e7455a63c8ec          1.0   \n",
       "218794                    rock  0e76c737c1f27ac0e5e1e7455a63c8ec          1.0   \n",
       "218796                    jazz  0559531dd9382e9f7315011549e5de50          1.0   \n",
       "218799                    rock  02a04218c03da2ecbfc06b1a73717045          1.0   \n",
       "218800                    rock  02a04218c03da2ecbfc06b1a73717045          1.0   \n",
       "\n",
       "                   style  consensus_genre  \n",
       "1              synth-pop             True  \n",
       "3                country            False  \n",
       "6               big beat             True  \n",
       "7                 breaks             True  \n",
       "8             deep house            False  \n",
       "...                  ...              ...  \n",
       "218793       death metal             True  \n",
       "218794        folk metal             True  \n",
       "218796    easy listening             True  \n",
       "218799        doom metal             True  \n",
       "218800  psychedelic rock             True  \n",
       "\n",
       "[132252 rows x 5 columns]"
      ]
     },
     "metadata": {},
     "output_type": "display_data"
    }
   ],
   "source": [
    "# Create a dataframe with the genre data\n",
    "genre_dfs = [pd.DataFrame(song).reset_index() for song in genre]\n",
    "\n",
    "# concatenate genre_dfs and fill null values for missing columns\n",
    "genre_df = pd.concat(genre_dfs, ignore_index=True)\n",
    "\n",
    "# remove tagtraum and lastfm information\n",
    "genre_df = genre_df.drop(['genre_tagtraum', 'genre_lastfm'], axis=1)\n",
    "\n",
    "# Rename the columns\n",
    "genre_df.columns = ['genre', 'md5', 'genre_count']\n",
    "\n",
    "# remove remaining missing values\n",
    "genre_df = genre_df.dropna()\n",
    "\n",
    "# Reset df index\n",
    "genre_df = genre_df.reset_index(drop=True)\n",
    "\n",
    "# split genre column into genre and style columns\n",
    "genre_df[['genre', 'style']] = genre_df['genre'].str.split('---', expand=True)\n",
    "\n",
    "# Drop null values\n",
    "genre_df = genre_df.dropna()\n",
    "\n",
    "# insert columns consensus_genre if genre_count is the maximum value for the md5\n",
    "genre_df['consensus_genre'] = genre_df.groupby('md5')['genre_count'].transform('max') == genre_df['genre_count']\n",
    "\n",
    "display(genre_df)\n",
    "\n",
    "# export genre_df to csv\n",
    "# genre_df.to_csv('../data/mmd_genre_discogs.csv', index=False)"
   ]
  },
  {
   "cell_type": "code",
   "execution_count": 4,
   "metadata": {},
   "outputs": [
    {
     "data": {
      "text/html": [
       "<div>\n",
       "<style scoped>\n",
       "    .dataframe tbody tr th:only-of-type {\n",
       "        vertical-align: middle;\n",
       "    }\n",
       "\n",
       "    .dataframe tbody tr th {\n",
       "        vertical-align: top;\n",
       "    }\n",
       "\n",
       "    .dataframe thead th {\n",
       "        text-align: right;\n",
       "    }\n",
       "</style>\n",
       "<table border=\"1\" class=\"dataframe\">\n",
       "  <thead>\n",
       "    <tr style=\"text-align: right;\">\n",
       "      <th></th>\n",
       "      <th>md5</th>\n",
       "      <th>artist</th>\n",
       "      <th>title</th>\n",
       "    </tr>\n",
       "  </thead>\n",
       "  <tbody>\n",
       "    <tr>\n",
       "      <th>0</th>\n",
       "      <td>be51e8259904879e561850e140e997dd</td>\n",
       "      <td>Henry Thomas Smart</td>\n",
       "      <td>'Tis break of day</td>\n",
       "    </tr>\n",
       "    <tr>\n",
       "      <th>1</th>\n",
       "      <td>272257791018b3c151029b49734b26a6</td>\n",
       "      <td>Fabio Fresi</td>\n",
       "      <td>Ave Maria</td>\n",
       "    </tr>\n",
       "    <tr>\n",
       "      <th>2</th>\n",
       "      <td>2596615b7dc995ff733995786fb6dc64</td>\n",
       "      <td>Heinrich Schütz</td>\n",
       "      <td>Lukaspassion</td>\n",
       "    </tr>\n",
       "    <tr>\n",
       "      <th>3</th>\n",
       "      <td>17b545f91caf271920727ee61f21e494</td>\n",
       "      <td>Johann Sebastian Bach</td>\n",
       "      <td>An Wasserflüssen Babylon, BWV 267</td>\n",
       "    </tr>\n",
       "    <tr>\n",
       "      <th>4</th>\n",
       "      <td>4f8ee1160e87907d56d864b5dd75b61a</td>\n",
       "      <td>Heinrich Schütz</td>\n",
       "      <td>Matthäuspassion</td>\n",
       "    </tr>\n",
       "    <tr>\n",
       "      <th>...</th>\n",
       "      <td>...</td>\n",
       "      <td>...</td>\n",
       "      <td>...</td>\n",
       "    </tr>\n",
       "    <tr>\n",
       "      <th>221499</th>\n",
       "      <td>bc4efc1870e5c27ff6cbfe782adb6452</td>\n",
       "      <td>Who</td>\n",
       "      <td>Behind Blue Eyes</td>\n",
       "    </tr>\n",
       "    <tr>\n",
       "      <th>221500</th>\n",
       "      <td>17622f3371012cea61a29c7703006bef</td>\n",
       "      <td>Who</td>\n",
       "      <td>Eminence Front</td>\n",
       "    </tr>\n",
       "    <tr>\n",
       "      <th>221501</th>\n",
       "      <td>5cdece727722c41ad3b6757ff9f963d5</td>\n",
       "      <td>Who</td>\n",
       "      <td>Eminence Front2</td>\n",
       "    </tr>\n",
       "    <tr>\n",
       "      <th>221502</th>\n",
       "      <td>4c15a1200083f9523be9fa4c62d4edc3</td>\n",
       "      <td>Wild Thing</td>\n",
       "      <td></td>\n",
       "    </tr>\n",
       "    <tr>\n",
       "      <th>221503</th>\n",
       "      <td>b6c87c584e4c1deb2e3fa634cea85fbc</td>\n",
       "      <td>Yes</td>\n",
       "      <td>Lift Me Up</td>\n",
       "    </tr>\n",
       "  </tbody>\n",
       "</table>\n",
       "<p>221504 rows × 3 columns</p>\n",
       "</div>"
      ],
      "text/plain": [
       "                                     md5                 artist  \\\n",
       "0       be51e8259904879e561850e140e997dd     Henry Thomas Smart   \n",
       "1       272257791018b3c151029b49734b26a6            Fabio Fresi   \n",
       "2       2596615b7dc995ff733995786fb6dc64        Heinrich Schütz   \n",
       "3       17b545f91caf271920727ee61f21e494  Johann Sebastian Bach   \n",
       "4       4f8ee1160e87907d56d864b5dd75b61a        Heinrich Schütz   \n",
       "...                                  ...                    ...   \n",
       "221499  bc4efc1870e5c27ff6cbfe782adb6452                    Who   \n",
       "221500  17622f3371012cea61a29c7703006bef                    Who   \n",
       "221501  5cdece727722c41ad3b6757ff9f963d5                    Who   \n",
       "221502  4c15a1200083f9523be9fa4c62d4edc3             Wild Thing   \n",
       "221503  b6c87c584e4c1deb2e3fa634cea85fbc                    Yes   \n",
       "\n",
       "                                    title  \n",
       "0                       'Tis break of day  \n",
       "1                               Ave Maria  \n",
       "2                            Lukaspassion  \n",
       "3       An Wasserflüssen Babylon, BWV 267  \n",
       "4                         Matthäuspassion  \n",
       "...                                   ...  \n",
       "221499                   Behind Blue Eyes  \n",
       "221500                     Eminence Front  \n",
       "221501                    Eminence Front2  \n",
       "221502                                     \n",
       "221503                         Lift Me Up  \n",
       "\n",
       "[221504 rows x 3 columns]"
      ]
     },
     "execution_count": 4,
     "metadata": {},
     "output_type": "execute_result"
    }
   ],
   "source": [
    "# Create a dataframe with the names data\n",
    "names_df = pd.DataFrame(names)\n",
    "\n",
    "def get_artist_and_titles(row):\n",
    "    \"\"\"Extract the artist and title from the scraped data\"\"\"\n",
    "    try:\n",
    "        artist = row[0][1]\n",
    "        title = row[0][0]\n",
    "        return artist, title\n",
    "    except Exception:\n",
    "        artist = row[0][0]\n",
    "        title = 'unknown'\n",
    "        return artist, title\n",
    "\n",
    "# Get first value from the title_artist column\n",
    "title_artist = names_df['title_artist'].apply(get_artist_and_titles)\n",
    "\n",
    "# add title and artist to the dataframe\n",
    "names_df['artist'] = title_artist.apply(lambda x: x[0])\n",
    "names_df['title'] = title_artist.apply(lambda x: x[1])\n",
    "names_df.drop('title_artist', axis=1, inplace=True)\n",
    "\n",
    "names_df\n",
    "\n",
    "# export names_df to csv\n",
    "# names_df.to_csv('../data/mmd_title_artist.csv', index=False)"
   ]
  },
  {
   "cell_type": "code",
   "execution_count": 5,
   "metadata": {},
   "outputs": [
    {
     "data": {
      "text/html": [
       "<div>\n",
       "<style scoped>\n",
       "    .dataframe tbody tr th:only-of-type {\n",
       "        vertical-align: middle;\n",
       "    }\n",
       "\n",
       "    .dataframe tbody tr th {\n",
       "        vertical-align: top;\n",
       "    }\n",
       "\n",
       "    .dataframe thead th {\n",
       "        text-align: right;\n",
       "    }\n",
       "</style>\n",
       "<table border=\"1\" class=\"dataframe\">\n",
       "  <thead>\n",
       "    <tr style=\"text-align: right;\">\n",
       "      <th></th>\n",
       "      <th>md5</th>\n",
       "      <th>artist</th>\n",
       "      <th>title</th>\n",
       "    </tr>\n",
       "  </thead>\n",
       "  <tbody>\n",
       "    <tr>\n",
       "      <th>0</th>\n",
       "      <td>be51e8259904879e561850e140e997dd</td>\n",
       "      <td>Henry Thomas Smart</td>\n",
       "      <td>'Tis break of day</td>\n",
       "    </tr>\n",
       "    <tr>\n",
       "      <th>1</th>\n",
       "      <td>272257791018b3c151029b49734b26a6</td>\n",
       "      <td>Fabio Fresi</td>\n",
       "      <td>Ave Maria</td>\n",
       "    </tr>\n",
       "    <tr>\n",
       "      <th>2</th>\n",
       "      <td>2596615b7dc995ff733995786fb6dc64</td>\n",
       "      <td>Heinrich Schütz</td>\n",
       "      <td>Lukaspassion</td>\n",
       "    </tr>\n",
       "    <tr>\n",
       "      <th>3</th>\n",
       "      <td>17b545f91caf271920727ee61f21e494</td>\n",
       "      <td>Johann Sebastian Bach</td>\n",
       "      <td>An Wasserflüssen Babylon, BWV 267</td>\n",
       "    </tr>\n",
       "    <tr>\n",
       "      <th>4</th>\n",
       "      <td>4f8ee1160e87907d56d864b5dd75b61a</td>\n",
       "      <td>Heinrich Schütz</td>\n",
       "      <td>Matthäuspassion</td>\n",
       "    </tr>\n",
       "  </tbody>\n",
       "</table>\n",
       "</div>"
      ],
      "text/plain": [
       "                                md5                 artist  \\\n",
       "0  be51e8259904879e561850e140e997dd     Henry Thomas Smart   \n",
       "1  272257791018b3c151029b49734b26a6            Fabio Fresi   \n",
       "2  2596615b7dc995ff733995786fb6dc64        Heinrich Schütz   \n",
       "3  17b545f91caf271920727ee61f21e494  Johann Sebastian Bach   \n",
       "4  4f8ee1160e87907d56d864b5dd75b61a        Heinrich Schütz   \n",
       "\n",
       "                               title  \n",
       "0                  'Tis break of day  \n",
       "1                          Ave Maria  \n",
       "2                       Lukaspassion  \n",
       "3  An Wasserflüssen Babylon, BWV 267  \n",
       "4                    Matthäuspassion  "
      ]
     },
     "execution_count": 5,
     "metadata": {},
     "output_type": "execute_result"
    }
   ],
   "source": [
    "names_df.head()"
   ]
  },
  {
   "cell_type": "code",
   "execution_count": 6,
   "metadata": {},
   "outputs": [
    {
     "data": {
      "text/plain": [
       "221504"
      ]
     },
     "execution_count": 6,
     "metadata": {},
     "output_type": "execute_result"
    }
   ],
   "source": [
    "# Create a dataframe with the scraped genre data\n",
    "scraped_genre_df = pd.DataFrame(scraped_genre)\n",
    "\n",
    "# turn values of genre column into list and explode the list\n",
    "scraped_genre_df['genre'] = scraped_genre_df['genre'].apply(lambda x: x[0])\n",
    "scraped_genre_df = scraped_genre_df.explode('genre')\n",
    "\n",
    "# merge the names and scraped genre dataframes\n",
    "name_genres_df = names_df.merge(scraped_genre_df, on='md5', how='left')\n",
    "\n",
    "# drop rows where artist is null\n",
    "name_genres_df = name_genres_df.dropna(subset=['artist'])\n",
    "\n",
    "name_genres_df\n",
    "\n",
    "# count distinct md5\n",
    "name_genres_df['md5'].nunique()\n",
    "\n",
    "# export name_genres_df to csv\n",
    "# name_genres_df.to_csv('../data/mmd_scraped_artist_genre.csv', index=False)"
   ]
  },
  {
   "cell_type": "code",
   "execution_count": 7,
   "metadata": {},
   "outputs": [
    {
     "data": {
      "text/html": [
       "<div>\n",
       "<style scoped>\n",
       "    .dataframe tbody tr th:only-of-type {\n",
       "        vertical-align: middle;\n",
       "    }\n",
       "\n",
       "    .dataframe tbody tr th {\n",
       "        vertical-align: top;\n",
       "    }\n",
       "\n",
       "    .dataframe thead th {\n",
       "        text-align: right;\n",
       "    }\n",
       "</style>\n",
       "<table border=\"1\" class=\"dataframe\">\n",
       "  <thead>\n",
       "    <tr style=\"text-align: right;\">\n",
       "      <th></th>\n",
       "      <th>genre</th>\n",
       "      <th>md5</th>\n",
       "      <th>genre_count</th>\n",
       "      <th>style</th>\n",
       "      <th>consensus_genre</th>\n",
       "      <th>artist</th>\n",
       "      <th>title</th>\n",
       "    </tr>\n",
       "  </thead>\n",
       "  <tbody>\n",
       "    <tr>\n",
       "      <th>0</th>\n",
       "      <td>electronic</td>\n",
       "      <td>a8751ddd06d17d27685354258760b4e9</td>\n",
       "      <td>2.0</td>\n",
       "      <td>big beat</td>\n",
       "      <td>True</td>\n",
       "      <td>Bloodbath</td>\n",
       "      <td>Buried By The Dead (2)</td>\n",
       "    </tr>\n",
       "    <tr>\n",
       "      <th>1</th>\n",
       "      <td>electronic</td>\n",
       "      <td>a8751ddd06d17d27685354258760b4e9</td>\n",
       "      <td>2.0</td>\n",
       "      <td>breaks</td>\n",
       "      <td>True</td>\n",
       "      <td>Bloodbath</td>\n",
       "      <td>Buried By The Dead (2)</td>\n",
       "    </tr>\n",
       "    <tr>\n",
       "      <th>3</th>\n",
       "      <td>rock</td>\n",
       "      <td>a9544a68c5ca8e32c224f25d5a06619d</td>\n",
       "      <td>29.0</td>\n",
       "      <td>punk</td>\n",
       "      <td>True</td>\n",
       "      <td>Ramones (The)</td>\n",
       "      <td>BlitzKrieg Bop (2)</td>\n",
       "    </tr>\n",
       "    <tr>\n",
       "      <th>5</th>\n",
       "      <td>rock</td>\n",
       "      <td>a077f8d661f6853d92f47c2e08b723b9</td>\n",
       "      <td>4.0</td>\n",
       "      <td>indie rock</td>\n",
       "      <td>True</td>\n",
       "      <td>Pixies</td>\n",
       "      <td>The Happening</td>\n",
       "    </tr>\n",
       "    <tr>\n",
       "      <th>9</th>\n",
       "      <td>rock</td>\n",
       "      <td>976ba9b2721959b1a733ae3fbf3bd50c</td>\n",
       "      <td>5.0</td>\n",
       "      <td>hard rock</td>\n",
       "      <td>True</td>\n",
       "      <td>Supergrass</td>\n",
       "      <td>Grace</td>\n",
       "    </tr>\n",
       "    <tr>\n",
       "      <th>...</th>\n",
       "      <td>...</td>\n",
       "      <td>...</td>\n",
       "      <td>...</td>\n",
       "      <td>...</td>\n",
       "      <td>...</td>\n",
       "      <td>...</td>\n",
       "      <td>...</td>\n",
       "    </tr>\n",
       "    <tr>\n",
       "      <th>59008</th>\n",
       "      <td>electronic</td>\n",
       "      <td>0e59b6273b770ea36e53f73612f16d7f</td>\n",
       "      <td>1.0</td>\n",
       "      <td>tech house</td>\n",
       "      <td>True</td>\n",
       "      <td>Beherit</td>\n",
       "      <td>Sadomatic_Rites</td>\n",
       "    </tr>\n",
       "    <tr>\n",
       "      <th>59009</th>\n",
       "      <td>rock</td>\n",
       "      <td>054ec142fbe2338acb7c8a743fe64928</td>\n",
       "      <td>1.0</td>\n",
       "      <td>southern rock</td>\n",
       "      <td>True</td>\n",
       "      <td>Madonna</td>\n",
       "      <td>Over and Over.1</td>\n",
       "    </tr>\n",
       "    <tr>\n",
       "      <th>59010</th>\n",
       "      <td>jazz</td>\n",
       "      <td>0559531dd9382e9f7315011549e5de50</td>\n",
       "      <td>1.0</td>\n",
       "      <td>easy listening</td>\n",
       "      <td>True</td>\n",
       "      <td>Hank Williams</td>\n",
       "      <td>Too Many Parties and Too Many Pals</td>\n",
       "    </tr>\n",
       "    <tr>\n",
       "      <th>59011</th>\n",
       "      <td>rock</td>\n",
       "      <td>02a04218c03da2ecbfc06b1a73717045</td>\n",
       "      <td>1.0</td>\n",
       "      <td>doom metal</td>\n",
       "      <td>True</td>\n",
       "      <td>Umbreit, Karl Gottlieb</td>\n",
       "      <td>24 Orgelstücke verschiedener Art</td>\n",
       "    </tr>\n",
       "    <tr>\n",
       "      <th>59012</th>\n",
       "      <td>rock</td>\n",
       "      <td>02a04218c03da2ecbfc06b1a73717045</td>\n",
       "      <td>1.0</td>\n",
       "      <td>psychedelic rock</td>\n",
       "      <td>True</td>\n",
       "      <td>Umbreit, Karl Gottlieb</td>\n",
       "      <td>24 Orgelstücke verschiedener Art</td>\n",
       "    </tr>\n",
       "  </tbody>\n",
       "</table>\n",
       "<p>40464 rows × 7 columns</p>\n",
       "</div>"
      ],
      "text/plain": [
       "            genre                               md5  genre_count  \\\n",
       "0      electronic  a8751ddd06d17d27685354258760b4e9          2.0   \n",
       "1      electronic  a8751ddd06d17d27685354258760b4e9          2.0   \n",
       "3            rock  a9544a68c5ca8e32c224f25d5a06619d         29.0   \n",
       "5            rock  a077f8d661f6853d92f47c2e08b723b9          4.0   \n",
       "9            rock  976ba9b2721959b1a733ae3fbf3bd50c          5.0   \n",
       "...           ...                               ...          ...   \n",
       "59008  electronic  0e59b6273b770ea36e53f73612f16d7f          1.0   \n",
       "59009        rock  054ec142fbe2338acb7c8a743fe64928          1.0   \n",
       "59010        jazz  0559531dd9382e9f7315011549e5de50          1.0   \n",
       "59011        rock  02a04218c03da2ecbfc06b1a73717045          1.0   \n",
       "59012        rock  02a04218c03da2ecbfc06b1a73717045          1.0   \n",
       "\n",
       "                  style  consensus_genre                  artist  \\\n",
       "0              big beat             True               Bloodbath   \n",
       "1                breaks             True               Bloodbath   \n",
       "3                  punk             True           Ramones (The)   \n",
       "5            indie rock             True                  Pixies   \n",
       "9             hard rock             True              Supergrass   \n",
       "...                 ...              ...                     ...   \n",
       "59008        tech house             True                 Beherit   \n",
       "59009     southern rock             True                 Madonna   \n",
       "59010    easy listening             True           Hank Williams   \n",
       "59011        doom metal             True  Umbreit, Karl Gottlieb   \n",
       "59012  psychedelic rock             True  Umbreit, Karl Gottlieb   \n",
       "\n",
       "                                    title  \n",
       "0                  Buried By The Dead (2)  \n",
       "1                  Buried By The Dead (2)  \n",
       "3                      BlitzKrieg Bop (2)  \n",
       "5                           The Happening  \n",
       "9                                   Grace  \n",
       "...                                   ...  \n",
       "59008                     Sadomatic_Rites  \n",
       "59009                     Over and Over.1  \n",
       "59010  Too Many Parties and Too Many Pals  \n",
       "59011    24 Orgelstücke verschiedener Art  \n",
       "59012    24 Orgelstücke verschiedener Art  \n",
       "\n",
       "[40464 rows x 7 columns]"
      ]
     },
     "execution_count": 7,
     "metadata": {},
     "output_type": "execute_result"
    }
   ],
   "source": [
    "# merge the genre_df and names_df\n",
    "discogs_genre_names = pd.merge(genre_df, names_df, on='md5')\n",
    "\n",
    "# keep only rows where the consensus_genre is True\n",
    "discogs_genre_names = discogs_genre_names[discogs_genre_names['consensus_genre'] == True]\n",
    "\n",
    "# export merged_df to csv\n",
    "# discogs_genre_names.to_csv('../data/mmd_discogs_genre_with_artists.csv', index=False)\n",
    "\n",
    "discogs_genre_names"
   ]
  },
  {
   "cell_type": "code",
   "execution_count": 8,
   "metadata": {},
   "outputs": [
    {
     "data": {
      "text/html": [
       "<div>\n",
       "<style scoped>\n",
       "    .dataframe tbody tr th:only-of-type {\n",
       "        vertical-align: middle;\n",
       "    }\n",
       "\n",
       "    .dataframe tbody tr th {\n",
       "        vertical-align: top;\n",
       "    }\n",
       "\n",
       "    .dataframe thead th {\n",
       "        text-align: right;\n",
       "    }\n",
       "</style>\n",
       "<table border=\"1\" class=\"dataframe\">\n",
       "  <thead>\n",
       "    <tr style=\"text-align: right;\">\n",
       "      <th></th>\n",
       "      <th>md5</th>\n",
       "      <th>n_instruments</th>\n",
       "      <th>n_unique_instruments</th>\n",
       "      <th>instruments</th>\n",
       "      <th>instrument_families</th>\n",
       "      <th>number_of_instrument_families</th>\n",
       "      <th>n_notes</th>\n",
       "      <th>n_unique_notes</th>\n",
       "      <th>average_n_unique_notes_per_instrument</th>\n",
       "      <th>average_note_duration</th>\n",
       "      <th>...</th>\n",
       "      <th>track_length_in_seconds</th>\n",
       "      <th>lyrics_nb_words</th>\n",
       "      <th>lyrics_unique_words</th>\n",
       "      <th>lyrics_bool</th>\n",
       "      <th>genre</th>\n",
       "      <th>genre_count</th>\n",
       "      <th>style</th>\n",
       "      <th>consensus_genre</th>\n",
       "      <th>artist</th>\n",
       "      <th>title</th>\n",
       "    </tr>\n",
       "  </thead>\n",
       "  <tbody>\n",
       "    <tr>\n",
       "      <th>0</th>\n",
       "      <td>ac45c832a78728aa8822a3df637682c3</td>\n",
       "      <td>14</td>\n",
       "      <td>13</td>\n",
       "      <td>Acoustic Grand Piano, Pad 1 (new age), FX 1 (r...</td>\n",
       "      <td>Synth Pad, Guitar, Bass, Synth Effects, Chroma...</td>\n",
       "      <td>10</td>\n",
       "      <td>3643</td>\n",
       "      <td>58</td>\n",
       "      <td>11.214286</td>\n",
       "      <td>0.605142</td>\n",
       "      <td>...</td>\n",
       "      <td>221</td>\n",
       "      <td>223</td>\n",
       "      <td>95</td>\n",
       "      <td>True</td>\n",
       "      <td>electronic</td>\n",
       "      <td>49.0</td>\n",
       "      <td>synth-pop</td>\n",
       "      <td>True</td>\n",
       "      <td>NaN</td>\n",
       "      <td>NaN</td>\n",
       "    </tr>\n",
       "    <tr>\n",
       "      <th>2</th>\n",
       "      <td>ac547baef487103fd9de9f49d2f6e204</td>\n",
       "      <td>15</td>\n",
       "      <td>12</td>\n",
       "      <td>Lead 2 (sawtooth), Acoustic Grand Piano, Brass...</td>\n",
       "      <td>Piano, Ensemble, Brass, Organ, Percussive, Syn...</td>\n",
       "      <td>9</td>\n",
       "      <td>8167</td>\n",
       "      <td>55</td>\n",
       "      <td>8.200000</td>\n",
       "      <td>0.109172</td>\n",
       "      <td>...</td>\n",
       "      <td>264</td>\n",
       "      <td>0</td>\n",
       "      <td>0</td>\n",
       "      <td>False</td>\n",
       "      <td>electronic</td>\n",
       "      <td>54.0</td>\n",
       "      <td>disco</td>\n",
       "      <td>True</td>\n",
       "      <td>NaN</td>\n",
       "      <td>NaN</td>\n",
       "    </tr>\n",
       "    <tr>\n",
       "      <th>10</th>\n",
       "      <td>a861dcbbbcece2ba042648c20d3425a8</td>\n",
       "      <td>10</td>\n",
       "      <td>10</td>\n",
       "      <td>Acoustic Guitar (steel), Lead 3 (calliope), Ro...</td>\n",
       "      <td>Piano, Synth Lead, Bass, Guitar, Organ</td>\n",
       "      <td>5</td>\n",
       "      <td>7691</td>\n",
       "      <td>47</td>\n",
       "      <td>13.600000</td>\n",
       "      <td>0.535591</td>\n",
       "      <td>...</td>\n",
       "      <td>305</td>\n",
       "      <td>534</td>\n",
       "      <td>176</td>\n",
       "      <td>True</td>\n",
       "      <td>rock</td>\n",
       "      <td>6.0</td>\n",
       "      <td>southern rock</td>\n",
       "      <td>True</td>\n",
       "      <td>NaN</td>\n",
       "      <td>NaN</td>\n",
       "    </tr>\n",
       "    <tr>\n",
       "      <th>12</th>\n",
       "      <td>a077f8d661f6853d92f47c2e08b723b9</td>\n",
       "      <td>5</td>\n",
       "      <td>5</td>\n",
       "      <td>String Ensemble 1, Electric Bass (finger), Ele...</td>\n",
       "      <td>Piano, Bass, Guitar, Ensemble</td>\n",
       "      <td>4</td>\n",
       "      <td>3386</td>\n",
       "      <td>30</td>\n",
       "      <td>7.800000</td>\n",
       "      <td>0.378581</td>\n",
       "      <td>...</td>\n",
       "      <td>257</td>\n",
       "      <td>0</td>\n",
       "      <td>0</td>\n",
       "      <td>False</td>\n",
       "      <td>rock</td>\n",
       "      <td>4.0</td>\n",
       "      <td>indie rock</td>\n",
       "      <td>True</td>\n",
       "      <td>Pixies</td>\n",
       "      <td>The Happening</td>\n",
       "    </tr>\n",
       "    <tr>\n",
       "      <th>13</th>\n",
       "      <td>aa42e141c3e3ff1f46e9bc676ca61ebb</td>\n",
       "      <td>2</td>\n",
       "      <td>2</td>\n",
       "      <td>Lead 6 (voice), Pad 4 (choir)</td>\n",
       "      <td>Synth Lead, Synth Pad</td>\n",
       "      <td>2</td>\n",
       "      <td>3290</td>\n",
       "      <td>33</td>\n",
       "      <td>33.000000</td>\n",
       "      <td>0.123359</td>\n",
       "      <td>...</td>\n",
       "      <td>201</td>\n",
       "      <td>0</td>\n",
       "      <td>0</td>\n",
       "      <td>False</td>\n",
       "      <td>classical</td>\n",
       "      <td>11.0</td>\n",
       "      <td>baroque</td>\n",
       "      <td>True</td>\n",
       "      <td>NaN</td>\n",
       "      <td>NaN</td>\n",
       "    </tr>\n",
       "    <tr>\n",
       "      <th>...</th>\n",
       "      <td>...</td>\n",
       "      <td>...</td>\n",
       "      <td>...</td>\n",
       "      <td>...</td>\n",
       "      <td>...</td>\n",
       "      <td>...</td>\n",
       "      <td>...</td>\n",
       "      <td>...</td>\n",
       "      <td>...</td>\n",
       "      <td>...</td>\n",
       "      <td>...</td>\n",
       "      <td>...</td>\n",
       "      <td>...</td>\n",
       "      <td>...</td>\n",
       "      <td>...</td>\n",
       "      <td>...</td>\n",
       "      <td>...</td>\n",
       "      <td>...</td>\n",
       "      <td>...</td>\n",
       "      <td>...</td>\n",
       "      <td>...</td>\n",
       "    </tr>\n",
       "    <tr>\n",
       "      <th>60926</th>\n",
       "      <td>0e76c737c1f27ac0e5e1e7455a63c8ec</td>\n",
       "      <td>6</td>\n",
       "      <td>6</td>\n",
       "      <td>Electric Bass (pick), Electric Piano 2, Trombo...</td>\n",
       "      <td>Bass, Brass, Piano, Ensemble, Organ</td>\n",
       "      <td>5</td>\n",
       "      <td>2676</td>\n",
       "      <td>56</td>\n",
       "      <td>18.833333</td>\n",
       "      <td>0.331527</td>\n",
       "      <td>...</td>\n",
       "      <td>344</td>\n",
       "      <td>0</td>\n",
       "      <td>0</td>\n",
       "      <td>False</td>\n",
       "      <td>rock</td>\n",
       "      <td>1.0</td>\n",
       "      <td>death metal</td>\n",
       "      <td>True</td>\n",
       "      <td>NaN</td>\n",
       "      <td>NaN</td>\n",
       "    </tr>\n",
       "    <tr>\n",
       "      <th>60927</th>\n",
       "      <td>0e76c737c1f27ac0e5e1e7455a63c8ec</td>\n",
       "      <td>6</td>\n",
       "      <td>6</td>\n",
       "      <td>Electric Bass (pick), Electric Piano 2, Trombo...</td>\n",
       "      <td>Bass, Brass, Piano, Ensemble, Organ</td>\n",
       "      <td>5</td>\n",
       "      <td>2676</td>\n",
       "      <td>56</td>\n",
       "      <td>18.833333</td>\n",
       "      <td>0.331527</td>\n",
       "      <td>...</td>\n",
       "      <td>344</td>\n",
       "      <td>0</td>\n",
       "      <td>0</td>\n",
       "      <td>False</td>\n",
       "      <td>rock</td>\n",
       "      <td>1.0</td>\n",
       "      <td>folk metal</td>\n",
       "      <td>True</td>\n",
       "      <td>NaN</td>\n",
       "      <td>NaN</td>\n",
       "    </tr>\n",
       "    <tr>\n",
       "      <th>60928</th>\n",
       "      <td>0559531dd9382e9f7315011549e5de50</td>\n",
       "      <td>7</td>\n",
       "      <td>6</td>\n",
       "      <td>Acoustic Guitar (steel), Acoustic Grand Piano,...</td>\n",
       "      <td>Piano, Organ, Bass, Guitar</td>\n",
       "      <td>4</td>\n",
       "      <td>3917</td>\n",
       "      <td>45</td>\n",
       "      <td>20.000000</td>\n",
       "      <td>0.504030</td>\n",
       "      <td>...</td>\n",
       "      <td>206</td>\n",
       "      <td>0</td>\n",
       "      <td>0</td>\n",
       "      <td>False</td>\n",
       "      <td>jazz</td>\n",
       "      <td>1.0</td>\n",
       "      <td>easy listening</td>\n",
       "      <td>True</td>\n",
       "      <td>Hank Williams</td>\n",
       "      <td>Too Many Parties and Too Many Pals</td>\n",
       "    </tr>\n",
       "    <tr>\n",
       "      <th>60929</th>\n",
       "      <td>02a04218c03da2ecbfc06b1a73717045</td>\n",
       "      <td>2</td>\n",
       "      <td>2</td>\n",
       "      <td>Flute, French Horn</td>\n",
       "      <td>Pipe, Brass</td>\n",
       "      <td>2</td>\n",
       "      <td>723</td>\n",
       "      <td>51</td>\n",
       "      <td>31.500000</td>\n",
       "      <td>0.590501</td>\n",
       "      <td>...</td>\n",
       "      <td>133</td>\n",
       "      <td>0</td>\n",
       "      <td>0</td>\n",
       "      <td>False</td>\n",
       "      <td>rock</td>\n",
       "      <td>1.0</td>\n",
       "      <td>doom metal</td>\n",
       "      <td>True</td>\n",
       "      <td>Umbreit, Karl Gottlieb</td>\n",
       "      <td>24 Orgelstücke verschiedener Art</td>\n",
       "    </tr>\n",
       "    <tr>\n",
       "      <th>60930</th>\n",
       "      <td>02a04218c03da2ecbfc06b1a73717045</td>\n",
       "      <td>2</td>\n",
       "      <td>2</td>\n",
       "      <td>Flute, French Horn</td>\n",
       "      <td>Pipe, Brass</td>\n",
       "      <td>2</td>\n",
       "      <td>723</td>\n",
       "      <td>51</td>\n",
       "      <td>31.500000</td>\n",
       "      <td>0.590501</td>\n",
       "      <td>...</td>\n",
       "      <td>133</td>\n",
       "      <td>0</td>\n",
       "      <td>0</td>\n",
       "      <td>False</td>\n",
       "      <td>rock</td>\n",
       "      <td>1.0</td>\n",
       "      <td>psychedelic rock</td>\n",
       "      <td>True</td>\n",
       "      <td>Umbreit, Karl Gottlieb</td>\n",
       "      <td>24 Orgelstücke verschiedener Art</td>\n",
       "    </tr>\n",
       "  </tbody>\n",
       "</table>\n",
       "<p>41029 rows × 37 columns</p>\n",
       "</div>"
      ],
      "text/plain": [
       "                                    md5  n_instruments  n_unique_instruments  \\\n",
       "0      ac45c832a78728aa8822a3df637682c3             14                    13   \n",
       "2      ac547baef487103fd9de9f49d2f6e204             15                    12   \n",
       "10     a861dcbbbcece2ba042648c20d3425a8             10                    10   \n",
       "12     a077f8d661f6853d92f47c2e08b723b9              5                     5   \n",
       "13     aa42e141c3e3ff1f46e9bc676ca61ebb              2                     2   \n",
       "...                                 ...            ...                   ...   \n",
       "60926  0e76c737c1f27ac0e5e1e7455a63c8ec              6                     6   \n",
       "60927  0e76c737c1f27ac0e5e1e7455a63c8ec              6                     6   \n",
       "60928  0559531dd9382e9f7315011549e5de50              7                     6   \n",
       "60929  02a04218c03da2ecbfc06b1a73717045              2                     2   \n",
       "60930  02a04218c03da2ecbfc06b1a73717045              2                     2   \n",
       "\n",
       "                                             instruments  \\\n",
       "0      Acoustic Grand Piano, Pad 1 (new age), FX 1 (r...   \n",
       "2      Lead 2 (sawtooth), Acoustic Grand Piano, Brass...   \n",
       "10     Acoustic Guitar (steel), Lead 3 (calliope), Ro...   \n",
       "12     String Ensemble 1, Electric Bass (finger), Ele...   \n",
       "13                         Lead 6 (voice), Pad 4 (choir)   \n",
       "...                                                  ...   \n",
       "60926  Electric Bass (pick), Electric Piano 2, Trombo...   \n",
       "60927  Electric Bass (pick), Electric Piano 2, Trombo...   \n",
       "60928  Acoustic Guitar (steel), Acoustic Grand Piano,...   \n",
       "60929                                 Flute, French Horn   \n",
       "60930                                 Flute, French Horn   \n",
       "\n",
       "                                     instrument_families  \\\n",
       "0      Synth Pad, Guitar, Bass, Synth Effects, Chroma...   \n",
       "2      Piano, Ensemble, Brass, Organ, Percussive, Syn...   \n",
       "10                Piano, Synth Lead, Bass, Guitar, Organ   \n",
       "12                         Piano, Bass, Guitar, Ensemble   \n",
       "13                                 Synth Lead, Synth Pad   \n",
       "...                                                  ...   \n",
       "60926                Bass, Brass, Piano, Ensemble, Organ   \n",
       "60927                Bass, Brass, Piano, Ensemble, Organ   \n",
       "60928                         Piano, Organ, Bass, Guitar   \n",
       "60929                                        Pipe, Brass   \n",
       "60930                                        Pipe, Brass   \n",
       "\n",
       "       number_of_instrument_families  n_notes  n_unique_notes  \\\n",
       "0                                 10     3643              58   \n",
       "2                                  9     8167              55   \n",
       "10                                 5     7691              47   \n",
       "12                                 4     3386              30   \n",
       "13                                 2     3290              33   \n",
       "...                              ...      ...             ...   \n",
       "60926                              5     2676              56   \n",
       "60927                              5     2676              56   \n",
       "60928                              4     3917              45   \n",
       "60929                              2      723              51   \n",
       "60930                              2      723              51   \n",
       "\n",
       "       average_n_unique_notes_per_instrument  average_note_duration  ...  \\\n",
       "0                                  11.214286               0.605142  ...   \n",
       "2                                   8.200000               0.109172  ...   \n",
       "10                                 13.600000               0.535591  ...   \n",
       "12                                  7.800000               0.378581  ...   \n",
       "13                                 33.000000               0.123359  ...   \n",
       "...                                      ...                    ...  ...   \n",
       "60926                              18.833333               0.331527  ...   \n",
       "60927                              18.833333               0.331527  ...   \n",
       "60928                              20.000000               0.504030  ...   \n",
       "60929                              31.500000               0.590501  ...   \n",
       "60930                              31.500000               0.590501  ...   \n",
       "\n",
       "       track_length_in_seconds  lyrics_nb_words  lyrics_unique_words  \\\n",
       "0                          221              223                   95   \n",
       "2                          264                0                    0   \n",
       "10                         305              534                  176   \n",
       "12                         257                0                    0   \n",
       "13                         201                0                    0   \n",
       "...                        ...              ...                  ...   \n",
       "60926                      344                0                    0   \n",
       "60927                      344                0                    0   \n",
       "60928                      206                0                    0   \n",
       "60929                      133                0                    0   \n",
       "60930                      133                0                    0   \n",
       "\n",
       "       lyrics_bool       genre  genre_count             style  \\\n",
       "0             True  electronic         49.0         synth-pop   \n",
       "2            False  electronic         54.0             disco   \n",
       "10            True        rock          6.0     southern rock   \n",
       "12           False        rock          4.0        indie rock   \n",
       "13           False   classical         11.0           baroque   \n",
       "...            ...         ...          ...               ...   \n",
       "60926        False        rock          1.0       death metal   \n",
       "60927        False        rock          1.0        folk metal   \n",
       "60928        False        jazz          1.0    easy listening   \n",
       "60929        False        rock          1.0        doom metal   \n",
       "60930        False        rock          1.0  psychedelic rock   \n",
       "\n",
       "       consensus_genre                  artist  \\\n",
       "0                 True                     NaN   \n",
       "2                 True                     NaN   \n",
       "10                True                     NaN   \n",
       "12                True                  Pixies   \n",
       "13                True                     NaN   \n",
       "...                ...                     ...   \n",
       "60926             True                     NaN   \n",
       "60927             True                     NaN   \n",
       "60928             True           Hank Williams   \n",
       "60929             True  Umbreit, Karl Gottlieb   \n",
       "60930             True  Umbreit, Karl Gottlieb   \n",
       "\n",
       "                                    title  \n",
       "0                                     NaN  \n",
       "2                                     NaN  \n",
       "10                                    NaN  \n",
       "12                          The Happening  \n",
       "13                                    NaN  \n",
       "...                                   ...  \n",
       "60926                                 NaN  \n",
       "60927                                 NaN  \n",
       "60928  Too Many Parties and Too Many Pals  \n",
       "60929    24 Orgelstücke verschiedener Art  \n",
       "60930    24 Orgelstücke verschiedener Art  \n",
       "\n",
       "[41029 rows x 37 columns]"
      ]
     },
     "execution_count": 8,
     "metadata": {},
     "output_type": "execute_result"
    }
   ],
   "source": [
    "# merge the genre_df and names_df\n",
    "merged_df_full = pd.merge(genre_df, names_df, on='md5', how='outer')\n",
    "\n",
    "# Merge the stats and merged_df_full \n",
    "stats_enriched = pd.merge(stats, merged_df_full, on='md5', how='left')\n",
    "\n",
    "# drop unnamed column\n",
    "stats_enriched = stats_enriched.drop('Unnamed: 0', axis=1)\n",
    "\n",
    "# when the genre is not available, use the genre from genre_discogs\n",
    "stats_enriched['genre'] = stats_enriched['genre'].fillna(stats_enriched['genre_discogs'])\n",
    "\n",
    "# when consensus_genre is not available, fill with True\n",
    "stats_enriched['consensus_genre'] = stats_enriched['consensus_genre'].fillna(True)\n",
    "\n",
    "# remove genre_discogs column\n",
    "stats_enriched = stats_enriched.drop('genre_discogs', axis=1)\n",
    "\n",
    "# Keep only the rows where consensus_genre is True\n",
    "stats_enriched = stats_enriched[stats_enriched['consensus_genre'] == True]\n",
    "\n",
    "stats_enriched\n",
    "\n",
    "\n",
    "# Export stats_enriched to csv\n",
    "# stats_enriched.to_csv('../data/statistics_v2.csv', index=False)"
   ]
  },
  {
   "cell_type": "code",
   "execution_count": 9,
   "metadata": {},
   "outputs": [
    {
     "data": {
      "application/vnd.plotly.v1+json": {
       "config": {
        "plotlyServerURL": "https://plot.ly"
       },
       "data": [
        {
         "alignmentgroup": "True",
         "hovertemplate": "genre=classical<br>count=%{x}<br>style=%{y}<extra></extra>",
         "legendgroup": "classical",
         "marker": {
          "color": "#636efa",
          "pattern": {
           "shape": ""
          }
         },
         "name": "classical",
         "offsetgroup": "classical",
         "orientation": "h",
         "showlegend": true,
         "textposition": "outside",
         "texttemplate": "%{value:.2s}",
         "type": "bar",
         "x": [
          759,
          754,
          682,
          412,
          214
         ],
         "xaxis": "x",
         "y": [
          "baroque",
          "classical",
          "romantic",
          "modern",
          "contemporary"
         ],
         "yaxis": "y"
        },
        {
         "alignmentgroup": "True",
         "hovertemplate": "genre=electronic<br>count=%{x}<br>style=%{y}<extra></extra>",
         "legendgroup": "electronic",
         "marker": {
          "color": "#EF553B",
          "pattern": {
           "shape": ""
          }
         },
         "name": "electronic",
         "offsetgroup": "electronic",
         "orientation": "h",
         "showlegend": true,
         "textposition": "outside",
         "texttemplate": "%{value:.2s}",
         "type": "bar",
         "x": [
          1796,
          1153,
          1082,
          1061,
          979,
          947,
          628,
          483,
          439,
          409,
          357,
          321,
          304,
          285,
          259,
          235,
          205,
          199,
          159,
          146,
          142,
          129,
          118,
          114,
          108,
          107,
          101
         ],
         "xaxis": "x",
         "y": [
          "synth-pop",
          "electro",
          "house",
          "downtempo",
          "trance",
          "ambient",
          "progressive trance",
          "progressive house",
          "techno",
          "euro house",
          "disco",
          "experimental",
          "tech house",
          "modern classical",
          "new age",
          "deep house",
          "leftfield",
          "new wave",
          "minimal",
          "abstract",
          "trip hop",
          "idm",
          "ebm",
          "dub",
          "industrial",
          "hip hop",
          "dubstep"
         ],
         "yaxis": "y"
        },
        {
         "alignmentgroup": "True",
         "hovertemplate": "genre=folk, world, & country<br>count=%{x}<br>style=%{y}<extra></extra>",
         "legendgroup": "folk, world, & country",
         "marker": {
          "color": "#00cc96",
          "pattern": {
           "shape": ""
          }
         },
         "name": "folk, world, & country",
         "offsetgroup": "folk, world, & country",
         "orientation": "h",
         "showlegend": true,
         "textposition": "outside",
         "texttemplate": "%{value:.2s}",
         "type": "bar",
         "x": [
          876,
          406
         ],
         "xaxis": "x",
         "y": [
          "country",
          "folk"
         ],
         "yaxis": "y"
        },
        {
         "alignmentgroup": "True",
         "hovertemplate": "genre=funk / soul<br>count=%{x}<br>style=%{y}<extra></extra>",
         "legendgroup": "funk / soul",
         "marker": {
          "color": "#ab63fa",
          "pattern": {
           "shape": ""
          }
         },
         "name": "funk / soul",
         "offsetgroup": "funk / soul",
         "orientation": "h",
         "showlegend": true,
         "textposition": "outside",
         "texttemplate": "%{value:.2s}",
         "type": "bar",
         "x": [
          395,
          156,
          143,
          104
         ],
         "xaxis": "x",
         "y": [
          "soul",
          "disco",
          "funk",
          "rhythm & blues"
         ],
         "yaxis": "y"
        },
        {
         "alignmentgroup": "True",
         "hovertemplate": "genre=hip hop<br>count=%{x}<br>style=%{y}<extra></extra>",
         "legendgroup": "hip hop",
         "marker": {
          "color": "#FFA15A",
          "pattern": {
           "shape": ""
          }
         },
         "name": "hip hop",
         "offsetgroup": "hip hop",
         "orientation": "h",
         "showlegend": true,
         "textposition": "outside",
         "texttemplate": "%{value:.2s}",
         "type": "bar",
         "x": [
          188
         ],
         "xaxis": "x",
         "y": [
          "rnb/swing"
         ],
         "yaxis": "y"
        },
        {
         "alignmentgroup": "True",
         "hovertemplate": "genre=pop<br>count=%{x}<br>style=%{y}<extra></extra>",
         "legendgroup": "pop",
         "marker": {
          "color": "#19d3f3",
          "pattern": {
           "shape": ""
          }
         },
         "name": "pop",
         "offsetgroup": "pop",
         "orientation": "h",
         "showlegend": true,
         "textposition": "outside",
         "texttemplate": "%{value:.2s}",
         "type": "bar",
         "x": [
          932,
          625,
          432,
          228,
          221,
          108
         ],
         "xaxis": "x",
         "y": [
          "ballad",
          "vocal",
          "europop",
          "chanson",
          "indie pop",
          "schlager"
         ],
         "yaxis": "y"
        },
        {
         "alignmentgroup": "True",
         "hovertemplate": "genre=rock<br>count=%{x}<br>style=%{y}<extra></extra>",
         "legendgroup": "rock",
         "marker": {
          "color": "#FF6692",
          "pattern": {
           "shape": ""
          }
         },
         "name": "rock",
         "offsetgroup": "rock",
         "orientation": "h",
         "showlegend": true,
         "textposition": "outside",
         "texttemplate": "%{value:.2s}",
         "type": "bar",
         "x": [
          2408,
          1756,
          1543,
          916,
          701,
          675,
          664,
          617,
          555,
          537,
          430,
          347,
          324,
          286,
          270,
          251,
          237,
          227,
          213,
          202,
          179,
          167,
          158,
          157,
          145,
          129,
          121,
          104
         ],
         "xaxis": "x",
         "y": [
          "pop rock",
          "alternative rock",
          "indie rock",
          "heavy metal",
          "folk rock",
          "hard rock",
          "punk",
          "prog rock",
          "classic rock",
          "soft rock",
          "acoustic",
          "country rock",
          "blues rock",
          "symphonic rock",
          "rock & roll",
          "goth rock",
          "psychedelic rock",
          "post rock",
          "new wave",
          "death metal",
          "experimental",
          "shoegaze",
          "black metal",
          "nu metal",
          "art rock",
          "doom metal",
          "southern rock",
          "hardcore"
         ],
         "yaxis": "y"
        },
        {
         "alignmentgroup": "True",
         "hovertemplate": "genre=stage & screen<br>count=%{x}<br>style=%{y}<extra></extra>",
         "legendgroup": "stage & screen",
         "marker": {
          "color": "#B6E880",
          "pattern": {
           "shape": ""
          }
         },
         "name": "stage & screen",
         "offsetgroup": "stage & screen",
         "orientation": "h",
         "showlegend": true,
         "textposition": "outside",
         "texttemplate": "%{value:.2s}",
         "type": "bar",
         "x": [
          372,
          297
         ],
         "xaxis": "x",
         "y": [
          "soundtrack",
          "score"
         ],
         "yaxis": "y"
        }
       ],
       "layout": {
        "barmode": "relative",
        "height": 2000,
        "legend": {
         "title": {
          "text": "genre"
         },
         "tracegroupgap": 0
        },
        "template": {
         "data": {
          "bar": [
           {
            "error_x": {
             "color": "#2a3f5f"
            },
            "error_y": {
             "color": "#2a3f5f"
            },
            "marker": {
             "line": {
              "color": "#E5ECF6",
              "width": 0.5
             },
             "pattern": {
              "fillmode": "overlay",
              "size": 10,
              "solidity": 0.2
             }
            },
            "type": "bar"
           }
          ],
          "barpolar": [
           {
            "marker": {
             "line": {
              "color": "#E5ECF6",
              "width": 0.5
             },
             "pattern": {
              "fillmode": "overlay",
              "size": 10,
              "solidity": 0.2
             }
            },
            "type": "barpolar"
           }
          ],
          "carpet": [
           {
            "aaxis": {
             "endlinecolor": "#2a3f5f",
             "gridcolor": "white",
             "linecolor": "white",
             "minorgridcolor": "white",
             "startlinecolor": "#2a3f5f"
            },
            "baxis": {
             "endlinecolor": "#2a3f5f",
             "gridcolor": "white",
             "linecolor": "white",
             "minorgridcolor": "white",
             "startlinecolor": "#2a3f5f"
            },
            "type": "carpet"
           }
          ],
          "choropleth": [
           {
            "colorbar": {
             "outlinewidth": 0,
             "ticks": ""
            },
            "type": "choropleth"
           }
          ],
          "contour": [
           {
            "colorbar": {
             "outlinewidth": 0,
             "ticks": ""
            },
            "colorscale": [
             [
              0,
              "#0d0887"
             ],
             [
              0.1111111111111111,
              "#46039f"
             ],
             [
              0.2222222222222222,
              "#7201a8"
             ],
             [
              0.3333333333333333,
              "#9c179e"
             ],
             [
              0.4444444444444444,
              "#bd3786"
             ],
             [
              0.5555555555555556,
              "#d8576b"
             ],
             [
              0.6666666666666666,
              "#ed7953"
             ],
             [
              0.7777777777777778,
              "#fb9f3a"
             ],
             [
              0.8888888888888888,
              "#fdca26"
             ],
             [
              1,
              "#f0f921"
             ]
            ],
            "type": "contour"
           }
          ],
          "contourcarpet": [
           {
            "colorbar": {
             "outlinewidth": 0,
             "ticks": ""
            },
            "type": "contourcarpet"
           }
          ],
          "heatmap": [
           {
            "colorbar": {
             "outlinewidth": 0,
             "ticks": ""
            },
            "colorscale": [
             [
              0,
              "#0d0887"
             ],
             [
              0.1111111111111111,
              "#46039f"
             ],
             [
              0.2222222222222222,
              "#7201a8"
             ],
             [
              0.3333333333333333,
              "#9c179e"
             ],
             [
              0.4444444444444444,
              "#bd3786"
             ],
             [
              0.5555555555555556,
              "#d8576b"
             ],
             [
              0.6666666666666666,
              "#ed7953"
             ],
             [
              0.7777777777777778,
              "#fb9f3a"
             ],
             [
              0.8888888888888888,
              "#fdca26"
             ],
             [
              1,
              "#f0f921"
             ]
            ],
            "type": "heatmap"
           }
          ],
          "heatmapgl": [
           {
            "colorbar": {
             "outlinewidth": 0,
             "ticks": ""
            },
            "colorscale": [
             [
              0,
              "#0d0887"
             ],
             [
              0.1111111111111111,
              "#46039f"
             ],
             [
              0.2222222222222222,
              "#7201a8"
             ],
             [
              0.3333333333333333,
              "#9c179e"
             ],
             [
              0.4444444444444444,
              "#bd3786"
             ],
             [
              0.5555555555555556,
              "#d8576b"
             ],
             [
              0.6666666666666666,
              "#ed7953"
             ],
             [
              0.7777777777777778,
              "#fb9f3a"
             ],
             [
              0.8888888888888888,
              "#fdca26"
             ],
             [
              1,
              "#f0f921"
             ]
            ],
            "type": "heatmapgl"
           }
          ],
          "histogram": [
           {
            "marker": {
             "pattern": {
              "fillmode": "overlay",
              "size": 10,
              "solidity": 0.2
             }
            },
            "type": "histogram"
           }
          ],
          "histogram2d": [
           {
            "colorbar": {
             "outlinewidth": 0,
             "ticks": ""
            },
            "colorscale": [
             [
              0,
              "#0d0887"
             ],
             [
              0.1111111111111111,
              "#46039f"
             ],
             [
              0.2222222222222222,
              "#7201a8"
             ],
             [
              0.3333333333333333,
              "#9c179e"
             ],
             [
              0.4444444444444444,
              "#bd3786"
             ],
             [
              0.5555555555555556,
              "#d8576b"
             ],
             [
              0.6666666666666666,
              "#ed7953"
             ],
             [
              0.7777777777777778,
              "#fb9f3a"
             ],
             [
              0.8888888888888888,
              "#fdca26"
             ],
             [
              1,
              "#f0f921"
             ]
            ],
            "type": "histogram2d"
           }
          ],
          "histogram2dcontour": [
           {
            "colorbar": {
             "outlinewidth": 0,
             "ticks": ""
            },
            "colorscale": [
             [
              0,
              "#0d0887"
             ],
             [
              0.1111111111111111,
              "#46039f"
             ],
             [
              0.2222222222222222,
              "#7201a8"
             ],
             [
              0.3333333333333333,
              "#9c179e"
             ],
             [
              0.4444444444444444,
              "#bd3786"
             ],
             [
              0.5555555555555556,
              "#d8576b"
             ],
             [
              0.6666666666666666,
              "#ed7953"
             ],
             [
              0.7777777777777778,
              "#fb9f3a"
             ],
             [
              0.8888888888888888,
              "#fdca26"
             ],
             [
              1,
              "#f0f921"
             ]
            ],
            "type": "histogram2dcontour"
           }
          ],
          "mesh3d": [
           {
            "colorbar": {
             "outlinewidth": 0,
             "ticks": ""
            },
            "type": "mesh3d"
           }
          ],
          "parcoords": [
           {
            "line": {
             "colorbar": {
              "outlinewidth": 0,
              "ticks": ""
             }
            },
            "type": "parcoords"
           }
          ],
          "pie": [
           {
            "automargin": true,
            "type": "pie"
           }
          ],
          "scatter": [
           {
            "fillpattern": {
             "fillmode": "overlay",
             "size": 10,
             "solidity": 0.2
            },
            "type": "scatter"
           }
          ],
          "scatter3d": [
           {
            "line": {
             "colorbar": {
              "outlinewidth": 0,
              "ticks": ""
             }
            },
            "marker": {
             "colorbar": {
              "outlinewidth": 0,
              "ticks": ""
             }
            },
            "type": "scatter3d"
           }
          ],
          "scattercarpet": [
           {
            "marker": {
             "colorbar": {
              "outlinewidth": 0,
              "ticks": ""
             }
            },
            "type": "scattercarpet"
           }
          ],
          "scattergeo": [
           {
            "marker": {
             "colorbar": {
              "outlinewidth": 0,
              "ticks": ""
             }
            },
            "type": "scattergeo"
           }
          ],
          "scattergl": [
           {
            "marker": {
             "colorbar": {
              "outlinewidth": 0,
              "ticks": ""
             }
            },
            "type": "scattergl"
           }
          ],
          "scattermapbox": [
           {
            "marker": {
             "colorbar": {
              "outlinewidth": 0,
              "ticks": ""
             }
            },
            "type": "scattermapbox"
           }
          ],
          "scatterpolar": [
           {
            "marker": {
             "colorbar": {
              "outlinewidth": 0,
              "ticks": ""
             }
            },
            "type": "scatterpolar"
           }
          ],
          "scatterpolargl": [
           {
            "marker": {
             "colorbar": {
              "outlinewidth": 0,
              "ticks": ""
             }
            },
            "type": "scatterpolargl"
           }
          ],
          "scatterternary": [
           {
            "marker": {
             "colorbar": {
              "outlinewidth": 0,
              "ticks": ""
             }
            },
            "type": "scatterternary"
           }
          ],
          "surface": [
           {
            "colorbar": {
             "outlinewidth": 0,
             "ticks": ""
            },
            "colorscale": [
             [
              0,
              "#0d0887"
             ],
             [
              0.1111111111111111,
              "#46039f"
             ],
             [
              0.2222222222222222,
              "#7201a8"
             ],
             [
              0.3333333333333333,
              "#9c179e"
             ],
             [
              0.4444444444444444,
              "#bd3786"
             ],
             [
              0.5555555555555556,
              "#d8576b"
             ],
             [
              0.6666666666666666,
              "#ed7953"
             ],
             [
              0.7777777777777778,
              "#fb9f3a"
             ],
             [
              0.8888888888888888,
              "#fdca26"
             ],
             [
              1,
              "#f0f921"
             ]
            ],
            "type": "surface"
           }
          ],
          "table": [
           {
            "cells": {
             "fill": {
              "color": "#EBF0F8"
             },
             "line": {
              "color": "white"
             }
            },
            "header": {
             "fill": {
              "color": "#C8D4E3"
             },
             "line": {
              "color": "white"
             }
            },
            "type": "table"
           }
          ]
         },
         "layout": {
          "annotationdefaults": {
           "arrowcolor": "#2a3f5f",
           "arrowhead": 0,
           "arrowwidth": 1
          },
          "autotypenumbers": "strict",
          "coloraxis": {
           "colorbar": {
            "outlinewidth": 0,
            "ticks": ""
           }
          },
          "colorscale": {
           "diverging": [
            [
             0,
             "#8e0152"
            ],
            [
             0.1,
             "#c51b7d"
            ],
            [
             0.2,
             "#de77ae"
            ],
            [
             0.3,
             "#f1b6da"
            ],
            [
             0.4,
             "#fde0ef"
            ],
            [
             0.5,
             "#f7f7f7"
            ],
            [
             0.6,
             "#e6f5d0"
            ],
            [
             0.7,
             "#b8e186"
            ],
            [
             0.8,
             "#7fbc41"
            ],
            [
             0.9,
             "#4d9221"
            ],
            [
             1,
             "#276419"
            ]
           ],
           "sequential": [
            [
             0,
             "#0d0887"
            ],
            [
             0.1111111111111111,
             "#46039f"
            ],
            [
             0.2222222222222222,
             "#7201a8"
            ],
            [
             0.3333333333333333,
             "#9c179e"
            ],
            [
             0.4444444444444444,
             "#bd3786"
            ],
            [
             0.5555555555555556,
             "#d8576b"
            ],
            [
             0.6666666666666666,
             "#ed7953"
            ],
            [
             0.7777777777777778,
             "#fb9f3a"
            ],
            [
             0.8888888888888888,
             "#fdca26"
            ],
            [
             1,
             "#f0f921"
            ]
           ],
           "sequentialminus": [
            [
             0,
             "#0d0887"
            ],
            [
             0.1111111111111111,
             "#46039f"
            ],
            [
             0.2222222222222222,
             "#7201a8"
            ],
            [
             0.3333333333333333,
             "#9c179e"
            ],
            [
             0.4444444444444444,
             "#bd3786"
            ],
            [
             0.5555555555555556,
             "#d8576b"
            ],
            [
             0.6666666666666666,
             "#ed7953"
            ],
            [
             0.7777777777777778,
             "#fb9f3a"
            ],
            [
             0.8888888888888888,
             "#fdca26"
            ],
            [
             1,
             "#f0f921"
            ]
           ]
          },
          "colorway": [
           "#636efa",
           "#EF553B",
           "#00cc96",
           "#ab63fa",
           "#FFA15A",
           "#19d3f3",
           "#FF6692",
           "#B6E880",
           "#FF97FF",
           "#FECB52"
          ],
          "font": {
           "color": "#2a3f5f"
          },
          "geo": {
           "bgcolor": "white",
           "lakecolor": "white",
           "landcolor": "#E5ECF6",
           "showlakes": true,
           "showland": true,
           "subunitcolor": "white"
          },
          "hoverlabel": {
           "align": "left"
          },
          "hovermode": "closest",
          "mapbox": {
           "style": "light"
          },
          "paper_bgcolor": "white",
          "plot_bgcolor": "#E5ECF6",
          "polar": {
           "angularaxis": {
            "gridcolor": "white",
            "linecolor": "white",
            "ticks": ""
           },
           "bgcolor": "#E5ECF6",
           "radialaxis": {
            "gridcolor": "white",
            "linecolor": "white",
            "ticks": ""
           }
          },
          "scene": {
           "xaxis": {
            "backgroundcolor": "#E5ECF6",
            "gridcolor": "white",
            "gridwidth": 2,
            "linecolor": "white",
            "showbackground": true,
            "ticks": "",
            "zerolinecolor": "white"
           },
           "yaxis": {
            "backgroundcolor": "#E5ECF6",
            "gridcolor": "white",
            "gridwidth": 2,
            "linecolor": "white",
            "showbackground": true,
            "ticks": "",
            "zerolinecolor": "white"
           },
           "zaxis": {
            "backgroundcolor": "#E5ECF6",
            "gridcolor": "white",
            "gridwidth": 2,
            "linecolor": "white",
            "showbackground": true,
            "ticks": "",
            "zerolinecolor": "white"
           }
          },
          "shapedefaults": {
           "line": {
            "color": "#2a3f5f"
           }
          },
          "ternary": {
           "aaxis": {
            "gridcolor": "white",
            "linecolor": "white",
            "ticks": ""
           },
           "baxis": {
            "gridcolor": "white",
            "linecolor": "white",
            "ticks": ""
           },
           "bgcolor": "#E5ECF6",
           "caxis": {
            "gridcolor": "white",
            "linecolor": "white",
            "ticks": ""
           }
          },
          "title": {
           "x": 0.05
          },
          "xaxis": {
           "automargin": true,
           "gridcolor": "white",
           "linecolor": "white",
           "ticks": "",
           "title": {
            "standoff": 15
           },
           "zerolinecolor": "white",
           "zerolinewidth": 2
          },
          "yaxis": {
           "automargin": true,
           "gridcolor": "white",
           "linecolor": "white",
           "ticks": "",
           "title": {
            "standoff": 15
           },
           "zerolinecolor": "white",
           "zerolinewidth": 2
          }
         }
        },
        "title": {
         "text": "Styles per genre"
        },
        "width": 1000,
        "xaxis": {
         "anchor": "y",
         "domain": [
          0,
          1
         ],
         "title": {
          "text": "count"
         }
        },
        "yaxis": {
         "anchor": "x",
         "domain": [
          0,
          1
         ],
         "title": {
          "text": "style"
         }
        }
       }
      }
     },
     "metadata": {},
     "output_type": "display_data"
    },
    {
     "data": {
      "text/html": [
       "<div>\n",
       "<style scoped>\n",
       "    .dataframe tbody tr th:only-of-type {\n",
       "        vertical-align: middle;\n",
       "    }\n",
       "\n",
       "    .dataframe tbody tr th {\n",
       "        vertical-align: top;\n",
       "    }\n",
       "\n",
       "    .dataframe thead th {\n",
       "        text-align: right;\n",
       "    }\n",
       "</style>\n",
       "<table border=\"1\" class=\"dataframe\">\n",
       "  <thead>\n",
       "    <tr style=\"text-align: right;\">\n",
       "      <th></th>\n",
       "      <th>genre</th>\n",
       "      <th>style</th>\n",
       "      <th>count</th>\n",
       "    </tr>\n",
       "  </thead>\n",
       "  <tbody>\n",
       "    <tr>\n",
       "      <th>10</th>\n",
       "      <td>classical</td>\n",
       "      <td>baroque</td>\n",
       "      <td>759</td>\n",
       "    </tr>\n",
       "    <tr>\n",
       "      <th>11</th>\n",
       "      <td>classical</td>\n",
       "      <td>classical</td>\n",
       "      <td>754</td>\n",
       "    </tr>\n",
       "    <tr>\n",
       "      <th>12</th>\n",
       "      <td>classical</td>\n",
       "      <td>romantic</td>\n",
       "      <td>682</td>\n",
       "    </tr>\n",
       "    <tr>\n",
       "      <th>13</th>\n",
       "      <td>classical</td>\n",
       "      <td>modern</td>\n",
       "      <td>412</td>\n",
       "    </tr>\n",
       "    <tr>\n",
       "      <th>14</th>\n",
       "      <td>classical</td>\n",
       "      <td>contemporary</td>\n",
       "      <td>214</td>\n",
       "    </tr>\n",
       "    <tr>\n",
       "      <th>...</th>\n",
       "      <td>...</td>\n",
       "      <td>...</td>\n",
       "      <td>...</td>\n",
       "    </tr>\n",
       "    <tr>\n",
       "      <th>229</th>\n",
       "      <td>rock</td>\n",
       "      <td>doom metal</td>\n",
       "      <td>129</td>\n",
       "    </tr>\n",
       "    <tr>\n",
       "      <th>230</th>\n",
       "      <td>rock</td>\n",
       "      <td>southern rock</td>\n",
       "      <td>121</td>\n",
       "    </tr>\n",
       "    <tr>\n",
       "      <th>231</th>\n",
       "      <td>rock</td>\n",
       "      <td>hardcore</td>\n",
       "      <td>104</td>\n",
       "    </tr>\n",
       "    <tr>\n",
       "      <th>276</th>\n",
       "      <td>stage &amp; screen</td>\n",
       "      <td>soundtrack</td>\n",
       "      <td>372</td>\n",
       "    </tr>\n",
       "    <tr>\n",
       "      <th>277</th>\n",
       "      <td>stage &amp; screen</td>\n",
       "      <td>score</td>\n",
       "      <td>297</td>\n",
       "    </tr>\n",
       "  </tbody>\n",
       "</table>\n",
       "<p>75 rows × 3 columns</p>\n",
       "</div>"
      ],
      "text/plain": [
       "              genre          style  count\n",
       "10        classical        baroque    759\n",
       "11        classical      classical    754\n",
       "12        classical       romantic    682\n",
       "13        classical         modern    412\n",
       "14        classical   contemporary    214\n",
       "..              ...            ...    ...\n",
       "229            rock     doom metal    129\n",
       "230            rock  southern rock    121\n",
       "231            rock       hardcore    104\n",
       "276  stage & screen     soundtrack    372\n",
       "277  stage & screen          score    297\n",
       "\n",
       "[75 rows x 3 columns]"
      ]
     },
     "execution_count": 9,
     "metadata": {},
     "output_type": "execute_result"
    }
   ],
   "source": [
    "import plotly.express as px\n",
    "\n",
    "# count number of styles per genre\n",
    "genre_styles = discogs_genre_names.groupby('genre')['style'].value_counts().reset_index(name='count')\n",
    "\n",
    "# keep rows where the count is more than 100\n",
    "genre_styles = genre_styles[genre_styles['count'] > 100]\n",
    "\n",
    "# plot the count of styles per genre as a vetical bar chart with plotly\n",
    "fig = px.bar(genre_styles, y='style', x='count', color='genre', title='Styles per genre', height=2000, width=1000)\n",
    "\n",
    "# show counts on figure\n",
    "fig.update_traces(texttemplate='%{value:.2s}', textposition='outside')\n",
    "\n",
    "fig.show()\n",
    "\n",
    "# export plot to png\n",
    "fig.write_image(\"../data/styles_per_genre.png\")\n",
    "\n",
    "genre_styles"
   ]
  },
  {
   "cell_type": "code",
   "execution_count": 14,
   "metadata": {},
   "outputs": [
    {
     "data": {
      "text/plain": [
       "artist    15278\n",
       "genre       130\n",
       "count       218\n",
       "dtype: int64"
      ]
     },
     "execution_count": 14,
     "metadata": {},
     "output_type": "execute_result"
    }
   ],
   "source": [
    "name_genres_df\n",
    "\n",
    "# count unique number of md5 per artist and genre\n",
    "artist_genre = name_genres_df.groupby(['artist', 'genre'])['md5'].nunique().reset_index(name='count')\n",
    "\n",
    "# order by highest count\n",
    "artist_genre = artist_genre.sort_values(by='count', ascending=False)\n",
    "\n",
    "# export to csv\n",
    "artist_genre.to_csv('../data/artist_genre.csv', index=False)\n",
    "\n",
    "artist_genre.nunique()"
   ]
  },
  {
   "cell_type": "code",
   "execution_count": null,
   "metadata": {},
   "outputs": [],
   "source": []
  }
 ],
 "metadata": {
  "kernelspec": {
   "display_name": "Python 3.8.13 ('jam')",
   "language": "python",
   "name": "python3"
  },
  "language_info": {
   "codemirror_mode": {
    "name": "ipython",
    "version": 3
   },
   "file_extension": ".py",
   "mimetype": "text/x-python",
   "name": "python",
   "nbconvert_exporter": "python",
   "pygments_lexer": "ipython3",
   "version": "3.8.13"
  },
  "orig_nbformat": 4,
  "vscode": {
   "interpreter": {
    "hash": "bce94098af87f1b13e78b3da743513e2cb4949eb66f6d16f8ca4bcac995199df"
   }
  }
 },
 "nbformat": 4,
 "nbformat_minor": 2
}
