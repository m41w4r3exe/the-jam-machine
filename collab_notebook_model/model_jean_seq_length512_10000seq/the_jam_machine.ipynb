{
  "cells": [
    {
      "cell_type": "markdown",
      "metadata": {
        "id": "I3vAEjWWI2On"
      },
      "source": [
        "# The Jam Machine \n",
        "\n",
        "In this notebook, you can:\n",
        "\n",
        "- Train the-jam-machine model on your own music dataset from stratch \n",
        "\n",
        "- Generate music using the-jam machine *A-lot-TODO \n",
        "\n",
        "- Finetune a pretrained the-jam-machine model with an additional dataset *TODO\n",
        "\n",
        "Check the-jam-machine on [GitHub](https://github.com/m41w4r3exe/the-jam-machine)\n"
      ]
    },
    {
      "cell_type": "code",
      "execution_count": 2,
      "metadata": {
        "colab": {
          "base_uri": "https://localhost:8080/"
        },
        "id": "Nj3_dbPjL0tB",
        "outputId": "562f3d1b-1592-408f-f2b5-fc73a82497d8"
      },
      "outputs": [
        {
          "name": "stdout",
          "output_type": "stream",
          "text": [
            "Looking in indexes: https://pypi.org/simple, https://us-python.pkg.dev/colab-wheels/public/simple/\n",
            "Collecting wandb\n",
            "  Downloading wandb-0.13.5-py2.py3-none-any.whl (1.9 MB)\n",
            "\u001b[K     |████████████████████████████████| 1.9 MB 4.8 MB/s \n",
            "\u001b[?25hCollecting docker-pycreds>=0.4.0\n",
            "  Downloading docker_pycreds-0.4.0-py2.py3-none-any.whl (9.0 kB)\n",
            "Collecting setproctitle\n",
            "  Downloading setproctitle-1.3.2-cp37-cp37m-manylinux_2_5_x86_64.manylinux1_x86_64.manylinux_2_17_x86_64.manylinux2014_x86_64.whl (30 kB)\n",
            "Collecting GitPython>=1.0.0\n",
            "  Downloading GitPython-3.1.29-py3-none-any.whl (182 kB)\n",
            "\u001b[K     |████████████████████████████████| 182 kB 89.9 MB/s \n",
            "\u001b[?25hCollecting sentry-sdk>=1.0.0\n",
            "  Downloading sentry_sdk-1.11.1-py2.py3-none-any.whl (168 kB)\n",
            "\u001b[K     |████████████████████████████████| 168 kB 81.3 MB/s \n",
            "\u001b[?25hRequirement already satisfied: six>=1.13.0 in /usr/local/lib/python3.7/dist-packages (from wandb) (1.15.0)\n",
            "Requirement already satisfied: setuptools in /usr/local/lib/python3.7/dist-packages (from wandb) (57.4.0)\n",
            "Requirement already satisfied: Click!=8.0.0,>=7.0 in /usr/local/lib/python3.7/dist-packages (from wandb) (7.1.2)\n",
            "Requirement already satisfied: psutil>=5.0.0 in /usr/local/lib/python3.7/dist-packages (from wandb) (5.4.8)\n",
            "Collecting pathtools\n",
            "  Downloading pathtools-0.1.2.tar.gz (11 kB)\n",
            "Requirement already satisfied: PyYAML in /usr/local/lib/python3.7/dist-packages (from wandb) (6.0)\n",
            "Requirement already satisfied: protobuf!=4.0.*,!=4.21.0,<5,>=3.12.0 in /usr/local/lib/python3.7/dist-packages (from wandb) (3.19.6)\n",
            "Requirement already satisfied: requests<3,>=2.0.0 in /usr/local/lib/python3.7/dist-packages (from wandb) (2.23.0)\n",
            "Collecting shortuuid>=0.5.0\n",
            "  Downloading shortuuid-1.0.11-py3-none-any.whl (10 kB)\n",
            "Requirement already satisfied: promise<3,>=2.0 in /usr/local/lib/python3.7/dist-packages (from wandb) (2.3)\n",
            "Requirement already satisfied: typing-extensions>=3.7.4.3 in /usr/local/lib/python3.7/dist-packages (from GitPython>=1.0.0->wandb) (4.1.1)\n",
            "Collecting gitdb<5,>=4.0.1\n",
            "  Downloading gitdb-4.0.10-py3-none-any.whl (62 kB)\n",
            "\u001b[K     |████████████████████████████████| 62 kB 1.6 MB/s \n",
            "\u001b[?25hCollecting smmap<6,>=3.0.1\n",
            "  Downloading smmap-5.0.0-py3-none-any.whl (24 kB)\n",
            "Requirement already satisfied: urllib3!=1.25.0,!=1.25.1,<1.26,>=1.21.1 in /usr/local/lib/python3.7/dist-packages (from requests<3,>=2.0.0->wandb) (1.24.3)\n",
            "Requirement already satisfied: chardet<4,>=3.0.2 in /usr/local/lib/python3.7/dist-packages (from requests<3,>=2.0.0->wandb) (3.0.4)\n",
            "Requirement already satisfied: idna<3,>=2.5 in /usr/local/lib/python3.7/dist-packages (from requests<3,>=2.0.0->wandb) (2.10)\n",
            "Requirement already satisfied: certifi>=2017.4.17 in /usr/local/lib/python3.7/dist-packages (from requests<3,>=2.0.0->wandb) (2022.9.24)\n",
            "Collecting sentry-sdk>=1.0.0\n",
            "  Downloading sentry_sdk-1.11.0-py2.py3-none-any.whl (168 kB)\n",
            "\u001b[K     |████████████████████████████████| 168 kB 92.4 MB/s \n",
            "\u001b[?25h  Downloading sentry_sdk-1.10.1-py2.py3-none-any.whl (166 kB)\n",
            "\u001b[K     |████████████████████████████████| 166 kB 70.8 MB/s \n",
            "\u001b[?25h  Downloading sentry_sdk-1.10.0-py2.py3-none-any.whl (166 kB)\n",
            "\u001b[K     |████████████████████████████████| 166 kB 88.0 MB/s \n",
            "\u001b[?25h  Downloading sentry_sdk-1.9.10-py2.py3-none-any.whl (162 kB)\n",
            "\u001b[K     |████████████████████████████████| 162 kB 71.1 MB/s \n",
            "\u001b[?25h  Downloading sentry_sdk-1.9.9-py2.py3-none-any.whl (162 kB)\n",
            "\u001b[K     |████████████████████████████████| 162 kB 84.3 MB/s \n",
            "\u001b[?25h  Downloading sentry_sdk-1.9.8-py2.py3-none-any.whl (158 kB)\n",
            "\u001b[K     |████████████████████████████████| 158 kB 88.5 MB/s \n",
            "\u001b[?25h  Downloading sentry_sdk-1.9.7-py2.py3-none-any.whl (157 kB)\n",
            "\u001b[K     |████████████████████████████████| 157 kB 86.9 MB/s \n",
            "\u001b[?25h  Downloading sentry_sdk-1.9.6-py2.py3-none-any.whl (157 kB)\n",
            "\u001b[K     |████████████████████████████████| 157 kB 96.4 MB/s \n",
            "\u001b[?25h  Downloading sentry_sdk-1.9.5-py2.py3-none-any.whl (157 kB)\n",
            "\u001b[K     |████████████████████████████████| 157 kB 69.6 MB/s \n",
            "\u001b[?25h  Downloading sentry_sdk-1.9.4-py2.py3-none-any.whl (157 kB)\n",
            "\u001b[K     |████████████████████████████████| 157 kB 60.4 MB/s \n",
            "\u001b[?25h  Downloading sentry_sdk-1.9.3-py2.py3-none-any.whl (157 kB)\n",
            "\u001b[K     |████████████████████████████████| 157 kB 74.3 MB/s \n",
            "\u001b[?25h  Downloading sentry_sdk-1.9.2-py2.py3-none-any.whl (157 kB)\n",
            "\u001b[K     |████████████████████████████████| 157 kB 76.5 MB/s \n",
            "\u001b[?25h  Downloading sentry_sdk-1.9.1-py2.py3-none-any.whl (157 kB)\n",
            "\u001b[K     |████████████████████████████████| 157 kB 75.2 MB/s \n",
            "\u001b[?25h  Downloading sentry_sdk-1.9.0-py2.py3-none-any.whl (156 kB)\n",
            "\u001b[K     |████████████████████████████████| 156 kB 86.7 MB/s \n",
            "\u001b[?25hBuilding wheels for collected packages: pathtools\n",
            "  Building wheel for pathtools (setup.py) ... \u001b[?25l\u001b[?25hdone\n",
            "  Created wheel for pathtools: filename=pathtools-0.1.2-py3-none-any.whl size=8806 sha256=6191c2a54c71bf56a7f25cd0408a2b616f6b5a511c8a3ae618b40f3bec33bae3\n",
            "  Stored in directory: /root/.cache/pip/wheels/3e/31/09/fa59cef12cdcfecc627b3d24273699f390e71828921b2cbba2\n",
            "Successfully built pathtools\n",
            "Installing collected packages: smmap, gitdb, shortuuid, setproctitle, sentry-sdk, pathtools, GitPython, docker-pycreds, wandb\n",
            "Successfully installed GitPython-3.1.29 docker-pycreds-0.4.0 gitdb-4.0.10 pathtools-0.1.2 sentry-sdk-1.9.0 setproctitle-1.3.2 shortuuid-1.0.11 smmap-5.0.0 wandb-0.13.5\n",
            "Looking in indexes: https://pypi.org/simple, https://us-python.pkg.dev/colab-wheels/public/simple/\n",
            "Collecting transformers\n",
            "  Downloading transformers-4.24.0-py3-none-any.whl (5.5 MB)\n",
            "\u001b[K     |████████████████████████████████| 5.5 MB 5.1 MB/s \n",
            "\u001b[?25hCollecting tokenizers\n",
            "  Downloading tokenizers-0.13.2-cp37-cp37m-manylinux_2_17_x86_64.manylinux2014_x86_64.whl (7.6 MB)\n",
            "\u001b[K     |████████████████████████████████| 7.6 MB 67.9 MB/s \n",
            "\u001b[?25hRequirement already satisfied: importlib-metadata in /usr/local/lib/python3.7/dist-packages (from transformers) (4.13.0)\n",
            "Requirement already satisfied: numpy>=1.17 in /usr/local/lib/python3.7/dist-packages (from transformers) (1.21.6)\n",
            "Requirement already satisfied: packaging>=20.0 in /usr/local/lib/python3.7/dist-packages (from transformers) (21.3)\n",
            "Collecting huggingface-hub<1.0,>=0.10.0\n",
            "  Downloading huggingface_hub-0.11.1-py3-none-any.whl (182 kB)\n",
            "\u001b[K     |████████████████████████████████| 182 kB 95.5 MB/s \n",
            "\u001b[?25hRequirement already satisfied: tqdm>=4.27 in /usr/local/lib/python3.7/dist-packages (from transformers) (4.64.1)\n",
            "Requirement already satisfied: pyyaml>=5.1 in /usr/local/lib/python3.7/dist-packages (from transformers) (6.0)\n",
            "Requirement already satisfied: regex!=2019.12.17 in /usr/local/lib/python3.7/dist-packages (from transformers) (2022.6.2)\n",
            "Requirement already satisfied: filelock in /usr/local/lib/python3.7/dist-packages (from transformers) (3.8.0)\n",
            "Requirement already satisfied: requests in /usr/local/lib/python3.7/dist-packages (from transformers) (2.23.0)\n",
            "Requirement already satisfied: typing-extensions>=3.7.4.3 in /usr/local/lib/python3.7/dist-packages (from huggingface-hub<1.0,>=0.10.0->transformers) (4.1.1)\n",
            "Requirement already satisfied: pyparsing!=3.0.5,>=2.0.2 in /usr/local/lib/python3.7/dist-packages (from packaging>=20.0->transformers) (3.0.9)\n",
            "Requirement already satisfied: zipp>=0.5 in /usr/local/lib/python3.7/dist-packages (from importlib-metadata->transformers) (3.10.0)\n",
            "Requirement already satisfied: chardet<4,>=3.0.2 in /usr/local/lib/python3.7/dist-packages (from requests->transformers) (3.0.4)\n",
            "Requirement already satisfied: idna<3,>=2.5 in /usr/local/lib/python3.7/dist-packages (from requests->transformers) (2.10)\n",
            "Requirement already satisfied: certifi>=2017.4.17 in /usr/local/lib/python3.7/dist-packages (from requests->transformers) (2022.9.24)\n",
            "Requirement already satisfied: urllib3!=1.25.0,!=1.25.1,<1.26,>=1.21.1 in /usr/local/lib/python3.7/dist-packages (from requests->transformers) (1.24.3)\n",
            "Installing collected packages: tokenizers, huggingface-hub, transformers\n",
            "Successfully installed huggingface-hub-0.11.1 tokenizers-0.13.2 transformers-4.24.0\n"
          ]
        }
      ],
      "source": [
        "## THIS NEEDS TO BE CLEANED - NOT EVERYTHING IS NECESSARY\n",
        "# basic packages requirements\n",
        "!pip install wandb\n",
        "import os\n",
        "from pathlib import Path\n",
        "import glob\n",
        "import random\n",
        "import shutil\n",
        "import tqdm\n",
        "import matplotlib.pyplot as plt\n",
        "import typing\n",
        "# tensorflow\n",
        "import tensorflow as tf\n",
        "from tensorflow.keras import preprocessing\n",
        "from tensorflow.keras import models, layers\n",
        "tf.config.list_physical_devices(\"GPU\")\n",
        "# transformers\n",
        "!pip install transformers tokenizers\n",
        "from transformers import PreTrainedTokenizerFast\n",
        "from transformers import DataCollatorForLanguageModeling\n",
        "from transformers import GPT2Config, GPT2LMHeadModel\n",
        "from transformers import TrainingArguments, Trainer\n",
        "# tokenizer\n",
        "from tokenizers import Tokenizer\n",
        "from tokenizers.models import BPE\n",
        "from tokenizers.trainers import BpeTrainer\n",
        "from tokenizers.pre_tokenizers import Whitespace\n",
        "# torch\n",
        "import torch"
      ]
    },
    {
      "cell_type": "code",
      "execution_count": 3,
      "metadata": {
        "colab": {
          "base_uri": "https://localhost:8080/"
        },
        "id": "r3sLiMIs8If3",
        "outputId": "72d014b6-bfea-4054-900b-ff5c9603d877"
      },
      "outputs": [
        {
          "name": "stdout",
          "output_type": "stream",
          "text": [
            "Cloning into 'the-jam-machine'...\n",
            "remote: Enumerating objects: 251, done.\u001b[K\n",
            "remote: Counting objects: 100% (251/251), done.\u001b[K\n",
            "remote: Compressing objects: 100% (162/162), done.\u001b[K\n",
            "remote: Total 251 (delta 133), reused 184 (delta 76), pack-reused 0\u001b[K\n",
            "Receiving objects: 100% (251/251), 11.93 MiB | 20.92 MiB/s, done.\n",
            "Resolving deltas: 100% (133/133), done.\n"
          ]
        }
      ],
      "source": [
        "#@title Setup requirements\n",
        "!git clone https://github.com/m41w4r3exe/the-jam-machine.git"
      ]
    },
    {
      "cell_type": "code",
      "execution_count": 4,
      "metadata": {
        "id": "h7E3OcLoLSLM"
      },
      "outputs": [],
      "source": [
        "# move into the git folder to have all scripts in the local folder\n",
        "os.chdir(\"./the-jam-machine\")"
      ]
    },
    {
      "cell_type": "code",
      "execution_count": 5,
      "metadata": {
        "colab": {
          "base_uri": "https://localhost:8080/"
        },
        "id": "0Cvv_l0vK92H",
        "outputId": "16d478b8-ef43-4e42-fb67-d549602d9047"
      },
      "outputs": [
        {
          "name": "stdout",
          "output_type": "stream",
          "text": [
            "Current working directory: /content/the-jam-machine\n",
            "Files and Folders in directory:\n"
          ]
        },
        {
          "data": {
            "text/plain": [
              "['.gitignore',\n",
              " 'midi',\n",
              " 'notebooks',\n",
              " 'encoder_mumidi.py',\n",
              " 'encoder_mlike.py',\n",
              " 'notes',\n",
              " 'utils.py',\n",
              " 'README.md',\n",
              " 'encoder_oct.py',\n",
              " '.vscode',\n",
              " '.git',\n",
              " 'encoding.py',\n",
              " 'genre_prediction']"
            ]
          },
          "execution_count": 5,
          "metadata": {},
          "output_type": "execute_result"
        }
      ],
      "source": [
        "# check that we re in the right happy place\n",
        "print(f\"Current working directory: {os.getcwd()}\")\n",
        "print(f\"Files and Folders in directory:\")\n",
        "os.listdir()"
      ]
    },
    {
      "cell_type": "code",
      "execution_count": 6,
      "metadata": {
        "id": "Od892Wl9K_X4"
      },
      "outputs": [],
      "source": [
        "# install requirements\n",
        "# !pipenv lock -r > requirements.txt\n",
        "# !pip install -r requirements.txt"
      ]
    },
    {
      "cell_type": "markdown",
      "metadata": {
        "id": "SiAZ05cXL4d4"
      },
      "source": [
        "Have a folder ready with a collection of midi files to train on colab, in a google drive folder"
      ]
    },
    {
      "cell_type": "code",
      "execution_count": 7,
      "metadata": {
        "colab": {
          "base_uri": "https://localhost:8080/"
        },
        "id": "FqyUJuM7LuBR",
        "outputId": "e2b5e676-acee-4237-9a5b-d6bc6f7a453b"
      },
      "outputs": [
        {
          "name": "stdout",
          "output_type": "stream",
          "text": [
            "Mounted at /content/drive\n"
          ]
        }
      ],
      "source": [
        "# mount google drive\n",
        "from google.colab import drive\n",
        "drive.mount('/content/drive')"
      ]
    },
    {
      "cell_type": "code",
      "execution_count": 8,
      "metadata": {
        "id": "yLfXX3QvNi6J"
      },
      "outputs": [],
      "source": [
        "# path = Path('/gdrive/My Drive/')\n",
        "# drive_jam_machine_path = Path(\"/content/drive/MyDrive/the_jam_machine\")\n",
        "# data_path = Path(f\"{drive_jam_machine_path}/data\") \n",
        "drive_path = Path(\"/content/drive/MyDrive/the_jam_machine/\")\n",
        "midi_path = Path(f\"{drive_path}/midi_data\")\n",
        "# encoded_midi_path = Path(f\"{drive_path}/midi_encoded\")\n",
        "encoded_midi_path = Path(f\"{drive_path}/midi_encoded_by_tristan\")\n",
        "tokenizer_path = Path(f\"{drive_path}/tokenizer\")\n",
        "model_path = Path(f\"{drive_path}/model_jean\")"
      ]
    },
    {
      "cell_type": "code",
      "execution_count": 8,
      "metadata": {
        "id": "aMYRN_OiM7P6"
      },
      "outputs": [],
      "source": [
        "# #@title Path definition\n",
        "\n",
        "# #@markdown Specify the path of the audio files to use preprocess for training\n",
        "# midi_path = Path(\"/content/drive/MyDrive/the_jam_machine/midi_data\") #@param {type:\"string\"}\n",
        "\n",
        "# #@markdown (Optional) If you wish to save encodings to a different folder (maybe to your google drive to re-use them later) specify a path here\n",
        "# encoded_midi_path = Path(\"/content/drive/MyDrive/the_jam_machine/midi_encoded\") #@param {type:\"string\"}"
      ]
    },
    {
      "cell_type": "markdown",
      "metadata": {
        "id": "5gwWdCMCeLPS"
      },
      "source": [
        "# Encoding Midi into Text (Done already)\n",
        "from `mymusic.mid` files from `midi_path` to `music.txt` files in `encoded_midi_path`"
      ]
    },
    {
      "cell_type": "code",
      "execution_count": 10,
      "metadata": {
        "id": "IX9A654ucg-u"
      },
      "outputs": [],
      "source": [
        "#@title File encoding\n",
        "#!python encoder_mlike.py --midi_path {midi_path} --encoded_midi_path {encoded_midi_path}"
      ]
    },
    {
      "cell_type": "markdown",
      "metadata": {
        "id": "rpXIJDq8dyf3"
      },
      "source": [
        "# Dataset\n",
        "- load the encoded data\n",
        "- training set - ?? % (done already by Tristan's encoding)\n",
        "- validation set - ?? % (done already by Tristan's encoding)\n",
        "\n",
        "- Tokenizing\n"
      ]
    },
    {
      "cell_type": "markdown",
      "metadata": {
        "id": "8_0WBWxkLrMu"
      },
      "source": [
        "## Loading the data"
      ]
    },
    {
      "cell_type": "markdown",
      "metadata": {
        "id": "R9aHR_xAaGjJ"
      },
      "source": [
        "Define data path"
      ]
    },
    {
      "cell_type": "code",
      "execution_count": 9,
      "metadata": {
        "id": "_OQCLKYhI27l"
      },
      "outputs": [],
      "source": [
        "dataset_path = encoded_midi_path;\n",
        "dataset_path_all = os.path.join(dataset_path, \"all\")\n",
        "dataset_path_train = os.path.join(dataset_path, \"train\")\n",
        "dataset_path_valid = os.path.join(dataset_path, \"valid\")"
      ]
    },
    {
      "cell_type": "markdown",
      "metadata": {
        "id": "SmAxbkVkaLMz"
      },
      "source": [
        "Training and Validation set definition"
      ]
    },
    {
      "cell_type": "code",
      "execution_count": 12,
      "metadata": {
        "id": "t89OLG4JaDCZ"
      },
      "outputs": [],
      "source": [
        "# TO DO - Tristan's dataset is already splitted - code here"
      ]
    },
    {
      "cell_type": "markdown",
      "metadata": {
        "id": "81ybSjEnaWCr"
      },
      "source": [
        "Define individual path for every files"
      ]
    },
    {
      "cell_type": "code",
      "execution_count": 10,
      "metadata": {
        "colab": {
          "base_uri": "https://localhost:8080/"
        },
        "id": "_2E31PtNiozA",
        "outputId": "fb5e00c1-6d04-4b14-93a0-0cb02c024cad"
      },
      "outputs": [
        {
          "name": "stdout",
          "output_type": "stream",
          "text": [
            "['/content/drive/MyDrive/the_jam_machine/midi_encoded_by_tristan/train/token-sequences-2.txt', '/content/drive/MyDrive/the_jam_machine/midi_encoded_by_tristan/train/token-sequences-4.txt', '/content/drive/MyDrive/the_jam_machine/midi_encoded_by_tristan/train/token-sequences-6.txt', '/content/drive/MyDrive/the_jam_machine/midi_encoded_by_tristan/train/token-sequences-1.txt', '/content/drive/MyDrive/the_jam_machine/midi_encoded_by_tristan/train/token-sequences-9.txt', '/content/drive/MyDrive/the_jam_machine/midi_encoded_by_tristan/train/token-sequences-7.txt', '/content/drive/MyDrive/the_jam_machine/midi_encoded_by_tristan/train/token-sequences-8.txt', '/content/drive/MyDrive/the_jam_machine/midi_encoded_by_tristan/train/token-sequences-3.txt', '/content/drive/MyDrive/the_jam_machine/midi_encoded_by_tristan/train/token-sequences-0.txt', '/content/drive/MyDrive/the_jam_machine/midi_encoded_by_tristan/train/token-sequences-5.txt']\n",
            "['/content/drive/MyDrive/the_jam_machine/midi_encoded_by_tristan/valid/token-sequences-1.txt', '/content/drive/MyDrive/the_jam_machine/midi_encoded_by_tristan/valid/token-sequences-3.txt', '/content/drive/MyDrive/the_jam_machine/midi_encoded_by_tristan/valid/token-sequences-4.txt', '/content/drive/MyDrive/the_jam_machine/midi_encoded_by_tristan/valid/token-sequences-9.txt', '/content/drive/MyDrive/the_jam_machine/midi_encoded_by_tristan/valid/token-sequences-0.txt', '/content/drive/MyDrive/the_jam_machine/midi_encoded_by_tristan/valid/token-sequences-2.txt', '/content/drive/MyDrive/the_jam_machine/midi_encoded_by_tristan/valid/token-sequences-6.txt', '/content/drive/MyDrive/the_jam_machine/midi_encoded_by_tristan/valid/token-sequences-8.txt', '/content/drive/MyDrive/the_jam_machine/midi_encoded_by_tristan/valid/token-sequences-5.txt', '/content/drive/MyDrive/the_jam_machine/midi_encoded_by_tristan/valid/token-sequences-7.txt']\n"
          ]
        }
      ],
      "source": [
        "# write full filepath to list\n",
        "def full_filepath_to_list(dataset_folder, file_limit=20):\n",
        "  dataset_files = os.listdir(dataset_folder)\n",
        "  dataset_files = [f\"{dataset_folder}/{file}\" for count, file in enumerate(dataset_files) if count < file_limit]\n",
        "  print(dataset_files)\n",
        "  return dataset_files\n",
        "\n",
        "# dataset root folder\n",
        "# print(os.listdir(dataset_path))\n",
        "# files_all = full_filepath_to_list(dataset_path_all) # all files\n",
        "files_train = full_filepath_to_list(dataset_path_train) # training set\n",
        "files_valid = full_filepath_to_list(dataset_path_valid) # validation set"
      ]
    },
    {
      "cell_type": "markdown",
      "metadata": {
        "id": "xTrE4x-xLoAC"
      },
      "source": [
        "## Put data into dictionnary"
      ]
    },
    {
      "cell_type": "code",
      "execution_count": 11,
      "metadata": {
        "colab": {
          "base_uri": "https://localhost:8080/"
        },
        "id": "ReqyZyP1GrqG",
        "outputId": "e60d6a4f-410f-48a2-b057-fbe58ac19466"
      },
      "outputs": [
        {
          "name": "stdout",
          "output_type": "stream",
          "text": [
            "=============\n",
            "Training data\n",
            "=============\n",
            "PIECE_START TRACK_START INST=49 DENSITY=0 BAR_START BAR_END BAR_START BAR_END BAR_START BAR_END BAR_START TIME_DELTA=6 NOTE_ON=61 TIME_DELTA=1 NOTE_OFF=61 NOTE_ON=63 TIME_DELTA=1 NOTE_OFF=63 NOTE_ON=64 TIME_DELTA=1 NOTE_OFF=64 NOTE_ON=63 TIME_DELTA=1 NOTE_OFF=63 NOTE_ON=64 TIME_DELTA=1 NOTE_OFF=64 NOTE_ON=66 TIME_DELTA=1 NOTE_OFF=66 NOTE_ON=68 TIME_DELTA=4 NOTE_OFF=68 BAR_END BAR_START BAR_END BAR_START BAR_END BAR_START BAR_END BAR_START BAR_END TRACK_END TRACK_START INST=35 DENSITY=0 BAR_START BAR_END BAR_START BAR_END BAR_START NOTE_ON=42 TIME_DELTA=1 NOTE_OFF=42 NOTE_ON=49 TIME_DELTA=2 NOTE_OFF=49 NOTE_ON=42 TIME_DELTA=1 NOTE_OFF=42 NOTE_ON=52 TIME_DELTA=4 NOTE_OFF=52 NOTE_ON=52 TIME_DELTA=4 NOTE_OFF=52 NOTE_ON=52 TIME_DELTA=2 NOTE_OFF=52 NOTE_ON=42 TIME_DELTA=2 NOTE_OFF=42 BAR_END BAR_START NOTE_ON=47 TIME_DELTA=12 NOTE_OFF=47 BAR_END BAR_START NOTE_ON=28 TIME_DELTA=1 NOTE_OFF=28 BAR_END BAR_START BAR_END BAR_START BAR_END BAR_START BAR_END TRACK_END TRACK_START INST=49 DENSITY=0 BAR_START BAR_END BAR_START BAR_END BAR_START BAR_END BAR_START NOTE_ON=61 NOTE_ON=59 NOTE_ON=64 NOTE_ON=57 TIME_DELTA=16 NOTE_OFF=61 NOTE_OFF=59 NOTE_OFF=64 NOTE_OFF=57 BAR_END BAR_START BAR_END BAR_START BAR_END BAR_START BAR_END BAR_START BAR_END TRACK_END TRACK_START INST=0 DENSITY=2 BAR_START BAR_END BAR_START BAR_END BAR_START NOTE_ON=42 TIME_DELTA=1 NOTE_ON=68 TIME_DELTA=2 NOTE_OFF=68 NOTE_ON=69 TIME_DELTA=1 NOTE_OFF=69 NOTE_ON=57 NOTE_ON=76 NOTE_ON=64 NOTE_ON=54 TIME_DELTA=1 NOTE_OFF=76 NOTE_ON=73 TIME_DELTA=2 NOTE_OFF=73 NOTE_ON=76 TIME_DELTA=1 NOTE_OFF=76 NOTE_ON=80 TIME_DELTA=2 NOTE_OFF=80 NOTE_ON=83 TIME_DELTA=2 NOTE_OFF=83 NOTE_ON=80 TIME_DELTA=2 NOTE_OFF=80 NOTE_ON=71 TIME_DELTA=2 NOTE_OFF=42 NOTE_OFF=57 NOTE_OFF=64 NOTE_OFF=54 NOTE_OFF=71 BAR_END BAR_START NOTE_ON=47 NOTE_ON=54 NOTE_ON=59 NOTE_ON=64 TIME_DELTA=3 NOTE_ON=68 TIME_DELTA=1 NOTE_OFF=68 NOTE_ON=69 TIME_DELTA=1 NOTE_OFF=69 NOTE_ON=71 TIME_DELTA=1 NOTE_OFF=71 NOTE_ON=73 TIME_DELTA=1 NOTE_OFF=73 NOTE_ON=75 TIME_DELTA=1 NOTE_OFF=75 NOTE_ON=76 TIME_DELTA=1 NOTE_OFF=76 NOTE_ON=75 TIME_DELTA=1 NOTE_OFF=75 NOTE_ON=76 TIME_DELTA=1 NOTE_OFF=76 NOTE_ON=78 TIME_DELTA=1 NOTE_OFF=78 NOTE_ON=80 TIME_DELTA=1 NOTE_OFF=80 NOTE_ON=81 TIME_DELTA=1 NOTE_OFF=81 NOTE_ON=83 TIME_DELTA=1 NOTE_OFF=83 NOTE_ON=85 TIME_DELTA=1 NOTE_OFF=47 NOTE_OFF=54 NOTE_OFF=59 NOTE_OFF=64 NOTE_OFF=85 BAR_END BAR_START NOTE_ON=64 TIME_DELTA=1 NOTE_OFF=64 BAR_END BAR_START BAR_END BAR_START BAR_END BAR_START BAR_END TRACK_END TRACK_START INST=DRUMS DENSITY=0 BAR_START BAR_END BAR_START NOTE_ON=42 TIME_DELTA=1 NOTE_OFF=42 TIME_DELTA=3 NOTE_ON=42 TIME_DELTA=1 NOTE_OFF=42 TIME_DELTA=3 NOTE_ON=42 TIME_DELTA=1 NOTE_OFF=42 TIME_DELTA=3 NOTE_ON=42 TIME_DELTA=1 NOTE_OFF=42 BAR_END BAR_START BAR_END BAR_START TIME_DELTA=14 NOTE_ON=55 TIME_DELTA=1 NOTE_OFF=55 NOTE_ON=55 NOTE_ON=55 NOTE_ON=55 TIME_DELTA=1 NOTE_OFF=55 NOTE_OFF=55 NOTE_OFF=55 BAR_END BAR_START NOTE_ON=55 TIME_DELTA=1 NOTE_OFF=55 BAR_END BAR_START BAR_END BAR_START BAR_END BAR_START BAR_END TRACK_END\n",
            "PIECE_START TRACK_START INST=103 DENSITY=0 BAR_START BAR_END BAR_START BAR_END BAR_START NOTE_ON=64 NOTE_ON=67 NOTE_ON=72 NOTE_ON=74 TIME_DELTA=16 NOTE_OFF=64 NOTE_OFF=67 NOTE_OFF=72 NOTE_OFF=74 BAR_END BAR_START NOTE_ON=64 NOTE_ON=67 NOTE_ON=72 NOTE_ON=74 TIME_DELTA=16 NOTE_OFF=64 NOTE_OFF=67 NOTE_OFF=72 NOTE_OFF=74 BAR_END BAR_START BAR_END BAR_START BAR_END BAR_START BAR_END BAR_START BAR_END TRACK_END\n",
            "===============\n",
            "Validation data\n",
            "===============\n",
            "PIECE_START TRACK_START INST=26 DENSITY=2 BAR_START NOTE_ON=53 TIME_DELTA=2 NOTE_OFF=53 NOTE_ON=53 TIME_DELTA=1 NOTE_OFF=53 NOTE_ON=53 TIME_DELTA=3 NOTE_OFF=53 NOTE_ON=53 TIME_DELTA=2 NOTE_OFF=53 NOTE_ON=53 TIME_DELTA=2 NOTE_OFF=53 NOTE_ON=56 TIME_DELTA=2 NOTE_OFF=56 NOTE_ON=53 TIME_DELTA=2 NOTE_ON=56 TIME_DELTA=1 NOTE_OFF=53 TIME_DELTA=1 NOTE_OFF=56 BAR_END BAR_START NOTE_ON=53 TIME_DELTA=2 NOTE_OFF=53 NOTE_ON=53 TIME_DELTA=1 NOTE_OFF=53 NOTE_ON=53 TIME_DELTA=3 NOTE_OFF=53 NOTE_ON=53 TIME_DELTA=2 NOTE_OFF=53 NOTE_ON=53 TIME_DELTA=2 NOTE_OFF=53 NOTE_ON=56 TIME_DELTA=2 NOTE_OFF=56 NOTE_ON=53 TIME_DELTA=2 NOTE_ON=56 TIME_DELTA=1 NOTE_OFF=53 TIME_DELTA=1 NOTE_OFF=56 BAR_END BAR_START NOTE_ON=53 TIME_DELTA=2 NOTE_OFF=53 NOTE_ON=53 TIME_DELTA=1 NOTE_OFF=53 NOTE_ON=53 TIME_DELTA=3 NOTE_OFF=53 NOTE_ON=53 TIME_DELTA=2 NOTE_OFF=53 NOTE_ON=53 TIME_DELTA=2 NOTE_OFF=53 NOTE_ON=56 TIME_DELTA=2 NOTE_OFF=56 NOTE_ON=53 TIME_DELTA=2 NOTE_ON=56 TIME_DELTA=1 NOTE_OFF=53 TIME_DELTA=1 NOTE_OFF=56 BAR_END BAR_START NOTE_ON=53 TIME_DELTA=2 NOTE_OFF=53 NOTE_ON=53 TIME_DELTA=1 NOTE_OFF=53 NOTE_ON=53 TIME_DELTA=3 NOTE_OFF=53 NOTE_ON=53 TIME_DELTA=2 NOTE_OFF=53 NOTE_ON=53 TIME_DELTA=2 NOTE_OFF=53 NOTE_ON=56 TIME_DELTA=2 NOTE_OFF=56 NOTE_ON=53 TIME_DELTA=2 NOTE_ON=56 TIME_DELTA=1 NOTE_OFF=53 TIME_DELTA=1 NOTE_OFF=56 BAR_END BAR_START NOTE_ON=53 TIME_DELTA=2 NOTE_OFF=53 NOTE_ON=53 TIME_DELTA=1 NOTE_OFF=53 NOTE_ON=53 TIME_DELTA=3 NOTE_OFF=53 NOTE_ON=53 TIME_DELTA=2 NOTE_OFF=53 NOTE_ON=53 TIME_DELTA=2 NOTE_OFF=53 NOTE_ON=56 TIME_DELTA=2 NOTE_OFF=56 NOTE_ON=53 TIME_DELTA=2 NOTE_ON=56 TIME_DELTA=1 NOTE_OFF=53 TIME_DELTA=1 NOTE_OFF=56 BAR_END BAR_START NOTE_ON=53 TIME_DELTA=2 NOTE_OFF=53 NOTE_ON=53 TIME_DELTA=1 NOTE_OFF=53 NOTE_ON=53 TIME_DELTA=3 NOTE_OFF=53 NOTE_ON=53 TIME_DELTA=2 NOTE_OFF=53 NOTE_ON=53 TIME_DELTA=2 NOTE_OFF=53 NOTE_ON=56 TIME_DELTA=2 NOTE_OFF=56 NOTE_ON=53 TIME_DELTA=2 NOTE_ON=56 TIME_DELTA=1 NOTE_OFF=53 TIME_DELTA=1 NOTE_OFF=56 BAR_END BAR_START NOTE_ON=53 TIME_DELTA=2 NOTE_OFF=53 NOTE_ON=53 TIME_DELTA=1 NOTE_OFF=53 NOTE_ON=53 TIME_DELTA=3 NOTE_OFF=53 NOTE_ON=53 TIME_DELTA=2 NOTE_OFF=53 NOTE_ON=53 TIME_DELTA=2 NOTE_OFF=53 NOTE_ON=56 TIME_DELTA=2 NOTE_OFF=56 NOTE_ON=53 TIME_DELTA=2 NOTE_ON=56 TIME_DELTA=1 NOTE_OFF=53 TIME_DELTA=1 NOTE_OFF=56 BAR_END BAR_START NOTE_ON=53 TIME_DELTA=2 NOTE_OFF=53 NOTE_ON=53 TIME_DELTA=1 NOTE_OFF=53 NOTE_ON=53 TIME_DELTA=2 NOTE_OFF=53 BAR_END TRACK_END TRACK_START INST=94 DENSITY=3 BAR_START NOTE_ON=60 NOTE_ON=65 NOTE_ON=41 NOTE_ON=53 TIME_DELTA=16 NOTE_OFF=60 NOTE_OFF=65 NOTE_OFF=41 NOTE_OFF=53 BAR_END BAR_START NOTE_ON=60 NOTE_ON=65 NOTE_ON=41 NOTE_ON=53 TIME_DELTA=16 NOTE_OFF=60 NOTE_OFF=65 NOTE_OFF=41 NOTE_OFF=53 BAR_END BAR_START NOTE_ON=60 NOTE_ON=65 NOTE_ON=41 NOTE_ON=53 TIME_DELTA=16 NOTE_OFF=60 NOTE_OFF=65 NOTE_OFF=41 NOTE_OFF=53 BAR_END BAR_START NOTE_ON=60 NOTE_ON=65 NOTE_ON=41 NOTE_ON=53 TIME_DELTA=16 NOTE_OFF=60 NOTE_OFF=65 NOTE_OFF=41 NOTE_OFF=53 BAR_END BAR_START NOTE_ON=60 NOTE_ON=65 NOTE_ON=41 NOTE_ON=53 TIME_DELTA=16 NOTE_OFF=60 NOTE_OFF=65 NOTE_OFF=41 NOTE_OFF=53 BAR_END BAR_START NOTE_ON=60 NOTE_ON=65 NOTE_ON=41 NOTE_ON=53 TIME_DELTA=16 NOTE_OFF=60 NOTE_OFF=65 NOTE_OFF=41 NOTE_OFF=53 BAR_END BAR_START NOTE_ON=60 NOTE_ON=65 NOTE_ON=41 NOTE_ON=53 TIME_DELTA=16 NOTE_OFF=60 NOTE_OFF=65 NOTE_OFF=41 NOTE_OFF=53 BAR_END BAR_START NOTE_ON=60 NOTE_ON=65 NOTE_ON=41 NOTE_ON=53 TIME_DELTA=5 NOTE_OFF=60 NOTE_OFF=65 NOTE_OFF=41 NOTE_OFF=53 TIME_DELTA=7 NOTE_ON=42 NOTE_ON=53 NOTE_ON=41 TIME_DELTA=1 NOTE_OFF=42 TIME_DELTA=2 NOTE_OFF=53 NOTE_OFF=41 BAR_END TRACK_END TRACK_START INST=7 DENSITY=0 BAR_START BAR_END BAR_START BAR_END BAR_START BAR_END BAR_START BAR_END BAR_START BAR_END BAR_START BAR_END BAR_START BAR_END BAR_START TIME_DELTA=5 NOTE_ON=44 NOTE_ON=41 NOTE_ON=29 TIME_DELTA=1 NOTE_OFF=44 NOTE_OFF=41 NOTE_OFF=29 TIME_DELTA=1 NOTE_ON=41 NOTE_ON=29 TIME_DELTA=5 NOTE_OFF=41 NOTE_OFF=29 BAR_END TRACK_END TRACK_START INST=90 DENSITY=0 BAR_START BAR_END BAR_START BAR_END BAR_START BAR_END BAR_START BAR_END BAR_START BAR_END BAR_START BAR_END BAR_START BAR_END BAR_START TIME_DELTA=5 NOTE_ON=29 NOTE_ON=48 NOTE_ON=41 TIME_DELTA=1 NOTE_OFF=29 NOTE_OFF=48 NOTE_OFF=41 TIME_DELTA=1 NOTE_ON=48 NOTE_ON=41 NOTE_ON=29 TIME_DELTA=5 NOTE_OFF=48 NOTE_OFF=41 NOTE_OFF=29 BAR_END TRACK_END TRACK_START INST=DRUMS DENSITY=3 BAR_START NOTE_ON=28 NOTE_ON=45 NOTE_ON=40 TIME_DELTA=1 NOTE_OFF=28 NOTE_OFF=45 TIME_DELTA=1 NOTE_OFF=40 TIME_DELTA=2 NOTE_ON=28 NOTE_ON=45 NOTE_ON=40 TIME_DELTA=1 NOTE_OFF=28 NOTE_OFF=45 TIME_DELTA=1 NOTE_OFF=40 TIME_DELTA=2 NOTE_ON=28 NOTE_ON=45 NOTE_ON=40 TIME_DELTA=1 NOTE_OFF=28 NOTE_OFF=45 NOTE_OFF=40 TIME_DELTA=2 NOTE_ON=40 NOTE_ON=28 NOTE_ON=45 TIME_DELTA=1 NOTE_OFF=40 NOTE_OFF=28 NOTE_OFF=45 NOTE_ON=28 NOTE_ON=40 NOTE_ON=45 TIME_DELTA=1 NOTE_OFF=28 NOTE_OFF=40 NOTE_OFF=45 BAR_END BAR_START NOTE_ON=28 NOTE_ON=45 NOTE_ON=40 TIME_DELTA=1 NOTE_OFF=28 NOTE_OFF=45 NOTE_OFF=40 TIME_DELTA=3 NOTE_ON=40 NOTE_ON=28 NOTE_ON=45 TIME_DELTA=1 NOTE_OFF=40 NOTE_OFF=28 NOTE_OFF=45 TIME_DELTA=3 NOTE_ON=40 NOTE_ON=28 NOTE_ON=45 TIME_DELTA=1 NOTE_OFF=40 NOTE_OFF=28 NOTE_OFF=45 TIME_DELTA=1 NOTE_ON=40 NOTE_ON=28 NOTE_ON=45 TIME_DELTA=1 NOTE_OFF=40 NOTE_OFF=28 NOTE_OFF=45 NOTE_ON=40 NOTE_ON=28 NOTE_ON=45 TIME_DELTA=1 NOTE_OFF=40 NOTE_OFF=28 NOTE_OFF=45 NOTE_ON=45 NOTE_ON=40 NOTE_ON=28 TIME_DELTA=1 NOTE_OFF=45 NOTE_OFF=40 NOTE_OFF=28 TIME_DELTA=2 NOTE_ON=40 NOTE_ON=28 NOTE_ON=45 TIME_DELTA=1 NOTE_OFF=40 NOTE_OFF=28 NOTE_OFF=45 BAR_END BAR_START NOTE_ON=45 NOTE_ON=28 NOTE_ON=40 TIME_DELTA=1 NOTE_OFF=45 NOTE_OFF=28 TIME_DELTA=1 NOTE_OFF=40 TIME_DELTA=2 NOTE_ON=28 NOTE_ON=45 NOTE_ON=40 TIME_DELTA=1 NOTE_OFF=28 NOTE_OFF=45 TIME_DELTA=1 NOTE_OFF=40 TIME_DELTA=2 NOTE_ON=28 NOTE_ON=45 NOTE_ON=40 TIME_DELTA=1 NOTE_OFF=28 NOTE_OFF=45 NOTE_OFF=40 TIME_DELTA=2 NOTE_ON=40 NOTE_ON=45 NOTE_ON=28 TIME_DELTA=1 NOTE_OFF=40 NOTE_OFF=45 NOTE_OFF=28 NOTE_ON=28 NOTE_ON=40 NOTE_ON=45 TIME_DELTA=1 NOTE_OFF=28 NOTE_OFF=40 NOTE_OFF=45 BAR_END BAR_START NOTE_ON=28 NOTE_ON=40 NOTE_ON=45 TIME_DELTA=1 NOTE_OFF=28 NOTE_OFF=40 NOTE_OFF=45 TIME_DELTA=3 NOTE_ON=40 NOTE_ON=28 NOTE_ON=45 TIME_DELTA=1 NOTE_OFF=40 NOTE_OFF=28 NOTE_OFF=45 TIME_DELTA=3 NOTE_ON=45 NOTE_ON=40 NOTE_ON=28 TIME_DELTA=1 NOTE_OFF=45 NOTE_OFF=40 NOTE_OFF=28 TIME_DELTA=1 NOTE_ON=40 NOTE_ON=28 NOTE_ON=45 TIME_DELTA=1 NOTE_OFF=40 NOTE_OFF=28 NOTE_OFF=45 NOTE_ON=40 NOTE_ON=28 NOTE_ON=45 TIME_DELTA=1 NOTE_OFF=40 NOTE_OFF=28 NOTE_OFF=45 NOTE_ON=40 NOTE_ON=45 NOTE_ON=28 TIME_DELTA=1 NOTE_OFF=40 NOTE_OFF=45 NOTE_OFF=28 TIME_DELTA=1 NOTE_ON=45 NOTE_ON=28 NOTE_ON=40 TIME_DELTA=1 NOTE_OFF=45 NOTE_OFF=28 NOTE_OFF=40 NOTE_ON=45 NOTE_ON=40 TIME_DELTA=1 NOTE_OFF=45 NOTE_OFF=40 BAR_END BAR_START NOTE_ON=40 NOTE_ON=45 NOTE_ON=28 TIME_DELTA=1 NOTE_OFF=40 NOTE_OFF=45 NOTE_OFF=28 TIME_DELTA=1 NOTE_ON=40 NOTE_ON=28 NOTE_ON=45 TIME_DELTA=1 NOTE_OFF=40 NOTE_OFF=28 NOTE_OFF=45 TIME_DELTA=1 NOTE_ON=28 NOTE_ON=40 NOTE_ON=45 TIME_DELTA=1 NOTE_OFF=28 NOTE_OFF=40 NOTE_OFF=45 TIME_DELTA=1 NOTE_ON=40 NOTE_ON=28 NOTE_ON=45 TIME_DELTA=1 NOTE_OFF=40 NOTE_OFF=28 NOTE_OFF=45 TIME_DELTA=1 NOTE_ON=28 NOTE_ON=40 NOTE_ON=45 TIME_DELTA=1 NOTE_OFF=28 NOTE_OFF=40 NOTE_OFF=45 TIME_DELTA=1 NOTE_ON=40 NOTE_ON=28 NOTE_ON=45 TIME_DELTA=1 NOTE_OFF=40 NOTE_OFF=28 NOTE_OFF=45 TIME_DELTA=1 NOTE_ON=28 NOTE_ON=40 NOTE_ON=45 TIME_DELTA=1 NOTE_OFF=28 NOTE_OFF=40 NOTE_OFF=45 TIME_DELTA=1 NOTE_ON=40 NOTE_ON=28 NOTE_ON=45 TIME_DELTA=1 NOTE_OFF=40 NOTE_OFF=28 NOTE_OFF=45 BAR_END BAR_START NOTE_ON=28 NOTE_ON=40 NOTE_ON=45 TIME_DELTA=1 NOTE_OFF=28 NOTE_OFF=40 NOTE_OFF=45 TIME_DELTA=1 NOTE_ON=40 NOTE_ON=28 NOTE_ON=45 TIME_DELTA=1 NOTE_OFF=40 NOTE_OFF=28 NOTE_OFF=45 TIME_DELTA=1 NOTE_ON=40 NOTE_ON=28 NOTE_ON=45 TIME_DELTA=1 NOTE_OFF=40 NOTE_OFF=28 NOTE_OFF=45 TIME_DELTA=1 NOTE_ON=40 NOTE_ON=28 NOTE_ON=45 TIME_DELTA=1 NOTE_OFF=40 NOTE_OFF=28 NOTE_OFF=45 TIME_DELTA=1 NOTE_ON=40 NOTE_ON=28 NOTE_ON=45 TIME_DELTA=1 NOTE_OFF=40 NOTE_OFF=28 NOTE_OFF=45 TIME_DELTA=1 NOTE_ON=40 NOTE_ON=28 NOTE_ON=45 TIME_DELTA=1 NOTE_OFF=40 NOTE_OFF=28 NOTE_OFF=45 TIME_DELTA=1 NOTE_ON=40 NOTE_ON=28 NOTE_ON=45 TIME_DELTA=1 NOTE_OFF=40 NOTE_OFF=28 NOTE_OFF=45 TIME_DELTA=1 NOTE_ON=45 NOTE_ON=40 NOTE_ON=28 TIME_DELTA=1 NOTE_OFF=45 NOTE_OFF=40 NOTE_OFF=28 BAR_END BAR_START NOTE_ON=28 NOTE_ON=40 NOTE_ON=45 TIME_DELTA=1 NOTE_OFF=28 NOTE_OFF=40 NOTE_OFF=45 NOTE_ON=40 NOTE_ON=28 NOTE_ON=45 TIME_DELTA=1 NOTE_OFF=40 NOTE_OFF=28 NOTE_OFF=45 NOTE_ON=28 NOTE_ON=40 NOTE_ON=45 TIME_DELTA=1 NOTE_OFF=28 NOTE_OFF=40 NOTE_OFF=45 NOTE_ON=40 NOTE_ON=45 NOTE_ON=28 TIME_DELTA=1 NOTE_OFF=40 NOTE_OFF=45 NOTE_OFF=28 NOTE_ON=28 NOTE_ON=45 NOTE_ON=40 TIME_DELTA=1 NOTE_OFF=28 NOTE_OFF=45 NOTE_OFF=40 NOTE_ON=28 NOTE_ON=40 NOTE_ON=45 TIME_DELTA=1 NOTE_OFF=28 NOTE_OFF=40 NOTE_OFF=45 NOTE_ON=28 NOTE_ON=45 NOTE_ON=40 TIME_DELTA=1 NOTE_OFF=28 NOTE_OFF=45 NOTE_OFF=40 NOTE_ON=28 NOTE_ON=45 NOTE_ON=40 TIME_DELTA=1 NOTE_OFF=28 NOTE_OFF=45 NOTE_OFF=40 NOTE_ON=28 NOTE_ON=45 NOTE_ON=40 TIME_DELTA=1 NOTE_OFF=28 NOTE_OFF=45 NOTE_OFF=40 NOTE_ON=45 NOTE_ON=40 NOTE_ON=28 TIME_DELTA=1 NOTE_OFF=45 NOTE_OFF=40 NOTE_OFF=28 NOTE_ON=45 NOTE_ON=28 NOTE_ON=40 TIME_DELTA=1 NOTE_OFF=45 NOTE_OFF=28 NOTE_OFF=40 NOTE_ON=40 NOTE_ON=28 NOTE_ON=45 TIME_DELTA=1 NOTE_OFF=40 NOTE_OFF=28 NOTE_OFF=45 NOTE_ON=45 NOTE_ON=28 NOTE_ON=40 TIME_DELTA=1 NOTE_OFF=45 NOTE_OFF=28 NOTE_OFF=40 NOTE_ON=40 NOTE_ON=45 NOTE_ON=28 TIME_DELTA=1 NOTE_OFF=40 NOTE_OFF=45 NOTE_OFF=28 NOTE_ON=45 NOTE_ON=40 NOTE_ON=28 TIME_DELTA=1 NOTE_OFF=45 NOTE_OFF=40 NOTE_OFF=28 NOTE_ON=40 NOTE_ON=45 NOTE_ON=28 TIME_DELTA=1 NOTE_OFF=40 NOTE_OFF=45 NOTE_OFF=28 BAR_END BAR_START NOTE_ON=45 NOTE_ON=28 NOTE_ON=40 TIME_DELTA=1 NOTE_OFF=45 NOTE_OFF=28 NOTE_OFF=40 NOTE_ON=40 NOTE_ON=45 NOTE_ON=28 TIME_DELTA=1 NOTE_OFF=40 NOTE_OFF=45 NOTE_OFF=28 NOTE_ON=45 NOTE_ON=45 NOTE_ON=40 NOTE_ON=28 TIME_DELTA=1 NOTE_OFF=45 NOTE_OFF=45 NOTE_OFF=40 NOTE_OFF=28 NOTE_ON=45 NOTE_ON=40 NOTE_ON=28 TIME_DELTA=1 NOTE_OFF=45 NOTE_OFF=40 NOTE_OFF=28 TIME_DELTA=8 NOTE_ON=39 NOTE_ON=55 NOTE_ON=28 NOTE_ON=40 NOTE_ON=43 NOTE_ON=45 NOTE_ON=41 TIME_DELTA=1 NOTE_OFF=39 NOTE_OFF=55 NOTE_OFF=28 TIME_DELTA=1 NOTE_OFF=40 NOTE_OFF=43 NOTE_OFF=45 NOTE_OFF=41 BAR_END TRACK_END TRACK_START INST=39 DENSITY=3 BAR_START NOTE_ON=29 TIME_DELTA=1 NOTE_OFF=29 TIME_DELTA=3 NOTE_ON=29 TIME_DELTA=1 NOTE_OFF=29 TIME_DELTA=3 NOTE_ON=29 TIME_DELTA=1 NOTE_OFF=29 TIME_DELTA=2 NOTE_ON=29 TIME_DELTA=1 NOTE_OFF=29 NOTE_ON=29 TIME_DELTA=1 NOTE_OFF=29 BAR_END BAR_START NOTE_ON=29 TIME_DELTA=1 NOTE_OFF=29 TIME_DELTA=3 NOTE_ON=29 TIME_DELTA=1 NOTE_OFF=29 TIME_DELTA=3 NOTE_ON=29 TIME_DELTA=1 NOTE_OFF=29 TIME_DELTA=1 NOTE_ON=29 TIME_DELTA=1 NOTE_OFF=29 NOTE_ON=29 TIME_DELTA=1 NOTE_OFF=29 NOTE_ON=29 TIME_DELTA=1 NOTE_OFF=29 TIME_DELTA=2 NOTE_ON=29 TIME_DELTA=1 NOTE_OFF=29 BAR_END BAR_START NOTE_ON=29 TIME_DELTA=1 NOTE_OFF=29 TIME_DELTA=3 NOTE_ON=29 TIME_DELTA=1 NOTE_OFF=29 TIME_DELTA=3 NOTE_ON=29 TIME_DELTA=1 NOTE_OFF=29 TIME_DELTA=2 NOTE_ON=29 TIME_DELTA=1 NOTE_OFF=29 NOTE_ON=29 TIME_DELTA=1 NOTE_OFF=29 BAR_END BAR_START NOTE_ON=29 TIME_DELTA=1 NOTE_OFF=29 TIME_DELTA=3 NOTE_ON=29 TIME_DELTA=1 NOTE_OFF=29 TIME_DELTA=3 NOTE_ON=29 TIME_DELTA=1 NOTE_OFF=29 TIME_DELTA=1 NOTE_ON=29 TIME_DELTA=1 NOTE_OFF=29 NOTE_ON=29 TIME_DELTA=1 NOTE_OFF=29 NOTE_ON=29 TIME_DELTA=1 NOTE_OFF=29 TIME_DELTA=1 NOTE_ON=29 TIME_DELTA=1 NOTE_OFF=29 BAR_END BAR_START NOTE_ON=29 TIME_DELTA=1 NOTE_OFF=29 TIME_DELTA=1 NOTE_ON=29 TIME_DELTA=1 NOTE_OFF=29 TIME_DELTA=1 NOTE_ON=29 TIME_DELTA=1 NOTE_OFF=29 TIME_DELTA=1 NOTE_ON=29 TIME_DELTA=1 NOTE_OFF=29 TIME_DELTA=1 NOTE_ON=29 TIME_DELTA=1 NOTE_OFF=29 TIME_DELTA=1 NOTE_ON=29 TIME_DELTA=1 NOTE_OFF=29 TIME_DELTA=1 NOTE_ON=29 TIME_DELTA=1 NOTE_OFF=29 TIME_DELTA=1 NOTE_ON=29 TIME_DELTA=1 NOTE_OFF=29 BAR_END BAR_START NOTE_ON=29 TIME_DELTA=1 NOTE_OFF=29 TIME_DELTA=1 NOTE_ON=29 TIME_DELTA=1 NOTE_OFF=29 TIME_DELTA=1 NOTE_ON=29 TIME_DELTA=1 NOTE_OFF=29 TIME_DELTA=1 NOTE_ON=29 TIME_DELTA=1 NOTE_OFF=29 TIME_DELTA=1 NOTE_ON=29 TIME_DELTA=1 NOTE_OFF=29 TIME_DELTA=1 NOTE_ON=29 TIME_DELTA=1 NOTE_OFF=29 TIME_DELTA=1 NOTE_ON=29 TIME_DELTA=1 NOTE_OFF=29 TIME_DELTA=1 NOTE_ON=29 TIME_DELTA=1 NOTE_OFF=29 BAR_END BAR_START NOTE_ON=29 TIME_DELTA=1 NOTE_OFF=29 NOTE_ON=29 TIME_DELTA=1 NOTE_OFF=29 NOTE_ON=29 TIME_DELTA=1 NOTE_OFF=29 NOTE_ON=29 TIME_DELTA=1 NOTE_OFF=29 NOTE_ON=29 TIME_DELTA=1 NOTE_OFF=29 NOTE_ON=29 TIME_DELTA=1 NOTE_OFF=29 NOTE_ON=29 TIME_DELTA=1 NOTE_OFF=29 NOTE_ON=29 TIME_DELTA=1 NOTE_OFF=29 NOTE_ON=29 TIME_DELTA=1 NOTE_OFF=29 NOTE_ON=29 TIME_DELTA=1 NOTE_OFF=29 NOTE_ON=29 TIME_DELTA=1 NOTE_OFF=29 NOTE_ON=29 TIME_DELTA=1 NOTE_OFF=29 NOTE_ON=29 TIME_DELTA=1 NOTE_OFF=29 NOTE_ON=29 TIME_DELTA=1 NOTE_OFF=29 NOTE_ON=29 TIME_DELTA=1 NOTE_OFF=29 NOTE_ON=29 TIME_DELTA=1 NOTE_OFF=29 BAR_END BAR_START NOTE_ON=29 TIME_DELTA=1 NOTE_OFF=29 NOTE_ON=29 TIME_DELTA=1 NOTE_OFF=29 NOTE_ON=29 TIME_DELTA=1 NOTE_OFF=29 NOTE_ON=29 TIME_DELTA=1 NOTE_OFF=29 TIME_DELTA=1 NOTE_ON=29 NOTE_ON=41 TIME_DELTA=1 NOTE_OFF=29 NOTE_OFF=41 TIME_DELTA=1 NOTE_ON=41 NOTE_ON=29 TIME_DELTA=5 NOTE_OFF=41 NOTE_OFF=29 BAR_END TRACK_END TRACK_START INST=95 DENSITY=3 BAR_START NOTE_ON=48 NOTE_ON=29 NOTE_ON=41 NOTE_ON=53 TIME_DELTA=16 NOTE_OFF=48 NOTE_OFF=29 NOTE_OFF=41 NOTE_OFF=53 BAR_END BAR_START NOTE_ON=48 NOTE_ON=29 NOTE_ON=41 NOTE_ON=53 TIME_DELTA=16 NOTE_OFF=48 NOTE_OFF=29 NOTE_OFF=41 NOTE_OFF=53 BAR_END BAR_START NOTE_ON=48 NOTE_ON=29 NOTE_ON=41 NOTE_ON=53 TIME_DELTA=16 NOTE_OFF=48 NOTE_OFF=29 NOTE_OFF=41 NOTE_OFF=53 BAR_END BAR_START NOTE_ON=48 NOTE_ON=29 NOTE_ON=41 NOTE_ON=53 TIME_DELTA=16 NOTE_OFF=48 NOTE_OFF=29 NOTE_OFF=41 NOTE_OFF=53 BAR_END BAR_START NOTE_ON=48 NOTE_ON=29 NOTE_ON=41 NOTE_ON=53 TIME_DELTA=16 NOTE_OFF=48 NOTE_OFF=29 NOTE_OFF=41 NOTE_OFF=53 BAR_END BAR_START NOTE_ON=48 NOTE_ON=29 NOTE_ON=41 NOTE_ON=53 TIME_DELTA=16 NOTE_OFF=48 NOTE_OFF=29 NOTE_OFF=41 NOTE_OFF=53 BAR_END BAR_START NOTE_ON=48 NOTE_ON=29 NOTE_ON=41 NOTE_ON=53 TIME_DELTA=16 NOTE_OFF=48 NOTE_OFF=29 NOTE_OFF=41 NOTE_OFF=53 BAR_END BAR_START NOTE_ON=48 NOTE_ON=29 NOTE_ON=41 NOTE_ON=53 TIME_DELTA=7 NOTE_OFF=48 NOTE_OFF=29 NOTE_OFF=41 NOTE_OFF=53 BAR_END TRACK_END TRACK_START INST=90 DENSITY=1 BAR_START NOTE_ON=72 NOTE_ON=77 NOTE_ON=65 TIME_DELTA=16 NOTE_OFF=72 NOTE_OFF=77 NOTE_OFF=65 BAR_END BAR_START NOTE_ON=72 NOTE_ON=77 NOTE_ON=65 TIME_DELTA=16 NOTE_OFF=72 NOTE_OFF=77 NOTE_OFF=65 BAR_END BAR_START NOTE_ON=72 NOTE_ON=77 NOTE_ON=65 TIME_DELTA=16 NOTE_OFF=72 NOTE_OFF=77 NOTE_OFF=65 BAR_END BAR_START NOTE_ON=72 NOTE_ON=77 NOTE_ON=65 TIME_DELTA=16 NOTE_OFF=72 NOTE_OFF=77 NOTE_OFF=65 BAR_END BAR_START NOTE_ON=72 NOTE_ON=77 NOTE_ON=65 TIME_DELTA=16 NOTE_OFF=72 NOTE_OFF=77 NOTE_OFF=65 BAR_END BAR_START NOTE_ON=72 NOTE_ON=77 NOTE_ON=65 TIME_DELTA=16 NOTE_OFF=72 NOTE_OFF=77 NOTE_OFF=65 BAR_END BAR_START NOTE_ON=72 NOTE_ON=77 NOTE_ON=65 TIME_DELTA=16 NOTE_OFF=72 NOTE_OFF=77 NOTE_OFF=65 BAR_END BAR_START NOTE_ON=72 NOTE_ON=77 NOTE_ON=65 TIME_DELTA=11 NOTE_OFF=72 NOTE_OFF=77 NOTE_OFF=65 BAR_END TRACK_END TRACK_START INST=0 DENSITY=1 BAR_START NOTE_ON=60 NOTE_ON=53 NOTE_ON=56 TIME_DELTA=16 NOTE_OFF=60 NOTE_OFF=53 NOTE_OFF=56 BAR_END BAR_START NOTE_ON=60 NOTE_ON=53 NOTE_ON=56 TIME_DELTA=16 NOTE_OFF=60 NOTE_OFF=53 NOTE_OFF=56 BAR_END BAR_START NOTE_ON=60 NOTE_ON=53 NOTE_ON=56 TIME_DELTA=16 NOTE_OFF=60 NOTE_OFF=53 NOTE_OFF=56 BAR_END BAR_START NOTE_ON=60 NOTE_ON=53 NOTE_ON=56 TIME_DELTA=16 NOTE_OFF=60 NOTE_OFF=53 NOTE_OFF=56 BAR_END BAR_START NOTE_ON=60 NOTE_ON=53 NOTE_ON=56 TIME_DELTA=16 NOTE_OFF=60 NOTE_OFF=53 NOTE_OFF=56 BAR_END BAR_START NOTE_ON=60 NOTE_ON=53 NOTE_ON=56 TIME_DELTA=16 NOTE_OFF=60 NOTE_OFF=53 NOTE_OFF=56 BAR_END BAR_START NOTE_ON=60 NOTE_ON=53 NOTE_ON=56 TIME_DELTA=16 NOTE_OFF=60 NOTE_OFF=53 NOTE_OFF=56 BAR_END BAR_START NOTE_ON=60 NOTE_ON=53 NOTE_ON=56 TIME_DELTA=16 NOTE_OFF=60 NOTE_OFF=53 NOTE_OFF=56 BAR_END TRACK_END TRACK_START INST=122 DENSITY=3 BAR_START NOTE_ON=55 TIME_DELTA=16 NOTE_OFF=55 BAR_END BAR_START NOTE_ON=64 NOTE_ON=55 TIME_DELTA=16 NOTE_OFF=64 NOTE_OFF=55 BAR_END BAR_START NOTE_ON=57 NOTE_ON=64 NOTE_ON=55 TIME_DELTA=1 NOTE_OFF=55 TIME_DELTA=15 NOTE_OFF=57 NOTE_OFF=64 BAR_END BAR_START NOTE_ON=62 NOTE_ON=57 TIME_DELTA=16 NOTE_OFF=62 NOTE_OFF=57 BAR_END BAR_START NOTE_ON=55 NOTE_ON=62 NOTE_ON=57 TIME_DELTA=1 NOTE_OFF=57 TIME_DELTA=15 NOTE_OFF=55 NOTE_OFF=62 BAR_END BAR_START NOTE_ON=64 NOTE_ON=55 TIME_DELTA=16 NOTE_OFF=64 NOTE_OFF=55 BAR_END BAR_START NOTE_ON=57 NOTE_ON=64 TIME_DELTA=16 NOTE_OFF=57 NOTE_OFF=64 BAR_END BAR_START NOTE_ON=62 NOTE_ON=57 NOTE_ON=64 TIME_DELTA=1 NOTE_OFF=64 TIME_DELTA=7 NOTE_OFF=62 TIME_DELTA=1 NOTE_OFF=57 TIME_DELTA=3 NOTE_ON=57 TIME_DELTA=3 NOTE_OFF=57 BAR_END TRACK_END\n",
            "PIECE_START TRACK_START INST=DRUMS DENSITY=1 BAR_START BAR_END BAR_START BAR_END BAR_START NOTE_ON=27 NOTE_ON=35 NOTE_ON=46 NOTE_ON=51 TIME_DELTA=1 NOTE_OFF=27 NOTE_OFF=35 NOTE_OFF=46 NOTE_OFF=51 TIME_DELTA=1 NOTE_ON=27 TIME_DELTA=1 NOTE_OFF=27 TIME_DELTA=1 NOTE_ON=27 TIME_DELTA=1 NOTE_OFF=27 TIME_DELTA=1 NOTE_ON=27 TIME_DELTA=1 NOTE_OFF=27 TIME_DELTA=1 NOTE_ON=28 NOTE_ON=44 TIME_DELTA=1 NOTE_OFF=28 NOTE_OFF=44 TIME_DELTA=3 NOTE_ON=27 TIME_DELTA=1 NOTE_OFF=27 TIME_DELTA=1 NOTE_ON=27 TIME_DELTA=1 NOTE_OFF=27 BAR_END BAR_START NOTE_ON=27 NOTE_ON=44 TIME_DELTA=1 NOTE_OFF=27 NOTE_OFF=44 TIME_DELTA=1 NOTE_ON=27 TIME_DELTA=1 NOTE_OFF=27 TIME_DELTA=1 NOTE_ON=27 TIME_DELTA=1 NOTE_OFF=27 TIME_DELTA=1 NOTE_ON=27 TIME_DELTA=1 NOTE_OFF=27 TIME_DELTA=1 NOTE_ON=28 NOTE_ON=44 TIME_DELTA=1 NOTE_OFF=28 NOTE_OFF=44 TIME_DELTA=3 NOTE_ON=27 TIME_DELTA=1 NOTE_OFF=27 TIME_DELTA=1 NOTE_ON=27 TIME_DELTA=1 NOTE_OFF=27 BAR_END BAR_START NOTE_ON=27 NOTE_ON=35 NOTE_ON=51 NOTE_ON=55 TIME_DELTA=1 NOTE_OFF=27 NOTE_OFF=35 NOTE_OFF=51 NOTE_OFF=55 TIME_DELTA=1 NOTE_ON=27 TIME_DELTA=1 NOTE_OFF=27 TIME_DELTA=1 NOTE_ON=27 TIME_DELTA=1 NOTE_OFF=27 TIME_DELTA=1 NOTE_ON=27 TIME_DELTA=1 NOTE_OFF=27 TIME_DELTA=1 NOTE_ON=28 NOTE_ON=44 NOTE_ON=40 TIME_DELTA=1 NOTE_OFF=28 NOTE_OFF=44 NOTE_OFF=40 TIME_DELTA=3 NOTE_ON=27 TIME_DELTA=1 NOTE_OFF=27 TIME_DELTA=1 NOTE_ON=27 TIME_DELTA=1 NOTE_OFF=27 BAR_END BAR_START NOTE_ON=27 NOTE_ON=44 TIME_DELTA=1 NOTE_OFF=27 NOTE_OFF=44 TIME_DELTA=1 NOTE_ON=27 TIME_DELTA=1 NOTE_OFF=27 TIME_DELTA=1 NOTE_ON=27 TIME_DELTA=1 NOTE_OFF=27 TIME_DELTA=1 NOTE_ON=27 TIME_DELTA=1 NOTE_OFF=27 TIME_DELTA=1 NOTE_ON=28 NOTE_ON=44 TIME_DELTA=1 NOTE_OFF=28 NOTE_OFF=44 TIME_DELTA=3 NOTE_ON=27 TIME_DELTA=1 NOTE_OFF=27 TIME_DELTA=1 NOTE_ON=27 TIME_DELTA=1 NOTE_OFF=27 BAR_END BAR_START NOTE_ON=27 NOTE_ON=35 NOTE_ON=51 NOTE_ON=55 TIME_DELTA=1 NOTE_OFF=27 NOTE_OFF=35 NOTE_OFF=51 NOTE_OFF=55 TIME_DELTA=1 NOTE_ON=27 TIME_DELTA=1 NOTE_OFF=27 TIME_DELTA=1 NOTE_ON=27 TIME_DELTA=1 NOTE_OFF=27 TIME_DELTA=1 NOTE_ON=27 TIME_DELTA=1 NOTE_OFF=27 TIME_DELTA=1 NOTE_ON=28 NOTE_ON=44 NOTE_ON=40 TIME_DELTA=1 NOTE_OFF=28 NOTE_OFF=44 NOTE_OFF=40 TIME_DELTA=3 NOTE_ON=27 TIME_DELTA=1 NOTE_OFF=27 TIME_DELTA=1 NOTE_ON=27 TIME_DELTA=1 NOTE_OFF=27 BAR_END BAR_START NOTE_ON=27 NOTE_ON=44 TIME_DELTA=1 NOTE_OFF=27 NOTE_OFF=44 TIME_DELTA=1 NOTE_ON=27 TIME_DELTA=1 NOTE_OFF=27 TIME_DELTA=1 NOTE_ON=27 TIME_DELTA=1 NOTE_OFF=27 TIME_DELTA=1 NOTE_ON=27 TIME_DELTA=1 NOTE_OFF=27 TIME_DELTA=1 NOTE_ON=28 NOTE_ON=44 TIME_DELTA=1 NOTE_OFF=28 NOTE_OFF=44 TIME_DELTA=3 NOTE_ON=27 TIME_DELTA=1 NOTE_OFF=27 TIME_DELTA=1 NOTE_ON=27 TIME_DELTA=1 NOTE_OFF=27 BAR_END TRACK_END TRACK_START INST=27 DENSITY=1 BAR_START BAR_END BAR_START BAR_END BAR_START BAR_END BAR_START BAR_END BAR_START NOTE_ON=66 NOTE_ON=71 NOTE_ON=63 TIME_DELTA=2 NOTE_OFF=66 NOTE_OFF=71 NOTE_OFF=63 TIME_DELTA=2 NOTE_ON=63 NOTE_ON=66 NOTE_ON=71 TIME_DELTA=2 NOTE_OFF=63 NOTE_OFF=66 NOTE_OFF=71 BAR_END BAR_START TIME_DELTA=12 NOTE_ON=71 NOTE_ON=63 NOTE_ON=66 TIME_DELTA=2 NOTE_OFF=71 NOTE_OFF=63 NOTE_OFF=66 NOTE_ON=59 TIME_DELTA=1 NOTE_OFF=59 BAR_END BAR_START BAR_END BAR_START BAR_END TRACK_END TRACK_START INST=4 DENSITY=2 BAR_START BAR_END BAR_START BAR_END BAR_START NOTE_ON=66 NOTE_ON=58 NOTE_ON=42 NOTE_ON=61 TIME_DELTA=16 NOTE_OFF=66 NOTE_OFF=58 NOTE_OFF=42 NOTE_OFF=61 BAR_END BAR_START NOTE_ON=66 NOTE_ON=58 NOTE_ON=42 NOTE_ON=61 TIME_DELTA=6 NOTE_OFF=66 TIME_DELTA=1 NOTE_OFF=58 TIME_DELTA=1 NOTE_OFF=42 NOTE_ON=34 NOTE_ON=65 NOTE_ON=56 TIME_DELTA=8 NOTE_OFF=61 NOTE_OFF=34 NOTE_OFF=65 NOTE_OFF=56 BAR_END BAR_START NOTE_ON=35 NOTE_ON=61 NOTE_ON=65 NOTE_ON=56 TIME_DELTA=11 NOTE_OFF=61 NOTE_OFF=65 NOTE_OFF=56 TIME_DELTA=1 NOTE_ON=54 NOTE_ON=59 NOTE_ON=63 TIME_DELTA=4 NOTE_OFF=35 NOTE_OFF=54 NOTE_OFF=59 NOTE_OFF=63 BAR_END BAR_START NOTE_ON=35 NOTE_ON=54 NOTE_ON=59 NOTE_ON=63 TIME_DELTA=15 NOTE_OFF=35 NOTE_OFF=54 NOTE_OFF=59 TIME_DELTA=1 NOTE_OFF=63 BAR_END BAR_START NOTE_ON=42 NOTE_ON=58 NOTE_ON=66 NOTE_ON=61 TIME_DELTA=16 NOTE_OFF=42 NOTE_OFF=58 NOTE_OFF=66 NOTE_OFF=61 BAR_END BAR_START NOTE_ON=42 NOTE_ON=58 NOTE_ON=66 NOTE_ON=61 TIME_DELTA=7 NOTE_OFF=42 TIME_DELTA=1 NOTE_OFF=58 NOTE_OFF=66 NOTE_ON=56 NOTE_ON=34 NOTE_ON=65 TIME_DELTA=7 NOTE_OFF=61 TIME_DELTA=1 NOTE_OFF=56 NOTE_OFF=34 NOTE_OFF=65 BAR_END TRACK_END TRACK_START INST=26 DENSITY=0 BAR_START BAR_END BAR_START BAR_END BAR_START BAR_END BAR_START BAR_END BAR_START BAR_END BAR_START BAR_END BAR_START NOTE_ON=64 TIME_DELTA=16 NOTE_OFF=64 BAR_END BAR_START NOTE_ON=64 TIME_DELTA=6 NOTE_OFF=64 BAR_END TRACK_END\n"
          ]
        }
      ],
      "source": [
        "# TO CHANGE  - this will probably give us some memory issues \n",
        "# Dictionnary stage to skip here and load the date into the tokenizer directly from the text files\n",
        "# show the first 2 items\n",
        "def show_n_first_dataset_entries(dataset, n=2):\n",
        "  for idx, key in enumerate(dataset.values()):\n",
        "    if idx >= n:\n",
        "      break\n",
        "    else:\n",
        "      print(key)\n",
        "\n",
        "def dataset_in_dictionary(files):\n",
        "  dataset_dict = {}\n",
        "  for count, file in enumerate(files):\n",
        "    filename = file.split(\"/\")\n",
        "    file_content = open(file, \"r\")\n",
        "    while True:\n",
        "      count += 1\n",
        "      line =  file_content.readline().rstrip(\"\\n\") \n",
        "       \n",
        "      if not line: # break when file is over\n",
        "        break\n",
        "\n",
        "      dataset_dict[f\"filename[-1]_{count}\"] = line\n",
        "\n",
        "  show_n_first_dataset_entries(dataset_dict, n=2)\n",
        "\n",
        "  return dataset_dict\n",
        "\n",
        "print(\"=============\")\n",
        "print(\"Training data\")\n",
        "print(\"=============\")\n",
        "dataset_train_dict = dataset_in_dictionary(files_train)\n",
        "print(\"===============\")\n",
        "print(\"Validation data\")\n",
        "print(\"===============\")\n",
        "dataset_valid_dict = dataset_in_dictionary(files_valid)"
      ]
    },
    {
      "cell_type": "markdown",
      "metadata": {
        "id": "JKuQBcHO8DuY"
      },
      "source": [
        "# Tokenizer\n",
        "\n"
      ]
    },
    {
      "cell_type": "code",
      "execution_count": 12,
      "metadata": {
        "id": "YJA0Q4e8QKlv"
      },
      "outputs": [],
      "source": [
        "# defined in an earlier cell\n",
        "# tokenizer_path = Path(f\"{drive_path}/tokenizer\")\n",
        "tokenizer_path = tokenizer_path\n",
        "tokenizer_file = \"tokenizer.json\""
      ]
    },
    {
      "cell_type": "markdown",
      "metadata": {
        "id": "qFtBxLkIsAmr"
      },
      "source": [
        "## Train the TOKENIZER"
      ]
    },
    {
      "cell_type": "code",
      "execution_count": 13,
      "metadata": {
        "id": "yY_lCEkGdTQT"
      },
      "outputs": [],
      "source": [
        "#do we train from scratch?\n",
        "train_from_scratch = True"
      ]
    },
    {
      "cell_type": "code",
      "execution_count": 14,
      "metadata": {
        "id": "FbMJtqPJkvJx"
      },
      "outputs": [],
      "source": [
        "from tokenizers import Tokenizer\n",
        "from tokenizers.models import WordLevel\n",
        "from tokenizers.pre_tokenizers import WhitespaceSplit\n",
        "from tokenizers.trainers import WordLevelTrainer\n",
        "from transformers import PreTrainedTokenizerFast\n",
        "\n",
        "\n",
        "# making an iterator to go through the dictionary \n",
        "# CHANG THIS TO LOAD DIRECTLY FROM THE FILES TO SAVE MEMORY\n",
        "def get_training_corpus():\n",
        "    for song in dataset_train_dict.values():\n",
        "        yield song\n",
        "\n",
        "def define_and_save_tokenizer(\n",
        "  saved_tokenizer=\"tokenizer.json\", \n",
        "  tokenizer_path=\"./\"\n",
        "):\n",
        "  # using a Word Level Tokemizer\n",
        "  tokenizer = Tokenizer(WordLevel(unk_token=\"[UNK]\"))\n",
        "  # separating vocabulary on whitespaces (pretokenizer)\n",
        "  tokenizer.pre_tokenizer = WhitespaceSplit()\n",
        "  # set up the trainer \n",
        "  trainer = WordLevelTrainer(\n",
        "      special_tokens=[\"[UNK]\", \"[CLS]\", \"[SEP]\", \"[PAD]\", \"[MASK]\"]\n",
        "  )\n",
        "  # special tokens I took the ones tristan used but I am not sure I understand all of them \n",
        "  # [UNK] always need and UNK token\n",
        "  # [PAD] if we need to do some pading\n",
        "  # [MASK] if when we need to mask, in order to predict the future without seeing it\n",
        "  # [CLS] what is it ?\n",
        "  # [SEP] what is it ?\n",
        "\n",
        "  # get corpus\n",
        "  training_corpus = get_training_corpus()\n",
        "  # train tokenizer\n",
        "  tokenizer.train_from_iterator(training_corpus, trainer=trainer)\n",
        "  # save tokenizer\n",
        "  tokenizer.save(f\"{tokenizer_path}/{saved_tokenizer}\")\n",
        "\n",
        "  return tokenizer\n",
        "\n",
        "if train_from_scratch:\n",
        "  tokenizer = define_and_save_tokenizer(tokenizer_path=tokenizer_path)\n"
      ]
    },
    {
      "cell_type": "markdown",
      "metadata": {
        "id": "2Z_4vy6cPUz7"
      },
      "source": [
        "## Or load the trained tokenizer\n"
      ]
    },
    {
      "cell_type": "code",
      "execution_count": 31,
      "metadata": {
        "id": "EVfS9F3HPTfx"
      },
      "outputs": [],
      "source": [
        "if not train_from_scratch:\n",
        "  from transformers import PreTrainedTokenizerFast\n",
        "  tokenizer = PreTrainedTokenizerFast(tokenizer_file=f\"{tokenizer_path}/{tokenizer_file}\")"
      ]
    },
    {
      "cell_type": "markdown",
      "metadata": {
        "id": "0-hYSVhWRaCm"
      },
      "source": [
        " ## Make it ready for GPT2 : add the pad_token"
      ]
    },
    {
      "cell_type": "code",
      "execution_count": 15,
      "metadata": {
        "id": "xEyb48_HRQfb"
      },
      "outputs": [],
      "source": [
        "def format_tokenizer_for_transformers_classes(saved_tokenizer=\"tokenizer.json\"):\n",
        "  # PreTrainedTokenizerFast makes the tokenizer usable by the transformer\n",
        "  tokenizer = PreTrainedTokenizerFast(tokenizer_file = saved_tokenizer)\n",
        "  tokenizer.add_special_tokens({'pad_token': '[PAD]'})\n",
        "\n",
        "  return tokenizer\n",
        "\n",
        "tokenizer = format_tokenizer_for_transformers_classes(\n",
        "    saved_tokenizer=f\"{tokenizer_path}/{tokenizer_file}\"\n",
        ")"
      ]
    },
    {
      "cell_type": "markdown",
      "metadata": {
        "id": "fBW_Rgm8QA_N"
      },
      "source": [
        "## Visualize the Vocabulary"
      ]
    },
    {
      "cell_type": "code",
      "execution_count": 17,
      "metadata": {
        "colab": {
          "base_uri": "https://localhost:8080/"
        },
        "id": "g5r-usDzffae",
        "outputId": "2eaf8533-436d-4378-8c09-504f6704415a"
      },
      "outputs": [
        {
          "name": "stdout",
          "output_type": "stream",
          "text": [
            "391\n",
            "{'NOTE_OFF=120': 372, 'INST=103': 252, 'INST=93': 276, 'NOTE_ON=53': 68, 'NOTE_ON=61': 46, 'TIME_DELTA=14': 142, 'INST=54': 213, 'NOTE_OFF=103': 229, 'INST=73': 205, 'NOTE_OFF=124': 330, 'TIME_DELTA=6': 85, 'TIME_DELTA=7': 128, 'INST=34': 183, 'NOTE_OFF=92': 199, 'INST=52': 192, 'INST=55': 263, '[PAD]': 3, 'NOTE_ON=11': 382, 'NOTE_ON=69': 38, 'TRACK_START': 56, 'NOTE_ON=67': 52, 'INST=3': 303, 'BAR_END': 7, 'NOTE_OFF=28': 96, 'NOTE_OFF=104': 322, 'INST=77': 327, 'NOTE_OFF=11': 380, 'NOTE_ON=38': 15, 'NOTE_ON=21': 254, 'NOTE_ON=120': 373, 'NOTE_ON=35': 21, 'NOTE_ON=39': 87, 'INST=20': 287, 'INST=97': 356, 'NOTE_ON=82': 101, 'NOTE_ON=96': 181, 'INST=100': 233, 'NOTE_ON=54': 24, 'NOTE_OFF=110': 283, 'NOTE_OFF=57': 18, 'INST=72': 377, 'NOTE_ON=14': 350, 'DENSITY=3': 123, '[MASK]': 4, 'NOTE_OFF=61': 45, 'DENSITY=1': 127, 'INST=7': 237, 'NOTE_OFF=99': 293, 'NOTE_ON=0': 368, 'NOTE_ON=66': 48, 'NOTE_ON=62': 30, 'NOTE_OFF=74': 88, 'NOTE_ON=94': 215, 'INST=64': 251, 'NOTE_ON=23': 189, 'NOTE_OFF=7': 332, 'NOTE_OFF=47': 75, 'NOTE_ON=4': 390, 'NOTE_OFF=68': 77, 'NOTE_OFF=4': 389, 'NOTE_ON=73': 99, 'NOTE_ON=100': 228, 'NOTE_ON=18': 269, 'INST=41': 351, 'NOTE_OFF=97': 259, 'INST=108': 320, 'NOTE_ON=88': 149, 'NOTE_OFF=63': 71, 'NOTE_ON=16': 185, 'NOTE_ON=89': 174, 'INST=61': 220, 'NOTE_OFF=24': 158, 'INST=76': 329, 'NOTE_OFF=122': 357, 'NOTE_ON=5': 386, 'TIME_DELTA=15': 147, 'NOTE_ON=31': 109, 'NOTE_ON=108': 355, 'NOTE_ON=24': 159, 'INST=46': 290, 'NOTE_OFF=19': 243, 'INST=106': 315, 'NOTE_ON=126': 363, 'NOTE_OFF=0': 366, 'NOTE_ON=93': 167, 'NOTE_OFF=32': 121, 'NOTE_ON=98': 179, 'INST=2': 241, 'INST=14': 302, 'NOTE_OFF=125': 339, 'NOTE_OFF=36': 12, 'NOTE_OFF=9': 383, 'NOTE_OFF=102': 317, 'NOTE_OFF=33': 81, 'NOTE_ON=3': 369, 'NOTE_ON=125': 340, 'NOTE_OFF=60': 41, 'INST=90': 225, 'NOTE_ON=90': 176, 'INST=56': 226, 'NOTE_ON=43': 74, 'NOTE_ON=127': 364, 'NOTE_OFF=43': 73, 'NOTE_ON=77': 126, 'INST=9': 266, 'INST=70': 261, 'INST=28': 186, 'INST=5': 193, 'INST=81': 201, 'INST=22': 295, 'INST=32': 198, 'NOTE_OFF=70': 53, 'NOTE_OFF=98': 178, 'NOTE_OFF=105': 281, 'NOTE_OFF=37': 102, 'NOTE_ON=81': 107, 'NOTE_ON=50': 36, 'INST=48': 182, 'NOTE_OFF=76': 93, 'NOTE_ON=68': 78, 'NOTE_OFF=16': 184, 'NOTE_OFF=109': 218, 'NOTE_OFF=71': 79, 'INST=127': 278, 'NOTE_OFF=52': 43, 'NOTE_ON=65': 64, 'INST=17': 240, 'INST=89': 221, 'NOTE_ON=123': 362, 'INST=84': 267, 'NOTE_ON=56': 62, 'NOTE_ON=26': 133, 'NOTE_OFF=39': 86, 'NOTE_ON=64': 26, 'NOTE_OFF=26': 132, 'NOTE_OFF=83': 138, 'INST=33': 156, 'INST=27': 168, 'INST=18': 224, 'NOTE_OFF=21': 253, 'INST=58': 313, 'NOTE_ON=28': 97, 'NOTE_ON=40': 17, 'INST=75': 246, 'DENSITY=0': 129, 'NOTE_ON=70': 54, 'INST=80': 222, 'INST=51': 236, 'NOTE_ON=87': 152, 'NOTE_ON=33': 82, 'INST=63': 262, 'NOTE_OFF=29': 114, 'NOTE_OFF=35': 20, 'INST=116': 238, 'NOTE_OFF=8': 264, 'INST=96': 312, 'NOTE_ON=42': 10, 'TIME_DELTA=3': 22, 'NOTE_OFF=44': 31, 'NOTE_OFF=34': 104, 'INST=53': 195, 'INST=121': 297, 'INST=107': 346, 'TIME_DELTA=10': 136, 'NOTE_OFF=48': 59, 'NOTE_OFF=75': 110, 'NOTE_ON=22': 162, 'NOTE_OFF=50': 35, 'NOTE_ON=34': 105, 'INST=122': 307, 'NOTE_ON=83': 139, 'NOTE_ON=32': 122, 'INST=39': 204, 'INST=13': 309, 'INST=31': 310, 'INST=126': 338, 'INST=109': 370, 'NOTE_ON=84': 144, 'NOTE_ON=91': 164, 'NOTE_ON=106': 348, 'NOTE_OFF=84': 143, 'NOTE_ON=19': 244, 'INST=125': 371, 'INST=85': 211, 'NOTE_OFF=5': 385, 'NOTE_OFF=126': 359, 'NOTE_ON=45': 50, 'INST=12': 255, 'INST=66': 216, 'INST=102': 308, 'INST=99': 256, 'TIME_DELTA=16': 95, 'NOTE_ON=59': 28, 'NOTE_ON=20': 208, 'NOTE_OFF=51': 57, 'NOTE_OFF=30': 118, 'INST=29': 155, 'NOTE_OFF=96': 180, 'NOTE_OFF=6': 196, 'NOTE_ON=95': 210, 'NOTE_ON=63': 72, 'INST=6': 275, 'NOTE_OFF=27': 130, 'INST=43': 291, 'INST=105': 304, 'NOTE_ON=29': 115, 'NOTE_OFF=22': 161, 'NOTE_ON=7': 333, 'INST=86': 344, 'NOTE_ON=37': 103, 'TIME_DELTA=2': 6, 'NOTE_OFF=46': 33, 'INST=74': 365, 'NOTE_ON=15': 301, 'NOTE_ON=27': 131, 'NOTE_ON=92': 200, 'NOTE_ON=58': 70, 'NOTE_OFF=20': 207, 'NOTE_ON=104': 323, 'INST=30': 150, 'INST=59': 316, 'INST=62': 217, 'NOTE_OFF=23': 188, 'INST=37': 247, 'NOTE_ON=46': 34, 'NOTE_OFF=107': 273, 'NOTE_OFF=42': 9, 'NOTE_OFF=49': 65, 'INST=47': 277, 'INST=60': 248, 'NOTE_OFF=25': 171, 'NOTE_OFF=41': 83, 'TRACK_END': 55, 'INST=50': 206, 'INST=10': 305, 'NOTE_ON=6': 197, 'INST=16': 235, 'NOTE_OFF=94': 214, 'INST=115': 324, 'INST=94': 285, 'INST=95': 288, 'INST=91': 239, 'NOTE_OFF=69': 37, 'INST=42': 319, 'INST=0': 169, 'NOTE_OFF=95': 209, 'NOTE_OFF=17': 342, 'NOTE_OFF=58': 69, 'INST=87': 202, 'NOTE_ON=57': 19, 'INST=104': 334, 'TIME_DELTA=12': 135, 'NOTE_OFF=101': 257, 'NOTE_OFF=65': 63, 'NOTE_OFF=106': 347, 'NOTE_ON=74': 89, 'NOTE_ON=47': 76, 'NOTE_OFF=31': 108, 'NOTE_OFF=77': 125, 'TIME_DELTA=9': 157, 'NOTE_ON=55': 40, 'NOTE_OFF=79': 116, 'DENSITY=2': 124, 'INST=38': 191, 'NOTE_ON=60': 42, 'NOTE_OFF=64': 25, 'TIME_DELTA=13': 160, 'INST=65': 212, 'NOTE_OFF=100': 227, 'INST=67': 272, 'NOTE_ON=44': 32, 'NOTE_OFF=88': 148, 'NOTE_ON=25': 172, 'NOTE_ON=107': 274, 'INST=35': 190, 'NOTE_OFF=53': 67, 'NOTE_OFF=81': 106, 'NOTE_ON=72': 92, 'NOTE_ON=79': 117, 'INST=49': 203, 'INST=45': 286, 'NOTE_ON=78': 113, 'INST=69': 296, 'NOTE_OFF=15': 300, 'INST=120': 321, 'INST=98': 311, 'INST=113': 345, 'NOTE_OFF=73': 98, 'NOTE_OFF=93': 166, 'NOTE_ON=8': 265, 'NOTE_OFF=45': 49, 'NOTE_ON=124': 331, 'NOTE_ON=2': 353, 'TIME_DELTA=4': 11, 'NOTE_ON=122': 361, 'INST=21': 289, 'INST=124': 298, 'NOTE_OFF=89': 173, 'INST=26': 177, 'INST=114': 378, '[SEP]': 2, 'NOTE_ON=49': 66, 'INST=119': 223, 'INST=1': 194, 'NOTE_ON=10': 376, 'INST=24': 187, 'NOTE_OFF=10': 375, 'INST=92': 341, 'NOTE_ON=1': 381, 'NOTE_ON=52': 44, 'NOTE_OFF=62': 29, 'NOTE_ON=75': 111, 'NOTE_ON=30': 119, 'NOTE_ON=80': 141, 'INST=36': 232, 'NOTE_OFF=59': 27, 'INST=68': 234, 'INST=57': 245, 'NOTE_ON=97': 260, 'INST=71': 250, 'INST=117': 279, 'NOTE_ON=105': 282, 'TIME_DELTA=8': 90, 'NOTE_ON=36': 13, 'NOTE_ON=101': 258, 'INST=79': 292, 'NOTE_OFF=55': 39, 'NOTE_ON=102': 318, 'INST=101': 328, 'NOTE_OFF=3': 367, 'INST=19': 374, 'INST=4': 231, 'NOTE_ON=9': 384, 'NOTE_OFF=66': 47, 'NOTE_OFF=91': 163, 'NOTE_OFF=90': 175, 'NOTE_ON=110': 284, 'NOTE_ON=86': 146, 'INST=118': 249, 'TIME_DELTA=5': 120, 'INST=15': 306, 'NOTE_OFF=72': 91, 'NOTE_OFF=38': 14, 'NOTE_OFF=13': 387, 'NOTE_ON=12': 337, 'NOTE_OFF=82': 100, 'NOTE_ON=103': 230, 'NOTE_OFF=78': 112, 'NOTE_OFF=18': 268, 'INST=40': 280, 'INST=83': 326, 'NOTE_ON=13': 388, 'NOTE_OFF=56': 61, 'NOTE_OFF=127': 360, 'INST=82': 271, 'NOTE_OFF=85': 153, 'NOTE_OFF=40': 16, 'NOTE_OFF=67': 51, 'NOTE_ON=109': 219, 'NOTE_ON=76': 94, 'INST=11': 270, 'INST=78': 325, 'NOTE_ON=51': 58, 'NOTE_ON=48': 60, 'NOTE_ON=85': 154, 'NOTE_OFF=12': 336, '[CLS]': 1, 'NOTE_OFF=86': 145, 'INST=88': 242, 'INST=8': 299, '[UNK]': 0, 'INST=44': 314, 'TIME_DELTA=1': 5, 'TIME_DELTA=11': 165, 'NOTE_ON=17': 343, 'NOTE_OFF=2': 352, 'NOTE_OFF=108': 354, 'NOTE_OFF=123': 358, 'INST=DRUMS': 134, 'NOTE_OFF=80': 140, 'BAR_START': 8, 'NOTE_ON=41': 84, 'NOTE_OFF=87': 151, 'INST=25': 170, 'NOTE_OFF=54': 23, 'NOTE_ON=71': 80, 'INST=23': 335, 'NOTE_OFF=1': 379, 'NOTE_OFF=14': 349, 'NOTE_ON=99': 294, 'PIECE_START': 137}\n"
          ]
        }
      ],
      "source": [
        "print(tokenizer.vocab_size)\n",
        "print(tokenizer.get_vocab())\n"
      ]
    },
    {
      "cell_type": "markdown",
      "metadata": {
        "id": "zEbAC-NKst-b"
      },
      "source": [
        "## Tokenize the DATASET and prepare it for the model"
      ]
    },
    {
      "cell_type": "code",
      "execution_count": 20,
      "metadata": {
        "id": "xBOS6W4ysx0H"
      },
      "outputs": [],
      "source": [
        "def tokenize_function(data_to_tokenize):\n",
        "  # this make the tokenized data ready for the model that requires a\n",
        "    tokenized_data = tokenizer(\n",
        "        data_to_tokenize,\n",
        "        truncation=True,\n",
        "        padding=True,\n",
        "        max_length=512,\n",
        "    ) \n",
        "    return {\n",
        "        \"input_ids\": tokenized_data[\"input_ids\"]\n",
        "    } \n",
        "\n",
        "# tokenize a dataset_dictionnary\n",
        "def tokenize_dataset(dataset_dictionary, tokenizer, limit=None):\n",
        "  if limit is None:\n",
        "    limit = len(dataset_dictionary.items())\n",
        "\n",
        "  tokenized_dictionary=[]\n",
        "  for idx, file in enumerate(dataset_dictionary.values()):\n",
        "    # print(file)\n",
        "    if idx<limit:\n",
        "      tokenized_dictionary.append(tokenize_function(file))\n",
        "      # print(encoded_file)\n",
        "\n",
        "  return tokenized_dictionary\n",
        "\n",
        "# just use 10000 sequences for now\n",
        "dataset_train_tokenized = tokenize_dataset(dataset_train_dict,tokenizer, limit=10000)\n",
        "# len(dataset_train_tokenized)\n",
        "dataset_val_tokenized = tokenize_dataset(dataset_valid_dict,tokenizer, limit=10000)"
      ]
    },
    {
      "cell_type": "code",
      "execution_count": 23,
      "metadata": {
        "colab": {
          "base_uri": "https://localhost:8080/"
        },
        "id": "djrL5XXDkQKD",
        "outputId": "3e32cd52-ffee-438a-c6e9-2fda64801974"
      },
      "outputs": [
        {
          "name": "stdout",
          "output_type": "stream",
          "text": [
            "<class 'dict'>\n",
            "----\n",
            "PIECE_START TRACK_START INST=49 DENSITY=0 BAR_START BAR_END BAR_START BAR_END BAR_START BAR_END BAR_START TIME_DELTA=6 NOTE_ON=61 TIME_DELTA=1 NOTE_OFF=61 NOTE_ON=63 TIME_DELTA=1 NOTE_OFF=63 NOTE_ON=64 TIME_DELTA=1 NOTE_OFF=64 NOTE_ON=63 TIME_DELTA=1 NOTE_OFF=63 NOTE_ON=64 TIME_DELTA=1 NOTE_OFF=64 NOTE_ON=66 TIME_DELTA=1 NOTE_OFF=66 NOTE_ON=68 TIME_DELTA=4 NOTE_OFF=68 BAR_END BAR_START BAR_END BAR_START BAR_END BAR_START BAR_END BAR_START BAR_END TRACK_END TRACK_START INST=35 DENSITY=0 BAR_START BAR_END BAR_START BAR_END BAR_START NOTE_ON=42 TIME_DELTA=1 NOTE_OFF=42 NOTE_ON=49 TIME_DELTA=2 NOTE_OFF=49 NOTE_ON=42 TIME_DELTA=1 NOTE_OFF=42 NOTE_ON=52 TIME_DELTA=4 NOTE_OFF=52 NOTE_ON=52 TIME_DELTA=4 NOTE_OFF=52 NOTE_ON=52 TIME_DELTA=2 NOTE_OFF=52 NOTE_ON=42 TIME_DELTA=2 NOTE_OFF=42 BAR_END BAR_START NOTE_ON=47 TIME_DELTA=12 NOTE_OFF=47 BAR_END BAR_START NOTE_ON=28 TIME_DELTA=1 NOTE_OFF=28 BAR_END BAR_START BAR_END BAR_START BAR_END BAR_START BAR_END TRACK_END TRACK_START INST=49 DENSITY=0 BAR_START BAR_END BAR_START BAR_END BAR_START BAR_END BAR_START NOTE_ON=61 NOTE_ON=59 NOTE_ON=64 NOTE_ON=57 TIME_DELTA=16 NOTE_OFF=61 NOTE_OFF=59 NOTE_OFF=64 NOTE_OFF=57 BAR_END BAR_START BAR_END BAR_START BAR_END BAR_START BAR_END BAR_START BAR_END TRACK_END TRACK_START INST=0 DENSITY=2 BAR_START BAR_END BAR_START BAR_END BAR_START NOTE_ON=42 TIME_DELTA=1 NOTE_ON=68 TIME_DELTA=2 NOTE_OFF=68 NOTE_ON=69 TIME_DELTA=1 NOTE_OFF=69 NOTE_ON=57 NOTE_ON=76 NOTE_ON=64 NOTE_ON=54 TIME_DELTA=1 NOTE_OFF=76 NOTE_ON=73 TIME_DELTA=2 NOTE_OFF=73 NOTE_ON=76 TIME_DELTA=1 NOTE_OFF=76 NOTE_ON=80 TIME_DELTA=2 NOTE_OFF=80 NOTE_ON=83 TIME_DELTA=2 NOTE_OFF=83 NOTE_ON=80 TIME_DELTA=2 NOTE_OFF=80 NOTE_ON=71 TIME_DELTA=2 NOTE_OFF=42 NOTE_OFF=57 NOTE_OFF=64 NOTE_OFF=54 NOTE_OFF=71 BAR_END BAR_START NOTE_ON=47 NOTE_ON=54 NOTE_ON=59 NOTE_ON=64 TIME_DELTA=3 NOTE_ON=68 TIME_DELTA=1 NOTE_OFF=68 NOTE_ON=69 TIME_DELTA=1 NOTE_OFF=69 NOTE_ON=71 TIME_DELTA=1 NOTE_OFF=71 NOTE_ON=73 TIME_DELTA=1 NOTE_OFF=73 NOTE_ON=75 TIME_DELTA=1 NOTE_OFF=75 NOTE_ON=76 TIME_DELTA=1 NOTE_OFF=76 NOTE_ON=75 TIME_DELTA=1 NOTE_OFF=75 NOTE_ON=76 TIME_DELTA=1 NOTE_OFF=76 NOTE_ON=78 TIME_DELTA=1 NOTE_OFF=78 NOTE_ON=80 TIME_DELTA=1 NOTE_OFF=80 NOTE_ON=81 TIME_DELTA=1 NOTE_OFF=81 NOTE_ON=83 TIME_DELTA=1 NOTE_OFF=83 NOTE_ON=85 TIME_DELTA=1 NOTE_OFF=47 NOTE_OFF=54 NOTE_OFF=59 NOTE_OFF=64 NOTE_OFF=85 BAR_END BAR_START NOTE_ON=64 TIME_DELTA=1 NOTE_OFF=64 BAR_END BAR_START BAR_END BAR_START BAR_END BAR_START BAR_END TRACK_END TRACK_START INST=DRUMS DENSITY=0 BAR_START BAR_END BAR_START NOTE_ON=42 TIME_DELTA=1 NOTE_OFF=42 TIME_DELTA=3 NOTE_ON=42 TIME_DELTA=1 NOTE_OFF=42 TIME_DELTA=3 NOTE_ON=42 TIME_DELTA=1 NOTE_OFF=42 TIME_DELTA=3 NOTE_ON=42 TIME_DELTA=1 NOTE_OFF=42 BAR_END BAR_START BAR_END BAR_START TIME_DELTA=14 NOTE_ON=55 TIME_DELTA=1 NOTE_OFF=55 NOTE_ON=55 NOTE_ON=55 NOTE_ON=55 TIME_DELTA=1 NOTE_OFF=55 NOTE_OFF=55 NOTE_OFF=55 BAR_END BAR_START NOTE_ON=55 TIME_DELTA=1 NOTE_OFF=55 BAR_END BAR_START BAR_END BAR_START BAR_END BAR_START BAR_END TRACK_END\n",
            "{'input_ids': [137, 56, 203, 129, 8, 7, 8, 7, 8, 7, 8, 85, 46, 5, 45, 72, 5, 71, 26, 5, 25, 72, 5, 71, 26, 5, 25, 48, 5, 47, 78, 11, 77, 7, 8, 7, 8, 7, 8, 7, 8, 7, 55, 56, 190, 129, 8, 7, 8, 7, 8, 10, 5, 9, 66, 6, 65, 10, 5, 9, 44, 11, 43, 44, 11, 43, 44, 6, 43, 10, 6, 9, 7, 8, 76, 135, 75, 7, 8, 97, 5, 96, 7, 8, 7, 8, 7, 8, 7, 55, 56, 203, 129, 8, 7, 8, 7, 8, 7, 8, 46, 28, 26, 19, 95, 45, 27, 25, 18, 7, 8, 7, 8, 7, 8, 7, 8, 7, 55, 56, 169, 124, 8, 7, 8, 7, 8, 10, 5, 78, 6, 77, 38, 5, 37, 19, 94, 26, 24, 5, 93, 99, 6, 98, 94, 5, 93, 141, 6, 140, 139, 6, 138, 141, 6, 140, 80, 6, 9, 18, 25, 23, 79, 7, 8, 76, 24, 28, 26, 22, 78, 5, 77, 38, 5, 37, 80, 5, 79, 99, 5, 98, 111, 5, 110, 94, 5, 93, 111, 5, 110, 94, 5, 93, 113, 5, 112, 141, 5, 140, 107, 5, 106, 139, 5, 138, 154, 5, 75, 23, 27, 25, 153, 7, 8, 26, 5, 25, 7, 8, 7, 8, 7, 8, 7, 55, 56, 134, 129, 8, 7, 8, 10, 5, 9, 22, 10, 5, 9, 22, 10, 5, 9, 22, 10, 5, 9, 7, 8, 7, 8, 142, 40, 5, 39, 40, 40, 40, 5, 39, 39, 39, 7, 8, 40, 5, 39, 7, 8, 7, 8, 7, 8, 7, 55]}\n",
            "----\n",
            "PIECE_START TRACK_START INST=103 DENSITY=0 BAR_START BAR_END BAR_START BAR_END BAR_START NOTE_ON=64 NOTE_ON=67 NOTE_ON=72 NOTE_ON=74 TIME_DELTA=16 NOTE_OFF=64 NOTE_OFF=67 NOTE_OFF=72 NOTE_OFF=74 BAR_END BAR_START NOTE_ON=64 NOTE_ON=67 NOTE_ON=72 NOTE_ON=74 TIME_DELTA=16 NOTE_OFF=64 NOTE_OFF=67 NOTE_OFF=72 NOTE_OFF=74 BAR_END BAR_START BAR_END BAR_START BAR_END BAR_START BAR_END BAR_START BAR_END TRACK_END\n",
            "{'input_ids': [137, 56, 252, 129, 8, 7, 8, 7, 8, 26, 52, 92, 89, 95, 25, 51, 91, 88, 7, 8, 26, 52, 92, 89, 95, 25, 51, 91, 88, 7, 8, 7, 8, 7, 8, 7, 8, 7, 55]}\n",
            "----\n",
            "PIECE_START TRACK_START INST=56 DENSITY=1 BAR_START BAR_END BAR_START BAR_END BAR_START BAR_END BAR_START BAR_END BAR_START BAR_END BAR_START TIME_DELTA=2 NOTE_ON=63 TIME_DELTA=2 NOTE_OFF=63 NOTE_ON=71 TIME_DELTA=1 NOTE_OFF=71 TIME_DELTA=1 NOTE_ON=71 TIME_DELTA=2 NOTE_OFF=71 NOTE_ON=70 TIME_DELTA=2 NOTE_OFF=70 NOTE_ON=68 TIME_DELTA=2 NOTE_OFF=68 NOTE_ON=66 TIME_DELTA=2 NOTE_OFF=66 NOTE_ON=68 TIME_DELTA=2 NOTE_OFF=68 BAR_END BAR_START NOTE_ON=68 TIME_DELTA=4 NOTE_OFF=68 BAR_END BAR_START TIME_DELTA=2 NOTE_ON=63 TIME_DELTA=2 NOTE_OFF=63 NOTE_ON=71 TIME_DELTA=1 NOTE_OFF=71 TIME_DELTA=1 NOTE_ON=71 TIME_DELTA=2 NOTE_OFF=71 NOTE_ON=70 TIME_DELTA=2 NOTE_OFF=70 NOTE_ON=68 TIME_DELTA=2 NOTE_OFF=68 NOTE_ON=66 TIME_DELTA=2 NOTE_OFF=66 NOTE_ON=68 TIME_DELTA=2 NOTE_OFF=68 BAR_END TRACK_END TRACK_START INST=26 DENSITY=2 BAR_START BAR_END BAR_START BAR_END BAR_START BAR_END BAR_START BAR_END BAR_START BAR_END BAR_START NOTE_ON=80 TIME_DELTA=1 NOTE_OFF=80 NOTE_ON=68 TIME_DELTA=1 NOTE_OFF=68 NOTE_ON=80 TIME_DELTA=1 NOTE_OFF=80 NOTE_ON=68 TIME_DELTA=1 NOTE_OFF=68 NOTE_ON=80 TIME_DELTA=1 NOTE_OFF=80 NOTE_ON=68 TIME_DELTA=1 NOTE_OFF=68 NOTE_ON=80 TIME_DELTA=1 NOTE_OFF=80 NOTE_ON=68 TIME_DELTA=1 NOTE_OFF=68 NOTE_ON=80 TIME_DELTA=1 NOTE_OFF=80 NOTE_ON=68 TIME_DELTA=1 NOTE_OFF=68 NOTE_ON=80 TIME_DELTA=1 NOTE_OFF=80 NOTE_ON=68 TIME_DELTA=1 NOTE_OFF=68 NOTE_ON=80 TIME_DELTA=1 NOTE_OFF=80 NOTE_ON=68 TIME_DELTA=1 NOTE_OFF=68 NOTE_ON=80 TIME_DELTA=1 NOTE_OFF=80 NOTE_ON=68 TIME_DELTA=1 NOTE_OFF=68 BAR_END BAR_START NOTE_ON=75 TIME_DELTA=1 NOTE_OFF=75 NOTE_ON=63 TIME_DELTA=1 NOTE_OFF=63 NOTE_ON=75 TIME_DELTA=1 NOTE_OFF=75 NOTE_ON=63 TIME_DELTA=1 NOTE_OFF=63 NOTE_ON=75 TIME_DELTA=1 NOTE_OFF=75 NOTE_ON=63 TIME_DELTA=1 NOTE_OFF=63 NOTE_ON=75 TIME_DELTA=1 NOTE_OFF=75 NOTE_ON=63 TIME_DELTA=1 NOTE_OFF=63 NOTE_ON=75 TIME_DELTA=1 NOTE_OFF=75 NOTE_ON=63 TIME_DELTA=1 NOTE_OFF=63 NOTE_ON=75 TIME_DELTA=1 NOTE_OFF=75 NOTE_ON=63 TIME_DELTA=1 NOTE_OFF=63 NOTE_ON=75 TIME_DELTA=1 NOTE_OFF=75 NOTE_ON=63 TIME_DELTA=1 NOTE_OFF=63 NOTE_ON=75 TIME_DELTA=1 NOTE_OFF=75 NOTE_ON=63 TIME_DELTA=1 NOTE_OFF=63 BAR_END BAR_START NOTE_ON=80 TIME_DELTA=1 NOTE_OFF=80 NOTE_ON=68 TIME_DELTA=1 NOTE_OFF=68 NOTE_ON=80 TIME_DELTA=1 NOTE_OFF=80 NOTE_ON=68 TIME_DELTA=1 NOTE_OFF=68 NOTE_ON=80 TIME_DELTA=1 NOTE_OFF=80 NOTE_ON=68 TIME_DELTA=1 NOTE_OFF=68 NOTE_ON=80 TIME_DELTA=1 NOTE_OFF=80 NOTE_ON=68 TIME_DELTA=1 NOTE_OFF=68 NOTE_ON=80 TIME_DELTA=1 NOTE_OFF=80 NOTE_ON=68 TIME_DELTA=1 NOTE_OFF=68 NOTE_ON=80 TIME_DELTA=1 NOTE_OFF=80 NOTE_ON=68 TIME_DELTA=1 NOTE_OFF=68 NOTE_ON=80 TIME_DELTA=1 NOTE_OFF=80 NOTE_ON=68 TIME_DELTA=1 NOTE_OFF=68 NOTE_ON=80 TIME_DELTA=1 NOTE_OFF=80 NOTE_ON=68 TIME_DELTA=1 NOTE_OFF=68 BAR_END TRACK_END TRACK_START INST=32 DENSITY=2 BAR_START BAR_END BAR_START BAR_END BAR_START BAR_END BAR_START BAR_END BAR_START BAR_END BAR_START NOTE_ON=80 TIME_DELTA=1 NOTE_OFF=80 NOTE_ON=68 TIME_DELTA=1 NOTE_OFF=68 NOTE_ON=80 TIME_DELTA=1 NOTE_OFF=80 NOTE_ON=68 TIME_DELTA=1 NOTE_OFF=68 NOTE_ON=80 TIME_DELTA=1 NOTE_OFF=80 NOTE_ON=68 TIME_DELTA=1 NOTE_OFF=68 NOTE_ON=80 TIME_DELTA=1 NOTE_OFF=80 NOTE_ON=68 TIME_DELTA=1 NOTE_OFF=68 NOTE_ON=80 TIME_DELTA=1 NOTE_OFF=80 NOTE_ON=68 TIME_DELTA=1 NOTE_OFF=68 NOTE_ON=80 TIME_DELTA=1 NOTE_OFF=80 NOTE_ON=68 TIME_DELTA=1 NOTE_OFF=68 NOTE_ON=80 TIME_DELTA=1 NOTE_OFF=80 NOTE_ON=68 TIME_DELTA=1 NOTE_OFF=68 NOTE_ON=80 TIME_DELTA=1 NOTE_OFF=80 NOTE_ON=68 TIME_DELTA=1 NOTE_OFF=68 BAR_END BAR_START NOTE_ON=75 TIME_DELTA=1 NOTE_OFF=75 NOTE_ON=63 TIME_DELTA=1 NOTE_OFF=63 NOTE_ON=75 TIME_DELTA=1 NOTE_OFF=75 NOTE_ON=63 TIME_DELTA=1 NOTE_OFF=63 NOTE_ON=75 TIME_DELTA=1 NOTE_OFF=75 NOTE_ON=63 TIME_DELTA=1 NOTE_OFF=63 NOTE_ON=75 TIME_DELTA=1 NOTE_OFF=75 NOTE_ON=63 TIME_DELTA=1 NOTE_OFF=63 NOTE_ON=75 TIME_DELTA=1 NOTE_OFF=75 NOTE_ON=63 TIME_DELTA=1 NOTE_OFF=63 NOTE_ON=75 TIME_DELTA=1 NOTE_OFF=75 NOTE_ON=63 TIME_DELTA=1 NOTE_OFF=63 NOTE_ON=75 TIME_DELTA=1 NOTE_OFF=75 NOTE_ON=63 TIME_DELTA=1 NOTE_OFF=63 NOTE_ON=75 TIME_DELTA=1 NOTE_OFF=75 NOTE_ON=63 TIME_DELTA=1 NOTE_OFF=63 BAR_END BAR_START NOTE_ON=80 TIME_DELTA=1 NOTE_OFF=80 NOTE_ON=68 TIME_DELTA=1 NOTE_OFF=68 NOTE_ON=80 TIME_DELTA=1 NOTE_OFF=80 NOTE_ON=68 TIME_DELTA=1 NOTE_OFF=68 NOTE_ON=80 TIME_DELTA=1 NOTE_OFF=80 NOTE_ON=68 TIME_DELTA=1 NOTE_OFF=68 NOTE_ON=80 TIME_DELTA=1 NOTE_OFF=80 NOTE_ON=68 TIME_DELTA=1 NOTE_OFF=68 NOTE_ON=80 TIME_DELTA=1 NOTE_OFF=80 NOTE_ON=68 TIME_DELTA=1 NOTE_OFF=68 NOTE_ON=80 TIME_DELTA=1 NOTE_OFF=80 NOTE_ON=68 TIME_DELTA=1 NOTE_OFF=68 NOTE_ON=80 TIME_DELTA=1 NOTE_OFF=80 NOTE_ON=68 TIME_DELTA=1 NOTE_OFF=68 NOTE_ON=80 TIME_DELTA=1 NOTE_OFF=80 NOTE_ON=68 TIME_DELTA=1 NOTE_OFF=68 BAR_END TRACK_END TRACK_START INST=38 DENSITY=1 BAR_START BAR_END BAR_START NOTE_ON=32 TIME_DELTA=2 NOTE_OFF=32 NOTE_ON=44 TIME_DELTA=2 NOTE_OFF=44 NOTE_ON=39 TIME_DELTA=2 NOTE_OFF=39 NOTE_ON=35 TIME_DELTA=2 NOTE_OFF=35 NOTE_ON=32 TIME_DELTA=2 NOTE_OFF=32 NOTE_ON=32 TIME_DELTA=2 NOTE_OFF=32 NOTE_ON=35 TIME_DELTA=2 NOTE_OFF=35 NOTE_ON=32 TIME_DELTA=2 NOTE_OFF=32 BAR_END BAR_START NOTE_ON=32 TIME_DELTA=2 NOTE_OFF=32 NOTE_ON=35 TIME_DELTA=2 NOTE_OFF=35 NOTE_ON=39 TIME_DELTA=2 NOTE_OFF=39 NOTE_ON=35 TIME_DELTA=2 NOTE_OFF=35 NOTE_ON=32 TIME_DELTA=2 NOTE_OFF=32 NOTE_ON=32 TIME_DELTA=2 NOTE_OFF=32 NOTE_ON=35 TIME_DELTA=2 NOTE_OFF=35 NOTE_ON=32 TIME_DELTA=2 NOTE_OFF=32 BAR_END BAR_START NOTE_ON=32 TIME_DELTA=2 NOTE_OFF=32 NOTE_ON=44 TIME_DELTA=2 NOTE_OFF=44 NOTE_ON=39 TIME_DELTA=2 NOTE_OFF=39 NOTE_ON=35 TIME_DELTA=2 NOTE_OFF=35 NOTE_ON=32 TIME_DELTA=2 NOTE_OFF=32 NOTE_ON=32 TIME_DELTA=2 NOTE_OFF=32 NOTE_ON=35 TIME_DELTA=2 NOTE_OFF=35 NOTE_ON=32 TIME_DELTA=2 NOTE_OFF=32 BAR_END BAR_START NOTE_ON=32 TIME_DELTA=2 NOTE_OFF=32 NOTE_ON=35 TIME_DELTA=2 NOTE_OFF=35 NOTE_ON=39 TIME_DELTA=2 NOTE_OFF=39 NOTE_ON=35 TIME_DELTA=2 NOTE_OFF=35 NOTE_ON=32 TIME_DELTA=2 NOTE_OFF=32 NOTE_ON=32 TIME_DELTA=2 NOTE_OFF=32 NOTE_ON=35 TIME_DELTA=2 NOTE_OFF=35 NOTE_ON=32 TIME_DELTA=2 NOTE_OFF=32 BAR_END BAR_START NOTE_ON=32 TIME_DELTA=2 NOTE_OFF=32 NOTE_ON=32 TIME_DELTA=2 NOTE_OFF=32 NOTE_ON=35 TIME_DELTA=2 NOTE_OFF=35 NOTE_ON=32 TIME_DELTA=2 NOTE_OFF=32 NOTE_ON=35 TIME_DELTA=2 NOTE_OFF=35 NOTE_ON=32 TIME_DELTA=2 NOTE_OFF=32 NOTE_ON=30 TIME_DELTA=2 NOTE_OFF=30 NOTE_ON=32 TIME_DELTA=2 NOTE_OFF=32 BAR_END BAR_START NOTE_ON=35 TIME_DELTA=2 NOTE_OFF=35 NOTE_ON=32 TIME_DELTA=2 NOTE_OFF=32 NOTE_ON=32 TIME_DELTA=2 NOTE_OFF=32 NOTE_ON=35 TIME_DELTA=2 NOTE_OFF=35 NOTE_ON=32 TIME_DELTA=2 NOTE_OFF=32 NOTE_ON=32 TIME_DELTA=2 NOTE_OFF=32 NOTE_ON=37 TIME_DELTA=2 NOTE_OFF=37 NOTE_ON=32 TIME_DELTA=2 NOTE_OFF=32 BAR_END BAR_START NOTE_ON=32 TIME_DELTA=2 NOTE_OFF=32 NOTE_ON=32 TIME_DELTA=2 NOTE_OFF=32 NOTE_ON=35 TIME_DELTA=2 NOTE_OFF=35 NOTE_ON=32 TIME_DELTA=2 NOTE_OFF=32 NOTE_ON=35 TIME_DELTA=2 NOTE_OFF=35 NOTE_ON=32 TIME_DELTA=2 NOTE_OFF=32 NOTE_ON=30 TIME_DELTA=2 NOTE_OFF=30 NOTE_ON=32 TIME_DELTA=2 NOTE_OFF=32 BAR_END TRACK_END TRACK_START INST=35 DENSITY=3 BAR_START BAR_END BAR_START NOTE_ON=32 TIME_DELTA=2 NOTE_OFF=32 NOTE_ON=44 TIME_DELTA=2 NOTE_OFF=44 NOTE_ON=39 TIME_DELTA=2 NOTE_OFF=39 NOTE_ON=35 TIME_DELTA=2 NOTE_OFF=35 NOTE_ON=32 TIME_DELTA=2 NOTE_OFF=32 NOTE_ON=32 TIME_DELTA=2 NOTE_OFF=32 NOTE_ON=35 TIME_DELTA=2 NOTE_OFF=35 NOTE_ON=32 TIME_DELTA=2 NOTE_OFF=32 BAR_END BAR_START NOTE_ON=32 TIME_DELTA=2 NOTE_OFF=32 NOTE_ON=35 TIME_DELTA=2 NOTE_OFF=35 NOTE_ON=39 TIME_DELTA=2 NOTE_OFF=39 NOTE_ON=35 TIME_DELTA=2 NOTE_OFF=35 NOTE_ON=32 TIME_DELTA=2 NOTE_OFF=32 NOTE_ON=32 TIME_DELTA=2 NOTE_OFF=32 NOTE_ON=35 TIME_DELTA=2 NOTE_OFF=35 NOTE_ON=32 TIME_DELTA=2 NOTE_OFF=32 BAR_END BAR_START NOTE_ON=32 TIME_DELTA=2 NOTE_OFF=32 NOTE_ON=44 TIME_DELTA=2 NOTE_OFF=44 NOTE_ON=39 TIME_DELTA=2 NOTE_OFF=39 NOTE_ON=35 TIME_DELTA=2 NOTE_OFF=35 NOTE_ON=32 TIME_DELTA=2 NOTE_OFF=32 NOTE_ON=32 TIME_DELTA=2 NOTE_OFF=32 NOTE_ON=35 TIME_DELTA=2 NOTE_OFF=35 NOTE_ON=32 TIME_DELTA=2 NOTE_OFF=32 BAR_END BAR_START NOTE_ON=32 TIME_DELTA=2 NOTE_OFF=32 NOTE_ON=35 TIME_DELTA=2 NOTE_OFF=35 NOTE_ON=39 TIME_DELTA=2 NOTE_OFF=39 NOTE_ON=35 TIME_DELTA=2 NOTE_OFF=35 NOTE_ON=32 TIME_DELTA=2 NOTE_OFF=32 NOTE_ON=32 TIME_DELTA=2 NOTE_OFF=32 NOTE_ON=35 TIME_DELTA=2 NOTE_OFF=35 NOTE_ON=32 TIME_DELTA=2 NOTE_OFF=32 BAR_END BAR_START NOTE_ON=32 TIME_DELTA=2 NOTE_OFF=32 NOTE_ON=32 TIME_DELTA=2 NOTE_OFF=32 NOTE_ON=35 TIME_DELTA=2 NOTE_OFF=35 NOTE_ON=32 TIME_DELTA=2 NOTE_OFF=32 NOTE_ON=35 TIME_DELTA=2 NOTE_OFF=35 NOTE_ON=32 TIME_DELTA=2 NOTE_OFF=32 NOTE_ON=30 TIME_DELTA=2 NOTE_OFF=30 NOTE_ON=32 TIME_DELTA=2 NOTE_OFF=32 BAR_END BAR_START NOTE_ON=35 TIME_DELTA=2 NOTE_OFF=35 NOTE_ON=32 TIME_DELTA=2 NOTE_OFF=32 NOTE_ON=32 TIME_DELTA=2 NOTE_OFF=32 NOTE_ON=35 TIME_DELTA=2 NOTE_OFF=35 NOTE_ON=32 TIME_DELTA=2 NOTE_OFF=32 NOTE_ON=32 TIME_DELTA=2 NOTE_OFF=32 NOTE_ON=37 TIME_DELTA=2 NOTE_OFF=37 NOTE_ON=32 TIME_DELTA=2 NOTE_OFF=32 BAR_END BAR_START NOTE_ON=32 TIME_DELTA=2 NOTE_OFF=32 NOTE_ON=32 TIME_DELTA=2 NOTE_OFF=32 NOTE_ON=35 TIME_DELTA=2 NOTE_OFF=35 NOTE_ON=32 TIME_DELTA=2 NOTE_OFF=32 NOTE_ON=35 TIME_DELTA=2 NOTE_OFF=35 NOTE_ON=32 TIME_DELTA=2 NOTE_OFF=32 NOTE_ON=30 TIME_DELTA=2 NOTE_OFF=30 NOTE_ON=32 TIME_DELTA=2 NOTE_OFF=32 BAR_END TRACK_END TRACK_START INST=DRUMS DENSITY=1 BAR_START BAR_END BAR_START NOTE_ON=42 NOTE_ON=35 TIME_DELTA=1 NOTE_OFF=42 NOTE_OFF=35 TIME_DELTA=3 NOTE_ON=55 NOTE_ON=38 TIME_DELTA=1 NOTE_OFF=55 NOTE_OFF=38 TIME_DELTA=3 NOTE_ON=42 NOTE_ON=35 TIME_DELTA=1 NOTE_OFF=42 NOTE_OFF=35 TIME_DELTA=3 NOTE_ON=55 NOTE_ON=38 TIME_DELTA=1 NOTE_OFF=55 NOTE_OFF=38 BAR_END BAR_START NOTE_ON=42 NOTE_ON=35 TIME_DELTA=1 NOTE_OFF=42 NOTE_OFF=35 TIME_DELTA=1 NOTE_ON=42 TIME_DELTA=1 NOTE_OFF=42 TIME_DELTA=1 NOTE_ON=55 NOTE_ON=38 TIME_DELTA=1 NOTE_OFF=55 NOTE_OFF=38 TIME_DELTA=1 NOTE_ON=42 TIME_DELTA=1 NOTE_OFF=42 TIME_DELTA=1 NOTE_ON=35 TIME_DELTA=1 NOTE_OFF=35 TIME_DELTA=1 NOTE_ON=42 TIME_DELTA=1 NOTE_OFF=42 TIME_DELTA=1 NOTE_ON=55 NOTE_ON=38 TIME_DELTA=1 NOTE_OFF=55 NOTE_OFF=38 TIME_DELTA=1 NOTE_ON=42 TIME_DELTA=1 NOTE_OFF=42 BAR_END BAR_START NOTE_ON=42 NOTE_ON=35 TIME_DELTA=1 NOTE_OFF=42 NOTE_OFF=35 TIME_DELTA=3 NOTE_ON=55 NOTE_ON=38 TIME_DELTA=1 NOTE_OFF=55 NOTE_OFF=38 TIME_DELTA=3 NOTE_ON=42 NOTE_ON=35 TIME_DELTA=1 NOTE_OFF=42 NOTE_OFF=35 TIME_DELTA=3 NOTE_ON=55 NOTE_ON=38 TIME_DELTA=1 NOTE_OFF=55 NOTE_OFF=38 BAR_END BAR_START NOTE_ON=42 NOTE_ON=35 TIME_DELTA=1 NOTE_OFF=42 NOTE_OFF=35 TIME_DELTA=1 NOTE_ON=42 TIME_DELTA=1 NOTE_OFF=42 TIME_DELTA=1 NOTE_ON=55 NOTE_ON=38 TIME_DELTA=1 NOTE_OFF=55 NOTE_OFF=38 TIME_DELTA=1 NOTE_ON=42 TIME_DELTA=1 NOTE_OFF=42 TIME_DELTA=1 NOTE_ON=35 TIME_DELTA=1 NOTE_OFF=35 TIME_DELTA=1 NOTE_ON=42 TIME_DELTA=1 NOTE_OFF=42 TIME_DELTA=1 NOTE_ON=55 NOTE_ON=38 TIME_DELTA=1 NOTE_OFF=55 NOTE_OFF=38 TIME_DELTA=1 NOTE_ON=42 TIME_DELTA=1 NOTE_OFF=42 BAR_END BAR_START NOTE_ON=42 NOTE_ON=35 TIME_DELTA=1 NOTE_OFF=42 NOTE_OFF=35 TIME_DELTA=3 NOTE_ON=55 NOTE_ON=38 TIME_DELTA=1 NOTE_OFF=55 NOTE_OFF=38 TIME_DELTA=3 NOTE_ON=42 NOTE_ON=35 TIME_DELTA=1 NOTE_OFF=42 NOTE_OFF=35 TIME_DELTA=3 NOTE_ON=55 NOTE_ON=38 TIME_DELTA=1 NOTE_OFF=55 NOTE_OFF=38 BAR_END BAR_START NOTE_ON=42 NOTE_ON=35 TIME_DELTA=1 NOTE_OFF=42 NOTE_OFF=35 TIME_DELTA=1 NOTE_ON=42 TIME_DELTA=1 NOTE_OFF=42 TIME_DELTA=1 NOTE_ON=55 NOTE_ON=38 TIME_DELTA=1 NOTE_OFF=55 NOTE_OFF=38 TIME_DELTA=1 NOTE_ON=42 TIME_DELTA=1 NOTE_OFF=42 TIME_DELTA=1 NOTE_ON=35 TIME_DELTA=1 NOTE_OFF=35 TIME_DELTA=1 NOTE_ON=39 NOTE_ON=42 TIME_DELTA=1 NOTE_OFF=39 NOTE_OFF=42 TIME_DELTA=1 NOTE_ON=39 NOTE_ON=55 NOTE_ON=38 TIME_DELTA=1 NOTE_OFF=39 NOTE_OFF=55 NOTE_OFF=38 TIME_DELTA=1 NOTE_ON=42 TIME_DELTA=1 NOTE_OFF=42 BAR_END BAR_START NOTE_ON=42 NOTE_ON=35 TIME_DELTA=1 NOTE_OFF=42 NOTE_OFF=35 TIME_DELTA=3 NOTE_ON=55 NOTE_ON=38 TIME_DELTA=1 NOTE_OFF=55 NOTE_OFF=38 TIME_DELTA=3 NOTE_ON=42 NOTE_ON=35 TIME_DELTA=1 NOTE_OFF=42 NOTE_OFF=35 TIME_DELTA=3 NOTE_ON=55 NOTE_ON=38 TIME_DELTA=1 NOTE_OFF=55 NOTE_OFF=38 BAR_END TRACK_END TRACK_START INST=30 DENSITY=1 BAR_START TIME_DELTA=14 NOTE_ON=44 TIME_DELTA=2 NOTE_OFF=44 BAR_END BAR_START NOTE_ON=46 TIME_DELTA=2 NOTE_OFF=46 NOTE_ON=47 TIME_DELTA=2 NOTE_OFF=47 NOTE_ON=44 TIME_DELTA=2 NOTE_OFF=44 NOTE_ON=46 TIME_DELTA=4 NOTE_OFF=46 NOTE_ON=44 TIME_DELTA=4 NOTE_OFF=44 NOTE_ON=44 TIME_DELTA=2 NOTE_OFF=44 BAR_END BAR_START NOTE_ON=44 TIME_DELTA=2 NOTE_OFF=44 NOTE_ON=46 TIME_DELTA=2 NOTE_OFF=46 NOTE_ON=44 TIME_DELTA=2 NOTE_OFF=44 NOTE_ON=47 TIME_DELTA=4 NOTE_OFF=47 NOTE_ON=44 TIME_DELTA=4 NOTE_OFF=44 NOTE_ON=44 TIME_DELTA=2 NOTE_OFF=44 BAR_END BAR_START NOTE_ON=46 TIME_DELTA=2 NOTE_OFF=46 NOTE_ON=47 TIME_DELTA=2 NOTE_OFF=47 NOTE_ON=44 TIME_DELTA=2 NOTE_OFF=44 NOTE_ON=46 TIME_DELTA=4 NOTE_OFF=46 NOTE_ON=44 TIME_DELTA=4 NOTE_OFF=44 NOTE_ON=44 TIME_DELTA=2 NOTE_OFF=44 BAR_END BAR_START NOTE_ON=44 TIME_DELTA=2 NOTE_OFF=44 NOTE_ON=46 TIME_DELTA=2 NOTE_OFF=46 NOTE_ON=44 TIME_DELTA=2 NOTE_OFF=44 NOTE_ON=47 TIME_DELTA=4 NOTE_OFF=47 NOTE_ON=44 TIME_DELTA=6 NOTE_OFF=44 BAR_END BAR_START BAR_END BAR_START BAR_END BAR_START BAR_END TRACK_END TRACK_START INST=4 DENSITY=0 BAR_START BAR_END BAR_START BAR_END BAR_START BAR_END BAR_START BAR_END BAR_START BAR_END BAR_START NOTE_ON=68 NOTE_ON=71 TIME_DELTA=16 NOTE_OFF=68 NOTE_OFF=71 BAR_END BAR_START NOTE_ON=68 NOTE_ON=71 TIME_DELTA=16 NOTE_OFF=68 NOTE_OFF=71 BAR_END BAR_START NOTE_ON=68 NOTE_ON=71 TIME_DELTA=16 NOTE_OFF=68 NOTE_OFF=71 BAR_END TRACK_END TRACK_START INST=30 DENSITY=1 BAR_START TIME_DELTA=14 NOTE_ON=56 TIME_DELTA=2 NOTE_OFF=56 BAR_END BAR_START NOTE_ON=58 TIME_DELTA=2 NOTE_OFF=58 NOTE_ON=59 TIME_DELTA=2 NOTE_OFF=59 NOTE_ON=56 TIME_DELTA=2 NOTE_OFF=56 NOTE_ON=58 TIME_DELTA=4 NOTE_OFF=58 NOTE_ON=56 TIME_DELTA=4 NOTE_OFF=56 NOTE_ON=56 TIME_DELTA=2 NOTE_OFF=56 BAR_END BAR_START NOTE_ON=56 TIME_DELTA=2 NOTE_OFF=56 NOTE_ON=58 TIME_DELTA=2 NOTE_OFF=58 NOTE_ON=56 TIME_DELTA=2 NOTE_OFF=56 NOTE_ON=59 TIME_DELTA=4 NOTE_OFF=59 NOTE_ON=56 TIME_DELTA=4 NOTE_OFF=56 NOTE_ON=56 TIME_DELTA=2 NOTE_OFF=56 BAR_END BAR_START NOTE_ON=58 TIME_DELTA=2 NOTE_OFF=58 NOTE_ON=59 TIME_DELTA=2 NOTE_OFF=59 NOTE_ON=56 TIME_DELTA=2 NOTE_OFF=56 NOTE_ON=58 TIME_DELTA=4 NOTE_OFF=58 NOTE_ON=56 TIME_DELTA=4 NOTE_OFF=56 NOTE_ON=56 TIME_DELTA=2 NOTE_OFF=56 BAR_END BAR_START NOTE_ON=56 TIME_DELTA=2 NOTE_OFF=56 NOTE_ON=58 TIME_DELTA=2 NOTE_OFF=58 NOTE_ON=56 TIME_DELTA=2 NOTE_OFF=56 NOTE_ON=59 TIME_DELTA=4 NOTE_OFF=59 NOTE_ON=56 TIME_DELTA=6 NOTE_OFF=56 BAR_END BAR_START BAR_END BAR_START BAR_END BAR_START BAR_END TRACK_END TRACK_START INST=80 DENSITY=0 BAR_START BAR_END BAR_START BAR_END BAR_START BAR_END BAR_START BAR_END BAR_START BAR_END BAR_START TIME_DELTA=2 NOTE_ON=63 TIME_DELTA=2 NOTE_OFF=63 NOTE_ON=71 TIME_DELTA=1 NOTE_OFF=71 TIME_DELTA=1 NOTE_ON=71 TIME_DELTA=2 NOTE_OFF=71 NOTE_ON=70 TIME_DELTA=2 NOTE_OFF=70 NOTE_ON=68 TIME_DELTA=2 NOTE_OFF=68 NOTE_ON=66 TIME_DELTA=2 NOTE_OFF=66 NOTE_ON=68 TIME_DELTA=2 NOTE_OFF=68 BAR_END BAR_START NOTE_ON=68 TIME_DELTA=4 NOTE_OFF=68 BAR_END BAR_START TIME_DELTA=2 NOTE_ON=63 TIME_DELTA=2 NOTE_OFF=63 NOTE_ON=71 TIME_DELTA=1 NOTE_OFF=71 TIME_DELTA=1 NOTE_ON=71 TIME_DELTA=2 NOTE_OFF=71 NOTE_ON=70 TIME_DELTA=2 NOTE_OFF=70 NOTE_ON=68 TIME_DELTA=2 NOTE_OFF=68 NOTE_ON=66 TIME_DELTA=2 NOTE_OFF=66 NOTE_ON=68 TIME_DELTA=2 NOTE_OFF=68 BAR_END TRACK_END TRACK_START INST=67 DENSITY=2 BAR_START TIME_DELTA=14 NOTE_ON=56 TIME_DELTA=2 NOTE_OFF=56 BAR_END BAR_START NOTE_ON=58 TIME_DELTA=2 NOTE_OFF=58 NOTE_ON=59 TIME_DELTA=2 NOTE_OFF=59 NOTE_ON=56 TIME_DELTA=2 NOTE_OFF=56 NOTE_ON=58 TIME_DELTA=4 NOTE_OFF=58 NOTE_ON=56 TIME_DELTA=4 NOTE_OFF=56 NOTE_ON=56 TIME_DELTA=2 NOTE_OFF=56 BAR_END BAR_START NOTE_ON=56 TIME_DELTA=2 NOTE_OFF=56 NOTE_ON=58 TIME_DELTA=2 NOTE_OFF=58 NOTE_ON=56 TIME_DELTA=2 NOTE_OFF=56 NOTE_ON=59 TIME_DELTA=4 NOTE_OFF=59 NOTE_ON=56 TIME_DELTA=4 NOTE_OFF=56 NOTE_ON=56 TIME_DELTA=2 NOTE_OFF=56 BAR_END BAR_START NOTE_ON=58 TIME_DELTA=2 NOTE_OFF=58 NOTE_ON=59 TIME_DELTA=2 NOTE_OFF=59 NOTE_ON=56 TIME_DELTA=2 NOTE_OFF=56 NOTE_ON=58 TIME_DELTA=4 NOTE_OFF=58 NOTE_ON=56 TIME_DELTA=4 NOTE_OFF=56 NOTE_ON=56 TIME_DELTA=2 NOTE_OFF=56 BAR_END BAR_START NOTE_ON=56 TIME_DELTA=2 NOTE_OFF=56 NOTE_ON=58 TIME_DELTA=2 NOTE_OFF=58 NOTE_ON=56 TIME_DELTA=2 NOTE_OFF=56 NOTE_ON=59 TIME_DELTA=4 NOTE_OFF=59 NOTE_ON=56 TIME_DELTA=6 NOTE_OFF=56 BAR_END BAR_START BAR_END BAR_START BAR_END BAR_START BAR_END TRACK_END\n",
            "{'input_ids': [137, 56, 226, 127, 8, 7, 8, 7, 8, 7, 8, 7, 8, 7, 8, 6, 72, 6, 71, 80, 5, 79, 5, 80, 6, 79, 54, 6, 53, 78, 6, 77, 48, 6, 47, 78, 6, 77, 7, 8, 78, 11, 77, 7, 8, 6, 72, 6, 71, 80, 5, 79, 5, 80, 6, 79, 54, 6, 53, 78, 6, 77, 48, 6, 47, 78, 6, 77, 7, 55, 56, 177, 124, 8, 7, 8, 7, 8, 7, 8, 7, 8, 7, 8, 141, 5, 140, 78, 5, 77, 141, 5, 140, 78, 5, 77, 141, 5, 140, 78, 5, 77, 141, 5, 140, 78, 5, 77, 141, 5, 140, 78, 5, 77, 141, 5, 140, 78, 5, 77, 141, 5, 140, 78, 5, 77, 141, 5, 140, 78, 5, 77, 7, 8, 111, 5, 110, 72, 5, 71, 111, 5, 110, 72, 5, 71, 111, 5, 110, 72, 5, 71, 111, 5, 110, 72, 5, 71, 111, 5, 110, 72, 5, 71, 111, 5, 110, 72, 5, 71, 111, 5, 110, 72, 5, 71, 111, 5, 110, 72, 5, 71, 7, 8, 141, 5, 140, 78, 5, 77, 141, 5, 140, 78, 5, 77, 141, 5, 140, 78, 5, 77, 141, 5, 140, 78, 5, 77, 141, 5, 140, 78, 5, 77, 141, 5, 140, 78, 5, 77, 141, 5, 140, 78, 5, 77, 141, 5, 140, 78, 5, 77, 7, 55, 56, 198, 124, 8, 7, 8, 7, 8, 7, 8, 7, 8, 7, 8, 141, 5, 140, 78, 5, 77, 141, 5, 140, 78, 5, 77, 141, 5, 140, 78, 5, 77, 141, 5, 140, 78, 5, 77, 141, 5, 140, 78, 5, 77, 141, 5, 140, 78, 5, 77, 141, 5, 140, 78, 5, 77, 141, 5, 140, 78, 5, 77, 7, 8, 111, 5, 110, 72, 5, 71, 111, 5, 110, 72, 5, 71, 111, 5, 110, 72, 5, 71, 111, 5, 110, 72, 5, 71, 111, 5, 110, 72, 5, 71, 111, 5, 110, 72, 5, 71, 111, 5, 110, 72, 5, 71, 111, 5, 110, 72, 5, 71, 7, 8, 141, 5, 140, 78, 5, 77, 141, 5, 140, 78, 5, 77, 141, 5, 140, 78, 5, 77, 141, 5, 140, 78, 5, 77, 141, 5, 140, 78, 5, 77, 141, 5, 140, 78, 5, 77, 141, 5, 140, 78, 5, 77, 141, 5, 140, 78, 5, 77, 7, 55, 56, 191, 127, 8, 7, 8, 122, 6, 121, 32, 6, 31, 87, 6, 86, 21, 6, 20, 122, 6, 121, 122, 6, 121, 21, 6, 20, 122, 6, 121, 7, 8, 122, 6, 121, 21, 6, 20, 87, 6, 86, 21, 6, 20, 122, 6, 121, 122, 6, 121, 21, 6, 20, 122, 6, 121, 7, 8, 122, 6, 121, 32, 6, 31, 87, 6, 86, 21, 6, 20, 122, 6, 121, 122, 6, 121, 21, 6, 20, 122, 6, 121, 7, 8, 122, 6, 121, 21, 6, 20, 87, 6, 86, 21, 6, 20, 122, 6, 121, 122, 6, 121, 21, 6, 20, 122, 6, 121, 7, 8, 122, 6, 121, 122]}\n",
            "----\n",
            "PIECE_START TRACK_START INST=24 DENSITY=2 BAR_START NOTE_ON=45 TIME_DELTA=2 NOTE_OFF=45 NOTE_ON=49 TIME_DELTA=2 NOTE_OFF=49 TIME_DELTA=2 NOTE_ON=52 TIME_DELTA=4 NOTE_OFF=52 NOTE_ON=54 TIME_DELTA=1 NOTE_OFF=54 NOTE_ON=52 NOTE_ON=50 TIME_DELTA=1 NOTE_OFF=52 NOTE_OFF=50 NOTE_ON=47 TIME_DELTA=2 NOTE_OFF=47 NOTE_ON=40 TIME_DELTA=2 NOTE_OFF=40 BAR_END BAR_START NOTE_ON=57 NOTE_ON=52 NOTE_ON=45 TIME_DELTA=16 NOTE_OFF=57 NOTE_OFF=52 NOTE_OFF=45 BAR_END BAR_START NOTE_ON=45 TIME_DELTA=4 NOTE_OFF=45 NOTE_ON=64 NOTE_ON=61 NOTE_ON=57 TIME_DELTA=2 NOTE_OFF=64 NOTE_OFF=61 NOTE_OFF=57 NOTE_ON=64 NOTE_ON=61 NOTE_ON=57 TIME_DELTA=2 NOTE_OFF=64 NOTE_OFF=61 NOTE_OFF=57 NOTE_ON=45 TIME_DELTA=2 NOTE_ON=64 NOTE_ON=61 NOTE_ON=57 TIME_DELTA=2 NOTE_OFF=45 NOTE_OFF=64 NOTE_OFF=61 NOTE_OFF=57 TIME_DELTA=2 NOTE_ON=66 NOTE_ON=62 NOTE_ON=57 NOTE_ON=50 TIME_DELTA=2 NOTE_OFF=66 NOTE_OFF=62 NOTE_OFF=57 NOTE_OFF=50 BAR_END BAR_START NOTE_ON=66 NOTE_ON=62 NOTE_ON=57 NOTE_ON=50 TIME_DELTA=2 NOTE_OFF=66 NOTE_OFF=62 NOTE_OFF=57 NOTE_OFF=50 NOTE_ON=50 TIME_DELTA=2 NOTE_OFF=50 NOTE_ON=66 NOTE_ON=62 NOTE_ON=57 TIME_DELTA=2 NOTE_OFF=66 NOTE_OFF=62 NOTE_OFF=57 NOTE_ON=52 TIME_DELTA=2 NOTE_OFF=52 NOTE_ON=45 TIME_DELTA=2 NOTE_OFF=45 NOTE_ON=64 NOTE_ON=61 NOTE_ON=57 TIME_DELTA=2 NOTE_OFF=64 NOTE_OFF=61 NOTE_OFF=57 TIME_DELTA=2 NOTE_ON=66 NOTE_ON=62 NOTE_ON=57 NOTE_ON=50 TIME_DELTA=2 NOTE_OFF=66 NOTE_OFF=62 NOTE_OFF=57 NOTE_OFF=50 BAR_END BAR_START NOTE_ON=66 NOTE_ON=62 NOTE_ON=57 NOTE_ON=50 TIME_DELTA=2 NOTE_OFF=66 NOTE_OFF=62 NOTE_OFF=57 NOTE_OFF=50 NOTE_ON=50 TIME_DELTA=2 NOTE_OFF=50 NOTE_ON=66 NOTE_ON=62 NOTE_ON=57 TIME_DELTA=2 NOTE_OFF=66 NOTE_OFF=62 NOTE_OFF=57 NOTE_ON=52 TIME_DELTA=2 NOTE_OFF=52 NOTE_ON=45 TIME_DELTA=2 NOTE_OFF=45 NOTE_ON=64 NOTE_ON=61 NOTE_ON=57 TIME_DELTA=2 NOTE_OFF=64 NOTE_OFF=61 NOTE_OFF=57 TIME_DELTA=2 NOTE_ON=47 TIME_DELTA=2 NOTE_OFF=47 BAR_END BAR_START NOTE_ON=47 TIME_DELTA=2 NOTE_OFF=47 NOTE_ON=63 NOTE_ON=57 NOTE_ON=54 TIME_DELTA=2 NOTE_OFF=63 NOTE_OFF=57 NOTE_OFF=54 TIME_DELTA=2 NOTE_ON=64 NOTE_ON=59 NOTE_ON=52 TIME_DELTA=8 NOTE_OFF=64 NOTE_OFF=59 NOTE_OFF=52 BAR_END BAR_START NOTE_ON=45 TIME_DELTA=4 NOTE_OFF=45 NOTE_ON=64 NOTE_ON=61 NOTE_ON=57 TIME_DELTA=2 NOTE_OFF=64 NOTE_OFF=61 NOTE_OFF=57 NOTE_ON=64 NOTE_ON=61 NOTE_ON=57 TIME_DELTA=2 NOTE_OFF=64 NOTE_OFF=61 NOTE_OFF=57 NOTE_ON=45 TIME_DELTA=2 NOTE_ON=64 NOTE_ON=61 NOTE_ON=57 TIME_DELTA=2 NOTE_OFF=45 NOTE_OFF=64 NOTE_OFF=61 NOTE_OFF=57 TIME_DELTA=2 NOTE_ON=66 NOTE_ON=62 NOTE_ON=57 NOTE_ON=50 TIME_DELTA=2 NOTE_OFF=66 NOTE_OFF=62 NOTE_OFF=57 NOTE_OFF=50 BAR_END BAR_START NOTE_ON=66 NOTE_ON=62 NOTE_ON=57 NOTE_ON=50 TIME_DELTA=2 NOTE_OFF=66 NOTE_OFF=62 NOTE_OFF=57 NOTE_OFF=50 NOTE_ON=50 TIME_DELTA=2 NOTE_ON=66 NOTE_ON=62 NOTE_ON=57 TIME_DELTA=2 NOTE_OFF=50 NOTE_OFF=66 NOTE_OFF=62 NOTE_OFF=57 NOTE_ON=45 TIME_DELTA=2 NOTE_OFF=45 NOTE_ON=45 TIME_DELTA=2 NOTE_OFF=45 NOTE_ON=64 NOTE_ON=61 NOTE_ON=57 TIME_DELTA=2 NOTE_OFF=64 NOTE_OFF=61 NOTE_OFF=57 TIME_DELTA=2 NOTE_ON=66 NOTE_ON=62 NOTE_ON=57 NOTE_ON=50 TIME_DELTA=2 NOTE_OFF=66 NOTE_OFF=62 NOTE_OFF=57 NOTE_OFF=50 BAR_END TRACK_END TRACK_START INST=24 DENSITY=0 BAR_START TIME_DELTA=4 NOTE_ON=52 NOTE_ON=54 TIME_DELTA=1 NOTE_OFF=52 TIME_DELTA=1 NOTE_OFF=54 BAR_END BAR_START BAR_END BAR_START BAR_END BAR_START BAR_END BAR_START BAR_END BAR_START BAR_END BAR_START BAR_END BAR_START BAR_END TRACK_END\n",
            "{'input_ids': [137, 56, 187, 124, 8, 50, 6, 49, 66, 6, 65, 6, 44, 11, 43, 24, 5, 23, 44, 36, 5, 43, 35, 76, 6, 75, 17, 6, 16, 7, 8, 19, 44, 50, 95, 18, 43, 49, 7, 8, 50, 11, 49, 26, 46, 19, 6, 25, 45, 18, 26, 46, 19, 6, 25, 45, 18, 50, 6, 26, 46, 19, 6, 49, 25, 45, 18, 6, 48, 30, 19, 36, 6, 47, 29, 18, 35, 7, 8, 48, 30, 19, 36, 6, 47, 29, 18, 35, 36, 6, 35, 48, 30, 19, 6, 47, 29, 18, 44, 6, 43, 50, 6, 49, 26, 46, 19, 6, 25, 45, 18, 6, 48, 30, 19, 36, 6, 47, 29, 18, 35, 7, 8, 48, 30, 19, 36, 6, 47, 29, 18, 35, 36, 6, 35, 48, 30, 19, 6, 47, 29, 18, 44, 6, 43, 50, 6, 49, 26, 46, 19, 6, 25, 45, 18, 6, 76, 6, 75, 7, 8, 76, 6, 75, 72, 19, 24, 6, 71, 18, 23, 6, 26, 28, 44, 90, 25, 27, 43, 7, 8, 50, 11, 49, 26, 46, 19, 6, 25, 45, 18, 26, 46, 19, 6, 25, 45, 18, 50, 6, 26, 46, 19, 6, 49, 25, 45, 18, 6, 48, 30, 19, 36, 6, 47, 29, 18, 35, 7, 8, 48, 30, 19, 36, 6, 47, 29, 18, 35, 36, 6, 48, 30, 19, 6, 35, 47, 29, 18, 50, 6, 49, 50, 6, 49, 26, 46, 19, 6, 25, 45, 18, 6, 48, 30, 19, 36, 6, 47, 29, 18, 35, 7, 55, 56, 187, 129, 8, 11, 44, 24, 5, 43, 5, 23, 7, 8, 7, 8, 7, 8, 7, 8, 7, 8, 7, 8, 7, 8, 7, 55]}\n",
            "----\n",
            "PIECE_START TRACK_START INST=1 DENSITY=1 BAR_START BAR_END BAR_START BAR_END BAR_START BAR_END BAR_START NOTE_ON=69 NOTE_ON=65 NOTE_ON=60 NOTE_ON=57 NOTE_ON=53 TIME_DELTA=2 NOTE_OFF=69 NOTE_OFF=65 TIME_DELTA=1 NOTE_OFF=60 NOTE_OFF=57 TIME_DELTA=1 NOTE_OFF=53 TIME_DELTA=2 NOTE_ON=64 NOTE_ON=67 NOTE_ON=72 NOTE_ON=53 TIME_DELTA=6 NOTE_OFF=64 NOTE_OFF=67 NOTE_OFF=72 NOTE_ON=60 TIME_DELTA=1 NOTE_OFF=53 NOTE_OFF=60 TIME_DELTA=1 NOTE_ON=64 TIME_DELTA=1 NOTE_OFF=64 BAR_END BAR_START NOTE_ON=65 NOTE_ON=69 NOTE_ON=53 TIME_DELTA=4 NOTE_OFF=65 NOTE_OFF=69 NOTE_ON=60 TIME_DELTA=2 NOTE_OFF=60 NOTE_ON=64 NOTE_ON=67 TIME_DELTA=4 NOTE_OFF=64 NOTE_ON=60 TIME_DELTA=1 NOTE_OFF=53 NOTE_OFF=67 NOTE_OFF=60 TIME_DELTA=1 NOTE_ON=65 TIME_DELTA=1 NOTE_OFF=65 BAR_END BAR_START NOTE_ON=58 NOTE_ON=65 NOTE_ON=62 NOTE_ON=46 TIME_DELTA=3 NOTE_OFF=58 TIME_DELTA=1 NOTE_OFF=65 NOTE_OFF=62 NOTE_OFF=46 TIME_DELTA=2 NOTE_ON=46 NOTE_ON=57 NOTE_ON=65 NOTE_ON=62 TIME_DELTA=3 NOTE_OFF=46 TIME_DELTA=1 NOTE_OFF=57 TIME_DELTA=1 NOTE_OFF=65 TIME_DELTA=1 NOTE_OFF=62 NOTE_ON=57 TIME_DELTA=1 NOTE_OFF=57 BAR_END BAR_START NOTE_ON=55 NOTE_ON=48 NOTE_ON=60 NOTE_ON=65 TIME_DELTA=5 NOTE_OFF=55 NOTE_OFF=48 NOTE_OFF=60 NOTE_OFF=65 TIME_DELTA=1 NOTE_ON=55 NOTE_ON=60 NOTE_ON=64 NOTE_ON=48 TIME_DELTA=3 NOTE_OFF=55 TIME_DELTA=1 NOTE_ON=55 TIME_DELTA=1 NOTE_OFF=60 TIME_DELTA=1 NOTE_OFF=64 NOTE_ON=60 TIME_DELTA=2 NOTE_ON=62 TIME_DELTA=1 NOTE_OFF=48 NOTE_OFF=55 NOTE_OFF=60 NOTE_OFF=62 BAR_END BAR_START NOTE_ON=69 NOTE_ON=65 NOTE_ON=60 NOTE_ON=57 NOTE_ON=53 TIME_DELTA=2 NOTE_OFF=69 NOTE_OFF=65 TIME_DELTA=1 NOTE_OFF=60 TIME_DELTA=1 NOTE_OFF=57 NOTE_OFF=53 TIME_DELTA=2 NOTE_ON=67 NOTE_ON=64 NOTE_ON=72 NOTE_ON=53 TIME_DELTA=6 NOTE_OFF=67 NOTE_OFF=64 NOTE_OFF=72 NOTE_ON=60 TIME_DELTA=1 NOTE_OFF=53 NOTE_OFF=60 TIME_DELTA=1 NOTE_ON=64 TIME_DELTA=1 NOTE_OFF=64 BAR_END TRACK_END TRACK_START INST=24 DENSITY=1 BAR_START BAR_END BAR_START BAR_END BAR_START BAR_END BAR_START NOTE_ON=74 TIME_DELTA=2 NOTE_OFF=74 NOTE_ON=69 TIME_DELTA=2 NOTE_OFF=69 NOTE_ON=72 TIME_DELTA=2 NOTE_OFF=72 NOTE_ON=67 TIME_DELTA=2 NOTE_OFF=67 NOTE_ON=69 TIME_DELTA=2 NOTE_OFF=69 NOTE_ON=65 TIME_DELTA=2 NOTE_OFF=65 NOTE_ON=67 TIME_DELTA=2 NOTE_OFF=67 NOTE_ON=62 TIME_DELTA=2 NOTE_OFF=62 BAR_END BAR_START NOTE_ON=65 TIME_DELTA=2 NOTE_OFF=65 NOTE_ON=60 TIME_DELTA=2 NOTE_OFF=60 NOTE_ON=62 TIME_DELTA=2 NOTE_OFF=62 NOTE_ON=57 TIME_DELTA=2 NOTE_OFF=57 NOTE_ON=60 TIME_DELTA=2 NOTE_OFF=60 NOTE_ON=55 TIME_DELTA=2 NOTE_OFF=55 NOTE_ON=57 TIME_DELTA=2 NOTE_OFF=57 NOTE_ON=60 TIME_DELTA=2 NOTE_OFF=60 BAR_END BAR_START NOTE_ON=77 TIME_DELTA=2 NOTE_OFF=77 NOTE_ON=72 TIME_DELTA=2 NOTE_OFF=72 NOTE_ON=74 TIME_DELTA=2 NOTE_OFF=74 NOTE_ON=69 TIME_DELTA=2 NOTE_OFF=69 NOTE_ON=72 TIME_DELTA=2 NOTE_OFF=72 NOTE_ON=67 TIME_DELTA=1 NOTE_OFF=67 TIME_DELTA=1 NOTE_ON=69 TIME_DELTA=2 NOTE_OFF=69 NOTE_ON=65 TIME_DELTA=2 NOTE_OFF=65 BAR_END BAR_START NOTE_ON=67 TIME_DELTA=2 NOTE_OFF=67 NOTE_ON=62 TIME_DELTA=2 NOTE_OFF=62 NOTE_ON=65 TIME_DELTA=2 NOTE_OFF=65 NOTE_ON=60 TIME_DELTA=2 NOTE_OFF=60 NOTE_ON=62 TIME_DELTA=2 NOTE_OFF=62 NOTE_ON=64 TIME_DELTA=2 NOTE_OFF=64 NOTE_ON=65 TIME_DELTA=2 NOTE_OFF=65 NOTE_ON=67 TIME_DELTA=1 NOTE_OFF=67 BAR_END BAR_START NOTE_ON=74 TIME_DELTA=2 NOTE_OFF=74 NOTE_ON=69 TIME_DELTA=2 NOTE_OFF=69 NOTE_ON=72 TIME_DELTA=2 NOTE_OFF=72 NOTE_ON=67 TIME_DELTA=2 NOTE_OFF=67 NOTE_ON=69 TIME_DELTA=2 NOTE_OFF=69 NOTE_ON=65 TIME_DELTA=2 NOTE_OFF=65 NOTE_ON=67 TIME_DELTA=2 NOTE_OFF=67 NOTE_ON=62 TIME_DELTA=2 NOTE_OFF=62 BAR_END TRACK_END TRACK_START INST=48 DENSITY=2 BAR_START BAR_END BAR_START BAR_END BAR_START BAR_END BAR_START NOTE_ON=77 NOTE_ON=81 NOTE_ON=72 TIME_DELTA=5 NOTE_OFF=77 NOTE_OFF=81 NOTE_OFF=72 TIME_DELTA=1 NOTE_ON=76 NOTE_ON=72 NOTE_ON=79 TIME_DELTA=9 NOTE_OFF=76 NOTE_OFF=72 NOTE_OFF=79 BAR_END BAR_START NOTE_ON=72 NOTE_ON=77 NOTE_ON=81 TIME_DELTA=15 NOTE_OFF=72 NOTE_OFF=77 TIME_DELTA=1 NOTE_OFF=81 BAR_END BAR_START NOTE_ON=74 NOTE_ON=77 NOTE_ON=81 TIME_DELTA=15 NOTE_OFF=74 NOTE_OFF=77 NOTE_OFF=81 BAR_END BAR_START NOTE_ON=77 NOTE_ON=72 NOTE_ON=79 TIME_DELTA=5 NOTE_OFF=77 NOTE_OFF=72 TIME_DELTA=1 NOTE_ON=76 NOTE_ON=72 TIME_DELTA=9 NOTE_OFF=76 NOTE_OFF=72 TIME_DELTA=1 NOTE_OFF=79 BAR_END BAR_START NOTE_ON=77 NOTE_ON=72 NOTE_ON=81 NOTE_ON=79 TIME_DELTA=15 NOTE_OFF=77 NOTE_OFF=72 TIME_DELTA=1 NOTE_OFF=81 NOTE_OFF=79 BAR_END TRACK_END TRACK_START INST=32 DENSITY=0 BAR_START BAR_END BAR_START BAR_END BAR_START BAR_END BAR_START NOTE_ON=41 TIME_DELTA=5 NOTE_OFF=41 TIME_DELTA=1 NOTE_ON=50 TIME_DELTA=6 NOTE_OFF=50 NOTE_ON=48 TIME_DELTA=4 NOTE_OFF=48 BAR_END BAR_START NOTE_ON=41 TIME_DELTA=6 NOTE_OFF=41 NOTE_ON=45 TIME_DELTA=5 NOTE_OFF=45 TIME_DELTA=1 NOTE_ON=48 TIME_DELTA=3 NOTE_OFF=48 BAR_END BAR_START NOTE_ON=46 TIME_DELTA=5 NOTE_OFF=46 TIME_DELTA=1 NOTE_ON=55 TIME_DELTA=6 NOTE_OFF=55 NOTE_ON=53 TIME_DELTA=4 NOTE_OFF=53 BAR_END BAR_START NOTE_ON=48 TIME_DELTA=5 NOTE_OFF=48 TIME_DELTA=1 NOTE_ON=57 TIME_DELTA=6 NOTE_OFF=57 NOTE_ON=55 TIME_DELTA=3 NOTE_OFF=55 BAR_END BAR_START NOTE_ON=41 TIME_DELTA=5 NOTE_OFF=41 TIME_DELTA=1 NOTE_ON=50 TIME_DELTA=6 NOTE_OFF=50 NOTE_ON=48 TIME_DELTA=4 NOTE_OFF=48 BAR_END TRACK_END TRACK_START INST=DRUMS DENSITY=1 BAR_START BAR_END BAR_START BAR_END BAR_START BAR_END BAR_START NOTE_ON=49 NOTE_ON=36 NOTE_ON=42 TIME_DELTA=1 NOTE_OFF=49 NOTE_OFF=36 NOTE_OFF=42 TIME_DELTA=1 NOTE_ON=42 TIME_DELTA=1 NOTE_OFF=42 TIME_DELTA=1 NOTE_ON=38 NOTE_ON=42 TIME_DELTA=1 NOTE_OFF=38 NOTE_OFF=42 TIME_DELTA=1 NOTE_ON=42 NOTE_ON=36 TIME_DELTA=1 NOTE_OFF=42 NOTE_OFF=36 TIME_DELTA=1 NOTE_ON=36 NOTE_ON=42 TIME_DELTA=1 NOTE_OFF=36 NOTE_OFF=42 TIME_DELTA=1 NOTE_ON=42 TIME_DELTA=1 NOTE_OFF=42 TIME_DELTA=1 NOTE_ON=38 NOTE_ON=42 TIME_DELTA=1 NOTE_OFF=38 NOTE_OFF=42 TIME_DELTA=1 NOTE_ON=42 TIME_DELTA=1 NOTE_OFF=42 BAR_END BAR_START NOTE_ON=36 NOTE_ON=42 TIME_DELTA=1 NOTE_OFF=36 NOTE_OFF=42 TIME_DELTA=1 NOTE_ON=42 TIME_DELTA=1 NOTE_OFF=42 TIME_DELTA=1 NOTE_ON=38 NOTE_ON=42 TIME_DELTA=1 NOTE_OFF=38 NOTE_OFF=42 TIME_DELTA=1 NOTE_ON=36 NOTE_ON=42 TIME_DELTA=1 NOTE_OFF=36 NOTE_OFF=42 TIME_DELTA=1 NOTE_ON=36 NOTE_ON=42 TIME_DELTA=1 NOTE_OFF=36 NOTE_OFF=42 TIME_DELTA=1 NOTE_ON=42 TIME_DELTA=1 NOTE_OFF=42 TIME_DELTA=1 NOTE_ON=38 NOTE_ON=42 TIME_DELTA=1 NOTE_OFF=38 NOTE_OFF=42 TIME_DELTA=1 NOTE_ON=42 TIME_DELTA=1 NOTE_OFF=42 BAR_END BAR_START NOTE_ON=36 NOTE_ON=42 TIME_DELTA=1 NOTE_OFF=36 NOTE_OFF=42 TIME_DELTA=1 NOTE_ON=42 TIME_DELTA=1 NOTE_OFF=42 TIME_DELTA=1 NOTE_ON=42 NOTE_ON=38 TIME_DELTA=1 NOTE_OFF=42 NOTE_OFF=38 TIME_DELTA=1 NOTE_ON=36 NOTE_ON=42 TIME_DELTA=1 NOTE_OFF=36 NOTE_OFF=42 TIME_DELTA=1 NOTE_ON=36 NOTE_ON=42 TIME_DELTA=1 NOTE_OFF=36 NOTE_OFF=42 TIME_DELTA=1 NOTE_ON=42 TIME_DELTA=1 NOTE_OFF=42 TIME_DELTA=1 NOTE_ON=38 NOTE_ON=42 TIME_DELTA=1 NOTE_OFF=38 NOTE_OFF=42 TIME_DELTA=1 NOTE_ON=42 TIME_DELTA=1 NOTE_OFF=42 BAR_END BAR_START NOTE_ON=36 NOTE_ON=42 TIME_DELTA=1 NOTE_OFF=36 NOTE_OFF=42 TIME_DELTA=1 NOTE_ON=42 TIME_DELTA=1 NOTE_OFF=42 TIME_DELTA=1 NOTE_ON=38 NOTE_ON=42 TIME_DELTA=1 NOTE_OFF=38 NOTE_OFF=42 TIME_DELTA=1 NOTE_ON=36 NOTE_ON=42 TIME_DELTA=1 NOTE_OFF=36 NOTE_OFF=42 TIME_DELTA=1 NOTE_ON=36 NOTE_ON=42 TIME_DELTA=1 NOTE_OFF=36 NOTE_OFF=42 TIME_DELTA=1 NOTE_ON=42 TIME_DELTA=1 NOTE_OFF=42 TIME_DELTA=1 NOTE_ON=38 NOTE_ON=42 TIME_DELTA=1 NOTE_OFF=38 NOTE_OFF=42 TIME_DELTA=1 NOTE_ON=42 TIME_DELTA=1 NOTE_OFF=42 BAR_END BAR_START NOTE_ON=36 NOTE_ON=42 TIME_DELTA=1 NOTE_OFF=36 NOTE_OFF=42 TIME_DELTA=1 NOTE_ON=42 TIME_DELTA=1 NOTE_OFF=42 TIME_DELTA=1 NOTE_ON=38 NOTE_ON=42 TIME_DELTA=1 NOTE_OFF=38 NOTE_OFF=42 TIME_DELTA=1 NOTE_ON=36 NOTE_ON=42 TIME_DELTA=1 NOTE_OFF=36 NOTE_OFF=42 TIME_DELTA=1 NOTE_ON=36 NOTE_ON=42 TIME_DELTA=1 NOTE_OFF=36 NOTE_OFF=42 TIME_DELTA=1 NOTE_ON=42 TIME_DELTA=1 NOTE_OFF=42 TIME_DELTA=1 NOTE_ON=38 NOTE_ON=42 TIME_DELTA=1 NOTE_OFF=38 NOTE_OFF=42 TIME_DELTA=1 NOTE_ON=42 TIME_DELTA=1 NOTE_OFF=42 BAR_END TRACK_END\n",
            "{'input_ids': [137, 56, 194, 127, 8, 7, 8, 7, 8, 7, 8, 38, 64, 42, 19, 68, 6, 37, 63, 5, 41, 18, 5, 67, 6, 26, 52, 92, 68, 85, 25, 51, 91, 42, 5, 67, 41, 5, 26, 5, 25, 7, 8, 64, 38, 68, 11, 63, 37, 42, 6, 41, 26, 52, 11, 25, 42, 5, 67, 51, 41, 5, 64, 5, 63, 7, 8, 70, 64, 30, 34, 22, 69, 5, 63, 29, 33, 6, 34, 19, 64, 30, 22, 33, 5, 18, 5, 63, 5, 29, 19, 5, 18, 7, 8, 40, 60, 42, 64, 120, 39, 59, 41, 63, 5, 40, 42, 26, 60, 22, 39, 5, 40, 5, 41, 5, 25, 42, 6, 30, 5, 59, 39, 41, 29, 7, 8, 38, 64, 42, 19, 68, 6, 37, 63, 5, 41, 5, 18, 67, 6, 52, 26, 92, 68, 85, 51, 25, 91, 42, 5, 67, 41, 5, 26, 5, 25, 7, 55, 56, 187, 127, 8, 7, 8, 7, 8, 7, 8, 89, 6, 88, 38, 6, 37, 92, 6, 91, 52, 6, 51, 38, 6, 37, 64, 6, 63, 52, 6, 51, 30, 6, 29, 7, 8, 64, 6, 63, 42, 6, 41, 30, 6, 29, 19, 6, 18, 42, 6, 41, 40, 6, 39, 19, 6, 18, 42, 6, 41, 7, 8, 126, 6, 125, 92, 6, 91, 89, 6, 88, 38, 6, 37, 92, 6, 91, 52, 5, 51, 5, 38, 6, 37, 64, 6, 63, 7, 8, 52, 6, 51, 30, 6, 29, 64, 6, 63, 42, 6, 41, 30, 6, 29, 26, 6, 25, 64, 6, 63, 52, 5, 51, 7, 8, 89, 6, 88, 38, 6, 37, 92, 6, 91, 52, 6, 51, 38, 6, 37, 64, 6, 63, 52, 6, 51, 30, 6, 29, 7, 55, 56, 182, 124, 8, 7, 8, 7, 8, 7, 8, 126, 107, 92, 120, 125, 106, 91, 5, 94, 92, 117, 157, 93, 91, 116, 7, 8, 92, 126, 107, 147, 91, 125, 5, 106, 7, 8, 89, 126, 107, 147, 88, 125, 106, 7, 8, 126, 92, 117, 120, 125, 91, 5, 94, 92, 157, 93, 91, 5, 116, 7, 8, 126, 92, 107, 117, 147, 125, 91, 5, 106, 116, 7, 55, 56, 198, 129, 8, 7, 8, 7, 8, 7, 8, 84, 120, 83, 5, 36, 85, 35, 60, 11, 59, 7, 8, 84, 85, 83, 50, 120, 49, 5, 60, 22, 59, 7, 8, 34, 120, 33, 5, 40, 85, 39, 68, 11, 67, 7, 8, 60, 120, 59, 5, 19, 85, 18, 40, 22, 39, 7, 8, 84, 120, 83, 5, 36, 85, 35, 60, 11, 59, 7, 55, 56, 134, 127, 8, 7, 8, 7, 8, 7, 8, 66, 13, 10, 5, 65, 12, 9, 5, 10, 5, 9, 5, 15, 10, 5, 14, 9, 5, 10, 13, 5, 9, 12, 5, 13, 10, 5, 12, 9, 5, 10, 5, 9, 5, 15, 10, 5, 14, 9, 5, 10, 5, 9, 7, 8, 13, 10, 5, 12, 9, 5, 10, 5, 9, 5, 15, 10, 5]}\n"
          ]
        }
      ],
      "source": [
        "# checking that the data is in the correct shape to be input to the model\n",
        "assert list(dataset_train_tokenized[0]) == [\"input_ids\"], list(dataset_train_tokenized[0])\n",
        "print(type(dataset_train_tokenized[0]))\n",
        "# Check a few samples\n",
        "for i, ii in enumerate(dataset_train_dict.values()):\n",
        "  if i > 4: # print only the first 5\n",
        "    break\n",
        "  else: \n",
        "    print(\"----\")\n",
        "    print(ii)\n",
        "    print(dataset_train_tokenized[i])"
      ]
    },
    {
      "cell_type": "markdown",
      "metadata": {
        "id": "bAlPYX9JcGad"
      },
      "source": [
        "# Define the model"
      ]
    },
    {
      "cell_type": "markdown",
      "metadata": {
        "id": "dEMfCqBWNY6n"
      },
      "source": [
        "## Data collator.\n",
        "[Huggingface](https://huggingface.co/transformers/v4.8.1/main_classes/data_collator.html)\n",
        "\n",
        "\"\n",
        "Data collators are objects that will form a batch by using a list of dataset elements as input. These elements are of the same type as the elements of train_dataset or eval_dataset.\n",
        "\n",
        "To be able to build batches, data collators may apply some processing (like padding). Some of them (like DataCollatorForLanguageModeling) also apply some random data augmentation (like random masking) oin the formed batch.\n",
        "\"\n",
        "\n",
        "\"\n",
        "**class transformers.data.data_collator.DataCollatorForLanguageModeling**\n",
        "- tokenizer (PreTrainedTokenizer or PreTrainedTokenizerFast) – The tokenizer used for encoding the data.\n",
        "- mlm (bool, optional, defaults to True) – Whether or not to use masked language modeling. If set to False, the labels are the same as the inputs with the padding tokens ignored (by setting them to -100). Otherwise, the labels are -100 for non-masked tokens and the value to predict for the masked token\""
      ]
    },
    {
      "cell_type": "code",
      "execution_count": 24,
      "metadata": {
        "id": "gpCBw5H5Tb2L"
      },
      "outputs": [],
      "source": [
        "from transformers import DataCollatorForLanguageModeling\n",
        "data_collator = DataCollatorForLanguageModeling(tokenizer, mlm=False)"
      ]
    },
    {
      "cell_type": "markdown",
      "metadata": {
        "id": "CA1YjYVuM_o6"
      },
      "source": [
        "## Predicting the next note using GPT2\n",
        "[HuggingFace](https://huggingface.co/transformers/v4.8.1/task_summary.html#)\n",
        "\n",
        "[Class GPT2Config](https://huggingface.co/transformers/v2.5.0/_modules/transformers/configuration_gpt2.html)\n",
        "This is the config that needs to be passed to GPT2Model Classes.\n",
        "\n",
        "[Class GPT2LMHeadModel](https://huggingface.co/docs/transformers/model_doc/gpt2#transformers.GPT2LMHeadModel)\n",
        "Here we use the GPT2 Model transformer with a language modeling head on top (linear layer with weights tied to the input embeddings).\n",
        "\n"
      ]
    },
    {
      "cell_type": "code",
      "execution_count": 25,
      "metadata": {
        "colab": {
          "base_uri": "https://localhost:8080/"
        },
        "id": "HkH8zyZKc_M5",
        "outputId": "379c94a2-66a2-4b1b-f04a-67b73205ec3f"
      },
      "outputs": [
        {
          "data": {
            "text/plain": [
              "GPT2Config {\n",
              "  \"activation_function\": \"gelu_new\",\n",
              "  \"attn_pdrop\": 0.1,\n",
              "  \"bos_token_id\": 50256,\n",
              "  \"embd_pdrop\": 0.1,\n",
              "  \"eos_token_id\": 50256,\n",
              "  \"initializer_range\": 0.02,\n",
              "  \"layer_norm_epsilon\": 1e-05,\n",
              "  \"model_type\": \"gpt2\",\n",
              "  \"n_ctx\": 512,\n",
              "  \"n_embd\": 512,\n",
              "  \"n_head\": 8,\n",
              "  \"n_inner\": null,\n",
              "  \"n_layer\": 10,\n",
              "  \"n_positions\": 512,\n",
              "  \"pad_token_id\": 3,\n",
              "  \"reorder_and_upcast_attn\": false,\n",
              "  \"resid_pdrop\": 0.1,\n",
              "  \"scale_attn_by_inverse_layer_idx\": false,\n",
              "  \"scale_attn_weights\": true,\n",
              "  \"summary_activation\": null,\n",
              "  \"summary_first_dropout\": 0.1,\n",
              "  \"summary_proj_to_labels\": true,\n",
              "  \"summary_type\": \"cls_index\",\n",
              "  \"summary_use_proj\": true,\n",
              "  \"transformers_version\": \"4.24.0\",\n",
              "  \"use_cache\": true,\n",
              "  \"vocab_size\": 391\n",
              "}"
            ]
          },
          "execution_count": 25,
          "metadata": {},
          "output_type": "execute_result"
        }
      ],
      "source": [
        "from transformers import GPT2Config, GPT2LMHeadModel\n",
        "\n",
        "model_config = GPT2Config(\n",
        "    vocab_size=tokenizer.vocab_size,\n",
        "    pad_token_id=tokenizer.pad_token_id,\n",
        "    n_ctx=512,\n",
        "    n_embd=512,\n",
        "    n_head=8,\n",
        "    n_layer=10,\n",
        "    n_positions=512,\n",
        ")\n",
        "model = GPT2LMHeadModel(model_config)\n",
        "model.config"
      ]
    },
    {
      "cell_type": "markdown",
      "metadata": {
        "id": "hy7gARUnxNdB"
      },
      "source": [
        "# Testing the-jam-machine\n",
        "Tristan's script"
      ]
    },
    {
      "cell_type": "code",
      "execution_count": 26,
      "metadata": {
        "colab": {
          "base_uri": "https://localhost:8080/",
          "height": 1000
        },
        "id": "g1AJRUdbxQmU",
        "outputId": "3e1401b3-c053-44ea-8745-e49e3870123c"
      },
      "outputs": [
        {
          "name": "stderr",
          "output_type": "stream",
          "text": [
            "You're using a PreTrainedTokenizerFast tokenizer. Please note that with a fast tokenizer, using the `__call__` method is faster than using a method to encode the text followed by a call to the `pad` method to get a padded encoding.\n"
          ]
        },
        {
          "name": "stdout",
          "output_type": "stream",
          "text": [
            "input_ids: tensor([[137,  56, 156, 129,   8,   7,   8, 103,  11, 102,   7,   8,   7,   8,\n",
            "         103,  11, 102,   7,   8,   7,   8, 103,  11, 102,   7,   8,   7,   8,\n",
            "         103,  11, 102,   7,  55,  56, 155, 127,   8,   6,  78,   5,  77,   6,\n",
            "          78,   5,  77,   6,  99,   5,  98,   6,  78,   5,  77,   7,   8,  78,\n",
            "          11,  77,  78,   6, 111,  54,   6,  77, 110,  53,  99,   6,  98,  54,\n",
            "           6,  53,  78,  22,  77,   7,   8,   6,  78,   6,  77,   6,  78,   6,\n",
            "          77,   5,  78,   5,  77,   7,   8,  78,   6,  77,  54,   6,  53,  99,\n",
            "          11,  98,  99,   6,  98,  54,   5,  53,  78,   6,  77,  48,  22,  47,\n",
            "           7,   8,  48,   5,  47,  78,   6,  77,  99,   6,  98,  78,   5,  77,\n",
            "          54,   5,  53,  11,  48,  22,  47,   5,  99,   5,  98,   7,   8,  99,\n",
            "          85,  98,  22,  99,   6,  98,   5,  78,   6,  77,   7,   8,   5,  78,\n",
            "           5,  77,   5,  78,   6,  77,   6,  78,   5,  77,   7,   8,  90,  78,\n",
            "          90,  77,   7,  55,  56, 156, 127,   8, 103,  85, 102,  87,   6,  86,\n",
            "         119,  11, 118, 131,  11, 130,   7,   8,  11,  87,  11,  86,  87, 120,\n",
            "          86,   5, 105,   6, 104,   7,   8, 103,  85, 102,  87,   6,  86, 119,\n",
            "          11, 118, 131,  11, 130,   7,   8,  11,  87,  11,  86,  87, 120,  86,\n",
            "           5, 105,   6, 104,   7,   8, 103,  85, 102,  87,   6,  86, 119,  11,\n",
            "         118, 131,  11, 130,   7,   8,  11,  87,  11,  86,  87, 120,  86,   5,\n",
            "         105,   6, 104,   7,   8, 103,  85, 102,  87,   6,  86, 119,  11, 118,\n",
            "         131,  11, 130,   7,   8,  11,  87,  11,  86,  87, 120,  86,   5, 105,\n",
            "           6, 104,   7,  55,  56, 155, 124,   8, 111,   6, 110,   5, 111,   6,\n",
            "         110,   5, 111,   6, 110, 111,   5, 110,  54,   6,  53,   5,  54,  11,\n",
            "          53,   7,   8,  54,  11,  53,  54,   6,  53,  90, 111,   5, 110,  99,\n",
            "           5,  98,   7,   8,  99,   5,  98,  54,   5,  53,   5, 111,   5, 110,\n",
            "          99,   5,  98,  54,   5,  53,   5, 111,   5, 110,  99,  54,   5,  98,\n",
            "          53,   5, 111,  99,   5, 110,  98,  54,   5,  53,  78,  48,   5,  77,\n",
            "          47,  72,  48,   5,  71,  47,  78,  54,   5,  77,   5,  53,   7,   8,\n",
            "           7,   8, 128,  78,   5,  77,  48,   5,  47,  72,   6,  71,  22,  54,\n",
            "           5,  53,   7,   8,  85, 111,   6, 110,  54,   5,  53,   6, 111,   5,\n",
            "         110,   6,  48,   5,  47,  72,   5,  71,   7,   8,  48,   5,  47,  99,\n",
            "           5,  98,  54,   5,  53,   6,  48,   5,  47,  72,   5,  71,   5,  48,\n",
            "           6,  47,  72,  48,   5,  71,  47,  72,   5,  71,  46,   5,  45,  70,\n",
            "          72,   5,  69,  71,  78,   5,  77,  46,  72,   5,  45,  71,   7,   8,\n",
            "          87,  70,  90,  86,  72,  99,  90,  69,  71,  98,   7,  55]])\n",
            "\n",
            "logits: tensor([[[ 0.4852,  0.2090,  0.2713,  ...,  0.2519, -0.6374,  0.7412],\n",
            "         [ 0.4356, -0.0822,  0.9337,  ...,  0.1426, -0.6714, -0.3087],\n",
            "         [-0.1180, -0.8050,  1.2455,  ...,  0.0490, -0.4314,  0.4146],\n",
            "         ...,\n",
            "         [ 0.0744, -0.5798,  0.8493,  ..., -0.0578, -0.7877, -0.2394],\n",
            "         [-0.4732,  0.0360,  0.0521,  ...,  0.2261, -0.6118, -0.6272],\n",
            "         [-0.2956,  0.0315,  1.4811,  ...,  0.3841, -0.8756, -0.0130]]],\n",
            "       grad_fn=<UnsafeViewBackward0>)\n"
          ]
        },
        {
          "data": {
            "image/png": "[encoded data removed]",
            "text/plain": [
              "<Figure size 432x288 with 1 Axes>"
            ]
          },
          "metadata": {
            "needs_background": "light"
          },
          "output_type": "display_data"
        },
        {
          "data": {
            "image/png": "[encoded data removed]",
            "text/plain": [
              "<Figure size 432x288 with 1 Axes>"
            ]
          },
          "metadata": {
            "needs_background": "light"
          },
          "output_type": "display_data"
        }
      ],
      "source": [
        "import random\n",
        "import matplotlib.pyplot as plt\n",
        "import torch\n",
        "\n",
        "inputs = [random.choice(dataset_train_tokenized)]\n",
        "inputs = data_collator(inputs)\n",
        "assert list(inputs.keys()) == [\"input_ids\", \"attention_mask\", \"labels\"], list(inputs.keys())\n",
        "print(\"input_ids:\", inputs[\"input_ids\"])\n",
        "print(\"\")\n",
        "\n",
        "outputs = model(**inputs)\n",
        "assert list(outputs.keys()) == [\"loss\", \"logits\", \"past_key_values\"], list(outputs.keys())\n",
        "print(\"logits:\", outputs[\"logits\"])\n",
        "\n",
        "plt.plot(outputs[\"logits\"].detach().numpy()[0][0])\n",
        "plt.title(\"Logits\")\n",
        "plt.show()\n",
        "plt.close()\n",
        "\n",
        "activations = torch.nn.functional.softmax(outputs[\"logits\"], dim=-1)\n",
        "plt.plot(activations.detach().numpy()[0][0])\n",
        "plt.title(\"Activations\")\n",
        "plt.show()\n",
        "plt.close()"
      ]
    },
    {
      "cell_type": "markdown",
      "metadata": {
        "id": "W7qgxTiiiM-t"
      },
      "source": [
        "## Generating from a given input"
      ]
    },
    {
      "cell_type": "code",
      "execution_count": 27,
      "metadata": {
        "id": "PqDAsmj-f4F5"
      },
      "outputs": [],
      "source": [
        "def tokenize_text_input(text_input, verbose=True, model=model, tokenizer=tokenizer):\n",
        "  input_ids = tokenizer.encode(text_input, return_tensors=\"pt\")#.cuda()\n",
        "  if verbose:\n",
        "    print(f\"inputs: {tokenizer.decode(input_ids[0])}\")\n",
        "  return input_ids\n",
        "\n",
        "def generate_the_next_bars(input_ids, verbose=False, model=model, tokenizer=tokenizer):\n",
        "  generated_ids = model.generate(\n",
        "    input_ids,\n",
        "    max_length=512,\n",
        "    do_sample=True,\n",
        "    temperature=0.75,\n",
        "    eos_token_id=tokenizer.encode(\"TRACK_END\")[0] \n",
        ")\n",
        "  if verbose:\n",
        "    print(f\"output: {generated_ids}\")\n",
        "  return generated_ids\n",
        "\n",
        "def convert_ids_to_text(generated_ids, verbose=True, tokenizer=tokenizer):\n",
        "  generated_text = tokenizer.decode(generated_ids[0])\n",
        "  if verbose:\n",
        "    print(f\"output: {generated_text}\")\n",
        "  return generated_text\n",
        "\n",
        "# To generate, Run:\n",
        "# input_ids = tokenize_text_input(text_input, model=model, tokenizer=tokenizer)\n",
        "# generated_ids = generate_the_next_bars(input_ids, model=model, tokenizer=tokenizer)\n",
        "# generated_text = convert_ids_to_text(generated_ids, tokenizer=tokenizer)"
      ]
    },
    {
      "cell_type": "code",
      "execution_count": 28,
      "metadata": {
        "colab": {
          "base_uri": "https://localhost:8080/"
        },
        "id": "6Q1-1N2juU2o",
        "outputId": "36d07d37-de41-4de7-9fcb-1a5bd33834ed"
      },
      "outputs": [
        {
          "name": "stdout",
          "output_type": "stream",
          "text": [
            "inputs: PIECE_START TRACK_START INST=25\n",
            "output: PIECE_START TRACK_START INST=25 DENSITY=2 NOTE_OFF=127 NOTE_ON=83 NOTE_OFF=56 INST=13 INST=88 NOTE_ON=107 NOTE_ON=107 NOTE_OFF=9 INST=81 NOTE_ON=107 NOTE_OFF=25 NOTE_OFF=71 INST=108 INST=0 NOTE_OFF=63 NOTE_OFF=9 INST=2 INST=2 NOTE_OFF=80 NOTE_OFF=26 NOTE_ON=107 INST=121 NOTE_ON=127 NOTE_OFF=65 NOTE_OFF=78 NOTE_ON=65 NOTE_OFF=41 NOTE_ON=65 NOTE_ON=67 NOTE_OFF=126 NOTE_OFF=102 INST=104 NOTE_OFF=9 NOTE_OFF=99 INST=12 NOTE_OFF=126 NOTE_ON=47 TIME_DELTA=10 INST=30 NOTE_OFF=67 NOTE_ON=51 NOTE_ON=51 NOTE_ON=39 NOTE_ON=21 NOTE_ON=21 NOTE_ON=94 TIME_DELTA=10 NOTE_OFF=44 NOTE_OFF=124 TIME_DELTA=9 INST=4 INST=50 NOTE_ON=37 TIME_DELTA=4 NOTE_OFF=99 NOTE_ON=102 NOTE_ON=107 NOTE_OFF=46 [UNK] NOTE_OFF=61 NOTE_OFF=26 INST=107 NOTE_ON=65 NOTE_OFF=51 INST=80 NOTE_OFF=37 NOTE_ON=122 NOTE_OFF=8 NOTE_OFF=71 [CLS] NOTE_OFF=16 NOTE_ON=9 NOTE_ON=107 INST=78 NOTE_OFF=77 NOTE_ON=47 NOTE_ON=33 INST=99 TIME_DELTA=10 NOTE_OFF=74 NOTE_ON=4 INST=18 NOTE_OFF=47 NOTE_OFF=14 NOTE_ON=99 INST=115 NOTE_OFF=79 NOTE_ON=122 NOTE_OFF=75 NOTE_OFF=40 NOTE_ON=97 INST=96 INST=79 NOTE_ON=73 NOTE_ON=107 NOTE_OFF=42 DENSITY=2 INST=63 NOTE_OFF=47 NOTE_OFF=73 NOTE_ON=32 NOTE_OFF=74 NOTE_ON=25 NOTE_ON=68 INST=97 INST=97 INST=73 INST=63 NOTE_OFF=102 NOTE_OFF=102 NOTE_OFF=102 INST=7 INST=79 NOTE_OFF=14 NOTE_OFF=46 NOTE_OFF=8 [PAD] INST=57 INST=114 NOTE_ON=56 NOTE_OFF=90 INST=18 DENSITY=0 NOTE_ON=46 NOTE_OFF=1 NOTE_ON=28 NOTE_OFF=19 INST=29 INST=2 DENSITY=2 NOTE_ON=91 NOTE_ON=60 [PAD] INST=95 INST=39 NOTE_ON=14 NOTE_ON=122 INST=13 NOTE_OFF=22 INST=29 NOTE_OFF=51 INST=100 NOTE_ON=60 INST=31 NOTE_ON=122 INST=19 NOTE_ON=42 NOTE_OFF=41 NOTE_OFF=41 NOTE_OFF=36 NOTE_ON=107 NOTE_ON=8 NOTE_ON=126 [SEP] BAR_END TIME_DELTA=11 INST=39 INST=107 INST=4 INST=68 INST=91 NOTE_ON=21 NOTE_OFF=8 NOTE_OFF=43 NOTE_OFF=14 NOTE_OFF=96 INST=97 INST=80 INST=69 NOTE_OFF=15 NOTE_OFF=14 NOTE_OFF=14 NOTE_ON=16 NOTE_ON=62 NOTE_OFF=74 INST=51 INST=47 NOTE_ON=9 NOTE_ON=68 INST=99 NOTE_OFF=80 NOTE_OFF=88 NOTE_OFF=99 NOTE_OFF=67 INST=88 INST=88 NOTE_ON=74 NOTE_ON=46 NOTE_OFF=44 NOTE_OFF=71 NOTE_OFF=90 NOTE_OFF=62 INST=4 NOTE_OFF=36 NOTE_OFF=14 NOTE_OFF=57 NOTE_OFF=74 NOTE_OFF=14 INST=79 NOTE_OFF=51 INST=73 NOTE_ON=67 TIME_DELTA=8 INST=97 INST=62 [SEP] INST=121 NOTE_ON=84 NOTE_OFF=99 INST=30 INST=20 INST=121 INST=60 INST=81 NOTE_OFF=10 NOTE_OFF=57 NOTE_OFF=57 NOTE_OFF=102 NOTE_OFF=61 [SEP] NOTE_ON=2 TRACK_END\n"
          ]
        }
      ],
      "source": [
        "# Generated from the untrained model\n",
        "text_input = \"PIECE_START TRACK_START INST=25\"\n",
        "input_ids = tokenize_text_input(text_input, model=model, tokenizer=tokenizer)\n",
        "generated_ids = generate_the_next_bars(input_ids, model=model, tokenizer=tokenizer)\n",
        "generated_text = convert_ids_to_text(generated_ids, tokenizer=tokenizer)"
      ]
    },
    {
      "cell_type": "markdown",
      "metadata": {
        "id": "aLcy5V29cJ5R"
      },
      "source": [
        "# Train the-jam-machine\n",
        "Tristan's script"
      ]
    },
    {
      "cell_type": "code",
      "execution_count": 29,
      "metadata": {
        "id": "-HXku8HadJE2"
      },
      "outputs": [],
      "source": [
        "# do we train from scratch?\n",
        "train_from_scratch = True\n",
        "train_from_scratch = train_from_scratch\n",
        "#imports\n",
        "from transformers import TrainingArguments, Trainer\n",
        "import os"
      ]
    },
    {
      "cell_type": "markdown",
      "metadata": {
        "id": "pH99bb2cABm_"
      },
      "source": [
        "Check those links (Hugging Face): \n",
        "- [Trainer](https://huggingface.co/docs/transformers/main_classes/trainer)\n",
        "\n",
        "- [TrainingArguments](https://huggingface.co/transformers/v4.3.3/_modules/transformers/training_args.html)"
      ]
    },
    {
      "cell_type": "code",
      "execution_count": 30,
      "metadata": {
        "colab": {
          "base_uri": "https://localhost:8080/",
          "height": 223
        },
        "id": "NRoqheCiA4mQ",
        "outputId": "3e110122-e3e8-4d05-8919-2523b527740c"
      },
      "outputs": [
        {
          "name": "stderr",
          "output_type": "stream",
          "text": [
            "ERROR:wandb.jupyter:Failed to detect the name of this notebook, you can set it manually with the WANDB_NOTEBOOK_NAME environment variable to enable code saving.\n"
          ]
        },
        {
          "data": {
            "application/javascript": "\n        window._wandbApiKey = new Promise((resolve, reject) => {\n            function loadScript(url) {\n            return new Promise(function(resolve, reject) {\n                let newScript = document.createElement(\"script\");\n                newScript.onerror = reject;\n                newScript.onload = resolve;\n                document.body.appendChild(newScript);\n                newScript.src = url;\n            });\n            }\n            loadScript(\"https://cdn.jsdelivr.net/npm/postmate/build/postmate.min.js\").then(() => {\n            const iframe = document.createElement('iframe')\n            iframe.style.cssText = \"width:0;height:0;border:none\"\n            document.body.appendChild(iframe)\n            const handshake = new Postmate({\n                container: iframe,\n                url: 'https://wandb.ai/authorize'\n            });\n            const timeout = setTimeout(() => reject(\"Couldn't auto authenticate\"), 5000)\n            handshake.then(function(child) {\n                child.on('authorize', data => {\n                    clearTimeout(timeout)\n                    resolve(data)\n                });\n            });\n            })\n        });\n    ",
            "text/plain": [
              "<IPython.core.display.Javascript object>"
            ]
          },
          "metadata": {},
          "output_type": "display_data"
        },
        {
          "name": "stderr",
          "output_type": "stream",
          "text": [
            "\u001b[34m\u001b[1mwandb\u001b[0m: Logging into wandb.ai. (Learn how to deploy a W&B server locally: https://wandb.me/wandb-server)\n",
            "\u001b[34m\u001b[1mwandb\u001b[0m: You can find your API key in your browser here: https://wandb.ai/authorize\n",
            "wandb: Paste an API key from your profile and hit enter, or press ctrl+c to quit: "
          ]
        },
        {
          "name": "stdout",
          "output_type": "stream",
          "text": [
            "··········\n"
          ]
        },
        {
          "name": "stderr",
          "output_type": "stream",
          "text": [
            "\u001b[34m\u001b[1mwandb\u001b[0m: Appending key for api.wandb.ai to your netrc file: /root/.netrc\n"
          ]
        },
        {
          "data": {
            "text/html": [
              "Tracking run with wandb version 0.13.5"
            ],
            "text/plain": [
              "<IPython.core.display.HTML object>"
            ]
          },
          "metadata": {},
          "output_type": "display_data"
        },
        {
          "data": {
            "text/html": [
              "Run data is saved locally in <code>/content/the-jam-machine/wandb/run-20221129_174206-10adsfnd</code>"
            ],
            "text/plain": [
              "<IPython.core.display.HTML object>"
            ]
          },
          "metadata": {},
          "output_type": "display_data"
        },
        {
          "data": {
            "text/html": [
              "Syncing run <strong><a href=\"https://wandb.ai/misnaej/the-jam-machine-test/runs/10adsfnd\" target=\"_blank\">desert-voice-6</a></strong> to <a href=\"https://wandb.ai/misnaej/the-jam-machine-test\" target=\"_blank\">Weights & Biases</a> (<a href=\"https://wandb.me/run\" target=\"_blank\">docs</a>)<br/>"
            ],
            "text/plain": [
              "<IPython.core.display.HTML object>"
            ]
          },
          "metadata": {},
          "output_type": "display_data"
        },
        {
          "data": {
            "text/html": [
              "<button onClick=\"this.nextSibling.style.display='block';this.style.display='none';\">Display W&B run</button><iframe src=\"https://wandb.ai/misnaej/the-jam-machine-test/runs/10adsfnd?jupyter=true\" style=\"border:none;width:100%;height:420px;display:none;\"></iframe>"
            ],
            "text/plain": [
              "<wandb.sdk.wandb_run.Run at 0x7f52b9ba2210>"
            ]
          },
          "execution_count": 30,
          "metadata": {},
          "output_type": "execute_result"
        }
      ],
      "source": [
        "# Weight and Biases\n",
        "# 6516b30c7d28dad345f2941a014e623fac328f73\n",
        "import wandb\n",
        "# wandb.log\n",
        "wandb.init(project=\"the-jam-machine-test\")"
      ]
    },
    {
      "cell_type": "code",
      "execution_count": 27,
      "metadata": {
        "id": "nri9kxDTra46"
      },
      "outputs": [],
      "source": [
        "# GPU troubvleshooting\n",
        "# !nvidia-smi\n",
        "# !kill process_id\n",
        "# !ps -aux|grep python\n",
        "# !torch.cuda.memory_summary()"
      ]
    },
    {
      "cell_type": "markdown",
      "metadata": {
        "id": "ewSsVg0LGTMr"
      },
      "source": [
        "## Train from scratch"
      ]
    },
    {
      "cell_type": "code",
      "execution_count": 31,
      "metadata": {
        "colab": {
          "base_uri": "https://localhost:8080/"
        },
        "id": "E9NlNnxc3Rjc",
        "outputId": "c6104828-b517-4628-b184-81bf12c6f711"
      },
      "outputs": [
        {
          "data": {
            "text/plain": [
              "PosixPath('/content/drive/MyDrive/the_jam_machine/model_jean')"
            ]
          },
          "execution_count": 31,
          "metadata": {},
          "output_type": "execute_result"
        }
      ],
      "source": [
        "train_from_this_checkpoint = None\n",
        "train_from_this_checkpoint_model_path = model_path\n",
        "train_from_this_checkpoint_model_path"
      ]
    },
    {
      "cell_type": "markdown",
      "metadata": {
        "id": "WRRFN-fX3SO7"
      },
      "source": [
        "## Train from a checkpoint"
      ]
    },
    {
      "cell_type": "code",
      "execution_count": 63,
      "metadata": {
        "id": "LVYvJAhp3Vzz"
      },
      "outputs": [],
      "source": [
        "# train_from_scratch = True\n",
        "if not train_from_scratch:\n",
        "  train_from_this_checkpoint_model_path = \"/content/drive/MyDrive/the_jam_machine/model_jean\"\n",
        "  train_from_this_checkpoint = \"checkpoint-7000\"\n",
        "  additionnal_epochs_to_run = 4"
      ]
    },
    {
      "cell_type": "code",
      "execution_count": 33,
      "metadata": {
        "colab": {
          "base_uri": "https://localhost:8080/",
          "height": 1000
        },
        "id": "YHLjkDERcMIG",
        "outputId": "8e71e642-9a92-4036-a517-2a4baf521333"
      },
      "outputs": [
        {
          "name": "stderr",
          "output_type": "stream",
          "text": [
            "PyTorch: setting up devices\n",
            "***** Running training *****\n",
            "  Num examples = 10000\n",
            "  Num Epochs = 10\n",
            "  Instantaneous batch size per device = 12\n",
            "  Total train batch size (w. parallel, distributed & accumulation) = 12\n",
            "  Gradient Accumulation steps = 1\n",
            "  Total optimization steps = 8340\n",
            "  Number of trainable parameters = 31987200\n",
            "Automatic Weights & Biases logging enabled, to disable set os.environ[\"WANDB_DISABLED\"] = \"true\"\n"
          ]
        },
        {
          "name": "stdout",
          "output_type": "stream",
          "text": [
            "Creating trainer...\n"
          ]
        },
        {
          "data": {
            "text/html": [
              "\n",
              "    <div>\n",
              "      \n",
              "      <progress value='8340' max='8340' style='width:300px; height:20px; vertical-align: middle;'></progress>\n",
              "      [8340/8340 1:20:46, Epoch 10/10]\n",
              "    </div>\n",
              "    <table border=\"1\" class=\"dataframe\">\n",
              "  <thead>\n",
              " <tr style=\"text-align: left;\">\n",
              "      <th>Step</th>\n",
              "      <th>Training Loss</th>\n",
              "      <th>Validation Loss</th>\n",
              "    </tr>\n",
              "  </thead>\n",
              "  <tbody>\n",
              "    <tr>\n",
              "      <td>500</td>\n",
              "      <td>2.696300</td>\n",
              "      <td>2.333065</td>\n",
              "    </tr>\n",
              "    <tr>\n",
              "      <td>1000</td>\n",
              "      <td>1.855200</td>\n",
              "      <td>1.980751</td>\n",
              "    </tr>\n",
              "    <tr>\n",
              "      <td>1500</td>\n",
              "      <td>1.528800</td>\n",
              "      <td>1.690123</td>\n",
              "    </tr>\n",
              "    <tr>\n",
              "      <td>2000</td>\n",
              "      <td>1.270800</td>\n",
              "      <td>1.387374</td>\n",
              "    </tr>\n",
              "    <tr>\n",
              "      <td>2500</td>\n",
              "      <td>1.103900</td>\n",
              "      <td>1.213828</td>\n",
              "    </tr>\n",
              "    <tr>\n",
              "      <td>3000</td>\n",
              "      <td>0.965800</td>\n",
              "      <td>1.134698</td>\n",
              "    </tr>\n",
              "    <tr>\n",
              "      <td>3500</td>\n",
              "      <td>0.883600</td>\n",
              "      <td>1.087619</td>\n",
              "    </tr>\n",
              "    <tr>\n",
              "      <td>4000</td>\n",
              "      <td>0.802400</td>\n",
              "      <td>1.027404</td>\n",
              "    </tr>\n",
              "    <tr>\n",
              "      <td>4500</td>\n",
              "      <td>0.754600</td>\n",
              "      <td>1.020420</td>\n",
              "    </tr>\n",
              "    <tr>\n",
              "      <td>5000</td>\n",
              "      <td>0.695700</td>\n",
              "      <td>1.015982</td>\n",
              "    </tr>\n",
              "    <tr>\n",
              "      <td>5500</td>\n",
              "      <td>0.656300</td>\n",
              "      <td>1.011757</td>\n",
              "    </tr>\n",
              "    <tr>\n",
              "      <td>6000</td>\n",
              "      <td>0.632400</td>\n",
              "      <td>1.018783</td>\n",
              "    </tr>\n",
              "    <tr>\n",
              "      <td>6500</td>\n",
              "      <td>0.589400</td>\n",
              "      <td>1.021761</td>\n",
              "    </tr>\n",
              "    <tr>\n",
              "      <td>7000</td>\n",
              "      <td>0.578100</td>\n",
              "      <td>1.015155</td>\n",
              "    </tr>\n",
              "    <tr>\n",
              "      <td>7500</td>\n",
              "      <td>0.548700</td>\n",
              "      <td>1.018058</td>\n",
              "    </tr>\n",
              "    <tr>\n",
              "      <td>8000</td>\n",
              "      <td>0.533200</td>\n",
              "      <td>1.035688</td>\n",
              "    </tr>\n",
              "  </tbody>\n",
              "</table><p>"
            ],
            "text/plain": [
              "<IPython.core.display.HTML object>"
            ]
          },
          "metadata": {},
          "output_type": "display_data"
        },
        {
          "name": "stderr",
          "output_type": "stream",
          "text": [
            "***** Running Evaluation *****\n",
            "  Num examples = 506\n",
            "  Batch size = 8\n",
            "Saving model checkpoint to /content/drive/MyDrive/the_jam_machine/model_jean/checkpoint-500\n",
            "Configuration saved in /content/drive/MyDrive/the_jam_machine/model_jean/checkpoint-500/config.json\n",
            "Model weights saved in /content/drive/MyDrive/the_jam_machine/model_jean/checkpoint-500/pytorch_model.bin\n",
            "***** Running Evaluation *****\n",
            "  Num examples = 506\n",
            "  Batch size = 8\n",
            "Saving model checkpoint to /content/drive/MyDrive/the_jam_machine/model_jean/checkpoint-1000\n",
            "Configuration saved in /content/drive/MyDrive/the_jam_machine/model_jean/checkpoint-1000/config.json\n",
            "Model weights saved in /content/drive/MyDrive/the_jam_machine/model_jean/checkpoint-1000/pytorch_model.bin\n",
            "***** Running Evaluation *****\n",
            "  Num examples = 506\n",
            "  Batch size = 8\n",
            "Saving model checkpoint to /content/drive/MyDrive/the_jam_machine/model_jean/checkpoint-1500\n",
            "Configuration saved in /content/drive/MyDrive/the_jam_machine/model_jean/checkpoint-1500/config.json\n",
            "Model weights saved in /content/drive/MyDrive/the_jam_machine/model_jean/checkpoint-1500/pytorch_model.bin\n",
            "***** Running Evaluation *****\n",
            "  Num examples = 506\n",
            "  Batch size = 8\n",
            "Saving model checkpoint to /content/drive/MyDrive/the_jam_machine/model_jean/checkpoint-2000\n",
            "Configuration saved in /content/drive/MyDrive/the_jam_machine/model_jean/checkpoint-2000/config.json\n",
            "Model weights saved in /content/drive/MyDrive/the_jam_machine/model_jean/checkpoint-2000/pytorch_model.bin\n",
            "***** Running Evaluation *****\n",
            "  Num examples = 506\n",
            "  Batch size = 8\n",
            "Saving model checkpoint to /content/drive/MyDrive/the_jam_machine/model_jean/checkpoint-2500\n",
            "Configuration saved in /content/drive/MyDrive/the_jam_machine/model_jean/checkpoint-2500/config.json\n",
            "Model weights saved in /content/drive/MyDrive/the_jam_machine/model_jean/checkpoint-2500/pytorch_model.bin\n",
            "***** Running Evaluation *****\n",
            "  Num examples = 506\n",
            "  Batch size = 8\n",
            "Saving model checkpoint to /content/drive/MyDrive/the_jam_machine/model_jean/checkpoint-3000\n",
            "Configuration saved in /content/drive/MyDrive/the_jam_machine/model_jean/checkpoint-3000/config.json\n",
            "Model weights saved in /content/drive/MyDrive/the_jam_machine/model_jean/checkpoint-3000/pytorch_model.bin\n",
            "***** Running Evaluation *****\n",
            "  Num examples = 506\n",
            "  Batch size = 8\n",
            "Saving model checkpoint to /content/drive/MyDrive/the_jam_machine/model_jean/checkpoint-3500\n",
            "Configuration saved in /content/drive/MyDrive/the_jam_machine/model_jean/checkpoint-3500/config.json\n",
            "Model weights saved in /content/drive/MyDrive/the_jam_machine/model_jean/checkpoint-3500/pytorch_model.bin\n",
            "***** Running Evaluation *****\n",
            "  Num examples = 506\n",
            "  Batch size = 8\n",
            "Saving model checkpoint to /content/drive/MyDrive/the_jam_machine/model_jean/checkpoint-4000\n",
            "Configuration saved in /content/drive/MyDrive/the_jam_machine/model_jean/checkpoint-4000/config.json\n",
            "Model weights saved in /content/drive/MyDrive/the_jam_machine/model_jean/checkpoint-4000/pytorch_model.bin\n",
            "***** Running Evaluation *****\n",
            "  Num examples = 506\n",
            "  Batch size = 8\n",
            "Saving model checkpoint to /content/drive/MyDrive/the_jam_machine/model_jean/checkpoint-4500\n",
            "Configuration saved in /content/drive/MyDrive/the_jam_machine/model_jean/checkpoint-4500/config.json\n",
            "Model weights saved in /content/drive/MyDrive/the_jam_machine/model_jean/checkpoint-4500/pytorch_model.bin\n",
            "***** Running Evaluation *****\n",
            "  Num examples = 506\n",
            "  Batch size = 8\n",
            "Saving model checkpoint to /content/drive/MyDrive/the_jam_machine/model_jean/checkpoint-5000\n",
            "Configuration saved in /content/drive/MyDrive/the_jam_machine/model_jean/checkpoint-5000/config.json\n",
            "Model weights saved in /content/drive/MyDrive/the_jam_machine/model_jean/checkpoint-5000/pytorch_model.bin\n",
            "***** Running Evaluation *****\n",
            "  Num examples = 506\n",
            "  Batch size = 8\n",
            "Saving model checkpoint to /content/drive/MyDrive/the_jam_machine/model_jean/checkpoint-5500\n",
            "Configuration saved in /content/drive/MyDrive/the_jam_machine/model_jean/checkpoint-5500/config.json\n",
            "Model weights saved in /content/drive/MyDrive/the_jam_machine/model_jean/checkpoint-5500/pytorch_model.bin\n",
            "***** Running Evaluation *****\n",
            "  Num examples = 506\n",
            "  Batch size = 8\n",
            "Saving model checkpoint to /content/drive/MyDrive/the_jam_machine/model_jean/checkpoint-6000\n",
            "Configuration saved in /content/drive/MyDrive/the_jam_machine/model_jean/checkpoint-6000/config.json\n",
            "Model weights saved in /content/drive/MyDrive/the_jam_machine/model_jean/checkpoint-6000/pytorch_model.bin\n",
            "***** Running Evaluation *****\n",
            "  Num examples = 506\n",
            "  Batch size = 8\n",
            "Saving model checkpoint to /content/drive/MyDrive/the_jam_machine/model_jean/checkpoint-6500\n",
            "Configuration saved in /content/drive/MyDrive/the_jam_machine/model_jean/checkpoint-6500/config.json\n",
            "Model weights saved in /content/drive/MyDrive/the_jam_machine/model_jean/checkpoint-6500/pytorch_model.bin\n",
            "***** Running Evaluation *****\n",
            "  Num examples = 506\n",
            "  Batch size = 8\n",
            "Saving model checkpoint to /content/drive/MyDrive/the_jam_machine/model_jean/checkpoint-7000\n",
            "Configuration saved in /content/drive/MyDrive/the_jam_machine/model_jean/checkpoint-7000/config.json\n",
            "Model weights saved in /content/drive/MyDrive/the_jam_machine/model_jean/checkpoint-7000/pytorch_model.bin\n",
            "***** Running Evaluation *****\n",
            "  Num examples = 506\n",
            "  Batch size = 8\n",
            "Saving model checkpoint to /content/drive/MyDrive/the_jam_machine/model_jean/checkpoint-7500\n",
            "Configuration saved in /content/drive/MyDrive/the_jam_machine/model_jean/checkpoint-7500/config.json\n",
            "Model weights saved in /content/drive/MyDrive/the_jam_machine/model_jean/checkpoint-7500/pytorch_model.bin\n",
            "***** Running Evaluation *****\n",
            "  Num examples = 506\n",
            "  Batch size = 8\n",
            "Saving model checkpoint to /content/drive/MyDrive/the_jam_machine/model_jean/checkpoint-8000\n",
            "Configuration saved in /content/drive/MyDrive/the_jam_machine/model_jean/checkpoint-8000/config.json\n",
            "Model weights saved in /content/drive/MyDrive/the_jam_machine/model_jean/checkpoint-8000/pytorch_model.bin\n",
            "\n",
            "\n",
            "Training completed. Do not forget to share your model on huggingface.co/models =)\n",
            "\n",
            "\n"
          ]
        }
      ],
      "source": [
        "# Create the trainer.\n",
        "print(\"Creating trainer...\")\n",
        "steps = 500\n",
        "num_train_epochs = 10\n",
        "output_path = train_from_this_checkpoint_model_path\n",
        "\n",
        "training_args = TrainingArguments(\n",
        "    output_dir=output_path, # where model and checkpoints will be saved\n",
        "    overwrite_output_dir=True,# self-explanatory\n",
        "    num_train_epochs=num_train_epochs, # defaults to 3.0\n",
        "    evaluation_strategy=\"steps\", # Evaluation is done (and logged) every eval_steps (so not at the end of every epoch)\n",
        "    eval_steps=steps, # Number of update steps (backprob) between two evaluations\n",
        "    learning_rate=5e-5, #initial learning rate for :class:`~transformers.AdamW` optimizer.\n",
        "    per_device_train_batch_size=12, #default value is 8\n",
        "    # per_device_eval_batch_size=12, #default value is 8\n",
        "    seed=42, # default seed=42\n",
        "    save_strategy=\"steps\", # \n",
        "    save_steps=steps,\n",
        "    save_total_limit=20,\n",
        "    logging_strategy=\"steps\",\n",
        "    logging_first_step=True,\n",
        "    logging_steps=steps,\n",
        "    logging_dir=os.path.join(output_path, \"logs\"),\n",
        "    prediction_loss_only=False,\n",
        "    report_to=\"wandb\",\n",
        ")\n",
        "\n",
        "trainer = Trainer(\n",
        "    model=model,\n",
        "    args=training_args,\n",
        "    data_collator=data_collator,\n",
        "    train_dataset=dataset_train_tokenized,\n",
        "    eval_dataset=dataset_val_tokenized,\n",
        ")\n",
        "\n",
        "  # Train the model.\n",
        "if train_from_scratch:\n",
        "  trainer.train()\n",
        "else:\n",
        "  if train_from_this_checkpoint is not None:\n",
        "    trainer.args.num_train_epochs += additionnal_epochs_to_run\n",
        "    trainer.train(f\"{train_from_this_checkpoint_model_path}/{train_from_this_checkpoint}/\")\n",
        "  else:\n",
        "    pass\n",
        "    \n",
        "# Save the tokenizer.\n",
        "tokenizer.save_pretrained(output_path)\n",
        "\n",
        "# Save the model.\n",
        "model.save_pretrained(output_path)"
      ]
    },
    {
      "cell_type": "markdown",
      "metadata": {
        "id": "wma4U-QNElVt"
      },
      "source": [
        "# Generate from the-jam-machine"
      ]
    },
    {
      "cell_type": "markdown",
      "metadata": {
        "id": "il79vznP_YeC"
      },
      "source": [
        "### Generate from the model just trained"
      ]
    },
    {
      "cell_type": "code",
      "execution_count": 36,
      "metadata": {
        "colab": {
          "base_uri": "https://localhost:8080/"
        },
        "id": "nE0Xksnr_Xbr",
        "outputId": "b674ac95-39dc-4e6c-c1e2-1ad708c5897e"
      },
      "outputs": [
        {
          "name": "stdout",
          "output_type": "stream",
          "text": [
            "inputs: PIECE_START TRACK_START INST=25\n",
            "output: PIECE_START TRACK_START INST=25 DENSITY=2 BAR_START NOTE_ON=50 TIME_DELTA=1 NOTE_OFF=50 NOTE_ON=50 TIME_DELTA=1 NOTE_OFF=50 NOTE_ON=66 NOTE_ON=62 TIME_DELTA=1 NOTE_OFF=66 NOTE_OFF=62 NOTE_ON=66 NOTE_ON=62 TIME_DELTA=1 NOTE_OFF=66 NOTE_OFF=62 NOTE_ON=64 NOTE_ON=60 TIME_DELTA=1 NOTE_OFF=64 NOTE_OFF=60 NOTE_ON=50 TIME_DELTA=1 NOTE_OFF=50 NOTE_ON=50 TIME_DELTA=1 NOTE_OFF=50 NOTE_ON=64 NOTE_ON=60 TIME_DELTA=1 NOTE_OFF=64 NOTE_OFF=60 NOTE_ON=64 NOTE_ON=60 TIME_DELTA=1 NOTE_OFF=64 NOTE_OFF=60 NOTE_ON=66 NOTE_ON=62 TIME_DELTA=1 NOTE_OFF=66 NOTE_OFF=62 NOTE_ON=64 NOTE_ON=60 TIME_DELTA=1 NOTE_OFF=64 NOTE_OFF=60 NOTE_ON=50 TIME_DELTA=1 NOTE_OFF=50 NOTE_ON=50 TIME_DELTA=1 NOTE_OFF=50 NOTE_ON=66 NOTE_ON=62 TIME_DELTA=1 NOTE_OFF=66 NOTE_OFF=62 NOTE_ON=50 TIME_DELTA=1 NOTE_OFF=50 NOTE_ON=67 NOTE_ON=64 TIME_DELTA=1 NOTE_OFF=67 NOTE_OFF=64 BAR_END BAR_START NOTE_ON=50 TIME_DELTA=1 NOTE_OFF=50 NOTE_ON=66 NOTE_ON=62 TIME_DELTA=1 NOTE_OFF=66 NOTE_OFF=62 NOTE_ON=50 TIME_DELTA=1 NOTE_OFF=50 NOTE_ON=50 TIME_DELTA=1 NOTE_OFF=50 NOTE_ON=64 NOTE_ON=62 TIME_DELTA=1 NOTE_OFF=64 NOTE_OFF=62 NOTE_ON=50 TIME_DELTA=1 NOTE_OFF=50 NOTE_ON=64 NOTE_ON=60 TIME_DELTA=1 NOTE_OFF=64 NOTE_OFF=60 NOTE_ON=66 NOTE_ON=62 TIME_DELTA=1 NOTE_OFF=66 NOTE_OFF=62 NOTE_ON=64 NOTE_ON=60 TIME_DELTA=1 NOTE_OFF=64 NOTE_OFF=60 NOTE_ON=50 TIME_DELTA=1 NOTE_OFF=50 NOTE_ON=66 NOTE_ON=62 TIME_DELTA=1 NOTE_OFF=66 NOTE_OFF=62 NOTE_ON=64 NOTE_ON=60 TIME_DELTA=1 NOTE_OFF=64 NOTE_OFF=60 NOTE_ON=50 TIME_DELTA=1 NOTE_OFF=50 BAR_END BAR_START NOTE_ON=50 TIME_DELTA=1 NOTE_OFF=50 NOTE_ON=66 NOTE_ON=62 TIME_DELTA=1 NOTE_OFF=66 NOTE_OFF=62 NOTE_ON=50 TIME_DELTA=1 NOTE_OFF=50 NOTE_ON=50 TIME_DELTA=1 NOTE_OFF=50 NOTE_ON=64 NOTE_ON=60 TIME_DELTA=1 NOTE_OFF=64 NOTE_OFF=60 NOTE_ON=50 TIME_DELTA=1 NOTE_OFF=50 NOTE_ON=50 TIME_DELTA=1 NOTE_OFF=50 NOTE_ON=64 NOTE_ON=60 NOTE_ON=50 TIME_DELTA=1 NOTE_OFF=64 NOTE_OFF=60 NOTE_OFF=50 NOTE_ON=66 NOTE_ON=62 TIME_DELTA=1 NOTE_OFF=66 NOTE_OFF=62 NOTE_ON=64 NOTE_ON=60 NOTE_ON=50 TIME_DELTA=1 NOTE_OFF=64 NOTE_OFF=60 NOTE_OFF=50 NOTE_ON=50 TIME_DELTA=1 NOTE_OFF=50 NOTE_ON=64 NOTE_ON=60 NOTE_ON=50 TIME_DELTA=1 NOTE_OFF=64 NOTE_OFF=60 NOTE_OFF=50 NOTE_ON=66 NOTE_ON=62 NOTE_ON=50 TIME_DELTA=1 NOTE_OFF=66 NOTE_OFF=62 NOTE_OFF=50 NOTE_ON=67 NOTE_ON=64 TIME_DELTA=1 NOTE_OFF=67 NOTE_OFF=64 NOTE_ON=50 TIME_DELTA=1 NOTE_OFF=50 BAR_END BAR_START NOTE_ON=50 TIME_DELTA=1 NOTE_OFF=50 NOTE_ON=66 NOTE_ON=62 TIME_DELTA=1 NOTE_OFF=66 NOTE_OFF=62 NOTE_ON=50 TIME_DELTA=1 NOTE_OFF=50 NOTE_ON=50 TIME_DELTA=1 NOTE_OFF=50 NOTE_ON=64 NOTE_ON=60 NOTE_ON=50 TIME_DELTA=1 NOTE_OFF=64 NOTE_OFF=60 NOTE_OFF=50 NOTE_ON=66 NOTE_ON=62 NOTE_ON=50 TIME_DELTA=1 NOTE_OFF=66 NOTE_OFF=62 NOTE_OFF=50 NOTE_ON=50 TIME_DELTA=1 NOTE_OFF=50 NOTE_ON=50 TIME_DELTA=1 NOTE_OFF=50 NOTE_ON=64 NOTE_ON=60 NOTE_ON=50 TIME_DELTA=1 NOTE_OFF=64 NOTE_OFF=60 NOTE_OFF=50 NOTE_ON=66 NOTE_ON=62 TIME_DELTA=1 NOTE_OFF=66 NOTE_OFF=62 NOTE_ON=64 NOTE_ON=60 NOTE_ON=50 TIME_DELTA=1 NOTE_OFF=64 NOTE_OFF=60 NOTE_OFF=50 NOTE_ON=66 NOTE_ON=62 NOTE_ON=50 TIME_DELTA=1 NOTE_OFF=66 NOTE_OFF=62 NOTE_OFF=50 NOTE_ON=67 NOTE_ON=64 TIME_DELTA=1 NOTE_OFF=67 NOTE_ON=50 TIME_DELTA=1 NOTE_OFF=50 NOTE_ON=64 NOTE_ON=60 TIME_DELTA=1 NOTE_OFF=64 NOTE_OFF=60 NOTE_ON=64 NOTE_ON=60 TIME_DELTA=1 NOTE_OFF=64 NOTE_OFF=60 NOTE_ON=64 NOTE_ON=60 TIME_DELTA=1 NOTE_OFF=64 NOTE_OFF=60 BAR_END BAR_START NOTE_ON=50 TIME_DELTA=1 NOTE_OFF=50 NOTE_ON=66 NOTE_ON=62 NOTE_ON=50 TIME_DELTA=1 NOTE_OFF=66 NOTE_OFF=62 NOTE_OFF=50 NOTE_ON=50 TIME_DELTA=1 NOTE_OFF=50 NOTE_ON=50 TIME_DELTA=1 NOTE_OFF=50 NOTE_ON=50 TIME_DELTA=1 NOTE_OFF=50 NOTE_ON=66 NOTE_ON=62 TIME_DELTA=1 NOTE_OFF=66 NOTE_OFF=62 NOTE_ON=50 TIME_DELTA=1 NOTE_OFF=50 NOTE_ON=64 NOTE_ON=60 NOTE_ON=50 TIME_DELTA=1 NOTE_OFF=64 NOTE_OFF=60 NOTE_OFF=50 NOTE_ON=64 NOTE_ON=60 NOTE_ON=50 TIME_DELTA=1 NOTE_OFF=64 NOTE_OFF=60 NOTE_OFF=50 NOTE_ON=66 NOTE_ON=62 NOTE_ON=50 TIME_DELTA=1 NOTE_OFF=66 NOTE_OFF=62 NOTE_OFF=50 NOTE_ON=50 TIME_DELTA=1 NOTE_OFF=50 NOTE_ON=69 NOTE_ON=64 NOTE_ON=60 TIME_DELTA=1 NOTE_OFF=69 NOTE_OFF=64 NOTE_OFF=60 NOTE_ON=64 NOTE_ON=60 NOTE_ON=50 TIME_DELTA=1 NOTE_OFF=64 NOTE_OFF=60 NOTE_OFF=50 NOTE_ON=57 TIME_DELTA=1 NOTE_OFF=57 NOTE_ON=56 TIME_DELTA=1 NOTE_OFF=56 NOTE_ON=64 NOTE_ON=60 NOTE_ON=55 TIME_DELTA=1 NOTE_OFF=64 NOTE_OFF=60 NOTE_OFF=55 BAR_END BAR_START NOTE_ON=50 TIME_DELTA=1 NOTE_OFF=50 NOTE_ON=66 NOTE_ON=62 TIME_DELTA=1 NOTE_OFF=66 NOTE_OFF=62 NOTE_ON=50 TIME_DELTA=1 NOTE_OFF=50 NOTE_ON=50 TIME_DELTA=1 NOTE_OFF=50 NOTE_ON=64 NOTE_ON=60 TIME_DELTA=1 NOTE_OFF=64 NOTE_OFF=60 NOTE_ON=66 NOTE_ON=62 NOTE_ON=50 TIME_DELTA=1 NOTE_OFF=66 NOTE_OFF=62 NOTE_OFF=50 NOTE_ON=50 TIME_DELTA=1 NOTE_OFF=50 NOTE_ON=64 NOTE_ON=60 NOTE_ON=50 TIME_DELTA=1 NOTE_OFF=64 NOTE_OFF=60 NOTE_OFF=50 NOTE_ON=64 NOTE_ON=60 NOTE_ON=50 TIME_DELTA=1 NOTE_OFF=64 NOTE_OFF=60 NOTE_OFF=50 NOTE_ON=66 NOTE_ON=62 NOTE_ON=50 TIME_DELTA=1 NOTE_OFF=66 NOTE_OFF=62 NOTE_OFF=50 NOTE_ON=66 NOTE_ON=62 NOTE_ON=50 TIME_DELTA=1 NOTE_OFF=66 NOTE_OFF=62 NOTE_OFF=50 NOTE_ON=50 TIME_DELTA=1 NOTE_OFF=50 NOTE_ON=67 NOTE_ON=64 TIME_DELTA=1 NOTE_OFF=67 NOTE_OFF=64 NOTE_ON=50 TIME_DELTA=1 NOTE_OFF=50 NOTE_ON=64 NOTE_ON=60 NOTE_ON=50 TIME_DELTA=1 NOTE_OFF=64 NOTE_OFF=60 NOTE_OFF=50 NOTE_ON=59 NOTE_ON=55 NOTE_ON=50 TIME_DELTA=1 NOTE_OFF=59 NOTE_OFF=50 NOTE_OFF=55 NOTE_OFF=50 BAR_END BAR_START BAR_END TRACK_END\n"
          ]
        }
      ],
      "source": [
        "text_input = \"PIECE_START TRACK_START INST=25\"\n",
        "input_ids = tokenize_text_input(text_input, model=model, tokenizer=tokenizer).cuda()\n",
        "generated_ids = generate_the_next_bars(input_ids, model=model, tokenizer=tokenizer)\n",
        "generated_text = convert_ids_to_text(generated_ids, tokenizer=tokenizer)"
      ]
    },
    {
      "cell_type": "code",
      "execution_count": 101,
      "metadata": {
        "colab": {
          "base_uri": "https://localhost:8080/"
        },
        "id": "v_sf5X39_2aU",
        "outputId": "110f77ff-b52f-4651-f8ab-5b788ccece30"
      },
      "outputs": [
        {
          "name": "stdout",
          "output_type": "stream",
          "text": [
            "inputs: PIECE_START TRACK_START INST=25\n",
            "output: PIECE_START TRACK_START INST=25 DENSITY=1 BAR_START NOTE_ON=64 NOTE_ON=60 NOTE_ON=57 NOTE_ON=52 NOTE_ON=45 TIME_DELTA=16 NOTE_OFF=64 NOTE_OFF=60 NOTE_OFF=57 NOTE_OFF=52 NOTE_OFF=45 NOTE_ON=64 NOTE_ON=60 NOTE_ON=57 NOTE_ON=52 NOTE_ON=45 TIME_DELTA=4 NOTE_OFF=64 NOTE_OFF=60 NOTE_OFF=57 NOTE_OFF=52 NOTE_OFF=45 NOTE_ON=64 NOTE_ON=60 NOTE_ON=57 NOTE_ON=52 NOTE_ON=45 TIME_DELTA=4 NOTE_OFF=64 NOTE_OFF=60 NOTE_OFF=57 NOTE_OFF=52 NOTE_OFF=45 NOTE_ON=64 NOTE_ON=60 NOTE_ON=57 NOTE_ON=52 NOTE_ON=45 TIME_DELTA=2 NOTE_OFF=64 NOTE_OFF=60 NOTE_OFF=57 NOTE_OFF=52 NOTE_OFF=45 NOTE_ON=64 NOTE_ON=60 NOTE_ON=57 NOTE_ON=52 NOTE_ON=45 TIME_DELTA=2 NOTE_OFF=64 NOTE_OFF=60 NOTE_OFF=57 NOTE_OFF=52 NOTE_OFF=45 NOTE_ON=67 NOTE_ON=62 NOTE_ON=57 NOTE_ON=50 NOTE_ON=43 TIME_DELTA=2 NOTE_OFF=67 NOTE_OFF=62 NOTE_OFF=57 NOTE_OFF=50 NOTE_OFF=43 NOTE_ON=67 NOTE_ON=62 NOTE_ON=57 NOTE_ON=50 NOTE_ON=43 TIME_DELTA=2 NOTE_OFF=67 NOTE_OFF=62 NOTE_OFF=57 NOTE_OFF=50 NOTE_OFF=43 NOTE_ON=65 NOTE_ON=62 NOTE_ON=57 NOTE_ON=50 TIME_DELTA=2 NOTE_OFF=65 NOTE_OFF=62 NOTE_OFF=57 NOTE_OFF=50 NOTE_ON=67 NOTE_ON=62 NOTE_ON=57 NOTE_ON=50 NOTE_ON=43 TIME_DELTA=2 NOTE_OFF=67 NOTE_OFF=62 NOTE_OFF=57 NOTE_OFF=50 NOTE_OFF=43 BAR_END BAR_START BAR_END BAR_START BAR_END BAR_START BAR_END BAR_START BAR_END BAR_START BAR_END BAR_START BAR_END TRACK_END\n",
            "output: TRACK_START INST=DRUMS DENSITY=2 BAR_START NOTE_ON=44 NOTE_ON=36 NOTE_ON=57 TIME_DELTA=2 NOTE_OFF=44 NOTE_OFF=36 NOTE_OFF=44 NOTE_ON=44 NOTE_ON=36 TIME_DELTA=2 NOTE_OFF=44 NOTE_OFF=36 NOTE_ON=44 NOTE_ON=40 NOTE_ON=39 NOTE_ON=36 NOTE_ON=46 TIME_DELTA=2 NOTE_OFF=44 NOTE_OFF=40 NOTE_OFF=39 NOTE_OFF=40 NOTE_OFF=46 NOTE_ON=40 NOTE_ON=44 NOTE_ON=42 TIME_DELTA=2 NOTE_OFF=40 NOTE_OFF=39 NOTE_OFF=44 NOTE_ON=43 NOTE_ON=35 NOTE_ON=36 TIME_DELTA=2 NOTE_OFF=43 NOTE_ON=44 TIME_DELTA=2 NOTE_OFF=35 NOTE_OFF=36 NOTE_OFF=44 NOTE_ON=43 NOTE_ON=39 NOTE_ON=36 NOTE_ON=35 TIME_DELTA=2 NOTE_OFF=43 NOTE_OFF=39 NOTE_ON=44 TIME_DELTA=2 NOTE_OFF=43 NOTE_ON=44 TIME_DELTA=2 NOTE_OFF=36 NOTE_OFF=35 NOTE_OFF=44 BAR_END BAR_START NOTE_ON=57 NOTE_ON=43 NOTE_ON=36 NOTE_ON=38 NOTE_ON=35 TIME_DELTA=2 NOTE_OFF=57 NOTE_OFF=43 NOTE_ON=44 NOTE_ON=36 TIME_DELTA=2 NOTE_OFF=57 NOTE_OFF=36 NOTE_OFF=35 NOTE_ON=44 NOTE_ON=39 NOTE_ON=39 NOTE_ON=40 NOTE_ON=36 NOTE_ON=46 TIME_DELTA=4 NOTE_OFF=44 NOTE_OFF=39 NOTE_OFF=39 NOTE_OFF=40 NOTE_OFF=46 NOTE_OFF=36 NOTE_ON=44 NOTE_ON=40 NOTE_ON=36 NOTE_ON=35 TIME_DELTA=2 NOTE_OFF=44 NOTE_OFF=40 NOTE_OFF=40 NOTE_ON=44 TIME_DELTA=2 NOTE_OFF=36 NOTE_OFF=35 NOTE_OFF=44 NOTE_ON=43 NOTE_ON=39 NOTE_ON=36 NOTE_ON=46 NOTE_ON=35 TIME_DELTA=2 NOTE_OFF=43 NOTE_ON=44 TIME_DELTA=2 NOTE_OFF=39 NOTE_OFF=39 NOTE_ON=42 NOTE_ON=40 TIME_DELTA=2 NOTE_OFF=35 NOTE_OFF=40 NOTE_OFF=44 BAR_END BAR_START NOTE_ON=44 NOTE_ON=36 TIME_DELTA=2 NOTE_OFF=44 NOTE_OFF=36 NOTE_OFF=35 NOTE_ON=44 NOTE_ON=43 NOTE_ON=39 NOTE_ON=40 NOTE_ON=40 NOTE_ON=36 NOTE_ON=46 NOTE_ON=35 TIME_DELTA=2 NOTE_OFF=44 NOTE_OFF=43 NOTE_ON=44 TIME_DELTA=1 NOTE_OFF=36 NOTE_OFF=46 NOTE_OFF=40 NOTE_OFF=40 NOTE_OFF=44 NOTE_ON=43 NOTE_ON=35 NOTE_ON=36 TIME_DELTA=2 NOTE_OFF=43 NOTE_ON=44 TIME_DELTA=2 NOTE_OFF=35 NOTE_OFF=36 NOTE_OFF=44 NOTE_ON=43 NOTE_ON=39 NOTE_ON=40 NOTE_ON=36 NOTE_ON=35 TIME_DELTA=2 NOTE_OFF=43 NOTE_ON=44 TIME_DELTA=2 NOTE_OFF=39 NOTE_OFF=39 NOTE_OFF=40 NOTE_OFF=36 NOTE_OFF=35 NOTE_OFF=44 NOTE_ON=43 NOTE_ON=35 NOTE_ON=36 TIME_DELTA=2 NOTE_OFF=43 NOTE_ON=44 TIME_DELTA=2 NOTE_OFF=35 NOTE_OFF=36 NOTE_OFF=44 BAR_END BAR_START NOTE_ON=59 NOTE_ON=43 NOTE_ON=35 NOTE_ON=36 TIME_DELTA=2 NOTE_OFF=43 NOTE_OFF=59 NOTE_ON=59 NOTE_ON=44 TIME_DELTA=1 NOTE_OFF=59 NOTE_ON=59 TIME_DELTA=1 NOTE_OFF=59 NOTE_ON=59 TIME_DELTA=1 NOTE_OFF=59 NOTE_ON=59 TIME_DELTA=1 NOTE_OFF=59 NOTE_ON=59 NOTE_ON=40 TIME_DELTA=1 NOTE_OFF=59 NOTE_OFF=40 NOTE_OFF=44 NOTE_ON=40 NOTE_ON=44 NOTE_ON=40 TIME_DELTA=1 NOTE_OFF=40 NOTE_ON=40 TIME_DELTA=1 NOTE_OFF=35 NOTE_OFF=36 NOTE_OFF=40 NOTE_OFF=44 NOTE_ON=40 NOTE_ON=40 NOTE_ON=44 NOTE_ON=36 TIME_DELTA=1 NOTE_OFF=40 NOTE_OFF=44 NOTE_OFF=36 NOTE_ON=40 NOTE_ON=47 TIME_DELTA=1 NOTE_OFF=40 NOTE_OFF=47 NOTE_OFF=40 BAR_END BAR_START NOTE_ON=44 NOTE_ON=36 TIME_DELTA=2 NOTE_OFF=44 NOTE_OFF=36 NOTE_ON=44 NOTE_ON=36 TIME_DELTA=2 NOTE_OFF=44 NOTE_OFF=36 NOTE_ON=44 NOTE_ON=40 TIME_DELTA=2 NOTE_OFF=44 NOTE_OFF=40 NOTE_ON=44 NOTE_ON=36 TIME_DELTA=2 NOTE_OFF=44 NOTE_OFF=36 NOTE_ON=44 NOTE_ON=40 TIME_DELTA=2 NOTE_OFF=44 NOTE_OFF=40 NOTE_ON=36 TIME_DELTA=2 NOTE_OFF=36 NOTE_ON=44 NOTE_ON=40 TIME_DELTA=2 NOTE_OFF=44 NOTE_OFF=40 NOTE_ON=44 NOTE_ON=36 TIME_DELTA=2 NOTE_OFF=44 NOTE_OFF=36 BAR_END BAR_START NOTE_ON=36 TIME_DELTA=2 NOTE_OFF=36 NOTE_ON=38 NOTE_ON=44 NOTE_ON=36 TIME_DELTA=2 NOTE_OFF=38 NOTE_OFF=44 NOTE_OFF=36 NOTE_ON=36 NOTE_ON=44 TIME_DELTA=1 NOTE_ON=42 NOTE_ON=40 TIME_DELTA=1 NOTE_OFF=36 NOTE_OFF=44 NOTE_OFF=42 NOTE_OFF=40 NOTE_ON=36 TIME_DELTA=2 NOTE_OFF=36 NOTE_ON=44 NOTE_ON=40 TIME_DELTA=1 NOTE_OFF=44 NOTE_OFF=40 NOTE_ON=40 TIME_DELTA=1 NOTE_OFF=40 NOTE_ON=44 NOTE_ON=36 TIME_DELTA=1 NOTE_OFF=44 NOTE_OFF=36 NOTE_ON=40 TIME_DELTA=1 NOTE_OFF=40 BAR_END BAR_START NOTE_ON=44 NOTE_ON=36 TIME_DELTA=2 NOTE_OFF=44 NOTE_OFF=36 NOTE_ON=40 NOTE_ON=44 NOTE_ON=36 TIME_DELTA=1 NOTE_OFF=40 NOTE_OFF=44 NOTE_OFF=36 NOTE_ON=44 NOTE_ON=36 TIME_DELTA=1 NOTE_OFF=44 NOTE_OFF=36 NOTE_ON=44 NOTE_ON=40 NOTE_ON=40 TIME_DELTA=1 NOTE_OFF=44 NOTE_OFF=40 NOTE_OFF=40 NOTE_ON=40 NOTE_ON=40 TIME_DELTA=1 NOTE_OFF=40 NOTE_ON=44 NOTE_ON=36 TIME_DELTA=1 NOTE_OFF=44 NOTE_OFF=36 NOTE_ON=40 TIME_DELTA=1 NOTE_OFF=40 NOTE_ON=44 NOTE_ON=36 TIME_DELTA=1 NOTE_OFF=44 NOTE_OFF=36 NOTE_ON=40 NOTE_ON=40 TIME_DELTA=1 NOTE_OFF=40 NOTE_OFF=40 NOTE_ON=44 TIME_DELTA=1 NOTE_OFF=44 NOTE_ON=40 NOTE_ON=40 TIME_DELTA=1 NOTE_OFF=40 BAR_END BAR_START NOTE_ON=40 NOTE_ON=44 NOTE_ON=36 TIME_DELTA=1 NOTE_OFF=40 TIME_DELTA=1 NOTE_OFF=44 NOTE_OFF=36 NOTE_ON=44 NOTE_ON=36 NOTE_ON=36 TIME_DELTA=1 NOTE_OFF=44 NOTE_OFF=36 NOTE_OFF=36 NOTE_ON=44 NOTE_ON=40 NOTE_ON=40 TIME_DELTA=1 NOTE_OFF=44 NOTE_OFF=40 NOTE_OFF=40 NOTE_ON=44 NOTE_ON=40 TIME_DELTA=1 NOTE_OFF=44\n",
            "output: NOTE_OFF=40 NOTE_ON=40 TIME_DELTA=1 NOTE_OFF=40 NOTE_ON=44 NOTE_ON=36 TIME_DELTA=1 NOTE_OFF=44 NOTE_OFF=36 NOTE_ON=44 NOTE_ON=40 NOTE_ON=40 TIME_DELTA=1 NOTE_OFF=44 NOTE_OFF=40 NOTE_ON=44 NOTE_ON=36 TIME_DELTA=1 NOTE_OFF=44 NOTE_OFF=40 NOTE_ON=36 TIME_DELTA=1 NOTE_OFF=36 NOTE_ON=40 NOTE_ON=40 TIME_DELTA=1 NOTE_OFF=40 NOTE_OFF=40 NOTE_ON=44 NOTE_ON=36 TIME_DELTA=1 NOTE_OFF=44 NOTE_OFF=36 NOTE_ON=36 TIME_DELTA=1 NOTE_OFF=36 NOTE_ON=40 NOTE_ON=40 TIME_DELTA=1 NOTE_OFF=40 NOTE_OFF=40 BAR_END TRACK_END\n",
            "output: TRACK_START INST=29 DENSITY=0 BAR_START NOTE_ON=56 TIME_DELTA=2 NOTE_OFF=44 NOTE_OFF=36 NOTE_ON=70 TIME_DELTA=1 NOTE_ON=49 TIME_DELTA=4 NOTE_ON=32 TIME_DELTA=2 NOTE_OFF=47 NOTE_ON=42 TIME_DELTA=4 NOTE_OFF=56 BAR_END BAR_START BAR_END BAR_START BAR_END BAR_START BAR_END BAR_START BAR_END BAR_START BAR_END BAR_START BAR_END BAR_START BAR_END BAR_START BAR_END BAR_START BAR_END BAR_START BAR_END TRACK_END\n",
            "Token sequence written: /content/drive/MyDrive/the_jam_machine/model_jean/53e344fc017ee5a971f8057ac24df2d97dd35078d2bc8034cc43442de710b820.txt\n"
          ]
        }
      ],
      "source": [
        "from hashlib import sha256\n",
        "\n",
        "def hashing_seq(generated_sequence):\n",
        "  seq_cats = ''\n",
        "  for thisseq in generated_sequence:\n",
        "    seq_cats += thisseq[0]\n",
        "  filename = sha256(seq_cats.encode(\"utf-8\")).hexdigest()\n",
        "  return filename\n",
        "\n",
        "def writing_seq_to_file(generated_sequence,filepath_name):\n",
        "  file_object = open(f\"{filepath_name}.txt\", \"w\")\n",
        "  [file_object.writelines(f\"{lines[0]} \\n\") for lines in generated_sequence]\n",
        "  file_object.close()\n",
        "\n",
        "  return print(f\"Token sequence written: {filepath_name}.txt\")\n",
        "\n",
        "def generate_n_sequences(model, text_input, n=1):\n",
        "  generated_sequence=[]\n",
        "  for b in range(n):\n",
        "    if b == 0:\n",
        "      input_ids = tokenize_text_input(text_input, model=model, tokenizer=tokenizer).cuda()\n",
        "      generated_ids = generate_the_next_bars(input_ids, model=model, tokenizer=tokenizer)\n",
        "    else:\n",
        "      generated_ids = generate_the_next_bars(generated_ids, model=model, tokenizer=tokenizer)\n",
        "      generated_ids = generated_ids[0][prev_seq_length:].reshape([1,-1])\n",
        "      \n",
        "    prev_seq_length = len(generated_ids[0])\n",
        "    generated_text = convert_ids_to_text(generated_ids, tokenizer=tokenizer)\n",
        "    generated_sequence.append([generated_text])\n",
        "\n",
        "  filename = hashing_seq(generated_sequence)\n",
        "  filepath_name = f\"{output_path}/{filename}\"\n",
        "  writing_seq_to_file(generated_sequence, filepath_name)\n",
        "\n",
        "  return generated_sequence\n",
        "\n",
        "text_input = \"PIECE_START TRACK_START INST=25\"\n",
        "generated_sequence = generate_n_sequences(model, text_input, n=4)\n",
        "# print(generated_sequence)\n"
      ]
    },
    {
      "cell_type": "markdown",
      "metadata": {
        "id": "vDp9n0iqF1Sp"
      },
      "source": [
        "### Load a saved the-jam-machine and generate"
      ]
    },
    {
      "cell_type": "markdown",
      "metadata": {
        "id": "wJxfBzMITJUj"
      },
      "source": [
        "still thing to improve like the cuda vs cpu stuff"
      ]
    },
    {
      "cell_type": "code",
      "execution_count": null,
      "metadata": {
        "id": "gxsVSEFdF6hm"
      },
      "outputs": [],
      "source": [
        "pre_trained_model_path = \"/content/drive/MyDrive/the_jam_machine/model_jean/\"\n",
        "model = torch.load(\n",
        "    f\"{pre_trained_model_path}/pytorch_model.bin\", \n",
        "    map_location=torch.device(\"cpu\")\n",
        ")\n",
        "\n",
        "text_input = \"PIECE_START TRACK_START INST=25\"\n",
        "generated_sequence = generate_n_sequences(model, text_input, n=4)"
      ]
    },
    {
      "cell_type": "markdown",
      "metadata": {
        "id": "U0TCWJqGy1w8"
      },
      "source": [
        "# Extras"
      ]
    },
    {
      "cell_type": "markdown",
      "metadata": {
        "id": "rn6TBTLJqqxu"
      },
      "source": [
        "## Torch playground"
      ]
    },
    {
      "cell_type": "code",
      "execution_count": null,
      "metadata": {
        "id": "x8eJFXgYAUX1"
      },
      "outputs": [],
      "source": [
        "# import torch.nn as nn\n",
        "lin_test = nn.Linear(512, 512, bias=True)\n",
        "rand_input = torch.randint(0, 1, (512,), dtype=torch.float32)\n",
        "out = lin_test(rand_input)\n",
        "# out\n",
        "print(lin_test.weight)\n",
        "print(lin_test.bias)\n",
        "print(nn.ModuleList([lin_test, lin_test, lin_test]))"
      ]
    },
    {
      "cell_type": "markdown",
      "metadata": {
        "id": "eOjteM03q1Oh"
      },
      "source": [
        "## Tristan's function to visualize a text sequence into midi"
      ]
    },
    {
      "cell_type": "code",
      "execution_count": null,
      "metadata": {
        "id": "dx0meZoXmCP4"
      },
      "outputs": [],
      "source": [
        "# function from the note book to visualize... Does not work here - need to work on it - later\n",
        "!pip install note_seq\n",
        "import note_seq\n",
        "\n",
        "synth = note_seq.midi_synth.synthesize\n",
        "synth = note_seq.midi_synth.fluidsynth\n",
        "\n",
        "NOTE_LENGTH_16TH_120BPM = 0.25 * 60 / 120\n",
        "BAR_LENGTH_120BPM = 4.0 * 60 / 120\n",
        "\n",
        "def token_sequence_to_note_sequence(token_sequence, use_program=True, use_drums=True, instrument_mapper=None, only_piano=False):\n",
        "\n",
        "    if isinstance(token_sequence, str):\n",
        "        token_sequence = token_sequence.split()\n",
        "\n",
        "    note_sequence = empty_note_sequence()\n",
        "\n",
        "    # Render all notes.\n",
        "    current_program = 1\n",
        "    current_is_drum = False\n",
        "    current_instrument = 0\n",
        "    track_count = 0\n",
        "    for token_index, token in enumerate(token_sequence):\n",
        "\n",
        "        if token == \"PIECE_START\":\n",
        "            pass\n",
        "        elif token == \"PIECE_END\":\n",
        "            break\n",
        "        elif token == \"TRACK_START\":\n",
        "            current_bar_index = 0\n",
        "            track_count += 1\n",
        "            pass\n",
        "        elif token == \"TRACK_END\":\n",
        "            pass\n",
        "        elif token.startswith(\"INST\"):\n",
        "            instrument = token.split(\"=\")[-1]\n",
        "            if instrument != \"DRUMS\" and use_program:\n",
        "                if instrument_mapper is not None:\n",
        "                    if instrument in instrument_mapper:\n",
        "                        instrument = instrument_mapper[instrument]\n",
        "                current_program = int(instrument)\n",
        "                current_instrument = track_count\n",
        "                current_is_drum = False\n",
        "            if instrument == \"DRUMS\" and use_drums:\n",
        "                current_instrument = 0\n",
        "                current_program = 0\n",
        "                current_is_drum = True\n",
        "        elif token == \"BAR_START\":\n",
        "            current_time = current_bar_index * BAR_LENGTH_120BPM\n",
        "            current_notes = {}\n",
        "        elif token == \"BAR_END\":\n",
        "            current_bar_index += 1\n",
        "            pass\n",
        "        elif token.startswith(\"NOTE_ON\"):\n",
        "            pitch = int(token.split(\"=\")[-1])\n",
        "            note = note_sequence.notes.add()\n",
        "            note.start_time = current_time\n",
        "            note.end_time = current_time + 4 * NOTE_LENGTH_16TH_120BPM\n",
        "            note.pitch = pitch\n",
        "            note.instrument = current_instrument\n",
        "            note.program = current_program\n",
        "            note.velocity = 80\n",
        "            note.is_drum = current_is_drum\n",
        "            current_notes[pitch] = note\n",
        "        elif token.startswith(\"NOTE_OFF\"):\n",
        "            pitch = int(token.split(\"=\")[-1])\n",
        "            if pitch in current_notes:\n",
        "                note = current_notes[pitch]\n",
        "                note.end_time = current_time\n",
        "        elif token.startswith(\"TIME_DELTA\"):\n",
        "            delta = float(token.split(\"=\")[-1]) * NOTE_LENGTH_16TH_120BPM\n",
        "            current_time += delta\n",
        "        elif token == \"[PAD]\":\n",
        "            pass\n",
        "        else:\n",
        "            #print(f\"Ignored token {token}.\")\n",
        "            pass\n",
        "\n",
        "    # Make the instruments right.\n",
        "    instruments_drums = []\n",
        "    for note in note_sequence.notes:\n",
        "        pair = [note.program, note.is_drum]\n",
        "        if pair not in instruments_drums:\n",
        "            instruments_drums += [pair]\n",
        "        note.instrument = instruments_drums.index(pair)\n",
        "\n",
        "    if only_piano:\n",
        "        for note in note_sequence.notes:\n",
        "            if not note.is_drum:\n",
        "                note.instrument = 0\n",
        "                note.program = 0\n",
        "\n",
        "    return note_sequence\n",
        "\n",
        "def empty_note_sequence(qpm=120.0, total_time=0.0):\n",
        "    note_sequence = note_seq.protobuf.music_pb2.NoteSequence()\n",
        "    note_sequence.tempos.add().qpm = qpm\n",
        "    note_sequence.ticks_per_quarter = note_seq.constants.STANDARD_PPQ\n",
        "    note_sequence.total_time = total_time\n",
        "    return note_sequence"
      ]
    },
    {
      "cell_type": "code",
      "execution_count": null,
      "metadata": {
        "id": "fWtp1Qq2ltMG"
      },
      "outputs": [],
      "source": [
        "# token_sequence = dataset_train_tokenized[0][\"input_ids\"]\n",
        "# note_sequence = token_sequence_to_note_sequence(token_sequence, only_piano=True)\n",
        "# # note_seq.plot_sequence(note_sequence)\n",
        "# # note_seq.play_sequence(note_sequence, note_seq.midi_synth.fluidsynth)\n",
        "# encoded_sequence = tokenizer.encode(token_sequence)\n",
        "# print(dataset_train_dict[0])"
      ]
    },
    {
      "cell_type": "markdown",
      "metadata": {
        "id": "-F5Gl98p1mdD"
      },
      "source": [
        "## distribution of fake data into train and validation set folders"
      ]
    },
    {
      "cell_type": "code",
      "execution_count": null,
      "metadata": {
        "id": "txIpW7nbhpbj"
      },
      "outputs": [],
      "source": [
        "# FAKE DATA\n",
        "# limit the file number\n",
        "# file_number = 20\n",
        "# create the file path name\n",
        "# dataset_path = encoded_midi_path;\n",
        "# dataset_path_all = os.path.join(dataset_path, \"all\")\n",
        "# dataset_path_train = os.path.join(dataset_path, \"train\")\n",
        "# dataset_path_valid = os.path.join(dataset_path, \"valid\")\n",
        "\n",
        "# # organising the dataset if not done already\n",
        "# if not os.path.exists(dataset_path_train):\n",
        "#   for path in [dataset_path, dataset_path_all, dataset_path_train, dataset_path_valid]:\n",
        "#     if not os.path.exists(path):\n",
        "#         os.mkdir(path)\n",
        "\n",
        "#   # Find all the files\n",
        "#   path_all = glob.glob(f\"{dataset_path_all}/*.txt\")\n",
        "\n",
        "#   print(sorted(path_all))\n",
        "#   # Do not use all.\n",
        "#   file_number = 20\n",
        "#   path_all = path_all[:file_number]\n",
        "\n",
        "#   # Split 80/20.\n",
        "#   split_index = int(len(path_all) * 0.8)\n",
        "#   path_train = path_all[:split_index]\n",
        "#   path_valid = path_all[split_index:]\n",
        "\n",
        "#   # Copy files.\n",
        "#   def copy(path, destination):\n",
        "#     for p in path:\n",
        "#       shutil.copy2(p, destination)\n",
        "\n",
        "#   copy(path_train, dataset_path_train)\n",
        "#   copy(path_valid, dataset_path_valid)"
      ]
    }
  ],
  "metadata": {
    "accelerator": "GPU",
    "colab": {
      "machine_shape": "hm",
      "provenance": []
    },
    "gpuClass": "standard",
    "kernelspec": {
      "display_name": "Python 3.10.7 ('the-jam-machine-C486_rTm')",
      "language": "python",
      "name": "python3"
    },
    "language_info": {
      "name": "python",
      "version": "3.10.7"
    },
    "vscode": {
      "interpreter": {
        "hash": "05f180633b6db30f1627d6c6525b2893a825dbfd9b5c1cd1f75c024f33da1787"
      }
    }
  },
  "nbformat": 4,
  "nbformat_minor": 0
}
