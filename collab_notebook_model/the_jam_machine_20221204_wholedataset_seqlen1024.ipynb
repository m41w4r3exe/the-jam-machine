{
  "cells": [
    {
      "cell_type": "markdown",
      "metadata": {
        "id": "I3vAEjWWI2On"
      },
      "source": [
        "# The Jam Machine \n",
        "\n",
        "## decription of the model here\n",
        "### - Sequence length 1024\n",
        "### - whole dataset\n",
        "### - tristan's encoder\n",
        "### - improved features\n",
        "    - pushing on Hugging face\n",
        "    - writing the tokenized dataset on disk\n",
        "    - loading the tokenized dataset --> saves times for big datasets\n"
      ]
    },
    {
      "cell_type": "code",
      "execution_count": null,
      "metadata": {},
      "outputs": [],
      "source": []
    },
    {
      "cell_type": "markdown",
      "metadata": {
        "id": "sy73jjVLBK6K"
      },
      "source": [
        "# Imports"
      ]
    },
    {
      "cell_type": "code",
      "execution_count": 1,
      "metadata": {
        "colab": {
          "base_uri": "https://localhost:8080/"
        },
        "id": "Nj3_dbPjL0tB",
        "outputId": "5a7dbc68-ba10-46ef-9a53-7c0ea86b8f68"
      },
      "outputs": [
        {
          "name": "stdout",
          "output_type": "stream",
          "text": [
            "Looking in indexes: https://pypi.org/simple, https://us-python.pkg.dev/colab-wheels/public/simple/\n",
            "Requirement already satisfied: wandb in /usr/local/lib/python3.8/dist-packages (0.13.5)\n",
            "Requirement already satisfied: setuptools in /usr/local/lib/python3.8/dist-packages (from wandb) (57.4.0)\n",
            "Requirement already satisfied: requests<3,>=2.0.0 in /usr/local/lib/python3.8/dist-packages (from wandb) (2.23.0)\n",
            "Requirement already satisfied: GitPython>=1.0.0 in /usr/local/lib/python3.8/dist-packages (from wandb) (3.1.29)\n",
            "Requirement already satisfied: sentry-sdk>=1.0.0 in /usr/local/lib/python3.8/dist-packages (from wandb) (1.9.0)\n",
            "Requirement already satisfied: pathtools in /usr/local/lib/python3.8/dist-packages (from wandb) (0.1.2)\n",
            "Requirement already satisfied: psutil>=5.0.0 in /usr/local/lib/python3.8/dist-packages (from wandb) (5.4.8)\n",
            "Requirement already satisfied: promise<3,>=2.0 in /usr/local/lib/python3.8/dist-packages (from wandb) (2.3)\n",
            "Requirement already satisfied: PyYAML in /usr/local/lib/python3.8/dist-packages (from wandb) (6.0)\n",
            "Requirement already satisfied: setproctitle in /usr/local/lib/python3.8/dist-packages (from wandb) (1.3.2)\n",
            "Requirement already satisfied: docker-pycreds>=0.4.0 in /usr/local/lib/python3.8/dist-packages (from wandb) (0.4.0)\n",
            "Requirement already satisfied: protobuf!=4.0.*,!=4.21.0,<5,>=3.12.0 in /usr/local/lib/python3.8/dist-packages (from wandb) (3.19.6)\n",
            "Requirement already satisfied: six>=1.13.0 in /usr/local/lib/python3.8/dist-packages (from wandb) (1.15.0)\n",
            "Requirement already satisfied: shortuuid>=0.5.0 in /usr/local/lib/python3.8/dist-packages (from wandb) (1.0.11)\n",
            "Requirement already satisfied: Click!=8.0.0,>=7.0 in /usr/local/lib/python3.8/dist-packages (from wandb) (7.1.2)\n",
            "Requirement already satisfied: gitdb<5,>=4.0.1 in /usr/local/lib/python3.8/dist-packages (from GitPython>=1.0.0->wandb) (4.0.10)\n",
            "Requirement already satisfied: smmap<6,>=3.0.1 in /usr/local/lib/python3.8/dist-packages (from gitdb<5,>=4.0.1->GitPython>=1.0.0->wandb) (5.0.0)\n",
            "Requirement already satisfied: certifi>=2017.4.17 in /usr/local/lib/python3.8/dist-packages (from requests<3,>=2.0.0->wandb) (2022.9.24)\n",
            "Requirement already satisfied: urllib3!=1.25.0,!=1.25.1,<1.26,>=1.21.1 in /usr/local/lib/python3.8/dist-packages (from requests<3,>=2.0.0->wandb) (1.24.3)\n",
            "Requirement already satisfied: idna<3,>=2.5 in /usr/local/lib/python3.8/dist-packages (from requests<3,>=2.0.0->wandb) (2.10)\n",
            "Requirement already satisfied: chardet<4,>=3.0.2 in /usr/local/lib/python3.8/dist-packages (from requests<3,>=2.0.0->wandb) (3.0.4)\n",
            "Looking in indexes: https://pypi.org/simple, https://us-python.pkg.dev/colab-wheels/public/simple/\n",
            "Requirement already satisfied: transformers in /usr/local/lib/python3.8/dist-packages (4.25.1)\n",
            "Requirement already satisfied: tokenizers in /usr/local/lib/python3.8/dist-packages (0.13.2)\n",
            "Requirement already satisfied: packaging>=20.0 in /usr/local/lib/python3.8/dist-packages (from transformers) (21.3)\n",
            "Requirement already satisfied: regex!=2019.12.17 in /usr/local/lib/python3.8/dist-packages (from transformers) (2022.6.2)\n",
            "Requirement already satisfied: requests in /usr/local/lib/python3.8/dist-packages (from transformers) (2.23.0)\n",
            "Requirement already satisfied: tqdm>=4.27 in /usr/local/lib/python3.8/dist-packages (from transformers) (4.64.1)\n",
            "Requirement already satisfied: pyyaml>=5.1 in /usr/local/lib/python3.8/dist-packages (from transformers) (6.0)\n",
            "Requirement already satisfied: filelock in /usr/local/lib/python3.8/dist-packages (from transformers) (3.8.0)\n",
            "Requirement already satisfied: numpy>=1.17 in /usr/local/lib/python3.8/dist-packages (from transformers) (1.21.6)\n",
            "Requirement already satisfied: huggingface-hub<1.0,>=0.10.0 in /usr/local/lib/python3.8/dist-packages (from transformers) (0.11.1)\n",
            "Requirement already satisfied: typing-extensions>=3.7.4.3 in /usr/local/lib/python3.8/dist-packages (from huggingface-hub<1.0,>=0.10.0->transformers) (4.1.1)\n",
            "Requirement already satisfied: pyparsing!=3.0.5,>=2.0.2 in /usr/local/lib/python3.8/dist-packages (from packaging>=20.0->transformers) (3.0.9)\n",
            "Requirement already satisfied: urllib3!=1.25.0,!=1.25.1,<1.26,>=1.21.1 in /usr/local/lib/python3.8/dist-packages (from requests->transformers) (1.24.3)\n",
            "Requirement already satisfied: idna<3,>=2.5 in /usr/local/lib/python3.8/dist-packages (from requests->transformers) (2.10)\n",
            "Requirement already satisfied: certifi>=2017.4.17 in /usr/local/lib/python3.8/dist-packages (from requests->transformers) (2022.9.24)\n",
            "Requirement already satisfied: chardet<4,>=3.0.2 in /usr/local/lib/python3.8/dist-packages (from requests->transformers) (3.0.4)\n"
          ]
        }
      ],
      "source": [
        "## THIS NEEDS TO BE CLEANED - NOT EVERYTHING IS NECESSARY\n",
        "# basic packages requirements\n",
        "!pip install wandb\n",
        "import os\n",
        "from pathlib import Path\n",
        "import glob\n",
        "import random\n",
        "import shutil\n",
        "import tqdm\n",
        "import matplotlib.pyplot as plt\n",
        "import typing\n",
        "import json\n",
        "# tensorflow\n",
        "# import tensorflow as tf\n",
        "# from tensorflow.keras import preprocessing\n",
        "# from tensorflow.keras import models, layers\n",
        "# tf.config.list_physical_devices(\"GPU\")\n",
        "# transformers\n",
        "!pip install transformers tokenizers\n",
        "from transformers import PreTrainedTokenizerFast\n",
        "from transformers import DataCollatorForLanguageModeling\n",
        "from transformers import GPT2Config, GPT2LMHeadModel\n",
        "from transformers import TrainingArguments, Trainer\n",
        "# tokenizer\n",
        "from tokenizers import Tokenizer\n",
        "from tokenizers.models import BPE\n",
        "from tokenizers.trainers import BpeTrainer\n",
        "from tokenizers.pre_tokenizers import Whitespace\n",
        "# torch\n",
        "import torch\n",
        "\n",
        "# install requirements\n",
        "# !pipenv lock -r > requirements.txt\n",
        "# !pip install -r requirements.txt"
      ]
    },
    {
      "cell_type": "markdown",
      "metadata": {
        "id": "Z-1i_bmABXCJ"
      },
      "source": [
        "# Setup requirements\n",
        "Here you should set the path for saving your trained model etc"
      ]
    },
    {
      "cell_type": "code",
      "execution_count": 2,
      "metadata": {
        "colab": {
          "base_uri": "https://localhost:8080/"
        },
        "id": "r3sLiMIs8If3",
        "outputId": "d3f42435-229f-4f65-b704-cdcbfd07ec1e"
      },
      "outputs": [
        {
          "name": "stdout",
          "output_type": "stream",
          "text": [
            "fatal: destination path 'the-jam-machine' already exists and is not an empty directory.\n",
            "Current working directory: /content/the-jam-machine\n",
            "Files and Folders in directory:\n",
            "Drive already mounted at /content/drive; to attempt to forcibly remount, call drive.mount(\"/content/drive\", force_remount=True).\n"
          ]
        }
      ],
      "source": [
        "!git clone https://github.com/m41w4r3exe/the-jam-machine.git\n",
        "\n",
        "# move into the git folder to have all scripts in the local folder\n",
        "os.chdir(\"./the-jam-machine\")\n",
        "\n",
        "# check that we re in the right happy place\n",
        "print(f\"Current working directory: {os.getcwd()}\")\n",
        "print(f\"Files and Folders in directory:\")\n",
        "os.listdir()\n",
        "\n",
        "# mount google drive\n",
        "from google.colab import drive\n",
        "drive.mount('/content/drive')\n",
        "\n",
        "# define path\n",
        "drive_path = Path(\"/content/drive/MyDrive/the_jam_machine/\")\n",
        "# midi_path = Path(f\"{drive_path}/midi_data\")\n",
        "# encoded_midi_path = Path(f\"{drive_path}/midi_encoded\")\n",
        "\n",
        "# DATA\n",
        "encoded_midi_path = Path(f\"{drive_path}/midi_encoded_by_tristan\")\n",
        "\n",
        "# TOKENIZER\n",
        "tokenizer_path = Path(f\"{drive_path}/tokenizer\")\n",
        "tokenizer_file = \"tokenizer.json\"\n",
        "load_tokenizer_pretrained = True\n",
        "load_tokenized_datasets = True\n",
        "\n",
        "# MODEL\n",
        "model_path = Path(f\"{drive_path}/model_jean_1024_8layers\")\n",
        "if not os.path.exists(model_path):\n",
        "  print(f\"creating {model_path}\")\n",
        "  os.mkdir(model_path)\n",
        "\n",
        "# HuggingFace repo\n",
        "hf_repo = \"misnaej/the-jam-machine-1024\"\n",
        "hf_token = \"#######\"\n",
        "\n",
        "# device = \"cpu\"\n",
        "device = \"cuda\" \n",
        "train_from_scratch = True\n"
      ]
    },
    {
      "cell_type": "markdown",
      "metadata": {
        "id": "5gwWdCMCeLPS"
      },
      "source": [
        "# Encoding Midi into Text (Done already)\n",
        "from `mymusic.mid` files from `midi_path` to `music.txt` files in `encoded_midi_path`"
      ]
    },
    {
      "cell_type": "code",
      "execution_count": 3,
      "metadata": {
        "id": "IX9A654ucg-u"
      },
      "outputs": [],
      "source": [
        "#@title File encoding\n",
        "#!python encoder_mlike.py --midi_path {midi_path} --encoded_midi_path {encoded_midi_path}"
      ]
    },
    {
      "cell_type": "markdown",
      "metadata": {
        "id": "rpXIJDq8dyf3"
      },
      "source": [
        "# Dataset\n",
        "- load the encoded data\n",
        "- training set - ?? % (done already by Tristan's encoding)\n",
        "- validation set - ?? % (done already by Tristan's encoding)\n",
        "\n",
        "- Tokenizing\n"
      ]
    },
    {
      "cell_type": "markdown",
      "metadata": {
        "id": "8_0WBWxkLrMu"
      },
      "source": [
        "## Loading the data"
      ]
    },
    {
      "cell_type": "markdown",
      "metadata": {
        "id": "81ybSjEnaWCr"
      },
      "source": [
        "Define data path and define individual path for every files"
      ]
    },
    {
      "cell_type": "code",
      "execution_count": 4,
      "metadata": {
        "colab": {
          "base_uri": "https://localhost:8080/"
        },
        "id": "_2E31PtNiozA",
        "outputId": "46f180e6-1a19-42e0-9b75-91f8cfa19cca"
      },
      "outputs": [
        {
          "name": "stdout",
          "output_type": "stream",
          "text": [
            "['/content/drive/MyDrive/the_jam_machine/midi_encoded_by_tristan/train/token-sequences-2.txt', '/content/drive/MyDrive/the_jam_machine/midi_encoded_by_tristan/train/token-sequences-4.txt', '/content/drive/MyDrive/the_jam_machine/midi_encoded_by_tristan/train/token-sequences-6.txt', '/content/drive/MyDrive/the_jam_machine/midi_encoded_by_tristan/train/token-sequences-1.txt', '/content/drive/MyDrive/the_jam_machine/midi_encoded_by_tristan/train/token-sequences-9.txt', '/content/drive/MyDrive/the_jam_machine/midi_encoded_by_tristan/train/token-sequences-7.txt', '/content/drive/MyDrive/the_jam_machine/midi_encoded_by_tristan/train/token-sequences-8.txt', '/content/drive/MyDrive/the_jam_machine/midi_encoded_by_tristan/train/token-sequences-3.txt', '/content/drive/MyDrive/the_jam_machine/midi_encoded_by_tristan/train/token-sequences-0.txt', '/content/drive/MyDrive/the_jam_machine/midi_encoded_by_tristan/train/token-sequences-5.txt']\n",
            "['/content/drive/MyDrive/the_jam_machine/midi_encoded_by_tristan/valid/token-sequences-1.txt', '/content/drive/MyDrive/the_jam_machine/midi_encoded_by_tristan/valid/token-sequences-3.txt', '/content/drive/MyDrive/the_jam_machine/midi_encoded_by_tristan/valid/token-sequences-4.txt', '/content/drive/MyDrive/the_jam_machine/midi_encoded_by_tristan/valid/token-sequences-9.txt', '/content/drive/MyDrive/the_jam_machine/midi_encoded_by_tristan/valid/token-sequences-0.txt', '/content/drive/MyDrive/the_jam_machine/midi_encoded_by_tristan/valid/token-sequences-2.txt', '/content/drive/MyDrive/the_jam_machine/midi_encoded_by_tristan/valid/token-sequences-6.txt', '/content/drive/MyDrive/the_jam_machine/midi_encoded_by_tristan/valid/token-sequences-8.txt', '/content/drive/MyDrive/the_jam_machine/midi_encoded_by_tristan/valid/token-sequences-5.txt', '/content/drive/MyDrive/the_jam_machine/midi_encoded_by_tristan/valid/token-sequences-7.txt']\n"
          ]
        }
      ],
      "source": [
        "# write full filepath to list\n",
        "def full_filepath_to_list(dataset_folder, file_limit=1000):\n",
        "  dataset_files = os.listdir(dataset_folder)\n",
        "  dataset_files = [f\"{dataset_folder}/{file}\" for count, file in enumerate(dataset_files) if count < file_limit]\n",
        "  print(dataset_files)\n",
        "  return dataset_files\n",
        "\n",
        "dataset_path = encoded_midi_path;\n",
        "dataset_path_all = os.path.join(dataset_path, \"all\")\n",
        "dataset_path_train = os.path.join(dataset_path, \"train\")\n",
        "dataset_path_valid = os.path.join(dataset_path, \"valid\")\n",
        "\n",
        "files_train = full_filepath_to_list(dataset_path_train) # training set\n",
        "files_valid = full_filepath_to_list(dataset_path_valid) # validation set"
      ]
    },
    {
      "cell_type": "markdown",
      "metadata": {
        "id": "xTrE4x-xLoAC"
      },
      "source": [
        "## Put data into dictionnary"
      ]
    },
    {
      "cell_type": "code",
      "execution_count": 5,
      "metadata": {
        "id": "ReqyZyP1GrqG"
      },
      "outputs": [],
      "source": [
        "# TO CHANGE  - this will probably give us some memory issues \n",
        "# Dictionnary stage to skip here and load the date into the tokenizer directly from the text files\n",
        "# show the first 2 items\n",
        "def show_n_first_dataset_entries(dataset, n=2):\n",
        "  for idx, key in enumerate(dataset.values()):\n",
        "    if idx >= n:\n",
        "      break\n",
        "    else:\n",
        "      print(key)\n",
        "\n",
        "def dataset_in_dictionary(files):\n",
        "  dataset_dict = {}\n",
        "  dataset_size = 0\n",
        "  for _ , file in enumerate(files):\n",
        "    line_count = 0\n",
        "\n",
        "    filename = file.split(\"/\")[-1].split(\".\")[0]\n",
        "    file_content = open(file, \"r\")\n",
        "\n",
        "    while True:\n",
        "      line_count += 1\n",
        "      line =  file_content.readline().rstrip(\"\\n\") \n",
        "      dataset_size += 1\n",
        "      if line_count % 10000 == 0:\n",
        "        print(f\"Writting - {filename} - count={line_count}\")\n",
        "        print(line)  \n",
        "\n",
        "      if not line: # break when file is over\n",
        "        print(f\"Breaking - {filename} - count={line_count}\")\n",
        "        print(line)\n",
        "        \n",
        "        break\n",
        "\n",
        "      dataset_dict[f\"{filename}_{line_count}\"] = line\n",
        "\n",
        "    \n",
        "\n",
        "  show_n_first_dataset_entries(dataset_dict, n=2)\n",
        "\n",
        "  return dataset_dict, dataset_size\n",
        "\n",
        "if not load_tokenized_datasets:\n",
        "  print(\"=============\")  \n",
        "  print(\"Training data\")\n",
        "  print(\"=============\")\n",
        "  dataset_train_dict, dataset_train_size = dataset_in_dictionary(files_train)\n",
        "  print(f\"dataset_train_size = {dataset_train_size}\")\n",
        "  print(\"===============\")\n",
        "  print(\"Validation data\")\n",
        "  print(\"===============\")\n",
        "  dataset_valid_dict, dataset_valid_size = dataset_in_dictionary(files_valid)\n",
        "  print(f\"dataset_valid_size = {dataset_valid_size}\")\n",
        "  # print(f\"dataset length: {len(dataset_train_dict.items()}\")"
      ]
    },
    {
      "cell_type": "markdown",
      "metadata": {
        "id": "JKuQBcHO8DuY"
      },
      "source": [
        "# Tokenizer\n",
        "\n"
      ]
    },
    {
      "cell_type": "markdown",
      "metadata": {
        "id": "qFtBxLkIsAmr"
      },
      "source": [
        "## Train the TOKENIZER"
      ]
    },
    {
      "cell_type": "code",
      "execution_count": 6,
      "metadata": {
        "id": "FbMJtqPJkvJx"
      },
      "outputs": [],
      "source": [
        "from tokenizers import Tokenizer\n",
        "from tokenizers.models import WordLevel\n",
        "from tokenizers.pre_tokenizers import WhitespaceSplit\n",
        "from tokenizers.trainers import WordLevelTrainer\n",
        "from transformers import PreTrainedTokenizerFast\n",
        "\n",
        "\n",
        "# making an iterator to go through the dictionary \n",
        "# CHANG THIS TO LOAD DIRECTLY FROM THE FILES TO SAVE MEMORY\n",
        "def get_training_corpus():\n",
        "    for song in dataset_train_dict.values():\n",
        "        yield song\n",
        "\n",
        "def define_and_save_tokenizer(\n",
        "  saved_tokenizer=\"tokenizer.json\", \n",
        "  tokenizer_path=\"./\"\n",
        "):\n",
        "  # using a Word Level Tokemizer\n",
        "  tokenizer = Tokenizer(WordLevel(unk_token=\"[UNK]\"))\n",
        "  # separating vocabulary on whitespaces (pretokenizer)\n",
        "  tokenizer.pre_tokenizer = WhitespaceSplit()\n",
        "  # set up the trainer \n",
        "  trainer = WordLevelTrainer(\n",
        "      special_tokens=[\"[UNK]\", \"[PAD]\", \"[MASK]\"]\n",
        "  )\n",
        "  # special tokens I took the ones tristan used but I am not sure I understand all of them \n",
        "  # [UNK] always need and UNK token\n",
        "  # [PAD] if we need to do some pading\n",
        "  # [MASK] if when we need to mask, in order to predict the future without seeing it\n",
        "  # [CLS] what is it ? it is for BERT - the last token of the sequence\n",
        "  # [SEP] what is it ? - SEP can be used with very short sequences\n",
        "\n",
        "  # get corpus\n",
        "  training_corpus = get_training_corpus()\n",
        "  # train tokenizer\n",
        "  tokenizer.train_from_iterator(training_corpus, trainer=trainer)\n",
        "  # save tokenizer\n",
        "  tokenizer.save(f\"{tokenizer_path}/{saved_tokenizer}\")\n",
        "\n",
        "  return tokenizer\n",
        "\n",
        "if not load_tokenizer_pretrained:\n",
        "  tokenizer = define_and_save_tokenizer(tokenizer_path=tokenizer_path)\n"
      ]
    },
    {
      "cell_type": "markdown",
      "metadata": {
        "id": "2Z_4vy6cPUz7"
      },
      "source": [
        "## Or load the trained tokenizer\n"
      ]
    },
    {
      "cell_type": "code",
      "execution_count": 7,
      "metadata": {
        "id": "EVfS9F3HPTfx"
      },
      "outputs": [],
      "source": [
        "if load_tokenizer_pretrained:\n",
        "  from transformers import PreTrainedTokenizerFast\n",
        "  # if device == \"cuda\":\n",
        "  #   tokenizer = PreTrainedTokenizerFast(tokenizer_file=f\"{tokenizer_path}/{tokenizer_file}\")\n",
        "  # else:\n",
        "    # tokenizer = PreTrainedTokenizerFast(tokenizer_file=f\"{tokenizer_path}/{tokenizer_file}\")\n",
        "  tokenizer = PreTrainedTokenizerFast(tokenizer_file=f\"{tokenizer_path}/{tokenizer_file}\")"
      ]
    },
    {
      "cell_type": "markdown",
      "metadata": {
        "id": "0-hYSVhWRaCm"
      },
      "source": [
        " ## Make it ready for GPT2 : add the pad_token"
      ]
    },
    {
      "cell_type": "code",
      "execution_count": 8,
      "metadata": {
        "id": "xEyb48_HRQfb"
      },
      "outputs": [],
      "source": [
        "def format_tokenizer_for_transformers_classes(saved_tokenizer=\"tokenizer.json\"):\n",
        "  # PreTrainedTokenizerFast makes the tokenizer usable by the transformer\n",
        "  tokenizer = PreTrainedTokenizerFast(tokenizer_file = saved_tokenizer)\n",
        "  tokenizer.add_special_tokens({'pad_token': '[PAD]'})\n",
        "\n",
        "  return tokenizer\n",
        "\n",
        "tokenizer = format_tokenizer_for_transformers_classes(\n",
        "    saved_tokenizer=f\"{tokenizer_path}/{tokenizer_file}\"\n",
        ")"
      ]
    },
    {
      "cell_type": "markdown",
      "metadata": {
        "id": "fBW_Rgm8QA_N"
      },
      "source": [
        "## Visualize the Vocabulary"
      ]
    },
    {
      "cell_type": "code",
      "execution_count": 9,
      "metadata": {
        "colab": {
          "base_uri": "https://localhost:8080/"
        },
        "id": "g5r-usDzffae",
        "outputId": "915bc238-e48e-48bc-f77e-38ba25e71249"
      },
      "outputs": [
        {
          "name": "stdout",
          "output_type": "stream",
          "text": [
            "413\n"
          ]
        },
        {
          "data": {
            "text/plain": [
              "{'NOTE_ON=94': 185,\n",
              " 'INST=27': 162,\n",
              " 'NOTE_ON=53': 66,\n",
              " 'NOTE_OFF=37': 96,\n",
              " 'NOTE_ON=117': 381,\n",
              " 'NOTE_OFF=15': 304,\n",
              " 'INST=59': 354,\n",
              " 'NOTE_OFF=74': 88,\n",
              " 'NOTE_ON=3': 402,\n",
              " 'NOTE_ON=105': 272,\n",
              " 'NOTE_OFF=51': 49,\n",
              " 'INST=35': 183,\n",
              " 'NOTE_ON=120': 389,\n",
              " 'NOTE_ON=75': 107,\n",
              " 'INST=45': 270,\n",
              " 'NOTE_ON=127': 373,\n",
              " 'NOTE_ON=114': 379,\n",
              " 'NOTE_ON=13': 412,\n",
              " 'INST=119': 235,\n",
              " 'NOTE_OFF=122': 368,\n",
              " 'NOTE_OFF=99': 223,\n",
              " 'INST=87': 209,\n",
              " 'INST=7': 241,\n",
              " 'INST=68': 263,\n",
              " 'NOTE_OFF=57': 21,\n",
              " 'NOTE_OFF=105': 271,\n",
              " 'NOTE_ON=64': 20,\n",
              " 'NOTE_ON=40': 15,\n",
              " 'NOTE_OFF=60': 33,\n",
              " 'TIME_DELTA=11': 158,\n",
              " 'NOTE_OFF=120': 387,\n",
              " 'NOTE_ON=78': 121,\n",
              " 'NOTE_ON=35': 17,\n",
              " 'NOTE_OFF=2': 388,\n",
              " 'NOTE_OFF=11': 403,\n",
              " 'INST=1': 197,\n",
              " 'NOTE_OFF=106': 363,\n",
              " 'NOTE_OFF=125': 376,\n",
              " 'NOTE_ON=51': 50,\n",
              " 'TIME_DELTA=10': 137,\n",
              " 'NOTE_OFF=94': 184,\n",
              " 'NOTE_ON=54': 26,\n",
              " 'INST=80': 211,\n",
              " 'TIME_DELTA=8': 90,\n",
              " 'NOTE_OFF=21': 217,\n",
              " 'NOTE_OFF=33': 84,\n",
              " 'INST=6': 239,\n",
              " 'INST=36': 240,\n",
              " 'INST=124': 330,\n",
              " 'NOTE_OFF=48': 57,\n",
              " 'INST=52': 194,\n",
              " 'INST=113': 338,\n",
              " 'INST=125': 355,\n",
              " 'NOTE_OFF=8': 358,\n",
              " 'INST=76': 350,\n",
              " 'NOTE_OFF=114': 378,\n",
              " 'INST=16': 232,\n",
              " 'NOTE_OFF=71': 79,\n",
              " 'NOTE_ON=37': 97,\n",
              " 'NOTE_OFF=64': 19,\n",
              " 'INST=12': 285,\n",
              " 'NOTE_ON=106': 364,\n",
              " 'NOTE_ON=5': 400,\n",
              " 'NOTE_OFF=118': 406,\n",
              " 'NOTE_ON=28': 103,\n",
              " 'NOTE_ON=77': 119,\n",
              " 'NOTE_ON=118': 409,\n",
              " 'NOTE_OFF=22': 174,\n",
              " 'NOTE_ON=58': 72,\n",
              " 'INST=103': 289,\n",
              " 'NOTE_OFF=84': 140,\n",
              " 'INST=117': 312,\n",
              " 'NOTE_OFF=97': 236,\n",
              " 'NOTE_ON=63': 64,\n",
              " 'NOTE_OFF=54': 25,\n",
              " 'TIME_DELTA=14': 144,\n",
              " 'INST=49': 203,\n",
              " 'NOTE_ON=80': 132,\n",
              " 'TRACK_END': 51,\n",
              " 'INST=31': 279,\n",
              " 'INST=10': 309,\n",
              " 'INST=3': 254,\n",
              " 'NOTE_ON=57': 22,\n",
              " 'NOTE_OFF=62': 23,\n",
              " 'NOTE_ON=86': 143,\n",
              " 'INST=18': 219,\n",
              " 'INST=57': 260,\n",
              " 'INST=14': 314,\n",
              " 'NOTE_ON=14': 335,\n",
              " 'INST=85': 220,\n",
              " 'NOTE_OFF=121': 407,\n",
              " 'NOTE_OFF=55': 29,\n",
              " 'NOTE_OFF=47': 67,\n",
              " 'INST=93': 299,\n",
              " 'NOTE_OFF=52': 45,\n",
              " 'NOTE_OFF=24': 154,\n",
              " 'NOTE_OFF=89': 167,\n",
              " 'NOTE_ON=108': 318,\n",
              " 'INST=23': 331,\n",
              " 'NOTE_OFF=87': 156,\n",
              " 'NOTE_OFF=7': 356,\n",
              " 'INST=11': 244,\n",
              " 'INST=110': 367,\n",
              " 'NOTE_OFF=43': 61,\n",
              " 'NOTE_OFF=127': 372,\n",
              " 'NOTE_OFF=92': 192,\n",
              " 'INST=21': 284,\n",
              " 'NOTE_OFF=4': 395,\n",
              " '[MASK]': 2,\n",
              " 'INST=71': 253,\n",
              " 'NOTE_OFF=72': 82,\n",
              " 'INST=65': 204,\n",
              " 'INST=2': 230,\n",
              " 'TRACK_START': 52,\n",
              " 'NOTE_OFF=82': 94,\n",
              " 'NOTE_ON=60': 34,\n",
              " 'INST=72': 319,\n",
              " 'NOTE_ON=104': 346,\n",
              " 'INST=115': 325,\n",
              " 'NOTE_ON=2': 390,\n",
              " 'NOTE_ON=121': 410,\n",
              " 'INST=25': 164,\n",
              " 'NOTE_ON=18': 274,\n",
              " 'INST=22': 257,\n",
              " 'NOTE_OFF=25': 165,\n",
              " 'INST=69': 302,\n",
              " 'INST=8': 310,\n",
              " '[PAD]': 1,\n",
              " 'INST=20': 326,\n",
              " 'NOTE_ON=113': 383,\n",
              " 'NOTE_OFF=3': 401,\n",
              " 'INST=5': 205,\n",
              " 'NOTE_ON=15': 305,\n",
              " 'INST=90': 225,\n",
              " 'NOTE_ON=76': 93,\n",
              " 'NOTE_OFF=93': 169,\n",
              " 'NOTE_ON=38': 13,\n",
              " 'TIME_DELTA=13': 163,\n",
              " 'NOTE_ON=30': 123,\n",
              " 'INST=28': 191,\n",
              " 'INST=9': 278,\n",
              " 'INST=42': 262,\n",
              " 'NOTE_OFF=102': 242,\n",
              " 'INST=98': 316,\n",
              " 'NOTE_ON=102': 243,\n",
              " 'NOTE_OFF=73': 100,\n",
              " 'INST=106': 296,\n",
              " 'INST=54': 210,\n",
              " 'BAR_START': 6,\n",
              " 'TIME_DELTA=15': 145,\n",
              " 'NOTE_ON=24': 155,\n",
              " 'NOTE_ON=87': 157,\n",
              " 'INST=61': 212,\n",
              " 'NOTE_ON=99': 224,\n",
              " 'INST=122': 286,\n",
              " 'INST=83': 298,\n",
              " 'NOTE_ON=33': 85,\n",
              " 'NOTE_OFF=16': 228,\n",
              " 'INST=38': 190,\n",
              " 'NOTE_OFF=107': 267,\n",
              " 'TIME_DELTA=9': 151,\n",
              " 'NOTE_ON=82': 95,\n",
              " 'INST=46': 315,\n",
              " 'NOTE_ON=90': 173,\n",
              " 'INST=88': 247,\n",
              " 'NOTE_OFF=28': 102,\n",
              " 'NOTE_ON=65': 60,\n",
              " 'NOTE_ON=103': 256,\n",
              " 'DENSITY=0': 127,\n",
              " 'INST=63': 259,\n",
              " 'NOTE_OFF=12': 321,\n",
              " 'NOTE_OFF=29': 109,\n",
              " 'NOTE_OFF=6': 306,\n",
              " 'INST=32': 201,\n",
              " 'INST=86': 327,\n",
              " 'NOTE_OFF=56': 73,\n",
              " 'NOTE_ON=45': 44,\n",
              " 'NOTE_OFF=30': 122,\n",
              " 'NOTE_ON=95': 187,\n",
              " 'NOTE_OFF=109': 290,\n",
              " 'NOTE_ON=70': 48,\n",
              " 'NOTE_ON=31': 99,\n",
              " 'NOTE_ON=73': 101,\n",
              " 'NOTE_ON=32': 112,\n",
              " 'NOTE_OFF=117': 380,\n",
              " 'NOTE_ON=47': 68,\n",
              " 'INST=53': 202,\n",
              " 'INST=104': 281,\n",
              " 'NOTE_ON=7': 357,\n",
              " 'INST=15': 337,\n",
              " 'NOTE_OFF=113': 382,\n",
              " 'NOTE_ON=42': 8,\n",
              " 'NOTE_OFF=66': 55,\n",
              " 'NOTE_OFF=76': 92,\n",
              " 'TIME_DELTA=12': 133,\n",
              " 'NOTE_ON=74': 89,\n",
              " 'NOTE_OFF=23': 178,\n",
              " 'NOTE_ON=81': 117,\n",
              " 'INST=81': 196,\n",
              " 'INST=48': 176,\n",
              " 'NOTE_OFF=112': 300,\n",
              " 'NOTE_ON=72': 83,\n",
              " 'INST=107': 340,\n",
              " 'NOTE_ON=125': 377,\n",
              " 'NOTE_OFF=116': 397,\n",
              " 'NOTE_ON=119': 386,\n",
              " 'NOTE_ON=115': 392,\n",
              " 'INST=114': 352,\n",
              " 'NOTE_OFF=126': 332,\n",
              " 'NOTE_ON=6': 307,\n",
              " 'NOTE_ON=67': 42,\n",
              " 'NOTE_OFF=85': 147,\n",
              " 'INST=78': 320,\n",
              " 'NOTE_OFF=124': 370,\n",
              " 'NOTE_ON=10': 408,\n",
              " 'INST=102': 292,\n",
              " 'NOTE_ON=27': 135,\n",
              " 'NOTE_OFF=81': 116,\n",
              " 'INST=19': 323,\n",
              " 'NOTE_OFF=14': 334,\n",
              " 'INST=13': 328,\n",
              " 'INST=108': 344,\n",
              " 'NOTE_OFF=45': 43,\n",
              " 'INST=29': 153,\n",
              " 'INST=50': 195,\n",
              " 'NOTE_OFF=68': 86,\n",
              " 'INST=97': 353,\n",
              " 'NOTE_OFF=49': 69,\n",
              " 'INST=92': 343,\n",
              " 'NOTE_ON=1': 366,\n",
              " 'NOTE_OFF=65': 59,\n",
              " 'NOTE_ON=29': 110,\n",
              " 'NOTE_OFF=115': 391,\n",
              " 'NOTE_ON=100': 215,\n",
              " 'INST=127': 288,\n",
              " 'TIME_DELTA=5': 108,\n",
              " 'NOTE_ON=44': 38,\n",
              " 'NOTE_OFF=88': 149,\n",
              " 'NOTE_ON=110': 295,\n",
              " 'NOTE_ON=16': 229,\n",
              " 'INST=126': 348,\n",
              " 'INST=74': 349,\n",
              " 'NOTE_OFF=58': 71,\n",
              " 'NOTE_ON=39': 76,\n",
              " 'NOTE_ON=43': 62,\n",
              " 'NOTE_OFF=39': 75,\n",
              " 'NOTE_OFF=80': 131,\n",
              " 'INST=73': 208,\n",
              " 'NOTE_ON=41': 78,\n",
              " 'NOTE_ON=89': 168,\n",
              " 'INST=62': 221,\n",
              " 'NOTE_ON=34': 105,\n",
              " 'INST=89': 233,\n",
              " 'INST=37': 238,\n",
              " 'NOTE_OFF=17': 245,\n",
              " 'INST=99': 261,\n",
              " 'NOTE_ON=109': 291,\n",
              " 'NOTE_OFF=83': 138,\n",
              " 'NOTE_OFF=110': 294,\n",
              " 'NOTE_ON=17': 246,\n",
              " 'NOTE_OFF=100': 214,\n",
              " 'NOTE_ON=12': 322,\n",
              " 'NOTE_OFF=34': 104,\n",
              " 'NOTE_ON=84': 141,\n",
              " 'NOTE_ON=19': 250,\n",
              " 'INST=120': 329,\n",
              " 'INST=94': 269,\n",
              " 'NOTE_ON=92': 193,\n",
              " 'INST=96': 336,\n",
              " 'INST=91': 251,\n",
              " 'INST=109': 339,\n",
              " 'INST=101': 341,\n",
              " 'INST=111': 347,\n",
              " 'NOTE_OFF=10': 405,\n",
              " 'NOTE_ON=91': 160,\n",
              " 'NOTE_ON=93': 170,\n",
              " 'NOTE_OFF=90': 172,\n",
              " 'NOTE_ON=97': 237,\n",
              " 'NOTE_ON=71': 80,\n",
              " 'NOTE_ON=49': 70,\n",
              " 'NOTE_ON=98': 199,\n",
              " 'NOTE_ON=68': 87,\n",
              " 'NOTE_OFF=40': 14,\n",
              " 'TIME_DELTA=16': 91,\n",
              " 'NOTE_ON=85': 148,\n",
              " 'NOTE_OFF=78': 120,\n",
              " 'NOTE_ON=23': 179,\n",
              " 'NOTE_OFF=67': 41,\n",
              " 'NOTE_ON=0': 181,\n",
              " 'INST=39': 200,\n",
              " 'NOTE_OFF=19': 249,\n",
              " 'INST=DRUMS': 130,\n",
              " 'INST=84': 266,\n",
              " 'NOTE_ON=25': 166,\n",
              " 'NOTE_OFF=18': 273,\n",
              " 'NOTE_ON=22': 175,\n",
              " 'INST=66': 213,\n",
              " 'NOTE_ON=48': 58,\n",
              " 'INST=116': 297,\n",
              " 'INST=105': 308,\n",
              " 'NOTE_OFF=31': 98,\n",
              " 'INST=79': 313,\n",
              " 'INST=55': 293,\n",
              " 'NOTE_OFF=42': 7,\n",
              " 'NOTE_ON=61': 54,\n",
              " 'PIECE_START': 136,\n",
              " 'NOTE_OFF=61': 53,\n",
              " 'NOTE_OFF=27': 134,\n",
              " 'NOTE_ON=126': 333,\n",
              " 'TIME_DELTA=3': 18,\n",
              " 'NOTE_OFF=0': 180,\n",
              " 'NOTE_ON=79': 114,\n",
              " 'NOTE_ON=26': 129,\n",
              " 'NOTE_OFF=26': 128,\n",
              " 'NOTE_OFF=95': 186,\n",
              " 'INST=100': 234,\n",
              " 'NOTE_OFF=103': 255,\n",
              " 'INST=70': 283,\n",
              " 'NOTE_OFF=119': 385,\n",
              " 'TIME_DELTA=4': 11,\n",
              " 'INST=51': 222,\n",
              " 'NOTE_OFF=41': 77,\n",
              " 'NOTE_OFF=46': 35,\n",
              " 'NOTE_OFF=123': 361,\n",
              " 'NOTE_ON=116': 398,\n",
              " 'NOTE_ON=21': 218,\n",
              " 'INST=4': 216,\n",
              " 'INST=40': 265,\n",
              " 'NOTE_OFF=63': 63,\n",
              " 'NOTE_ON=9': 375,\n",
              " 'NOTE_OFF=13': 411,\n",
              " 'INST=33': 152,\n",
              " 'NOTE_ON=20': 207,\n",
              " 'NOTE_ON=122': 369,\n",
              " 'NOTE_ON=59': 28,\n",
              " 'NOTE_OFF=77': 118,\n",
              " 'INST=67': 276,\n",
              " 'INST=118': 280,\n",
              " 'BAR_END': 5,\n",
              " 'NOTE_OFF=86': 142,\n",
              " 'NOTE_OFF=79': 113,\n",
              " 'INST=82': 248,\n",
              " 'TIME_DELTA=7': 126,\n",
              " 'NOTE_ON=111': 394,\n",
              " 'NOTE_OFF=32': 111,\n",
              " 'NOTE_OFF=70': 47,\n",
              " 'INST=58': 311,\n",
              " 'NOTE_ON=52': 46,\n",
              " 'INST=121': 342,\n",
              " 'INST=77': 351,\n",
              " 'NOTE_OFF=101': 226,\n",
              " 'NOTE_OFF=111': 393,\n",
              " 'NOTE_ON=62': 24,\n",
              " 'NOTE_OFF=36': 9,\n",
              " 'DENSITY=2': 124,\n",
              " 'DENSITY=1': 125,\n",
              " 'NOTE_ON=66': 56,\n",
              " 'NOTE_OFF=35': 16,\n",
              " 'NOTE_OFF=96': 188,\n",
              " 'NOTE_OFF=38': 12,\n",
              " 'INST=95': 258,\n",
              " 'NOTE_ON=83': 139,\n",
              " 'INST=41': 324,\n",
              " 'NOTE_OFF=75': 106,\n",
              " 'NOTE_ON=123': 362,\n",
              " 'NOTE_OFF=20': 206,\n",
              " 'INST=64': 277,\n",
              " 'INST=0': 161,\n",
              " 'INST=44': 287,\n",
              " 'NOTE_ON=4': 396,\n",
              " 'NOTE_OFF=44': 37,\n",
              " 'NOTE_OFF=59': 27,\n",
              " 'INST=75': 264,\n",
              " 'NOTE_OFF=108': 317,\n",
              " 'NOTE_ON=112': 301,\n",
              " 'NOTE_OFF=5': 399,\n",
              " 'INST=47': 282,\n",
              " 'TIME_DELTA=6': 81,\n",
              " 'NOTE_ON=11': 404,\n",
              " 'NOTE_ON=56': 74,\n",
              " 'INST=56': 231,\n",
              " 'NOTE_ON=69': 32,\n",
              " 'INST=17': 252,\n",
              " 'NOTE_OFF=69': 31,\n",
              " 'INST=60': 275,\n",
              " 'INST=123': 360,\n",
              " 'DENSITY=3': 115,\n",
              " 'NOTE_ON=55': 30,\n",
              " 'NOTE_ON=36': 10,\n",
              " 'NOTE_OFF=53': 65,\n",
              " 'NOTE_ON=88': 150,\n",
              " 'NOTE_OFF=91': 159,\n",
              " '[UNK]': 0,\n",
              " 'INST=24': 182,\n",
              " 'NOTE_ON=8': 359,\n",
              " 'TIME_DELTA=2': 4,\n",
              " 'TIME_DELTA=1': 3,\n",
              " 'NOTE_ON=46': 36,\n",
              " 'INST=26': 177,\n",
              " 'NOTE_ON=107': 268,\n",
              " 'NOTE_ON=96': 189,\n",
              " 'INST=30': 146,\n",
              " 'INST=34': 171,\n",
              " 'NOTE_OFF=104': 345,\n",
              " 'NOTE_ON=124': 371,\n",
              " 'NOTE_OFF=98': 198,\n",
              " 'INST=112': 384,\n",
              " 'NOTE_ON=101': 227,\n",
              " 'NOTE_OFF=1': 365,\n",
              " 'NOTE_OFF=50': 39,\n",
              " 'INST=43': 303,\n",
              " 'NOTE_ON=50': 40,\n",
              " 'NOTE_OFF=9': 374}"
            ]
          },
          "execution_count": 9,
          "metadata": {},
          "output_type": "execute_result"
        }
      ],
      "source": [
        "print(tokenizer.vocab_size)\n",
        "tokenizer.get_vocab()"
      ]
    },
    {
      "cell_type": "markdown",
      "metadata": {
        "id": "zEbAC-NKst-b"
      },
      "source": [
        "## Tokenize the DATASET and prepare it for the model"
      ]
    },
    {
      "cell_type": "code",
      "execution_count": 10,
      "metadata": {
        "id": "xBOS6W4ysx0H"
      },
      "outputs": [],
      "source": [
        "def tokenize_function(data_to_tokenize):\n",
        "  # this make the tokenized data ready for the model that requires a\n",
        "    tokenized_data = tokenizer(\n",
        "        data_to_tokenize,\n",
        "        truncation=True,\n",
        "        padding=True,\n",
        "        max_length=1024,\n",
        "    )\n",
        "    return {\n",
        "        \"input_ids\": tokenized_data[\"input_ids\"]\n",
        "    } \n",
        "\n",
        "def tokenize_dataset(dataset_dictionary, tokenizer, limit=None):\n",
        "  if limit is None:\n",
        "    limit = len(dataset_dictionary.items())\n",
        "\n",
        "  tokenized_dictionary=[]\n",
        "  for idx, file in enumerate(dataset_dictionary.values()):\n",
        "    # print(file)\n",
        "    if idx<limit:\n",
        "      tokenized_dictionary.append(tokenize_function(file))\n",
        "      # print(encoded_file)\n",
        "\n",
        "  return tokenized_dictionary\n",
        "\n",
        "def write_to_json(file, path):\n",
        "  with open(f\"{path}\", 'w') as json_file:\n",
        "    json.dump(file, json_file)\n",
        "\n",
        "def load_json(path):\n",
        "  with open(f\"{path}\", 'r') as json_file:\n",
        "    file = json.load(json_file)\n",
        "    return file\n",
        "\n",
        "if not load_tokenized_datasets:\n",
        "  dataset_train_tokenized = tokenize_dataset(dataset_train_dict,tokenizer)\n",
        "  dataset_val_tokenized = tokenize_dataset(dataset_valid_dict,tokenizer)\n",
        "\n",
        "  write_to_json(dataset_val_tokenized, f\"{model_path}/dataset_val_tokenized.json\")\n",
        "  write_to_json(dataset_train_tokenized, f\"{model_path}/dataset_train_tokenized.json\")"
      ]
    },
    {
      "cell_type": "code",
      "execution_count": 11,
      "metadata": {
        "id": "gCGHucujvgjq"
      },
      "outputs": [],
      "source": [
        "if load_tokenized_datasets:\n",
        "  dataset_train_tokenized = load_json(f\"{model_path}/dataset_train_tokenized.json\")\n",
        "  dataset_val_tokenized = load_json(f\"{model_path}/dataset_val_tokenized.json\")"
      ]
    },
    {
      "cell_type": "code",
      "execution_count": 16,
      "metadata": {
        "colab": {
          "base_uri": "https://localhost:8080/"
        },
        "id": "djrL5XXDkQKD",
        "outputId": "dda54514-d444-47c7-caf9-59188edac5ad"
      },
      "outputs": [
        {
          "name": "stdout",
          "output_type": "stream",
          "text": [
            "<class 'dict'>\n",
            "----\n",
            "{'input_ids': [136, 52, 203, 127, 6, 5, 6, 5, 6, 5, 6, 81, 54, 3, 53, 64, 3, 63, 20, 3, 19, 64, 3, 63, 20, 3, 19, 56, 3, 55, 87, 11, 86, 5, 6, 5, 6, 5, 6, 5, 6, 5, 51, 52, 183, 127, 6, 5, 6, 5, 6, 8, 3, 7, 70, 4, 69, 8, 3, 7, 46, 11, 45, 46, 11, 45, 46, 4, 45, 8, 4, 7, 5, 6, 68, 133, 67, 5, 6, 103, 3, 102, 5, 6, 5, 6, 5, 6, 5, 51, 52, 203, 127, 6, 5, 6, 5, 6, 5, 6, 54, 28, 20, 22, 91, 53, 27, 19, 21, 5, 6, 5, 6, 5, 6, 5, 6, 5, 51, 52, 161, 124, 6, 5, 6, 5, 6, 8, 3, 87, 4, 86, 32, 3, 31, 22, 93, 20, 26, 3, 92, 101, 4, 100, 93, 3, 92, 132, 4, 131, 139, 4, 138, 132, 4, 131, 80, 4, 7, 21, 19, 25, 79, 5, 6, 68, 26, 28, 20, 18, 87, 3, 86, 32, 3, 31, 80, 3, 79, 101, 3, 100, 107, 3, 106, 93, 3, 92, 107, 3, 106, 93, 3, 92, 121, 3, 120, 132, 3, 131, 117, 3, 116, 139, 3, 138, 148, 3, 67, 25, 27, 19, 147, 5, 6, 20, 3, 19, 5, 6, 5, 6, 5, 6, 5, 51, 52, 130, 127, 6, 5, 6, 8, 3, 7, 18, 8, 3, 7, 18, 8, 3, 7, 18, 8, 3, 7, 5, 6, 5, 6, 144, 30, 3, 29, 30, 30, 30, 3, 29, 29, 29, 5, 6, 30, 3, 29, 5, 6, 5, 6, 5, 6, 5, 51]}\n",
            "----\n",
            "{'input_ids': [136, 52, 182, 125, 6, 137, 38, 3, 37, 46, 3, 45, 28, 11, 27, 5, 6, 28, 4, 27, 126, 28, 3, 27, 20, 18, 19, 28, 3, 27, 64, 4, 63, 5, 6, 54, 4, 53, 28, 126, 27, 5, 6, 163, 20, 3, 19, 87, 3, 86, 54, 3, 53, 5, 6, 54, 18, 53, 3, 22, 20, 158, 21, 19, 5, 6, 81, 26, 3, 25, 74, 3, 73, 28, 81, 27, 3, 22, 3, 21, 5, 6, 28, 54, 20, 22, 90, 27, 53, 19, 21, 4, 26, 3, 25, 22, 3, 21, 54, 11, 53, 5, 6, 54, 4, 53, 126, 26, 3, 25, 22, 3, 21, 28, 3, 27, 54, 4, 53, 56, 4, 55, 5, 51, 52, 130, 124, 6, 17, 3, 16, 18, 38, 13, 3, 37, 12, 3, 38, 17, 3, 37, 16, 3, 17, 38, 3, 16, 37, 3, 38, 3, 37, 3, 38, 13, 3, 37, 12, 3, 38, 3, 37, 5, 6, 17, 38, 3, 16, 37, 18, 38, 13, 3, 37, 12, 3, 38, 17, 3, 37, 16, 3, 17, 38, 3, 16, 37, 3, 38, 3, 37, 3, 13, 38, 3, 12, 37, 3, 38, 3, 37, 5, 6, 38, 17, 3, 37, 16, 18, 38, 13, 3, 37, 12, 3, 17, 38, 3, 16, 37, 3, 17, 38, 3, 16, 37, 3, 38, 3, 37, 3, 38, 13, 3, 37, 12, 3, 38, 3, 37, 5, 6, 17, 38, 3, 16, 37, 18, 13, 38, 3, 12, 37, 3, 38, 17, 3, 37, 16, 3, 38, 17, 3, 37, 16, 3, 38, 3, 37, 3, 38, 13, 3, 37, 12, 3, 38, 3, 37, 5, 6, 38, 17, 3, 37, 16, 18, 13, 38, 3, 12, 37, 3, 38, 17, 3, 37, 16, 3, 17, 38, 3, 16, 37, 3, 38, 3, 37, 3, 13, 38, 3, 12, 37, 3, 38, 3, 37, 5, 6, 38, 17, 3, 37, 16, 18, 13, 38, 3, 12, 37, 3, 38, 17, 3, 37, 16, 3, 17, 38, 3, 16, 37, 3, 38, 3, 37, 3, 38, 13, 3, 37, 12, 3, 38, 3, 37, 5, 6, 38, 17, 3, 37, 16, 18, 38, 13, 3, 37, 12, 3, 38, 17, 3, 37, 16, 3, 17, 38, 3, 16, 37, 3, 38, 3, 37, 3, 38, 13, 3, 37, 12, 3, 38, 3, 37, 5, 6, 38, 17, 3, 37, 16, 18, 38, 13, 3, 37, 12, 3, 17, 38, 3, 16, 37, 3, 38, 17, 3, 37, 16, 3, 38, 3, 37, 3, 13, 38, 3, 12, 37, 3, 38, 3, 37, 5, 51, 52, 257, 127, 6, 5, 6, 5, 6, 5, 6, 5, 6, 5, 6, 5, 6, 5, 6, 133, 20, 4, 19, 56, 4, 55, 5, 51, 52, 161, 115, 6, 139, 80, 137, 138, 79, 18, 93, 4, 92, 107, 3, 106, 5, 6, 80, 4, 79, 101, 4, 100, 56, 87, 3, 55, 3, 86, 56, 108, 55, 5, 6, 18, 132, 3, 131, 148, 18, 147, 132, 3, 131, 139, 18, 138, 148, 3, 147, 132, 18, 131, 93, 3, 92, 5, 6, 121, 18, 120, 132, 3, 131, 101, 18, 100, 101, 3, 100, 101, 107, 3, 100, 106, 101, 80, 3, 100, 4, 79, 32, 3, 31, 80, 3, 79, 32, 80, 3, 31, 79, 101, 107, 93, 3, 100, 106, 92, 5, 6, 121, 132, 3, 120, 18, 131, 139, 3, 138, 117, 4, 116, 132, 3, 131, 148, 18, 147, 3, 150, 3, 149, 157, 4, 156, 148, 3, 147, 5, 6, 157, 4, 156, 139, 4, 138, 18, 132, 3, 131, 148, 3, 147, 139, 4, 138, 132, 3, 131, 121, 3, 120, 132, 4, 131, 93, 101, 3, 92, 100, 5, 6, 93, 18, 92, 4, 121, 4, 120, 132, 3, 131, 101, 11, 100, 3, 93, 4, 92, 101, 3, 100, 5, 6, 101, 3, 100, 80, 3, 79, 80, 108, 79, 4, 101, 80, 3, 100, 79, 32, 3, 31, 87, 3, 86, 32, 3, 31, 80, 3, 79, 101, 3, 100, 107, 3, 106, 5, 51, 52, 329, 124, 6, 137, 30, 3, 29, 5, 6, 90, 24, 4, 23, 5, 6, 42, 3, 41, 5, 6, 133, 24, 3, 23, 5, 6, 5, 6, 81, 58, 3, 57, 5, 6, 151, 24, 4, 23, 5, 6, 144, 22, 3, 21, 5, 51, 52, 183, 125, 6, 90, 112, 90, 111, 5, 6, 85, 81, 84, 85, 4, 84, 17, 90, 16, 5, 6, 103, 90, 102, 112, 90, 111, 5, 6, 85, 81, 84, 85, 4, 84, 17, 81, 16, 17, 4, 16, 5, 6, 85, 90, 84, 85, 90, 84, 5, 6, 112, 81, 111, 112, 4, 111, 112, 90, 111, 5, 6, 123, 81, 122, 123, 4, 122, 17, 81, 16, 17, 4, 16, 5, 6, 103, 81, 102, 103, 4, 102, 17, 90, 16, 5, 51, 52, 203, 115, 6, 20, 80, 87, 91, 19, 79, 86, 5, 6, 20, 80, 87, 91, 19, 79, 86, 5, 6, 28, 56, 20, 90, 27, 55, 19, 64, 56, 74, 90, 63, 55, 73, 5, 6, 54, 87, 20, 90, 53, 86, 19, 56, 64, 28, 90, 55, 63, 27, 5, 6, 54, 87, 20, 91, 53, 86, 19, 5, 6, 28, 56, 64, 91, 27, 55, 63, 5, 6, 20, 54, 22, 90, 19, 53, 21, 28, 22, 20, 54, 90, 27, 21, 19, 53, 5, 6, 74, 64, 28, 90, 73, 63, 27, 28, 22, 20, 54, 90, 27, 21, 19, 53, 5, 51, 52, 203, 115, 6, 5, 6, 137, 20, 18, 19, 64, 18, 63, 5, 6, 54, 4, 53, 28, 144, 27, 5, 6, 28, 144, 27, 32, 80, 3, 31, 79, 101, 107, 93, 3, 100, 106, 92, 5, 6, 121, 132, 3, 120, 108, 131, 121, 3, 120, 132, 3, 131, 117, 11, 116, 132, 74, 4, 131, 73, 22, 117, 4, 21, 116, 5, 6, 28, 139, 4, 138, 132, 4, 27, 131, 107, 4, 106, 80, 3, 79, 87, 3, 86, 80, 90, 79, 5, 6, 20, 81, 19, 56, 3, 55, 87]}\n",
            "----\n",
            "{'input_ids': [136, 52, 130, 124, 6, 17, 38, 3, 16, 37, 18, 38, 13, 3, 37, 12, 3, 38, 17, 3, 37, 16, 3, 17, 38, 3, 16, 37, 3, 38, 3, 37, 3, 13, 38, 3, 12, 37, 3, 38, 3, 37, 5, 6, 38, 17, 3, 37, 16, 18, 38, 13, 3, 37, 12, 3, 17, 38, 3, 16, 37, 3, 17, 38, 3, 16, 37, 3, 38, 3, 37, 3, 38, 13, 3, 37, 12, 3, 38, 3, 37, 5, 6, 17, 38, 3, 16, 37, 18, 13, 38, 3, 12, 37, 3, 38, 17, 3, 37, 16, 3, 38, 17, 3, 37, 16, 3, 38, 3, 37, 3, 38, 13, 3, 37, 12, 3, 38, 3, 37, 5, 6, 38, 17, 3, 37, 16, 18, 13, 38, 3, 12, 37, 3, 38, 17, 3, 37, 16, 3, 17, 38, 3, 16, 37, 3, 38, 3, 37, 3, 13, 38, 3, 12, 37, 3, 38, 3, 37, 5, 6, 38, 17, 3, 37, 16, 18, 13, 38, 3, 12, 37, 3, 38, 17, 3, 37, 16, 3, 17, 38, 3, 16, 37, 3, 38, 3, 37, 3, 38, 13, 3, 37, 12, 3, 38, 3, 37, 5, 6, 38, 17, 3, 37, 16, 18, 38, 13, 3, 37, 12, 3, 38, 17, 3, 37, 16, 3, 17, 38, 3, 16, 37, 3, 38, 3, 37, 3, 38, 13, 3, 37, 12, 3, 38, 3, 37, 5, 6, 38, 17, 3, 37, 16, 18, 38, 13, 3, 37, 12, 3, 17, 38, 3, 16, 37, 3, 38, 17, 3, 37, 16, 3, 38, 3, 37, 3, 13, 38, 3, 12, 37, 3, 38, 3, 37, 5, 6, 17, 38, 3, 16, 37, 18, 38, 13, 3, 37, 12, 3, 38, 17, 3, 37, 16, 3, 17, 38, 3, 16, 37, 3, 38, 3, 37, 3, 38, 13, 3, 37, 12, 3, 38, 3, 37, 5, 51, 52, 329, 124, 6, 90, 24, 4, 23, 5, 6, 42, 3, 41, 5, 6, 133, 24, 3, 23, 5, 6, 5, 6, 81, 58, 3, 57, 5, 6, 151, 24, 4, 23, 5, 6, 144, 22, 3, 21, 5, 6, 5, 51, 52, 203, 115, 6, 137, 20, 18, 19, 64, 18, 63, 5, 6, 54, 4, 53, 28, 144, 27, 5, 6, 28, 144, 27, 32, 80, 3, 31, 79, 101, 107, 93, 3, 100, 106, 92, 5, 6, 121, 132, 3, 120, 108, 131, 121, 3, 120, 132, 3, 131, 117, 11, 116, 132, 74, 4, 131, 73, 22, 117, 4, 21, 116, 5, 6, 28, 139, 4, 138, 132, 4, 27, 131, 107, 4, 106, 80, 3, 79, 87, 3, 86, 80, 90, 79, 5, 6, 20, 81, 19, 56, 3, 55, 87, 3, 86, 20, 81, 19, 20, 3, 19, 54, 3, 53, 5, 6, 46, 28, 20, 158, 45, 27, 19, 5, 6, 5, 51, 52, 257, 127, 6, 5, 6, 5, 6, 5, 6, 5, 6, 5, 6, 5, 6, 133, 20, 4, 19, 56, 4, 55, 5, 6, 87, 108, 86, 3, 32, 11, 31, 87, 18, 86, 56, 4, 55, 20, 3, 19, 5, 51, 52, 182, 125, 6, 28, 4, 27, 126, 28, 3, 27, 20, 18, 19, 28, 3, 27, 64, 4, 63, 5, 6, 54, 4, 53, 28, 126, 27, 5, 6, 163, 20, 3, 19, 87, 3, 86, 54, 3, 53, 5, 6, 54, 18, 53, 3, 22, 20, 158, 21, 19, 5, 6, 81, 26, 3, 25, 74, 3, 73, 28, 81, 27, 3, 22, 3, 21, 5, 6, 28, 54, 20, 22, 90, 27, 53, 19, 21, 4, 26, 3, 25, 22, 3, 21, 54, 11, 53, 5, 6, 54, 4, 53, 126, 26, 3, 25, 22, 3, 21, 28, 3, 27, 54, 4, 53, 56, 4, 55, 5, 6, 56, 18, 55, 5, 51, 52, 183, 125, 6, 85, 81, 84, 85, 4, 84, 17, 90, 16, 5, 6, 103, 90, 102, 112, 90, 111, 5, 6, 85, 81, 84, 85, 4, 84, 17, 81, 16, 17, 4, 16, 5, 6, 85, 90, 84, 85, 90, 84, 5, 6, 112, 81, 111, 112, 4, 111, 112, 90, 111, 5, 6, 123, 81, 122, 123, 4, 122, 17, 81, 16, 17, 4, 16, 5, 6, 103, 81, 102, 103, 4, 102, 17, 90, 16, 5, 6, 103, 81, 102, 103, 4, 102, 112, 81, 111, 112, 4, 111, 5, 51, 52, 203, 115, 6, 20, 80, 87, 91, 19, 79, 86, 5, 6, 28, 56, 20, 90, 27, 55, 19, 64, 56, 74, 90, 63, 55, 73, 5, 6, 54, 87, 20, 90, 53, 86, 19, 56, 64, 28, 90, 55, 63, 27, 5, 6, 54, 87, 20, 91, 53, 86, 19, 5, 6, 28, 56, 64, 91, 27, 55, 63, 5, 6, 20, 54, 22, 90, 19, 53, 21, 28, 22, 20, 54, 90, 27, 21, 19, 53, 5, 6, 74, 64, 28, 90, 73, 63, 27, 28, 22, 20, 54, 90, 27, 21, 19, 53, 5, 6, 28, 11, 27, 20, 11, 19, 64, 56, 11, 63, 55, 80, 11, 79, 5, 51, 52, 161, 115, 6, 80, 4, 79, 101, 4, 100, 56, 87, 3, 55, 3, 86, 56, 108, 55, 5, 6, 18, 132, 3, 131, 148, 18, 147, 132, 3, 131, 139, 18, 138, 148, 3, 147, 132, 18, 131, 93, 3, 92, 5, 6, 121, 18, 120, 132, 3, 131, 101, 18, 100, 101, 3, 100, 101, 107, 3, 100, 106, 101, 80, 3, 100, 4, 79, 32, 3, 31, 80, 3, 79, 32, 80, 3, 31, 79, 101, 107, 93, 3, 100, 106, 92, 5, 6, 121, 132, 3, 120, 18, 131, 139, 3, 138, 117, 4, 116, 132, 3, 131, 148, 18, 147, 3, 150, 3, 149, 157, 4, 156, 148, 3, 147, 5, 6, 157, 4, 156, 139, 4, 138, 18, 132, 3, 131, 148, 3, 147, 139, 4, 138, 132, 3, 131, 121, 3, 120, 132, 4, 131, 93, 101, 3, 92, 100, 5, 6, 93, 18, 92, 4, 121, 4, 120, 132, 3, 131, 101, 11, 100, 3, 93, 4, 92, 101, 3, 100, 5, 6, 101, 3, 100, 80, 3]}\n",
            "----\n",
            "{'input_ids': [136, 52, 203, 115, 6, 28, 56, 20, 90, 27, 55, 19, 64, 56, 74, 90, 63, 55, 73, 5, 6, 54, 87, 20, 90, 53, 86, 19, 56, 64, 28, 90, 55, 63, 27, 5, 6, 54, 87, 20, 91, 53, 86, 19, 5, 6, 28, 56, 64, 91, 27, 55, 63, 5, 6, 20, 54, 22, 90, 19, 53, 21, 28, 22, 20, 54, 90, 27, 21, 19, 53, 5, 6, 74, 64, 28, 90, 73, 63, 27, 28, 22, 20, 54, 90, 27, 21, 19, 53, 5, 6, 28, 11, 27, 20, 11, 19, 64, 56, 11, 63, 55, 80, 11, 79, 5, 6, 20, 80, 54, 90, 19, 79, 53, 28, 56, 90, 27, 55, 5, 51, 52, 161, 115, 6, 18, 132, 3, 131, 148, 18, 147, 132, 3, 131, 139, 18, 138, 148, 3, 147, 132, 18, 131, 93, 3, 92, 5, 6, 121, 18, 120, 132, 3, 131, 101, 18, 100, 101, 3, 100, 101, 107, 3, 100, 106, 101, 80, 3, 100, 4, 79, 32, 3, 31, 80, 3, 79, 32, 80, 3, 31, 79, 101, 107, 93, 3, 100, 106, 92, 5, 6, 121, 132, 3, 120, 18, 131, 139, 3, 138, 117, 4, 116, 132, 3, 131, 148, 18, 147, 3, 150, 3, 149, 157, 4, 156, 148, 3, 147, 5, 6, 157, 4, 156, 139, 4, 138, 18, 132, 3, 131, 148, 3, 147, 139, 4, 138, 132, 3, 131, 121, 3, 120, 132, 4, 131, 93, 101, 3, 92, 100, 5, 6, 93, 18, 92, 4, 121, 4, 120, 132, 3, 131, 101, 11, 100, 3, 93, 4, 92, 101, 3, 100, 5, 6, 101, 3, 100, 80, 3, 79, 80, 108, 79, 4, 101, 80, 3, 100, 79, 32, 3, 31, 87, 3, 86, 32, 3, 31, 80, 3, 79, 101, 3, 100, 107, 3, 106, 5, 6, 46, 4, 28, 4, 20, 80, 87, 3, 27, 4, 45, 3, 19, 79, 86, 74, 4, 20, 4, 80, 87, 4, 19, 4, 73, 79, 86, 5, 6, 22, 4, 54, 4, 20, 32, 3, 21, 53, 18, 19, 31, 28, 11, 27, 64, 56, 11, 63, 55, 5, 51, 52, 183, 125, 6, 103, 90, 102, 112, 90, 111, 5, 6, 85, 81, 84, 85, 4, 84, 17, 81, 16, 17, 4, 16, 5, 6, 85, 90, 84, 85, 90, 84, 5, 6, 112, 81, 111, 112, 4, 111, 112, 90, 111, 5, 6, 123, 81, 122, 123, 4, 122, 17, 81, 16, 17, 4, 16, 5, 6, 103, 81, 102, 103, 4, 102, 17, 90, 16, 5, 6, 103, 81, 102, 103, 4, 102, 112, 81, 111, 112, 4, 111, 5, 6, 85, 81, 84, 85, 4, 84, 17, 90, 16, 5, 51, 52, 203, 115, 6, 54, 4, 53, 28, 144, 27, 5, 6, 28, 144, 27, 32, 80, 3, 31, 79, 101, 107, 93, 3, 100, 106, 92, 5, 6, 121, 132, 3, 120, 108, 131, 121, 3, 120, 132, 3, 131, 117, 11, 116, 132, 74, 4, 131, 73, 22, 117, 4, 21, 116, 5, 6, 28, 139, 4, 138, 132, 4, 27, 131, 107, 4, 106, 80, 3, 79, 87, 3, 86, 80, 90, 79, 5, 6, 20, 81, 19, 56, 3, 55, 87, 3, 86, 20, 81, 19, 20, 3, 19, 54, 3, 53, 5, 6, 46, 28, 20, 158, 45, 27, 19, 5, 6, 5, 6, 151, 28, 3, 27, 20, 4, 19, 20, 3, 19, 56, 3, 55, 87, 3, 86, 32, 3, 31, 5, 51, 52, 182, 125, 6, 54, 4, 53, 28, 126, 27, 5, 6, 163, 20, 3, 19, 87, 3, 86, 54, 3, 53, 5, 6, 54, 18, 53, 3, 22, 20, 158, 21, 19, 5, 6, 81, 26, 3, 25, 74, 3, 73, 28, 81, 27, 3, 22, 3, 21, 5, 6, 28, 54, 20, 22, 90, 27, 53, 19, 21, 4, 26, 3, 25, 22, 3, 21, 54, 11, 53, 5, 6, 54, 4, 53, 126, 26, 3, 25, 22, 3, 21, 28, 3, 27, 54, 4, 53, 56, 4, 55, 5, 6, 56, 18, 55, 5, 6, 151, 28, 3, 27, 20, 18, 19, 64, 18, 63, 5, 51, 52, 329, 124, 6, 42, 3, 41, 5, 6, 133, 24, 3, 23, 5, 6, 5, 6, 81, 58, 3, 57, 5, 6, 151, 24, 4, 23, 5, 6, 144, 22, 3, 21, 5, 6, 5, 6, 151, 40, 3, 39, 5, 51, 52, 257, 127, 6, 5, 6, 5, 6, 5, 6, 5, 6, 5, 6, 133, 20, 4, 19, 56, 4, 55, 5, 6, 87, 108, 86, 3, 32, 11, 31, 87, 18, 86, 56, 4, 55, 20, 3, 19, 5, 6, 56, 133, 55, 5, 51, 52, 130, 124, 6, 38, 17, 3, 37, 16, 18, 38, 13, 3, 37, 12, 3, 17, 38, 3, 16, 37, 3, 17, 38, 3, 16, 37, 3, 38, 3, 37, 3, 38, 13, 3, 37, 12, 3, 38, 3, 37, 5, 6, 17, 38, 3, 16, 37, 18, 13, 38, 3, 12, 37, 3, 38, 17, 3, 37, 16, 3, 38, 17, 3, 37, 16, 3, 38, 3, 37, 3, 38, 13, 3, 37, 12, 3, 38, 3, 37, 5, 6, 38, 17, 3, 37, 16, 18, 13, 38, 3, 12, 37, 3, 38, 17, 3, 37, 16, 3, 17, 38, 3, 16, 37, 3, 38, 3, 37, 3, 13, 38, 3, 12, 37, 3, 38, 3, 37, 5, 6, 38, 17, 3, 37, 16, 18, 13, 38, 3, 12, 37, 3, 38, 17, 3, 37, 16, 3, 17, 38, 3, 16, 37, 3, 38, 3, 37, 3, 38, 13, 3, 37, 12, 3, 38, 3, 37, 5, 6, 38, 17, 3, 37, 16, 18, 38, 13, 3, 37, 12, 3, 38, 17, 3, 37, 16, 3, 17, 38, 3, 16, 37, 3, 38, 3, 37, 3, 38, 13, 3, 37, 12, 3, 38, 3, 37, 5, 6, 38, 17, 3, 37, 16, 18, 38, 13, 3, 37, 12, 3, 17, 38, 3, 16, 37, 3, 38, 17, 3, 37, 16, 3, 38, 3, 37, 3, 13, 38, 3, 12, 37, 3, 38, 3, 37, 5, 6]}\n",
            "----\n",
            "{'input_ids': [136, 52, 182, 125, 6, 163, 20, 3, 19, 87, 3, 86, 54, 3, 53, 5, 6, 54, 18, 53, 3, 22, 20, 158, 21, 19, 5, 6, 81, 26, 3, 25, 74, 3, 73, 28, 81, 27, 3, 22, 3, 21, 5, 6, 28, 54, 20, 22, 90, 27, 53, 19, 21, 4, 26, 3, 25, 22, 3, 21, 54, 11, 53, 5, 6, 54, 4, 53, 126, 26, 3, 25, 22, 3, 21, 28, 3, 27, 54, 4, 53, 56, 4, 55, 5, 6, 56, 18, 55, 5, 6, 151, 28, 3, 27, 20, 18, 19, 64, 18, 63, 5, 6, 28, 126, 27, 5, 51, 52, 257, 125, 6, 5, 6, 5, 6, 5, 6, 5, 6, 133, 20, 4, 19, 56, 4, 55, 5, 6, 87, 108, 86, 3, 32, 11, 31, 87, 18, 86, 56, 4, 55, 20, 3, 19, 5, 6, 56, 133, 55, 5, 6, 4, 20, 3, 19, 56, 3, 55, 87, 4, 86, 80, 4, 79, 101, 4, 100, 87, 4, 86, 20, 11, 19, 5, 51, 52, 203, 115, 6, 28, 144, 27, 32, 80, 3, 31, 79, 101, 107, 93, 3, 100, 106, 92, 5, 6, 121, 132, 3, 120, 108, 131, 121, 3, 120, 132, 3, 131, 117, 11, 116, 132, 74, 4, 131, 73, 22, 117, 4, 21, 116, 5, 6, 28, 139, 4, 138, 132, 4, 27, 131, 107, 4, 106, 80, 3, 79, 87, 3, 86, 80, 90, 79, 5, 6, 20, 81, 19, 56, 3, 55, 87, 3, 86, 20, 81, 19, 20, 3, 19, 54, 3, 53, 5, 6, 46, 28, 20, 158, 45, 27, 19, 5, 6, 5, 6, 151, 28, 3, 27, 20, 4, 19, 20, 3, 19, 56, 3, 55, 87, 3, 86, 32, 3, 31, 5, 6, 80, 91, 79, 5, 51, 52, 183, 125, 6, 85, 81, 84, 85, 4, 84, 17, 81, 16, 17, 4, 16, 5, 6, 85, 90, 84, 85, 90, 84, 5, 6, 112, 81, 111, 112, 4, 111, 112, 90, 111, 5, 6, 123, 81, 122, 123, 4, 122, 17, 81, 16, 17, 4, 16, 5, 6, 103, 81, 102, 103, 4, 102, 17, 90, 16, 5, 6, 103, 81, 102, 103, 4, 102, 112, 81, 111, 112, 4, 111, 5, 6, 85, 81, 84, 85, 4, 84, 17, 90, 16, 5, 6, 103, 81, 102, 103, 4, 102, 112, 90, 111, 5, 51, 52, 329, 125, 6, 133, 24, 3, 23, 5, 6, 5, 6, 81, 58, 3, 57, 5, 6, 151, 24, 4, 23, 5, 6, 144, 22, 3, 21, 5, 6, 5, 6, 151, 40, 3, 39, 5, 6, 5, 51, 52, 203, 115, 6, 54, 87, 20, 90, 53, 86, 19, 56, 64, 28, 90, 55, 63, 27, 5, 6, 54, 87, 20, 91, 53, 86, 19, 5, 6, 28, 56, 64, 91, 27, 55, 63, 5, 6, 20, 54, 22, 90, 19, 53, 21, 28, 22, 20, 54, 90, 27, 21, 19, 53, 5, 6, 74, 64, 28, 90, 73, 63, 27, 28, 22, 20, 54, 90, 27, 21, 19, 53, 5, 6, 28, 11, 27, 20, 11, 19, 64, 56, 11, 63, 55, 80, 11, 79, 5, 6, 20, 80, 54, 90, 19, 79, 53, 28, 56, 90, 27, 55, 5, 6, 28, 11, 27, 20, 11, 19, 64, 56, 11, 80, 11, 63, 55, 79, 5, 51, 52, 161, 115, 6, 121, 18, 120, 132, 3, 131, 101, 18, 100, 101, 3, 100, 101, 107, 3, 100, 106, 101, 80, 3, 100, 4, 79, 32, 3, 31, 80, 3, 79, 32, 80, 3, 31, 79, 101, 107, 93, 3, 100, 106, 92, 5, 6, 121, 132, 3, 120, 18, 131, 139, 3, 138, 117, 4, 116, 132, 3, 131, 148, 18, 147, 3, 150, 3, 149, 157, 4, 156, 148, 3, 147, 5, 6, 157, 4, 156, 139, 4, 138, 18, 132, 3, 131, 148, 3, 147, 139, 4, 138, 132, 3, 131, 121, 3, 120, 132, 4, 131, 93, 101, 3, 92, 100, 5, 6, 93, 18, 92, 4, 121, 4, 120, 132, 3, 131, 101, 11, 100, 3, 93, 4, 92, 101, 3, 100, 5, 6, 101, 3, 100, 80, 3, 79, 80, 108, 79, 4, 101, 80, 3, 100, 79, 32, 3, 31, 87, 3, 86, 32, 3, 31, 80, 3, 79, 101, 3, 100, 107, 3, 106, 5, 6, 46, 4, 28, 4, 20, 80, 87, 3, 27, 4, 45, 3, 19, 79, 86, 74, 4, 20, 4, 80, 87, 4, 19, 4, 73, 79, 86, 5, 6, 22, 4, 54, 4, 20, 32, 3, 21, 53, 18, 19, 31, 28, 11, 27, 64, 56, 11, 63, 55, 5, 6, 46, 4, 28, 4, 80, 20, 87, 3, 27, 4, 45, 3, 79, 19, 86, 80, 87, 64, 4, 79, 86, 63, 74, 4, 73, 80, 64, 87, 11, 79, 63, 86, 5, 51, 52, 130, 124, 6, 17, 38, 3, 16, 37, 18, 13, 38, 3, 12, 37, 3, 38, 17, 3, 37, 16, 3, 38, 17, 3, 37, 16, 3, 38, 3, 37, 3, 38, 13, 3, 37, 12, 3, 38, 3, 37, 5, 6, 38, 17, 3, 37, 16, 18, 13, 38, 3, 12, 37, 3, 38, 17, 3, 37, 16, 3, 17, 38, 3, 16, 37, 3, 38, 3, 37, 3, 13, 38, 3, 12, 37, 3, 38, 3, 37, 5, 6, 38, 17, 3, 37, 16, 18, 13, 38, 3, 12, 37, 3, 38, 17, 3, 37, 16, 3, 17, 38, 3, 16, 37, 3, 38, 3, 37, 3, 38, 13, 3, 37, 12, 3, 38, 3, 37, 5, 6, 38, 17, 3, 37, 16, 18, 38, 13, 3, 37, 12, 3, 38, 17, 3, 37, 16, 3, 17, 38, 3, 16, 37, 3, 38, 3, 37, 3, 38, 13, 3, 37, 12, 3, 38, 3, 37, 5, 6, 38, 17, 3, 37, 16, 18, 38, 13, 3, 37, 12, 3, 17, 38, 3, 16, 37, 3, 38, 17, 3, 37, 16, 3, 38, 3, 37, 3, 13, 38, 3, 12, 37, 3, 38, 3, 37, 5, 6, 17, 38, 3, 16, 37, 18, 38, 13, 3, 37, 12, 3, 38]}\n"
          ]
        }
      ],
      "source": [
        "# checking that the data is in the correct shape to be input to the model\n",
        "assert list(dataset_train_tokenized[0]) == [\"input_ids\"], list(dataset_train_tokenized[0])\n",
        "print(type(dataset_train_tokenized[0]))\n",
        "# Check a few samples\n",
        "for i, ii in enumerate(dataset_train_tokenized):\n",
        "  if i > 4: # print only the first 5\n",
        "    break\n",
        "  else: \n",
        "    print(\"----\")\n",
        "    # print(ii)\n",
        "    print(dataset_train_tokenized[i])"
      ]
    },
    {
      "cell_type": "markdown",
      "metadata": {
        "id": "bAlPYX9JcGad"
      },
      "source": [
        "# Define the model"
      ]
    },
    {
      "cell_type": "markdown",
      "metadata": {
        "id": "dEMfCqBWNY6n"
      },
      "source": [
        "## Data collator.\n",
        "[Huggingface](https://huggingface.co/transformers/v4.8.1/main_classes/data_collator.html)\n",
        "\n",
        "\"\n",
        "Data collators are objects that will form a batch by using a list of dataset elements as input. These elements are of the same type as the elements of train_dataset or eval_dataset.\n",
        "\n",
        "To be able to build batches, data collators may apply some processing (like padding). Some of them (like DataCollatorForLanguageModeling) also apply some random data augmentation (like random masking) oin the formed batch.\n",
        "\"\n",
        "\n",
        "\"\n",
        "**class transformers.data.data_collator.DataCollatorForLanguageModeling**\n",
        "- tokenizer (PreTrainedTokenizer or PreTrainedTokenizerFast) – The tokenizer used for encoding the data.\n",
        "- mlm (bool, optional, defaults to True) – Whether or not to use masked language modeling. If set to False, the labels are the same as the inputs with the padding tokens ignored (by setting them to -100). Otherwise, the labels are -100 for non-masked tokens and the value to predict for the masked token\""
      ]
    },
    {
      "cell_type": "markdown",
      "metadata": {
        "id": "CA1YjYVuM_o6"
      },
      "source": [
        "## Predicting the next note using GPT2\n",
        "[HuggingFace](https://huggingface.co/transformers/v4.8.1/task_summary.html#)\n",
        "\n",
        "[Class GPT2Config](https://huggingface.co/transformers/v4.8.1/_modules/transformers/configuration_gpt2.html)\n",
        "This is the config that needs to be passed to GPT2Model Classes.\n",
        "\n",
        "[Class GPT2LMHeadModel](https://huggingface.co/docs/transformers/model_doc/gpt2#transformers.GPT2LMHeadModel)\n",
        "Here we use the GPT2 Model transformer with a language modeling head on top (linear layer with weights tied to the input embeddings).\n",
        "\n"
      ]
    },
    {
      "cell_type": "code",
      "execution_count": null,
      "metadata": {
        "id": "HkH8zyZKc_M5"
      },
      "outputs": [],
      "source": [
        "# data collator\n",
        "from transformers import DataCollatorForLanguageModeling\n",
        "data_collator = DataCollatorForLanguageModeling(tokenizer, mlm=False)\n",
        "\n",
        "# model\n",
        "from transformers import GPT2Config, GPT2LMHeadModel\n",
        "model_config = GPT2Config(\n",
        "    vocab_size=tokenizer.vocab_size,\n",
        "    pad_token_id=tokenizer.pad_token_id,\n",
        "    n_embd=512, #Dimensionality of the embeddings and hidden states\n",
        "    n_head=8,#Number of attention heads for each attention layer in the Transformer encoder\n",
        "    n_layer=8, #Number of hidden layers in the Transformer encoder\n",
        "    n_positions=1024, # maximum sequence length default = 1024\n",
        ")\n",
        "model = GPT2LMHeadModel(model_config)\n",
        "model"
      ]
    },
    {
      "cell_type": "markdown",
      "metadata": {
        "id": "hy7gARUnxNdB"
      },
      "source": [
        "# Testing the-jam-machine\n",
        "Tristan's script"
      ]
    },
    {
      "cell_type": "code",
      "execution_count": 18,
      "metadata": {
        "colab": {
          "base_uri": "https://localhost:8080/",
          "height": 770
        },
        "id": "g1AJRUdbxQmU",
        "outputId": "997278cf-c081-4052-9d1a-b8b70dd6216a"
      },
      "outputs": [
        {
          "name": "stderr",
          "output_type": "stream",
          "text": [
            "You're using a PreTrainedTokenizerFast tokenizer. Please note that with a fast tokenizer, using the `__call__` method is faster than using a method to encode the text followed by a call to the `pad` method to get a padded encoding.\n"
          ]
        },
        {
          "name": "stdout",
          "output_type": "stream",
          "text": [
            "input_ids: tensor([[136,  52, 261,  ...,   3,  97,   4]])\n",
            "\n",
            "logits: tensor([[[-0.7389,  0.2234, -0.0462,  ..., -1.1343, -0.1091,  0.4385],\n",
            "         [-0.4245,  0.9208, -0.2766,  ...,  0.1432, -0.2596,  0.4215],\n",
            "         [-0.2865, -0.1911,  0.4820,  ..., -0.8072, -0.2515, -0.0144],\n",
            "         ...,\n",
            "         [-0.3892, -0.3768,  0.1457,  ..., -1.1051,  0.7794, -0.2316],\n",
            "         [-0.2969, -0.0494, -0.7921,  ..., -0.5723,  0.6554,  0.2903],\n",
            "         [-0.4369, -0.2190, -0.0550,  ..., -0.3462,  0.5116, -0.4285]]],\n",
            "       grad_fn=<UnsafeViewBackward0>)\n"
          ]
        },
        {
          "data": {
            "image/png": "[encoded data removed]",
            "text/plain": [
              "<Figure size 432x288 with 1 Axes>"
            ]
          },
          "metadata": {
            "needs_background": "light"
          },
          "output_type": "display_data"
        },
        {
          "data": {
            "image/png": "[encoded data removed]",
            "text/plain": [
              "<Figure size 432x288 with 1 Axes>"
            ]
          },
          "metadata": {
            "needs_background": "light"
          },
          "output_type": "display_data"
        }
      ],
      "source": [
        "import random\n",
        "import matplotlib.pyplot as plt\n",
        "import torch\n",
        "\n",
        "inputs = [random.choice(dataset_train_tokenized)]\n",
        "inputs = data_collator(inputs)\n",
        "assert list(inputs.keys()) == [\"input_ids\", \"attention_mask\", \"labels\"], list(inputs.keys())\n",
        "print(\"input_ids:\", inputs[\"input_ids\"])\n",
        "print(\"\")\n",
        "\n",
        "outputs = model(**inputs)\n",
        "assert list(outputs.keys()) == [\"loss\", \"logits\", \"past_key_values\"], list(outputs.keys())\n",
        "print(\"logits:\", outputs[\"logits\"])\n",
        "\n",
        "plt.plot(outputs[\"logits\"].detach().numpy()[0][0])\n",
        "plt.title(\"Logits\")\n",
        "plt.show()\n",
        "plt.close()\n",
        "\n",
        "activations = torch.nn.functional.softmax(outputs[\"logits\"], dim=-1)\n",
        "plt.plot(activations.detach().numpy()[0][0])\n",
        "plt.title(\"Activations\")\n",
        "plt.show()\n",
        "plt.close()"
      ]
    },
    {
      "cell_type": "markdown",
      "metadata": {
        "id": "aLcy5V29cJ5R"
      },
      "source": [
        "# Train the-jam-machine"
      ]
    },
    {
      "cell_type": "markdown",
      "metadata": {
        "id": "90rEyoJR-1Yi"
      },
      "source": [
        "## Initialize Weight and Biases"
      ]
    },
    {
      "cell_type": "code",
      "execution_count": 19,
      "metadata": {
        "colab": {
          "base_uri": "https://localhost:8080/",
          "height": 130
        },
        "id": "NRoqheCiA4mQ",
        "outputId": "16d613a8-5747-454b-a029-85740602fdf6"
      },
      "outputs": [
        {
          "name": "stderr",
          "output_type": "stream",
          "text": [
            "\u001b[34m\u001b[1mwandb\u001b[0m: \u001b[33mWARNING\u001b[0m WANDB_NOTEBOOK_NAME should be a path to a notebook file, couldn't find the-jam-machine_2022_12_04.\n",
            "\u001b[34m\u001b[1mwandb\u001b[0m: Currently logged in as: \u001b[33mmisnaej\u001b[0m. Use \u001b[1m`wandb login --relogin`\u001b[0m to force relogin\n"
          ]
        },
        {
          "data": {
            "text/html": [
              "Tracking run with wandb version 0.13.5"
            ],
            "text/plain": [
              "<IPython.core.display.HTML object>"
            ]
          },
          "metadata": {},
          "output_type": "display_data"
        },
        {
          "data": {
            "text/html": [
              "Run data is saved locally in <code>/content/the-jam-machine/wandb/run-20221204_205736-6j0fesh5</code>"
            ],
            "text/plain": [
              "<IPython.core.display.HTML object>"
            ]
          },
          "metadata": {},
          "output_type": "display_data"
        },
        {
          "data": {
            "text/html": [
              "Syncing run <strong><a href=\"https://wandb.ai/misnaej/the-jam-machine-test/runs/6j0fesh5\" target=\"_blank\">cool-fire-19</a></strong> to <a href=\"https://wandb.ai/misnaej/the-jam-machine-test\" target=\"_blank\">Weights & Biases</a> (<a href=\"https://wandb.me/run\" target=\"_blank\">docs</a>)<br/>"
            ],
            "text/plain": [
              "<IPython.core.display.HTML object>"
            ]
          },
          "metadata": {},
          "output_type": "display_data"
        },
        {
          "data": {
            "text/html": [
              "<button onClick=\"this.nextSibling.style.display='block';this.style.display='none';\">Display W&B run</button><iframe src=\"https://wandb.ai/misnaej/the-jam-machine-test/runs/6j0fesh5?jupyter=true\" style=\"border:none;width:100%;height:420px;display:none;\"></iframe>"
            ],
            "text/plain": [
              "<wandb.sdk.wandb_run.Run at 0x7f2d74c03eb0>"
            ]
          },
          "execution_count": 19,
          "metadata": {},
          "output_type": "execute_result"
        }
      ],
      "source": [
        "# Weight and Biases\n",
        "import wandb\n",
        "os.environ[\"WANDB_NOTEBOOK_NAME\"] = \"the-jam-machine_2022_12_04\"\n",
        "wandb.init(project=\"the-jam-machine-test\")"
      ]
    },
    {
      "cell_type": "markdown",
      "metadata": {
        "id": "WRRFN-fX3SO7"
      },
      "source": [
        "## Train from scratch or Train from a checkpoint ?"
      ]
    },
    {
      "cell_type": "code",
      "execution_count": 20,
      "metadata": {
        "id": "N7FkxGMK9zuJ"
      },
      "outputs": [],
      "source": [
        "if train_from_scratch:\n",
        "  train_from_this_checkpoint = None\n",
        "  train_from_this_checkpoint_model_path = model_path\n",
        "\n",
        "elif not train_from_scratch:\n",
        "  train_from_this_checkpoint_model_path = \"/content/drive/MyDrive/the_jam_machine/model_2048_fulldataset\"\n",
        "  train_from_this_checkpoint = \"checkpoint-3900\"\n",
        "  additionnal_epochs_to_run = 0"
      ]
    },
    {
      "cell_type": "markdown",
      "metadata": {
        "id": "yVPBXOXR-XB4"
      },
      "source": [
        "## Training"
      ]
    },
    {
      "cell_type": "markdown",
      "metadata": {
        "id": "pH99bb2cABm_"
      },
      "source": [
        "Check those links (Hugging Face): \n",
        "- [Trainer](https://huggingface.co/docs/transformers/main_classes/trainer)\n",
        "- [trainer_utils.py](https://github.dev/huggingface/transformers/blob/main/src/transformers/trainer_utils.py)\n",
        "\n",
        "- [TrainingArguments (training_args.py)](https://github.com/huggingface/transformers/blob/main/src/transformers/training_args.py)"
      ]
    },
    {
      "cell_type": "code",
      "execution_count": null,
      "metadata": {
        "colab": {
          "base_uri": "https://localhost:8080/",
          "height": 319
        },
        "id": "YHLjkDERcMIG",
        "outputId": "33766350-78d2-4702-f2bb-75cac526ee4d"
      },
      "outputs": [
        {
          "name": "stdout",
          "output_type": "stream",
          "text": [
            "Creating trainer...\n"
          ]
        },
        {
          "name": "stderr",
          "output_type": "stream",
          "text": [
            "/usr/local/lib/python3.8/dist-packages/transformers/optimization.py:306: FutureWarning: This implementation of AdamW is deprecated and will be removed in a future version. Use the PyTorch implementation torch.optim.AdamW instead, or set `no_deprecation_warning=True` to disable this warning\n",
            "  warnings.warn(\n",
            "***** Running training *****\n",
            "  Num examples = 365999\n",
            "  Num Epochs = 2\n",
            "  Instantaneous batch size per device = 8\n",
            "  Total train batch size (w. parallel, distributed & accumulation) = 8\n",
            "  Gradient Accumulation steps = 1\n",
            "  Total optimization steps = 91500\n",
            "  Number of trainable parameters = 25955840\n",
            "Automatic Weights & Biases logging enabled, to disable set os.environ[\"WANDB_DISABLED\"] = \"true\"\n"
          ]
        },
        {
          "data": {
            "text/html": [
              "\n",
              "    <div>\n",
              "      \n",
              "      <progress value='71' max='91500' style='width:300px; height:20px; vertical-align: middle;'></progress>\n",
              "      [   71/91500 00:52 < 19:22:16, 1.31 it/s, Epoch 0.00/2]\n",
              "    </div>\n",
              "    <table border=\"1\" class=\"dataframe\">\n",
              "  <thead>\n",
              " <tr style=\"text-align: left;\">\n",
              "      <th>Step</th>\n",
              "      <th>Training Loss</th>\n",
              "      <th>Validation Loss</th>\n",
              "    </tr>\n",
              "  </thead>\n",
              "  <tbody>\n",
              "  </tbody>\n",
              "</table><p>"
            ],
            "text/plain": [
              "<IPython.core.display.HTML object>"
            ]
          },
          "metadata": {},
          "output_type": "display_data"
        }
      ],
      "source": [
        "from transformers import TrainingArguments, Trainer\n",
        "import os\n",
        "# Create the trainer.\n",
        "print(\"Creating trainer...\")\n",
        "eval_steps = 1_000\n",
        "per_device_train_batch_size = 8\n",
        "num_train_epochs = 2\n",
        "output_path = train_from_this_checkpoint_model_path\n",
        "\n",
        "training_args = TrainingArguments(\n",
        "    output_dir=output_path, # where model and checkpoints will be saved\n",
        "    overwrite_output_dir=True,# self-explanatory\n",
        "    num_train_epochs=num_train_epochs, # defaults to 3.0\n",
        "    evaluation_strategy=\"steps\", # Evaluation is done (and logged) every eval_steps (so not at the end of every epoch)\n",
        "    eval_steps=eval_steps, # Number of update steps (backprob) between two evaluations\n",
        "    learning_rate=5e-4, #initial learning rate for :class:`~transformers.AdamW` optimizer.\n",
        "    weight_decay=0.15, # Default o.\n",
        "    warmup_steps=20_000,\n",
        "    lr_scheduler_type=\"cosine\", # Default linear\n",
        "    fp16=False, # Default False. Is True in HF.\n",
        "    bf16_full_eval=False,\n",
        "    per_device_train_batch_size=per_device_train_batch_size, #default value is 8\n",
        "    seed=42, # default seed=42\n",
        "    save_strategy=\"steps\", # \n",
        "    save_steps=10_000,\n",
        "    save_total_limit=5,\n",
        "    logging_strategy=\"steps\",\n",
        "    logging_first_step=True,\n",
        "    logging_steps=eval_steps,\n",
        "    logging_dir=os.path.join(output_path, \"logs\"),\n",
        "    prediction_loss_only=False,\n",
        "    report_to=\"wandb\",\n",
        "    load_best_model_at_end=True,\n",
        "    metric_for_best_model=\"loss\", # \"eval_loss\"\n",
        "    hub_strategy=\"checkpoint\", #huggingface repo -> saves the last checkpoint to huggingface\n",
        "    hub_model_id=hf_repo,\n",
        "    hub_token=hf_token,\n",
        ")\n",
        "\n",
        "trainer = Trainer(\n",
        "    model=model,\n",
        "    args=training_args,\n",
        "    data_collator=data_collator,\n",
        "    train_dataset=dataset_train_tokenized,\n",
        "    eval_dataset=dataset_val_tokenized,\n",
        ")\n",
        "\n",
        "# Train the model.\n",
        "if train_from_scratch:\n",
        "  trainer.train()\n",
        "else:\n",
        "  if train_from_this_checkpoint is not None:\n",
        "    trainer.args.num_train_epochs += additionnal_epochs_to_run\n",
        "    trainer.train(\"/content/drive/MyDrive/the_jam_machine/model_2048_fulldataset/checkpoint-39000\")\n",
        "\n",
        "  else:\n",
        "    pass\n",
        "\n",
        "# Save the tokenizer.\n",
        "tokenizer.save_pretrained(output_path)\n",
        "# Save the model.\n",
        "model.save_pretrained(output_path)\n",
        "\n"
      ]
    },
    {
      "cell_type": "code",
      "execution_count": null,
      "metadata": {
        "id": "3UTgTsjjbnZq"
      },
      "outputs": [],
      "source": [
        "# Save the tokenizer.\n",
        "tokenizer.save_pretrained(output_path)\n",
        "# Save the model.\n",
        "model.save_pretrained(output_path)"
      ]
    },
    {
      "cell_type": "markdown",
      "metadata": {
        "id": "wma4U-QNElVt"
      },
      "source": [
        "# Generate from the-jam-machine"
      ]
    },
    {
      "cell_type": "code",
      "execution_count": null,
      "metadata": {
        "id": "zdIhsN8_WZ3n"
      },
      "outputs": [],
      "source": [
        "# load and generate\n",
        "\n",
        "\n",
        "# Load the model.\n",
        "\n",
        "# generating the 9th bar: getting rid of the first bar and generating one more... then \n",
        "\n",
        "# conditioning: density token ; why do you use the density bins: because it carries the musical style\n",
        "# prompt \n",
        "\n",
        "# PIECE_START TRACK INST=34 DENSITY=6 ........ TRACK_END\n",
        "# DENSITY: FOR EACH INSTRUMENTB THEY COUNT THE NOTE IN THE 8 BARS: THEY DO THE PERCENTILE\n",
        "\n",
        "\n",
        "## TO DO\n",
        "\n"
      ]
    },
    {
      "cell_type": "markdown",
      "metadata": {
        "id": "9Qsez4D--lM_"
      },
      "source": [
        "# Utilities"
      ]
    },
    {
      "cell_type": "code",
      "execution_count": null,
      "metadata": {
        "id": "nri9kxDTra46"
      },
      "outputs": [],
      "source": [
        "# !pip install numba\n",
        "# from numba import cuda \n",
        "# device = cuda.get_current_device()\n",
        "# device.reset()"
      ]
    }
  ],
  "metadata": {
    "accelerator": "GPU",
    "colab": {
      "collapsed_sections": [
        "I3vAEjWWI2On",
        "5gwWdCMCeLPS",
        "dEMfCqBWNY6n",
        "wma4U-QNElVt",
        "vDp9n0iqF1Sp",
        "9Qsez4D--lM_"
      ],
      "machine_shape": "hm",
      "provenance": []
    },
    "gpuClass": "standard",
    "kernelspec": {
      "display_name": "Python 3",
      "name": "python3"
    },
    "language_info": {
      "name": "python"
    }
  },
  "nbformat": 4,
  "nbformat_minor": 0
}
